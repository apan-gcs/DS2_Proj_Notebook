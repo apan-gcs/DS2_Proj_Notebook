{
 "cells": [
  {
   "cell_type": "markdown",
   "id": "5867f8ff5f248b5e",
   "metadata": {},
   "source": [
    "### JT - 1/16/25 - Intensive Data Science 2\n",
    "# Q2 Project: Data Exploration of Crime in American Communities\n",
    "## https://www.kaggle.com/datasets/michaelbryantds/crimedata\n",
    "The dataset used contains information on 2215 different communities, including demographic information, such as racial composition, income, and homelessness, as well as crime data. The crime data includes numbers of each type of crime, such as murder, arson, and rape, as well as crime per 100,000 people given as 'CrimePerPop'. \n",
    "## Table of Contents:\n",
    "1) [Three Scatter Plots Relating Violent Crime, Income, and Immigration](#1)\n",
    "2) [Scatter Plot Relating Violent Crime to Urban Population](#2)\n",
    "3) [Choropleth Map Depicting the Average Violent Crime Per Pop in Each State](#3)"
   ]
  },
  {
   "cell_type": "code",
   "execution_count": 1,
   "id": "430a7d799db51eeb",
   "metadata": {
    "ExecuteTime": {
     "end_time": "2025-01-16T15:18:10.910564Z",
     "start_time": "2025-01-16T15:18:10.904747Z"
    }
   },
   "outputs": [],
   "source": [
    "import pandas as pd\n",
    "import plotly.express as px\n",
    "import numpy as np\n",
    "import matplotlib.pyplot as plt\n",
    "from scipy import stats"
   ]
  },
  {
   "cell_type": "code",
   "execution_count": 2,
   "id": "f829a117291fcd79",
   "metadata": {
    "ExecuteTime": {
     "end_time": "2025-01-16T15:18:10.967041Z",
     "start_time": "2025-01-16T15:18:10.933447Z"
    }
   },
   "outputs": [],
   "source": [
    "df = pd.read_csv('crime data - Sheet1.csv')"
   ]
  },
  {
   "cell_type": "code",
   "execution_count": 3,
   "id": "b00d6204484cb2a6",
   "metadata": {
    "ExecuteTime": {
     "end_time": "2025-01-16T15:18:11.008502Z",
     "start_time": "2025-01-16T15:18:10.997003Z"
    }
   },
   "outputs": [
    {
     "data": {
      "text/html": [
       "<div>\n",
       "<style scoped>\n",
       "    .dataframe tbody tr th:only-of-type {\n",
       "        vertical-align: middle;\n",
       "    }\n",
       "\n",
       "    .dataframe tbody tr th {\n",
       "        vertical-align: top;\n",
       "    }\n",
       "\n",
       "    .dataframe thead th {\n",
       "        text-align: right;\n",
       "    }\n",
       "</style>\n",
       "<table border=\"1\" class=\"dataframe\">\n",
       "  <thead>\n",
       "    <tr style=\"text-align: right;\">\n",
       "      <th></th>\n",
       "      <th>communityName</th>\n",
       "      <th>state</th>\n",
       "      <th>countyCode</th>\n",
       "      <th>communityCode</th>\n",
       "      <th>population</th>\n",
       "      <th>householdsize</th>\n",
       "      <th>racepctblack</th>\n",
       "      <th>racePctWhite</th>\n",
       "      <th>racePctAsian</th>\n",
       "      <th>racePctHisp</th>\n",
       "      <th>...</th>\n",
       "      <th>burglaries</th>\n",
       "      <th>burglPerPop</th>\n",
       "      <th>larcenies</th>\n",
       "      <th>larcPerPop</th>\n",
       "      <th>autoTheft</th>\n",
       "      <th>autoTheftPerPop</th>\n",
       "      <th>arsons</th>\n",
       "      <th>arsonsPerPop</th>\n",
       "      <th>ViolentCrimesPerPop</th>\n",
       "      <th>nonViolPerPop</th>\n",
       "    </tr>\n",
       "  </thead>\n",
       "  <tbody>\n",
       "    <tr>\n",
       "      <th>0</th>\n",
       "      <td>BerkeleyHeightstownship</td>\n",
       "      <td>NJ</td>\n",
       "      <td>39.0</td>\n",
       "      <td>5320.0</td>\n",
       "      <td>11980</td>\n",
       "      <td>3.10</td>\n",
       "      <td>1.37</td>\n",
       "      <td>91.78</td>\n",
       "      <td>6.50</td>\n",
       "      <td>1.88</td>\n",
       "      <td>...</td>\n",
       "      <td>14.0</td>\n",
       "      <td>114.85</td>\n",
       "      <td>138.0</td>\n",
       "      <td>1132.08</td>\n",
       "      <td>16.0</td>\n",
       "      <td>131.26</td>\n",
       "      <td>2.0</td>\n",
       "      <td>16.41</td>\n",
       "      <td>41.02</td>\n",
       "      <td>1394.59</td>\n",
       "    </tr>\n",
       "    <tr>\n",
       "      <th>1</th>\n",
       "      <td>Marpletownship</td>\n",
       "      <td>PA</td>\n",
       "      <td>45.0</td>\n",
       "      <td>47616.0</td>\n",
       "      <td>23123</td>\n",
       "      <td>2.82</td>\n",
       "      <td>0.80</td>\n",
       "      <td>95.57</td>\n",
       "      <td>3.44</td>\n",
       "      <td>0.85</td>\n",
       "      <td>...</td>\n",
       "      <td>57.0</td>\n",
       "      <td>242.37</td>\n",
       "      <td>376.0</td>\n",
       "      <td>1598.78</td>\n",
       "      <td>26.0</td>\n",
       "      <td>110.55</td>\n",
       "      <td>1.0</td>\n",
       "      <td>4.25</td>\n",
       "      <td>127.56</td>\n",
       "      <td>1955.95</td>\n",
       "    </tr>\n",
       "    <tr>\n",
       "      <th>2</th>\n",
       "      <td>Tigardcity</td>\n",
       "      <td>OR</td>\n",
       "      <td>NaN</td>\n",
       "      <td>NaN</td>\n",
       "      <td>29344</td>\n",
       "      <td>2.43</td>\n",
       "      <td>0.74</td>\n",
       "      <td>94.33</td>\n",
       "      <td>3.43</td>\n",
       "      <td>2.35</td>\n",
       "      <td>...</td>\n",
       "      <td>274.0</td>\n",
       "      <td>758.14</td>\n",
       "      <td>1797.0</td>\n",
       "      <td>4972.19</td>\n",
       "      <td>136.0</td>\n",
       "      <td>376.30</td>\n",
       "      <td>22.0</td>\n",
       "      <td>60.87</td>\n",
       "      <td>218.59</td>\n",
       "      <td>6167.51</td>\n",
       "    </tr>\n",
       "    <tr>\n",
       "      <th>3</th>\n",
       "      <td>Gloversvillecity</td>\n",
       "      <td>NY</td>\n",
       "      <td>35.0</td>\n",
       "      <td>29443.0</td>\n",
       "      <td>16656</td>\n",
       "      <td>2.40</td>\n",
       "      <td>1.70</td>\n",
       "      <td>97.35</td>\n",
       "      <td>0.50</td>\n",
       "      <td>0.70</td>\n",
       "      <td>...</td>\n",
       "      <td>225.0</td>\n",
       "      <td>1301.78</td>\n",
       "      <td>716.0</td>\n",
       "      <td>4142.56</td>\n",
       "      <td>47.0</td>\n",
       "      <td>271.93</td>\n",
       "      <td>NaN</td>\n",
       "      <td>NaN</td>\n",
       "      <td>306.64</td>\n",
       "      <td>NaN</td>\n",
       "    </tr>\n",
       "    <tr>\n",
       "      <th>5</th>\n",
       "      <td>Springfieldcity</td>\n",
       "      <td>MO</td>\n",
       "      <td>NaN</td>\n",
       "      <td>NaN</td>\n",
       "      <td>140494</td>\n",
       "      <td>2.45</td>\n",
       "      <td>2.51</td>\n",
       "      <td>95.65</td>\n",
       "      <td>0.90</td>\n",
       "      <td>0.95</td>\n",
       "      <td>...</td>\n",
       "      <td>2094.0</td>\n",
       "      <td>1386.46</td>\n",
       "      <td>7690.0</td>\n",
       "      <td>5091.64</td>\n",
       "      <td>454.0</td>\n",
       "      <td>300.60</td>\n",
       "      <td>134.0</td>\n",
       "      <td>88.72</td>\n",
       "      <td>442.95</td>\n",
       "      <td>6867.42</td>\n",
       "    </tr>\n",
       "    <tr>\n",
       "      <th>...</th>\n",
       "      <td>...</td>\n",
       "      <td>...</td>\n",
       "      <td>...</td>\n",
       "      <td>...</td>\n",
       "      <td>...</td>\n",
       "      <td>...</td>\n",
       "      <td>...</td>\n",
       "      <td>...</td>\n",
       "      <td>...</td>\n",
       "      <td>...</td>\n",
       "      <td>...</td>\n",
       "      <td>...</td>\n",
       "      <td>...</td>\n",
       "      <td>...</td>\n",
       "      <td>...</td>\n",
       "      <td>...</td>\n",
       "      <td>...</td>\n",
       "      <td>...</td>\n",
       "      <td>...</td>\n",
       "      <td>...</td>\n",
       "      <td>...</td>\n",
       "    </tr>\n",
       "    <tr>\n",
       "      <th>2210</th>\n",
       "      <td>Mercedcity</td>\n",
       "      <td>CA</td>\n",
       "      <td>NaN</td>\n",
       "      <td>NaN</td>\n",
       "      <td>56216</td>\n",
       "      <td>3.07</td>\n",
       "      <td>6.87</td>\n",
       "      <td>61.68</td>\n",
       "      <td>15.23</td>\n",
       "      <td>29.86</td>\n",
       "      <td>...</td>\n",
       "      <td>1376.0</td>\n",
       "      <td>2268.72</td>\n",
       "      <td>2563.0</td>\n",
       "      <td>4225.82</td>\n",
       "      <td>489.0</td>\n",
       "      <td>806.25</td>\n",
       "      <td>34.0</td>\n",
       "      <td>56.06</td>\n",
       "      <td>545.75</td>\n",
       "      <td>7356.84</td>\n",
       "    </tr>\n",
       "    <tr>\n",
       "      <th>2211</th>\n",
       "      <td>Pinevillecity</td>\n",
       "      <td>LA</td>\n",
       "      <td>NaN</td>\n",
       "      <td>NaN</td>\n",
       "      <td>12251</td>\n",
       "      <td>2.68</td>\n",
       "      <td>21.18</td>\n",
       "      <td>76.65</td>\n",
       "      <td>1.52</td>\n",
       "      <td>1.29</td>\n",
       "      <td>...</td>\n",
       "      <td>104.0</td>\n",
       "      <td>860.43</td>\n",
       "      <td>574.0</td>\n",
       "      <td>4748.90</td>\n",
       "      <td>24.0</td>\n",
       "      <td>198.56</td>\n",
       "      <td>2.0</td>\n",
       "      <td>16.55</td>\n",
       "      <td>124.10</td>\n",
       "      <td>5824.44</td>\n",
       "    </tr>\n",
       "    <tr>\n",
       "      <th>2212</th>\n",
       "      <td>Yucaipacity</td>\n",
       "      <td>CA</td>\n",
       "      <td>NaN</td>\n",
       "      <td>NaN</td>\n",
       "      <td>32824</td>\n",
       "      <td>2.46</td>\n",
       "      <td>0.52</td>\n",
       "      <td>92.62</td>\n",
       "      <td>0.98</td>\n",
       "      <td>11.00</td>\n",
       "      <td>...</td>\n",
       "      <td>628.0</td>\n",
       "      <td>1709.26</td>\n",
       "      <td>895.0</td>\n",
       "      <td>2435.97</td>\n",
       "      <td>179.0</td>\n",
       "      <td>487.19</td>\n",
       "      <td>8.0</td>\n",
       "      <td>21.77</td>\n",
       "      <td>353.83</td>\n",
       "      <td>4654.20</td>\n",
       "    </tr>\n",
       "    <tr>\n",
       "      <th>2213</th>\n",
       "      <td>Beevillecity</td>\n",
       "      <td>TX</td>\n",
       "      <td>NaN</td>\n",
       "      <td>NaN</td>\n",
       "      <td>13547</td>\n",
       "      <td>2.89</td>\n",
       "      <td>3.37</td>\n",
       "      <td>69.91</td>\n",
       "      <td>0.90</td>\n",
       "      <td>62.11</td>\n",
       "      <td>...</td>\n",
       "      <td>192.0</td>\n",
       "      <td>1508.01</td>\n",
       "      <td>474.0</td>\n",
       "      <td>3722.90</td>\n",
       "      <td>13.0</td>\n",
       "      <td>102.10</td>\n",
       "      <td>1.0</td>\n",
       "      <td>7.85</td>\n",
       "      <td>691.17</td>\n",
       "      <td>5340.87</td>\n",
       "    </tr>\n",
       "    <tr>\n",
       "      <th>2214</th>\n",
       "      <td>WestSacramentocity</td>\n",
       "      <td>CA</td>\n",
       "      <td>NaN</td>\n",
       "      <td>NaN</td>\n",
       "      <td>28898</td>\n",
       "      <td>2.61</td>\n",
       "      <td>2.39</td>\n",
       "      <td>71.27</td>\n",
       "      <td>9.09</td>\n",
       "      <td>24.43</td>\n",
       "      <td>...</td>\n",
       "      <td>791.0</td>\n",
       "      <td>2614.53</td>\n",
       "      <td>1458.0</td>\n",
       "      <td>4819.20</td>\n",
       "      <td>405.0</td>\n",
       "      <td>1338.67</td>\n",
       "      <td>20.0</td>\n",
       "      <td>66.11</td>\n",
       "      <td>918.89</td>\n",
       "      <td>8838.50</td>\n",
       "    </tr>\n",
       "  </tbody>\n",
       "</table>\n",
       "<p>1994 rows × 146 columns</p>\n",
       "</div>"
      ],
      "text/plain": [
       "                communityName state  countyCode  communityCode  population  \\\n",
       "0     BerkeleyHeightstownship    NJ        39.0         5320.0       11980   \n",
       "1              Marpletownship    PA        45.0        47616.0       23123   \n",
       "2                  Tigardcity    OR         NaN            NaN       29344   \n",
       "3            Gloversvillecity    NY        35.0        29443.0       16656   \n",
       "5             Springfieldcity    MO         NaN            NaN      140494   \n",
       "...                       ...   ...         ...            ...         ...   \n",
       "2210               Mercedcity    CA         NaN            NaN       56216   \n",
       "2211            Pinevillecity    LA         NaN            NaN       12251   \n",
       "2212              Yucaipacity    CA         NaN            NaN       32824   \n",
       "2213             Beevillecity    TX         NaN            NaN       13547   \n",
       "2214       WestSacramentocity    CA         NaN            NaN       28898   \n",
       "\n",
       "      householdsize  racepctblack  racePctWhite  racePctAsian  racePctHisp  \\\n",
       "0              3.10          1.37         91.78          6.50         1.88   \n",
       "1              2.82          0.80         95.57          3.44         0.85   \n",
       "2              2.43          0.74         94.33          3.43         2.35   \n",
       "3              2.40          1.70         97.35          0.50         0.70   \n",
       "5              2.45          2.51         95.65          0.90         0.95   \n",
       "...             ...           ...           ...           ...          ...   \n",
       "2210           3.07          6.87         61.68         15.23        29.86   \n",
       "2211           2.68         21.18         76.65          1.52         1.29   \n",
       "2212           2.46          0.52         92.62          0.98        11.00   \n",
       "2213           2.89          3.37         69.91          0.90        62.11   \n",
       "2214           2.61          2.39         71.27          9.09        24.43   \n",
       "\n",
       "      ...  burglaries  burglPerPop  larcenies  larcPerPop  autoTheft  \\\n",
       "0     ...        14.0       114.85      138.0     1132.08       16.0   \n",
       "1     ...        57.0       242.37      376.0     1598.78       26.0   \n",
       "2     ...       274.0       758.14     1797.0     4972.19      136.0   \n",
       "3     ...       225.0      1301.78      716.0     4142.56       47.0   \n",
       "5     ...      2094.0      1386.46     7690.0     5091.64      454.0   \n",
       "...   ...         ...          ...        ...         ...        ...   \n",
       "2210  ...      1376.0      2268.72     2563.0     4225.82      489.0   \n",
       "2211  ...       104.0       860.43      574.0     4748.90       24.0   \n",
       "2212  ...       628.0      1709.26      895.0     2435.97      179.0   \n",
       "2213  ...       192.0      1508.01      474.0     3722.90       13.0   \n",
       "2214  ...       791.0      2614.53     1458.0     4819.20      405.0   \n",
       "\n",
       "      autoTheftPerPop  arsons  arsonsPerPop  ViolentCrimesPerPop  \\\n",
       "0              131.26     2.0         16.41                41.02   \n",
       "1              110.55     1.0          4.25               127.56   \n",
       "2              376.30    22.0         60.87               218.59   \n",
       "3              271.93     NaN           NaN               306.64   \n",
       "5              300.60   134.0         88.72               442.95   \n",
       "...               ...     ...           ...                  ...   \n",
       "2210           806.25    34.0         56.06               545.75   \n",
       "2211           198.56     2.0         16.55               124.10   \n",
       "2212           487.19     8.0         21.77               353.83   \n",
       "2213           102.10     1.0          7.85               691.17   \n",
       "2214          1338.67    20.0         66.11               918.89   \n",
       "\n",
       "      nonViolPerPop  \n",
       "0           1394.59  \n",
       "1           1955.95  \n",
       "2           6167.51  \n",
       "3               NaN  \n",
       "5           6867.42  \n",
       "...             ...  \n",
       "2210        7356.84  \n",
       "2211        5824.44  \n",
       "2212        4654.20  \n",
       "2213        5340.87  \n",
       "2214        8838.50  \n",
       "\n",
       "[1994 rows x 146 columns]"
      ]
     },
     "execution_count": 3,
     "metadata": {},
     "output_type": "execute_result"
    }
   ],
   "source": [
    "df = df.dropna(subset=['medIncome', 'ViolentCrimesPerPop'])\n",
    "df"
   ]
  },
  {
   "cell_type": "markdown",
   "id": "7c2348bd2c9ac2ba",
   "metadata": {},
   "source": [
    "## 1\n",
    "### Three Scatter Plots Relating Violent Crime, Income, and Immigration\n",
    "The relationship of income to violent crime is not surprising. Significantly more violent crime is committed in lower income areas, as people have to commit crime to make money or protect themselves from their dangerous surroundings. They also have less to lose from getting caught. A wealthy person has much less incentive to commit violent crime. \n",
    "\n",
    "We also see that violent crime is not very strongly linked to recent immigration, which is a common belief. While we do not have the data on who is committing these crimes, areas with higher immigrant population are not likely to be more dangerous. \n",
    "\n",
    "We also see a relationship between lower income areas and areas with recent immigration. Therefore, some indication of more crime in higher-immigration areas may be due to the income factor.\n",
    "\n",
    "Below we can see the Pearson's R value (correlation strength) for each scatter plot. Income and Violent Crime have the strongest (negative) correlation. \n"
   ]
  },
  {
   "cell_type": "code",
   "execution_count": 4,
   "id": "6fb65418749a61c9",
   "metadata": {
    "ExecuteTime": {
     "end_time": "2025-01-16T15:18:11.314378Z",
     "start_time": "2025-01-16T15:18:11.057600Z"
    }
   },
   "outputs": [
    {
     "name": "stderr",
     "output_type": "stream",
     "text": [
      "C:\\Users\\amypa\\AppData\\Local\\Temp\\ipykernel_15828\\2991657755.py:29: UserWarning: The figure layout has changed to tight\n",
      "  fig.tight_layout()\n"
     ]
    },
    {
     "data": {
      "image/png": "[encoded data removed]",
      "text/plain": [
       "<Figure size 1200x800 with 3 Axes>"
      ]
     },
     "metadata": {},
     "output_type": "display_data"
    }
   ],
   "source": [
    "#scatter plots\n",
    "#setting variables\n",
    "x = df['medIncome']\n",
    "z = df['PctRecentImmig']\n",
    "y = df['ViolentCrimesPerPop']\n",
    "\n",
    "fig, (ax1, ax2, ax3) = plt.subplots(3, 1, figsize=(12, 8))\n",
    "\n",
    "#first plot\n",
    "ax1.scatter(x, y, color='red')\n",
    "ax1.set_title(\"Violent Crime Related to Income\")\n",
    "ax1.set_ylabel(\"Violent Crime Per 100,000\")\n",
    "ax1.set_xlabel(\"Median Income ($)\")\n",
    "ax1.grid(True)\n",
    "\n",
    "#second plot\n",
    "ax2.scatter(z,y, color='blue')\n",
    "ax2.set_title(\"Violent Crime Related to Recent Immigration\")\n",
    "ax2.set_ylabel(\"Violent Crime Per 100,000\")\n",
    "ax2.set_xlabel(\"Percentage of Population Who Immigrated in the Last 3 Years\")\n",
    "fig.tight_layout()\n",
    "ax2.grid(True)\n",
    "\n",
    "#third plot\n",
    "ax3.scatter(z,x, color='Purple')\n",
    "ax3.set_title(\"Income Related to Recent Immigration\")\n",
    "ax3.set_ylabel(\"Median Income ($)\")\n",
    "ax3.set_xlabel(\"Percentage of Population Who Immigrated in the Last 3 Years\")\n",
    "fig.tight_layout()\n",
    "ax3.grid(True)\n"
   ]
  },
  {
   "cell_type": "code",
   "execution_count": 5,
   "id": "b17432d3e788da3",
   "metadata": {
    "ExecuteTime": {
     "end_time": "2025-01-16T15:18:11.372458Z",
     "start_time": "2025-01-16T15:18:11.368541Z"
    }
   },
   "outputs": [
    {
     "name": "stdout",
     "output_type": "stream",
     "text": [
      "1) Pearson's R value:15587437, \n",
      "2) Pearson's R value: 06885696,\n",
      "3) Pearson's R value: 54451065,\n"
     ]
    }
   ],
   "source": [
    "res1 = stats.pearsonr(x, y)\n",
    "print(\"1) Pearson's R value:\" + str(res1)[36:46])\n",
    "res2 = stats.pearsonr(z, y)\n",
    "print(\"2) Pearson's R value: \" + str(res2)[36:45])\n",
    "res3 = stats.pearsonr(z, x)\n",
    "print(\"3) Pearson's R value: \" + str(res3)[36:45])"
   ]
  },
  {
   "cell_type": "markdown",
   "id": "e38c49d4c272c73b",
   "metadata": {},
   "source": []
  },
  {
   "cell_type": "markdown",
   "id": "abd2acc10eaae2a4",
   "metadata": {},
   "source": [
    "## 2\n",
    "### Scatter Plot Relating Violent Crime to Urban Population\n",
    "After removing the majority of data points at 0% and 100%, we can see a strong correlation between pctUrban and violentCrimePerPop. Urban areas are known for having more violent crime, and our graph backs that claim up. We also see they have more violent crime per person, meaning the increase in crime is disproportionate to the increase of the population in urban areas. "
   ]
  },
  {
   "cell_type": "code",
   "execution_count": 6,
   "id": "2c20695963cec06d",
   "metadata": {
    "ExecuteTime": {
     "end_time": "2025-01-16T15:18:11.483841Z",
     "start_time": "2025-01-16T15:18:11.377499Z"
    }
   },
   "outputs": [
    {
     "data": {
      "image/png": "[encoded data removed]",
      "text/plain": [
       "<Figure size 1800x500 with 1 Axes>"
      ]
     },
     "metadata": {},
     "output_type": "display_data"
    }
   ],
   "source": [
    "#scatter of violent crimes based on urbanity\n",
    "#filtering out 0 and 100 values to reduce flaws in the dataset and outliers\n",
    "a = df[df['pctUrban'] > 0]\n",
    "b = a[a['pctUrban'] < 100]\n",
    "b.head()\n",
    "\n",
    "fig, axs = plt.subplots(figsize=(18, 5))\n",
    "axs.set_ylabel('Violent Crimes per 100,00')\n",
    "axs.set_xlabel('Percentage of County Urban')\n",
    "axs.set_title('Violent Crime Related to Urban Population')\n",
    "axs = plt.scatter(b['pctUrban'], b['ViolentCrimesPerPop'], color = 'green')\n",
    "fig.tight_layout()"
   ]
  },
  {
   "cell_type": "markdown",
   "id": "9795e3a04b7b853a",
   "metadata": {},
   "source": [
    "## 3\n",
    "### Choropleth Map Depicting the Average Violent Crime Per Pop in Each State\n",
    "This choropleth map depicts the 50 states, 45 of which have data. The data from all the counties in each state is compiled and averaged to find the mean amount of violent crime per 100,000 people in each state. The legend depicts roughly how much crime is represented by each color on the map. Coastal states tend to have more crime, possibly because they are more urban. "
   ]
  },
  {
   "cell_type": "code",
   "execution_count": 7,
   "id": "d4684b2d75e016ef",
   "metadata": {
    "ExecuteTime": {
     "end_time": "2025-01-16T15:18:11.548252Z",
     "start_time": "2025-01-16T15:18:11.509716Z"
    }
   },
   "outputs": [
    {
     "data": {
      "application/vnd.plotly.v1+json": {
       "config": {
        "plotlyServerURL": "https://plot.ly"
       },
       "data": [
        {
         "coloraxis": "coloraxis",
         "geo": "geo",
         "hovertemplate": "state=%{location}<br>ViolentCrimesPerPop=%{z}<extra></extra>",
         "locationmode": "USA-states",
         "locations": [
          "AK",
          "AL",
          "AR",
          "AZ",
          "CA",
          "CO",
          "CT",
          "DC",
          "DE",
          "FL",
          "GA",
          "IA",
          "ID",
          "IN",
          "KS",
          "KY",
          "LA",
          "MA",
          "MD",
          "ME",
          "MN",
          "MO",
          "MS",
          "NC",
          "ND",
          "NH",
          "NJ",
          "NM",
          "NV",
          "NY",
          "OH",
          "OK",
          "OR",
          "PA",
          "RI",
          "SC",
          "SD",
          "TN",
          "TX",
          "UT",
          "VA",
          "VT",
          "WA",
          "WI",
          "WV",
          "WY"
         ],
         "name": "",
         "type": "choropleth",
         "z": [
          576.5766666666667,
          1030.6990697674419,
          718.5504,
          551.0944999999999,
          810.4693884892087,
          526.8616000000001,
          260.5995652173913,
          3048.38,
          887.29,
          1159.0468888888888,
          973.4135135135136,
          406.4525,
          271.53000000000003,
          499.96625,
          874.69,
          682.5753846153846,
          1312.7136363636364,
          439.74404958677684,
          1217.6991666666668,
          151.48705882352942,
          501.90999999999997,
          446.00666666666666,
          663.5505263157894,
          973.0360869565218,
          85.05499999999999,
          181.72238095238095,
          409.8235071090047,
          836.507,
          552.4159999999999,
          613.31,
          396.09935779816516,
          487.14750000000004,
          356.4741935483871,
          337.31544554455445,
          340.3826923076923,
          1233.4557142857143,
          226.4611111111111,
          723.7714285714286,
          618.9819871794872,
          231.43916666666667,
          514.0330303030303,
          116.1075,
          547.444,
          180.59516666666664,
          433.8757142857143,
          295.86571428571426
         ]
        }
       ],
       "layout": {
        "coloraxis": {
         "colorbar": {
          "title": {
           "text": "ViolentCrimesPerPop"
          }
         },
         "colorscale": [
          [
           0,
           "rgb(0,0,255)"
          ],
          [
           1,
           "rgb(255,0,0)"
          ]
         ]
        },
        "geo": {
         "center": {},
         "domain": {
          "x": [
           0,
           1
          ],
          "y": [
           0,
           1
          ]
         },
         "scope": "usa"
        },
        "legend": {
         "tracegroupgap": 0
        },
        "template": {
         "data": {
          "bar": [
           {
            "error_x": {
             "color": "#2a3f5f"
            },
            "error_y": {
             "color": "#2a3f5f"
            },
            "marker": {
             "line": {
              "color": "#E5ECF6",
              "width": 0.5
             },
             "pattern": {
              "fillmode": "overlay",
              "size": 10,
              "solidity": 0.2
             }
            },
            "type": "bar"
           }
          ],
          "barpolar": [
           {
            "marker": {
             "line": {
              "color": "#E5ECF6",
              "width": 0.5
             },
             "pattern": {
              "fillmode": "overlay",
              "size": 10,
              "solidity": 0.2
             }
            },
            "type": "barpolar"
           }
          ],
          "carpet": [
           {
            "aaxis": {
             "endlinecolor": "#2a3f5f",
             "gridcolor": "white",
             "linecolor": "white",
             "minorgridcolor": "white",
             "startlinecolor": "#2a3f5f"
            },
            "baxis": {
             "endlinecolor": "#2a3f5f",
             "gridcolor": "white",
             "linecolor": "white",
             "minorgridcolor": "white",
             "startlinecolor": "#2a3f5f"
            },
            "type": "carpet"
           }
          ],
          "choropleth": [
           {
            "colorbar": {
             "outlinewidth": 0,
             "ticks": ""
            },
            "type": "choropleth"
           }
          ],
          "contour": [
           {
            "colorbar": {
             "outlinewidth": 0,
             "ticks": ""
            },
            "colorscale": [
             [
              0,
              "#0d0887"
             ],
             [
              0.1111111111111111,
              "#46039f"
             ],
             [
              0.2222222222222222,
              "#7201a8"
             ],
             [
              0.3333333333333333,
              "#9c179e"
             ],
             [
              0.4444444444444444,
              "#bd3786"
             ],
             [
              0.5555555555555556,
              "#d8576b"
             ],
             [
              0.6666666666666666,
              "#ed7953"
             ],
             [
              0.7777777777777778,
              "#fb9f3a"
             ],
             [
              0.8888888888888888,
              "#fdca26"
             ],
             [
              1,
              "#f0f921"
             ]
            ],
            "type": "contour"
           }
          ],
          "contourcarpet": [
           {
            "colorbar": {
             "outlinewidth": 0,
             "ticks": ""
            },
            "type": "contourcarpet"
           }
          ],
          "heatmap": [
           {
            "colorbar": {
             "outlinewidth": 0,
             "ticks": ""
            },
            "colorscale": [
             [
              0,
              "#0d0887"
             ],
             [
              0.1111111111111111,
              "#46039f"
             ],
             [
              0.2222222222222222,
              "#7201a8"
             ],
             [
              0.3333333333333333,
              "#9c179e"
             ],
             [
              0.4444444444444444,
              "#bd3786"
             ],
             [
              0.5555555555555556,
              "#d8576b"
             ],
             [
              0.6666666666666666,
              "#ed7953"
             ],
             [
              0.7777777777777778,
              "#fb9f3a"
             ],
             [
              0.8888888888888888,
              "#fdca26"
             ],
             [
              1,
              "#f0f921"
             ]
            ],
            "type": "heatmap"
           }
          ],
          "heatmapgl": [
           {
            "colorbar": {
             "outlinewidth": 0,
             "ticks": ""
            },
            "colorscale": [
             [
              0,
              "#0d0887"
             ],
             [
              0.1111111111111111,
              "#46039f"
             ],
             [
              0.2222222222222222,
              "#7201a8"
             ],
             [
              0.3333333333333333,
              "#9c179e"
             ],
             [
              0.4444444444444444,
              "#bd3786"
             ],
             [
              0.5555555555555556,
              "#d8576b"
             ],
             [
              0.6666666666666666,
              "#ed7953"
             ],
             [
              0.7777777777777778,
              "#fb9f3a"
             ],
             [
              0.8888888888888888,
              "#fdca26"
             ],
             [
              1,
              "#f0f921"
             ]
            ],
            "type": "heatmapgl"
           }
          ],
          "histogram": [
           {
            "marker": {
             "pattern": {
              "fillmode": "overlay",
              "size": 10,
              "solidity": 0.2
             }
            },
            "type": "histogram"
           }
          ],
          "histogram2d": [
           {
            "colorbar": {
             "outlinewidth": 0,
             "ticks": ""
            },
            "colorscale": [
             [
              0,
              "#0d0887"
             ],
             [
              0.1111111111111111,
              "#46039f"
             ],
             [
              0.2222222222222222,
              "#7201a8"
             ],
             [
              0.3333333333333333,
              "#9c179e"
             ],
             [
              0.4444444444444444,
              "#bd3786"
             ],
             [
              0.5555555555555556,
              "#d8576b"
             ],
             [
              0.6666666666666666,
              "#ed7953"
             ],
             [
              0.7777777777777778,
              "#fb9f3a"
             ],
             [
              0.8888888888888888,
              "#fdca26"
             ],
             [
              1,
              "#f0f921"
             ]
            ],
            "type": "histogram2d"
           }
          ],
          "histogram2dcontour": [
           {
            "colorbar": {
             "outlinewidth": 0,
             "ticks": ""
            },
            "colorscale": [
             [
              0,
              "#0d0887"
             ],
             [
              0.1111111111111111,
              "#46039f"
             ],
             [
              0.2222222222222222,
              "#7201a8"
             ],
             [
              0.3333333333333333,
              "#9c179e"
             ],
             [
              0.4444444444444444,
              "#bd3786"
             ],
             [
              0.5555555555555556,
              "#d8576b"
             ],
             [
              0.6666666666666666,
              "#ed7953"
             ],
             [
              0.7777777777777778,
              "#fb9f3a"
             ],
             [
              0.8888888888888888,
              "#fdca26"
             ],
             [
              1,
              "#f0f921"
             ]
            ],
            "type": "histogram2dcontour"
           }
          ],
          "mesh3d": [
           {
            "colorbar": {
             "outlinewidth": 0,
             "ticks": ""
            },
            "type": "mesh3d"
           }
          ],
          "parcoords": [
           {
            "line": {
             "colorbar": {
              "outlinewidth": 0,
              "ticks": ""
             }
            },
            "type": "parcoords"
           }
          ],
          "pie": [
           {
            "automargin": true,
            "type": "pie"
           }
          ],
          "scatter": [
           {
            "fillpattern": {
             "fillmode": "overlay",
             "size": 10,
             "solidity": 0.2
            },
            "type": "scatter"
           }
          ],
          "scatter3d": [
           {
            "line": {
             "colorbar": {
              "outlinewidth": 0,
              "ticks": ""
             }
            },
            "marker": {
             "colorbar": {
              "outlinewidth": 0,
              "ticks": ""
             }
            },
            "type": "scatter3d"
           }
          ],
          "scattercarpet": [
           {
            "marker": {
             "colorbar": {
              "outlinewidth": 0,
              "ticks": ""
             }
            },
            "type": "scattercarpet"
           }
          ],
          "scattergeo": [
           {
            "marker": {
             "colorbar": {
              "outlinewidth": 0,
              "ticks": ""
             }
            },
            "type": "scattergeo"
           }
          ],
          "scattergl": [
           {
            "marker": {
             "colorbar": {
              "outlinewidth": 0,
              "ticks": ""
             }
            },
            "type": "scattergl"
           }
          ],
          "scattermapbox": [
           {
            "marker": {
             "colorbar": {
              "outlinewidth": 0,
              "ticks": ""
             }
            },
            "type": "scattermapbox"
           }
          ],
          "scatterpolar": [
           {
            "marker": {
             "colorbar": {
              "outlinewidth": 0,
              "ticks": ""
             }
            },
            "type": "scatterpolar"
           }
          ],
          "scatterpolargl": [
           {
            "marker": {
             "colorbar": {
              "outlinewidth": 0,
              "ticks": ""
             }
            },
            "type": "scatterpolargl"
           }
          ],
          "scatterternary": [
           {
            "marker": {
             "colorbar": {
              "outlinewidth": 0,
              "ticks": ""
             }
            },
            "type": "scatterternary"
           }
          ],
          "surface": [
           {
            "colorbar": {
             "outlinewidth": 0,
             "ticks": ""
            },
            "colorscale": [
             [
              0,
              "#0d0887"
             ],
             [
              0.1111111111111111,
              "#46039f"
             ],
             [
              0.2222222222222222,
              "#7201a8"
             ],
             [
              0.3333333333333333,
              "#9c179e"
             ],
             [
              0.4444444444444444,
              "#bd3786"
             ],
             [
              0.5555555555555556,
              "#d8576b"
             ],
             [
              0.6666666666666666,
              "#ed7953"
             ],
             [
              0.7777777777777778,
              "#fb9f3a"
             ],
             [
              0.8888888888888888,
              "#fdca26"
             ],
             [
              1,
              "#f0f921"
             ]
            ],
            "type": "surface"
           }
          ],
          "table": [
           {
            "cells": {
             "fill": {
              "color": "#EBF0F8"
             },
             "line": {
              "color": "white"
             }
            },
            "header": {
             "fill": {
              "color": "#C8D4E3"
             },
             "line": {
              "color": "white"
             }
            },
            "type": "table"
           }
          ]
         },
         "layout": {
          "annotationdefaults": {
           "arrowcolor": "#2a3f5f",
           "arrowhead": 0,
           "arrowwidth": 1
          },
          "autotypenumbers": "strict",
          "coloraxis": {
           "colorbar": {
            "outlinewidth": 0,
            "ticks": ""
           }
          },
          "colorscale": {
           "diverging": [
            [
             0,
             "#8e0152"
            ],
            [
             0.1,
             "#c51b7d"
            ],
            [
             0.2,
             "#de77ae"
            ],
            [
             0.3,
             "#f1b6da"
            ],
            [
             0.4,
             "#fde0ef"
            ],
            [
             0.5,
             "#f7f7f7"
            ],
            [
             0.6,
             "#e6f5d0"
            ],
            [
             0.7,
             "#b8e186"
            ],
            [
             0.8,
             "#7fbc41"
            ],
            [
             0.9,
             "#4d9221"
            ],
            [
             1,
             "#276419"
            ]
           ],
           "sequential": [
            [
             0,
             "#0d0887"
            ],
            [
             0.1111111111111111,
             "#46039f"
            ],
            [
             0.2222222222222222,
             "#7201a8"
            ],
            [
             0.3333333333333333,
             "#9c179e"
            ],
            [
             0.4444444444444444,
             "#bd3786"
            ],
            [
             0.5555555555555556,
             "#d8576b"
            ],
            [
             0.6666666666666666,
             "#ed7953"
            ],
            [
             0.7777777777777778,
             "#fb9f3a"
            ],
            [
             0.8888888888888888,
             "#fdca26"
            ],
            [
             1,
             "#f0f921"
            ]
           ],
           "sequentialminus": [
            [
             0,
             "#0d0887"
            ],
            [
             0.1111111111111111,
             "#46039f"
            ],
            [
             0.2222222222222222,
             "#7201a8"
            ],
            [
             0.3333333333333333,
             "#9c179e"
            ],
            [
             0.4444444444444444,
             "#bd3786"
            ],
            [
             0.5555555555555556,
             "#d8576b"
            ],
            [
             0.6666666666666666,
             "#ed7953"
            ],
            [
             0.7777777777777778,
             "#fb9f3a"
            ],
            [
             0.8888888888888888,
             "#fdca26"
            ],
            [
             1,
             "#f0f921"
            ]
           ]
          },
          "colorway": [
           "#636efa",
           "#EF553B",
           "#00cc96",
           "#ab63fa",
           "#FFA15A",
           "#19d3f3",
           "#FF6692",
           "#B6E880",
           "#FF97FF",
           "#FECB52"
          ],
          "font": {
           "color": "#2a3f5f"
          },
          "geo": {
           "bgcolor": "white",
           "lakecolor": "white",
           "landcolor": "#E5ECF6",
           "showlakes": true,
           "showland": true,
           "subunitcolor": "white"
          },
          "hoverlabel": {
           "align": "left"
          },
          "hovermode": "closest",
          "mapbox": {
           "style": "light"
          },
          "paper_bgcolor": "white",
          "plot_bgcolor": "#E5ECF6",
          "polar": {
           "angularaxis": {
            "gridcolor": "white",
            "linecolor": "white",
            "ticks": ""
           },
           "bgcolor": "#E5ECF6",
           "radialaxis": {
            "gridcolor": "white",
            "linecolor": "white",
            "ticks": ""
           }
          },
          "scene": {
           "xaxis": {
            "backgroundcolor": "#E5ECF6",
            "gridcolor": "white",
            "gridwidth": 2,
            "linecolor": "white",
            "showbackground": true,
            "ticks": "",
            "zerolinecolor": "white"
           },
           "yaxis": {
            "backgroundcolor": "#E5ECF6",
            "gridcolor": "white",
            "gridwidth": 2,
            "linecolor": "white",
            "showbackground": true,
            "ticks": "",
            "zerolinecolor": "white"
           },
           "zaxis": {
            "backgroundcolor": "#E5ECF6",
            "gridcolor": "white",
            "gridwidth": 2,
            "linecolor": "white",
            "showbackground": true,
            "ticks": "",
            "zerolinecolor": "white"
           }
          },
          "shapedefaults": {
           "line": {
            "color": "#2a3f5f"
           }
          },
          "ternary": {
           "aaxis": {
            "gridcolor": "white",
            "linecolor": "white",
            "ticks": ""
           },
           "baxis": {
            "gridcolor": "white",
            "linecolor": "white",
            "ticks": ""
           },
           "bgcolor": "#E5ECF6",
           "caxis": {
            "gridcolor": "white",
            "linecolor": "white",
            "ticks": ""
           }
          },
          "title": {
           "x": 0.05
          },
          "xaxis": {
           "automargin": true,
           "gridcolor": "white",
           "linecolor": "white",
           "ticks": "",
           "title": {
            "standoff": 15
           },
           "zerolinecolor": "white",
           "zerolinewidth": 2
          },
          "yaxis": {
           "automargin": true,
           "gridcolor": "white",
           "linecolor": "white",
           "ticks": "",
           "title": {
            "standoff": 15
           },
           "zerolinecolor": "white",
           "zerolinewidth": 2
          }
         }
        },
        "title": {
         "text": "Average Violent Crime Per 100,000 People by State"
        }
       }
      }
     },
     "metadata": {},
     "output_type": "display_data"
    }
   ],
   "source": [
    "#choropleth map\n",
    "#taking avg violent crime of all the counties in each state\n",
    "stateAvg = df.groupby('state', as_index=False)['ViolentCrimesPerPop'].mean()\n",
    "\n",
    "fig = px.choropleth(\n",
    "    stateAvg,\n",
    "    locations='state',  \n",
    "    locationmode='USA-states',  \n",
    "    color='ViolentCrimesPerPop', \n",
    "    color_continuous_scale='bluered',  \n",
    "    scope='usa', \n",
    "    title='Average Violent Crime Per 100,000 People by State'\n",
    ")\n",
    "\n",
    "fig.show()"
   ]
  },
  {
   "cell_type": "markdown",
   "id": "ae4ee9c4b27454d3",
   "metadata": {},
   "source": [
    "## Conclusion\n",
    "We see that income is negatively correlated with crime rate. Immigration rate does not have much correlation with violent crime. We also see that there is much more violent crime *per person* in urban areas as opposed to suburban or rural. \n",
    "From our choropleth map we can see which states have higher crime rates. It seems that the southeast has the most crime."
   ]
  }
 ],
 "metadata": {
  "kernelspec": {
   "display_name": "base",
   "language": "python",
   "name": "python3"
  },
  "language_info": {
   "codemirror_mode": {
    "name": "ipython",
    "version": 3
   },
   "file_extension": ".py",
   "mimetype": "text/x-python",
   "name": "python",
   "nbconvert_exporter": "python",
   "pygments_lexer": "ipython3",
   "version": "3.11.5"
  }
 },
 "nbformat": 4,
 "nbformat_minor": 5
}
