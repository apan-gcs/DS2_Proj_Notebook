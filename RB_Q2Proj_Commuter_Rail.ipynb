{
 "cells": [
  {
   "cell_type": "markdown",
   "id": "37e3480b467112df",
   "metadata": {},
   "source": [
    "RB  \n",
    "Intensive Data Science II  \n",
    "Ms. Pan    \n",
    "1/17/25\n",
    "# Q2 Final Project - World Commuter Rail Systems\n",
    "\n",
    "This dataset contains statistics of every single commuter and suburban rail system taken from a Wikipedia table using the Google sheets function IMPORTHTML(). Once imported, the data was cleaned and placed into pycharm for analysis. The first chart shows that Myanmar(Burma) has extremely high density, with $0.85$ stops every kilometer! Upon further research, the main system is in Yangon, the largest city in Myanmar, and one that recently began construction on a new metro system. It will replace the old commuter rail system that the city has outgrown. The second plot contains two logarithmic scattergrams comparing commuter rail systems between Europe and Asia (top subplot) and the rest of the world (bottom subplot). The scattergrams show that Europe and Asia stand out in terms of higher daily ridership and longer rail lengths compared to other continents. The final plot is a bar plot that further demonstrates Asia's dominance in the commuter rail and transit world as it as a total data ridership of almost 60 million riders!\n",
    "\n",
    "### Table of Contents\n",
    "[Dataset](#Dataset)  \n",
    "[Station Density Choropleth](#Choropleth-Commuter-Rail-Station-Density-Plot)  \n",
    "[Daily Ridership vs. Length Scatterplots](#Length-vs.-Daily-Ridership)   \n",
    "[Daily Ridership by Country](#Daily-Ridership-by-Continent)  \n",
    "[Conclusion](#Conclusion)\n",
    "\n",
    "\n"
   ]
  },
  {
   "cell_type": "code",
   "execution_count": 2,
   "id": "initial_id",
   "metadata": {
    "ExecuteTime": {
     "end_time": "2025-01-17T17:21:56.549787Z",
     "start_time": "2025-01-17T17:21:56.542311Z"
    },
    "collapsed": true
   },
   "outputs": [],
   "source": [
    "import matplotlib.pyplot as plt\n",
    "import pandas as pd\n",
    "import plotly.express as px\n",
    "import pycountry as pc\n",
    "plt.style.use('ggplot')"
   ]
  },
  {
   "cell_type": "markdown",
   "id": "dd7fe9678b4dadd7",
   "metadata": {},
   "source": [
    "### Dataset"
   ]
  },
  {
   "cell_type": "code",
   "execution_count": 3,
   "id": "9ce39472ddc7da14",
   "metadata": {
    "ExecuteTime": {
     "end_time": "2025-01-17T17:21:56.679667Z",
     "start_time": "2025-01-17T17:21:56.645065Z"
    }
   },
   "outputs": [
    {
     "data": {
      "text/html": [
       "<div>\n",
       "<style scoped>\n",
       "    .dataframe tbody tr th:only-of-type {\n",
       "        vertical-align: middle;\n",
       "    }\n",
       "\n",
       "    .dataframe tbody tr th {\n",
       "        vertical-align: top;\n",
       "    }\n",
       "\n",
       "    .dataframe thead th {\n",
       "        text-align: right;\n",
       "    }\n",
       "</style>\n",
       "<table border=\"1\" class=\"dataframe\">\n",
       "  <thead>\n",
       "    <tr style=\"text-align: right;\">\n",
       "      <th></th>\n",
       "      <th>City or area</th>\n",
       "      <th>City</th>\n",
       "      <th>Country</th>\n",
       "      <th>Name</th>\n",
       "      <th>Lines</th>\n",
       "      <th>Stations</th>\n",
       "      <th>Length (km)</th>\n",
       "      <th>Daily ridership</th>\n",
       "      <th>Frequency</th>\n",
       "    </tr>\n",
       "  </thead>\n",
       "  <tbody>\n",
       "    <tr>\n",
       "      <th>0</th>\n",
       "      <td>Algiers</td>\n",
       "      <td>Algiers</td>\n",
       "      <td>Algeria</td>\n",
       "      <td>Algiers RER</td>\n",
       "      <td>4.0</td>\n",
       "      <td>33.0</td>\n",
       "      <td>126.5</td>\n",
       "      <td>91000.0</td>\n",
       "      <td>0.2608695652</td>\n",
       "    </tr>\n",
       "    <tr>\n",
       "      <th>1</th>\n",
       "      <td>Buenos Aires</td>\n",
       "      <td>Buenos Aires</td>\n",
       "      <td>Argentina</td>\n",
       "      <td>Buenos Aires Metropolitan Area Rail Network</td>\n",
       "      <td>8.0</td>\n",
       "      <td>224.0</td>\n",
       "      <td>815.0</td>\n",
       "      <td>1400000.0</td>\n",
       "      <td>0.2748466258</td>\n",
       "    </tr>\n",
       "    <tr>\n",
       "      <th>2</th>\n",
       "      <td>Córdoba</td>\n",
       "      <td>Córdoba</td>\n",
       "      <td>Argentina</td>\n",
       "      <td>Tren de las Sierras</td>\n",
       "      <td>1.0</td>\n",
       "      <td>17.0</td>\n",
       "      <td>150.8</td>\n",
       "      <td>1388.0</td>\n",
       "      <td>0.1127320955</td>\n",
       "    </tr>\n",
       "    <tr>\n",
       "      <th>3</th>\n",
       "      <td>La Plata</td>\n",
       "      <td>La Plata</td>\n",
       "      <td>Argentina</td>\n",
       "      <td>University train of La Plata</td>\n",
       "      <td>1.0</td>\n",
       "      <td>7.0</td>\n",
       "      <td>4.6</td>\n",
       "      <td>7559.0</td>\n",
       "      <td>1.52173913</td>\n",
       "    </tr>\n",
       "    <tr>\n",
       "      <th>4</th>\n",
       "      <td>Neuquén - Cipolletti</td>\n",
       "      <td>Neuquén</td>\n",
       "      <td>Argentina</td>\n",
       "      <td>Tren del Valle</td>\n",
       "      <td>1.0</td>\n",
       "      <td>5.0</td>\n",
       "      <td>21.0</td>\n",
       "      <td>400.0</td>\n",
       "      <td>0.2380952381</td>\n",
       "    </tr>\n",
       "  </tbody>\n",
       "</table>\n",
       "</div>"
      ],
      "text/plain": [
       "           City or area          City    Country  \\\n",
       "0               Algiers       Algiers    Algeria   \n",
       "1          Buenos Aires  Buenos Aires  Argentina   \n",
       "2               Córdoba       Córdoba  Argentina   \n",
       "3              La Plata      La Plata  Argentina   \n",
       "4  Neuquén - Cipolletti       Neuquén  Argentina   \n",
       "\n",
       "                                          Name  Lines  Stations  Length (km)  \\\n",
       "0                                  Algiers RER    4.0      33.0        126.5   \n",
       "1  Buenos Aires Metropolitan Area Rail Network    8.0     224.0        815.0   \n",
       "2                          Tren de las Sierras    1.0      17.0        150.8   \n",
       "3                 University train of La Plata    1.0       7.0          4.6   \n",
       "4                               Tren del Valle    1.0       5.0         21.0   \n",
       "\n",
       "   Daily ridership     Frequency  \n",
       "0          91000.0  0.2608695652  \n",
       "1        1400000.0  0.2748466258  \n",
       "2           1388.0  0.1127320955  \n",
       "3           7559.0    1.52173913  \n",
       "4            400.0  0.2380952381  "
      ]
     },
     "execution_count": 3,
     "metadata": {},
     "output_type": "execute_result"
    }
   ],
   "source": [
    "df = pd.read_csv('metro_systems - WorldCommuter.csv')\n",
    "df.head()"
   ]
  },
  {
   "cell_type": "code",
   "execution_count": 4,
   "id": "b70bb97729c65c04",
   "metadata": {
    "ExecuteTime": {
     "end_time": "2025-01-17T17:21:56.730671Z",
     "start_time": "2025-01-17T17:21:56.728087Z"
    }
   },
   "outputs": [],
   "source": [
    "def iso3_code(name):\n",
    "    try:\n",
    "        return pc.countries.lookup(name).alpha_3\n",
    "    except LookupError:\n",
    "        return None\n",
    "    \n",
    "df[\"ISO3\"] = df[\"Country\"].apply(iso3_code)   "
   ]
  },
  {
   "cell_type": "code",
   "execution_count": 5,
   "id": "6d605b1e99625fae",
   "metadata": {
    "ExecuteTime": {
     "end_time": "2025-01-17T17:21:56.763516Z",
     "start_time": "2025-01-17T17:21:56.753996Z"
    }
   },
   "outputs": [],
   "source": [
    "def country(name):\n",
    "    return pc.countries.lookup(name).name\n",
    "\n",
    "# https://www.geeksforgeeks.org/working-with-missing-data-in-pandas/\n",
    "fix = [\"Lines\", \"Stations\", \"Length (km)\", \"Daily ridership\"]\n",
    "df[fix] = df[fix].fillna(0)\n",
    "\n",
    "filtered_df = df[(df[\"Length (km)\"] > 0) & (df[\"Stations\"] > 0)]\n",
    "\n",
    "totals = [\"Lines\", \"Stations\", \"Length (km)\", \"Daily ridership\"]\n",
    "country_df = filtered_df.groupby(\"ISO3\", as_index=False)[totals].sum()\n",
    "\n",
    "country_df[\"Country\"] = country_df[\"ISO3\"].apply(country)\n",
    "\n",
    "country_df[\"Density (Stations/km)\"] = country_df[\"Stations\"] / country_df[\"Length (km)\"]\n",
    "country_df[\"Density (Stations/km)\"] = country_df[\"Density (Stations/km)\"].fillna(0)\n"
   ]
  },
  {
   "cell_type": "markdown",
   "id": "80c6feb136c2d6f7",
   "metadata": {},
   "source": [
    "## Choropleth Commuter Rail Station Density Plot\n",
    "This map visualizes the density of commuter rail stations (stations per kilometer) by country. Japan and Hungary, stand out with high densities due to their rail networks that work more like metro systems. In contrast, North and South America generally have lower densities. Russia was not displayed due to missing data, however, other grey regions display countries without commuter rail systems, with central Africa having few systems. "
   ]
  },
  {
   "cell_type": "code",
   "execution_count": 6,
   "id": "6b42dcc261eefef4",
   "metadata": {
    "ExecuteTime": {
     "end_time": "2025-01-17T17:21:56.881532Z",
     "start_time": "2025-01-17T17:21:56.858283Z"
    }
   },
   "outputs": [
    {
     "data": {
      "application/vnd.plotly.v1+json": {
       "config": {
        "plotlyServerURL": "https://plot.ly"
       },
       "data": [
        {
         "coloraxis": "coloraxis",
         "geo": "geo",
         "hovertemplate": "<b>%{hovertext}</b><br><br>ISO3=%{location}<br>Density (Stations/km)=%{z}<extra></extra>",
         "hovertext": [
          "Argentina",
          "Australia",
          "Austria",
          "Azerbaijan",
          "Belgium",
          "Brazil",
          "Canada",
          "Switzerland",
          "Chile",
          "China",
          "Costa Rica",
          "Czechia",
          "Germany",
          "Denmark",
          "Algeria",
          "Egypt",
          "Spain",
          "Estonia",
          "Finland",
          "France",
          "United Kingdom",
          "Greece",
          "Hong Kong",
          "Croatia",
          "Hungary",
          "Indonesia",
          "India",
          "Ireland",
          "Iran, Islamic Republic of",
          "Israel",
          "Italy",
          "Japan",
          "Kenya",
          "Korea, Republic of",
          "Morocco",
          "Mexico",
          "Myanmar",
          "Malaysia",
          "Norway",
          "New Zealand",
          "Philippines",
          "Poland",
          "Portugal",
          "Romania",
          "Senegal",
          "Serbia",
          "Sweden",
          "Thailand",
          "Tunisia",
          "Tanzania, United Republic of",
          "Ukraine",
          "Uruguay",
          "United States",
          "Venezuela, Bolivarian Republic of",
          "South Africa"
         ],
         "locations": [
          "ARG",
          "AUS",
          "AUT",
          "AZE",
          "BEL",
          "BRA",
          "CAN",
          "CHE",
          "CHL",
          "CHN",
          "CRI",
          "CZE",
          "DEU",
          "DNK",
          "DZA",
          "EGY",
          "ESP",
          "EST",
          "FIN",
          "FRA",
          "GBR",
          "GRC",
          "HKG",
          "HRV",
          "HUN",
          "IDN",
          "IND",
          "IRL",
          "IRN",
          "ISR",
          "ITA",
          "JPN",
          "KEN",
          "KOR",
          "MAR",
          "MEX",
          "MMR",
          "MYS",
          "NOR",
          "NZL",
          "PHL",
          "POL",
          "PRT",
          "ROU",
          "SEN",
          "SRB",
          "SWE",
          "THA",
          "TUN",
          "TZA",
          "UKR",
          "URY",
          "USA",
          "VEN",
          "ZAF"
         ],
         "name": "",
         "type": "choropleth",
         "z": [
          0.243969298245614,
          0.24096796182685754,
          0.32317393589069887,
          0.16483516483516483,
          0.34285714285714286,
          0.44447682891285334,
          0.1672796298493297,
          0.33953997809419495,
          0.20640722425284885,
          0.13349051250038693,
          0.4444444444444444,
          0.3161843515541265,
          0.23860031162589876,
          0.467005076142132,
          0.2608695652173913,
          0.17142857142857143,
          0.2876832708940382,
          0.2803030303030303,
          0.2330508474576271,
          0.33666491320357705,
          0.16271039588191075,
          0.1509036673100544,
          0.48454469507101083,
          0.4012345679012346,
          0.7821782178217822,
          0.18646337694447304,
          0.2922244837217133,
          0.6037735849056604,
          0.26506024096385544,
          0.056511056511056514,
          0.29640542133176195,
          0.4493930876857028,
          0.14375,
          0.4230093676814989,
          0.34375,
          0.12987012987012986,
          0.8496732026143791,
          0.13114754098360656,
          0.2179054054054054,
          0.18915872136347134,
          0.42272126816380445,
          0.528,
          0.25925925925925924,
          0.2,
          0.2545454545454545,
          0.6709265175718849,
          0.21052631578947367,
          0.04931091161967379,
          0.5550500454959053,
          0.5111111111111111,
          0.3,
          0.0625,
          0.1489221011513391,
          0.0966183574879227,
          0.2624254473161034
         ]
        }
       ],
       "layout": {
        "coloraxis": {
         "colorbar": {
          "title": {
           "text": "Density (Stations/km)"
          }
         },
         "colorscale": [
          [
           0,
           "rgb(3, 35, 51)"
          ],
          [
           0.09090909090909091,
           "rgb(13, 48, 100)"
          ],
          [
           0.18181818181818182,
           "rgb(53, 50, 155)"
          ],
          [
           0.2727272727272727,
           "rgb(93, 62, 153)"
          ],
          [
           0.36363636363636365,
           "rgb(126, 77, 143)"
          ],
          [
           0.45454545454545453,
           "rgb(158, 89, 135)"
          ],
          [
           0.5454545454545454,
           "rgb(193, 100, 121)"
          ],
          [
           0.6363636363636364,
           "rgb(225, 113, 97)"
          ],
          [
           0.7272727272727273,
           "rgb(246, 139, 69)"
          ],
          [
           0.8181818181818182,
           "rgb(251, 173, 60)"
          ],
          [
           0.9090909090909091,
           "rgb(246, 211, 70)"
          ],
          [
           1,
           "rgb(231, 250, 90)"
          ]
         ]
        },
        "geo": {
         "center": {},
         "domain": {
          "x": [
           0,
           1
          ],
          "y": [
           0,
           1
          ]
         }
        },
        "height": 400,
        "legend": {
         "tracegroupgap": 0
        },
        "margin": {
         "b": 20,
         "t": 80
        },
        "template": {
         "data": {
          "bar": [
           {
            "error_x": {
             "color": "#2a3f5f"
            },
            "error_y": {
             "color": "#2a3f5f"
            },
            "marker": {
             "line": {
              "color": "#E5ECF6",
              "width": 0.5
             },
             "pattern": {
              "fillmode": "overlay",
              "size": 10,
              "solidity": 0.2
             }
            },
            "type": "bar"
           }
          ],
          "barpolar": [
           {
            "marker": {
             "line": {
              "color": "#E5ECF6",
              "width": 0.5
             },
             "pattern": {
              "fillmode": "overlay",
              "size": 10,
              "solidity": 0.2
             }
            },
            "type": "barpolar"
           }
          ],
          "carpet": [
           {
            "aaxis": {
             "endlinecolor": "#2a3f5f",
             "gridcolor": "white",
             "linecolor": "white",
             "minorgridcolor": "white",
             "startlinecolor": "#2a3f5f"
            },
            "baxis": {
             "endlinecolor": "#2a3f5f",
             "gridcolor": "white",
             "linecolor": "white",
             "minorgridcolor": "white",
             "startlinecolor": "#2a3f5f"
            },
            "type": "carpet"
           }
          ],
          "choropleth": [
           {
            "colorbar": {
             "outlinewidth": 0,
             "ticks": ""
            },
            "type": "choropleth"
           }
          ],
          "contour": [
           {
            "colorbar": {
             "outlinewidth": 0,
             "ticks": ""
            },
            "colorscale": [
             [
              0,
              "#0d0887"
             ],
             [
              0.1111111111111111,
              "#46039f"
             ],
             [
              0.2222222222222222,
              "#7201a8"
             ],
             [
              0.3333333333333333,
              "#9c179e"
             ],
             [
              0.4444444444444444,
              "#bd3786"
             ],
             [
              0.5555555555555556,
              "#d8576b"
             ],
             [
              0.6666666666666666,
              "#ed7953"
             ],
             [
              0.7777777777777778,
              "#fb9f3a"
             ],
             [
              0.8888888888888888,
              "#fdca26"
             ],
             [
              1,
              "#f0f921"
             ]
            ],
            "type": "contour"
           }
          ],
          "contourcarpet": [
           {
            "colorbar": {
             "outlinewidth": 0,
             "ticks": ""
            },
            "type": "contourcarpet"
           }
          ],
          "heatmap": [
           {
            "colorbar": {
             "outlinewidth": 0,
             "ticks": ""
            },
            "colorscale": [
             [
              0,
              "#0d0887"
             ],
             [
              0.1111111111111111,
              "#46039f"
             ],
             [
              0.2222222222222222,
              "#7201a8"
             ],
             [
              0.3333333333333333,
              "#9c179e"
             ],
             [
              0.4444444444444444,
              "#bd3786"
             ],
             [
              0.5555555555555556,
              "#d8576b"
             ],
             [
              0.6666666666666666,
              "#ed7953"
             ],
             [
              0.7777777777777778,
              "#fb9f3a"
             ],
             [
              0.8888888888888888,
              "#fdca26"
             ],
             [
              1,
              "#f0f921"
             ]
            ],
            "type": "heatmap"
           }
          ],
          "heatmapgl": [
           {
            "colorbar": {
             "outlinewidth": 0,
             "ticks": ""
            },
            "colorscale": [
             [
              0,
              "#0d0887"
             ],
             [
              0.1111111111111111,
              "#46039f"
             ],
             [
              0.2222222222222222,
              "#7201a8"
             ],
             [
              0.3333333333333333,
              "#9c179e"
             ],
             [
              0.4444444444444444,
              "#bd3786"
             ],
             [
              0.5555555555555556,
              "#d8576b"
             ],
             [
              0.6666666666666666,
              "#ed7953"
             ],
             [
              0.7777777777777778,
              "#fb9f3a"
             ],
             [
              0.8888888888888888,
              "#fdca26"
             ],
             [
              1,
              "#f0f921"
             ]
            ],
            "type": "heatmapgl"
           }
          ],
          "histogram": [
           {
            "marker": {
             "pattern": {
              "fillmode": "overlay",
              "size": 10,
              "solidity": 0.2
             }
            },
            "type": "histogram"
           }
          ],
          "histogram2d": [
           {
            "colorbar": {
             "outlinewidth": 0,
             "ticks": ""
            },
            "colorscale": [
             [
              0,
              "#0d0887"
             ],
             [
              0.1111111111111111,
              "#46039f"
             ],
             [
              0.2222222222222222,
              "#7201a8"
             ],
             [
              0.3333333333333333,
              "#9c179e"
             ],
             [
              0.4444444444444444,
              "#bd3786"
             ],
             [
              0.5555555555555556,
              "#d8576b"
             ],
             [
              0.6666666666666666,
              "#ed7953"
             ],
             [
              0.7777777777777778,
              "#fb9f3a"
             ],
             [
              0.8888888888888888,
              "#fdca26"
             ],
             [
              1,
              "#f0f921"
             ]
            ],
            "type": "histogram2d"
           }
          ],
          "histogram2dcontour": [
           {
            "colorbar": {
             "outlinewidth": 0,
             "ticks": ""
            },
            "colorscale": [
             [
              0,
              "#0d0887"
             ],
             [
              0.1111111111111111,
              "#46039f"
             ],
             [
              0.2222222222222222,
              "#7201a8"
             ],
             [
              0.3333333333333333,
              "#9c179e"
             ],
             [
              0.4444444444444444,
              "#bd3786"
             ],
             [
              0.5555555555555556,
              "#d8576b"
             ],
             [
              0.6666666666666666,
              "#ed7953"
             ],
             [
              0.7777777777777778,
              "#fb9f3a"
             ],
             [
              0.8888888888888888,
              "#fdca26"
             ],
             [
              1,
              "#f0f921"
             ]
            ],
            "type": "histogram2dcontour"
           }
          ],
          "mesh3d": [
           {
            "colorbar": {
             "outlinewidth": 0,
             "ticks": ""
            },
            "type": "mesh3d"
           }
          ],
          "parcoords": [
           {
            "line": {
             "colorbar": {
              "outlinewidth": 0,
              "ticks": ""
             }
            },
            "type": "parcoords"
           }
          ],
          "pie": [
           {
            "automargin": true,
            "type": "pie"
           }
          ],
          "scatter": [
           {
            "fillpattern": {
             "fillmode": "overlay",
             "size": 10,
             "solidity": 0.2
            },
            "type": "scatter"
           }
          ],
          "scatter3d": [
           {
            "line": {
             "colorbar": {
              "outlinewidth": 0,
              "ticks": ""
             }
            },
            "marker": {
             "colorbar": {
              "outlinewidth": 0,
              "ticks": ""
             }
            },
            "type": "scatter3d"
           }
          ],
          "scattercarpet": [
           {
            "marker": {
             "colorbar": {
              "outlinewidth": 0,
              "ticks": ""
             }
            },
            "type": "scattercarpet"
           }
          ],
          "scattergeo": [
           {
            "marker": {
             "colorbar": {
              "outlinewidth": 0,
              "ticks": ""
             }
            },
            "type": "scattergeo"
           }
          ],
          "scattergl": [
           {
            "marker": {
             "colorbar": {
              "outlinewidth": 0,
              "ticks": ""
             }
            },
            "type": "scattergl"
           }
          ],
          "scattermapbox": [
           {
            "marker": {
             "colorbar": {
              "outlinewidth": 0,
              "ticks": ""
             }
            },
            "type": "scattermapbox"
           }
          ],
          "scatterpolar": [
           {
            "marker": {
             "colorbar": {
              "outlinewidth": 0,
              "ticks": ""
             }
            },
            "type": "scatterpolar"
           }
          ],
          "scatterpolargl": [
           {
            "marker": {
             "colorbar": {
              "outlinewidth": 0,
              "ticks": ""
             }
            },
            "type": "scatterpolargl"
           }
          ],
          "scatterternary": [
           {
            "marker": {
             "colorbar": {
              "outlinewidth": 0,
              "ticks": ""
             }
            },
            "type": "scatterternary"
           }
          ],
          "surface": [
           {
            "colorbar": {
             "outlinewidth": 0,
             "ticks": ""
            },
            "colorscale": [
             [
              0,
              "#0d0887"
             ],
             [
              0.1111111111111111,
              "#46039f"
             ],
             [
              0.2222222222222222,
              "#7201a8"
             ],
             [
              0.3333333333333333,
              "#9c179e"
             ],
             [
              0.4444444444444444,
              "#bd3786"
             ],
             [
              0.5555555555555556,
              "#d8576b"
             ],
             [
              0.6666666666666666,
              "#ed7953"
             ],
             [
              0.7777777777777778,
              "#fb9f3a"
             ],
             [
              0.8888888888888888,
              "#fdca26"
             ],
             [
              1,
              "#f0f921"
             ]
            ],
            "type": "surface"
           }
          ],
          "table": [
           {
            "cells": {
             "fill": {
              "color": "#EBF0F8"
             },
             "line": {
              "color": "white"
             }
            },
            "header": {
             "fill": {
              "color": "#C8D4E3"
             },
             "line": {
              "color": "white"
             }
            },
            "type": "table"
           }
          ]
         },
         "layout": {
          "annotationdefaults": {
           "arrowcolor": "#2a3f5f",
           "arrowhead": 0,
           "arrowwidth": 1
          },
          "autotypenumbers": "strict",
          "coloraxis": {
           "colorbar": {
            "outlinewidth": 0,
            "ticks": ""
           }
          },
          "colorscale": {
           "diverging": [
            [
             0,
             "#8e0152"
            ],
            [
             0.1,
             "#c51b7d"
            ],
            [
             0.2,
             "#de77ae"
            ],
            [
             0.3,
             "#f1b6da"
            ],
            [
             0.4,
             "#fde0ef"
            ],
            [
             0.5,
             "#f7f7f7"
            ],
            [
             0.6,
             "#e6f5d0"
            ],
            [
             0.7,
             "#b8e186"
            ],
            [
             0.8,
             "#7fbc41"
            ],
            [
             0.9,
             "#4d9221"
            ],
            [
             1,
             "#276419"
            ]
           ],
           "sequential": [
            [
             0,
             "#0d0887"
            ],
            [
             0.1111111111111111,
             "#46039f"
            ],
            [
             0.2222222222222222,
             "#7201a8"
            ],
            [
             0.3333333333333333,
             "#9c179e"
            ],
            [
             0.4444444444444444,
             "#bd3786"
            ],
            [
             0.5555555555555556,
             "#d8576b"
            ],
            [
             0.6666666666666666,
             "#ed7953"
            ],
            [
             0.7777777777777778,
             "#fb9f3a"
            ],
            [
             0.8888888888888888,
             "#fdca26"
            ],
            [
             1,
             "#f0f921"
            ]
           ],
           "sequentialminus": [
            [
             0,
             "#0d0887"
            ],
            [
             0.1111111111111111,
             "#46039f"
            ],
            [
             0.2222222222222222,
             "#7201a8"
            ],
            [
             0.3333333333333333,
             "#9c179e"
            ],
            [
             0.4444444444444444,
             "#bd3786"
            ],
            [
             0.5555555555555556,
             "#d8576b"
            ],
            [
             0.6666666666666666,
             "#ed7953"
            ],
            [
             0.7777777777777778,
             "#fb9f3a"
            ],
            [
             0.8888888888888888,
             "#fdca26"
            ],
            [
             1,
             "#f0f921"
            ]
           ]
          },
          "colorway": [
           "#636efa",
           "#EF553B",
           "#00cc96",
           "#ab63fa",
           "#FFA15A",
           "#19d3f3",
           "#FF6692",
           "#B6E880",
           "#FF97FF",
           "#FECB52"
          ],
          "font": {
           "color": "#2a3f5f"
          },
          "geo": {
           "bgcolor": "white",
           "lakecolor": "white",
           "landcolor": "#E5ECF6",
           "showlakes": true,
           "showland": true,
           "subunitcolor": "white"
          },
          "hoverlabel": {
           "align": "left"
          },
          "hovermode": "closest",
          "mapbox": {
           "style": "light"
          },
          "paper_bgcolor": "white",
          "plot_bgcolor": "#E5ECF6",
          "polar": {
           "angularaxis": {
            "gridcolor": "white",
            "linecolor": "white",
            "ticks": ""
           },
           "bgcolor": "#E5ECF6",
           "radialaxis": {
            "gridcolor": "white",
            "linecolor": "white",
            "ticks": ""
           }
          },
          "scene": {
           "xaxis": {
            "backgroundcolor": "#E5ECF6",
            "gridcolor": "white",
            "gridwidth": 2,
            "linecolor": "white",
            "showbackground": true,
            "ticks": "",
            "zerolinecolor": "white"
           },
           "yaxis": {
            "backgroundcolor": "#E5ECF6",
            "gridcolor": "white",
            "gridwidth": 2,
            "linecolor": "white",
            "showbackground": true,
            "ticks": "",
            "zerolinecolor": "white"
           },
           "zaxis": {
            "backgroundcolor": "#E5ECF6",
            "gridcolor": "white",
            "gridwidth": 2,
            "linecolor": "white",
            "showbackground": true,
            "ticks": "",
            "zerolinecolor": "white"
           }
          },
          "shapedefaults": {
           "line": {
            "color": "#2a3f5f"
           }
          },
          "ternary": {
           "aaxis": {
            "gridcolor": "white",
            "linecolor": "white",
            "ticks": ""
           },
           "baxis": {
            "gridcolor": "white",
            "linecolor": "white",
            "ticks": ""
           },
           "bgcolor": "#E5ECF6",
           "caxis": {
            "gridcolor": "white",
            "linecolor": "white",
            "ticks": ""
           }
          },
          "title": {
           "x": 0.05
          },
          "xaxis": {
           "automargin": true,
           "gridcolor": "white",
           "linecolor": "white",
           "ticks": "",
           "title": {
            "standoff": 15
           },
           "zerolinecolor": "white",
           "zerolinewidth": 2
          },
          "yaxis": {
           "automargin": true,
           "gridcolor": "white",
           "linecolor": "white",
           "ticks": "",
           "title": {
            "standoff": 15
           },
           "zerolinecolor": "white",
           "zerolinewidth": 2
          }
         }
        },
        "title": {
         "text": "Commuter Rail Station Density"
        },
        "width": 900
       }
      }
     },
     "metadata": {},
     "output_type": "display_data"
    }
   ],
   "source": [
    "# Choropleth\n",
    "fig = px.choropleth(country_df, locations=\"ISO3\", color=\"Density (Stations/km)\", color_continuous_scale=\"Thermal\", title=\"Commuter Rail Station Density\", hover_name=\"Country\")\n",
    "\n",
    "fig.update_layout(\n",
    "    margin=dict(t=80, b=20), \n",
    "    width=900, \n",
    "    height=400,\n",
    ")\n"
   ]
  },
  {
   "cell_type": "code",
   "execution_count": 7,
   "id": "451d0462d952d35e",
   "metadata": {
    "ExecuteTime": {
     "end_time": "2025-01-17T17:21:56.951873Z",
     "start_time": "2025-01-17T17:21:56.946335Z"
    }
   },
   "outputs": [
    {
     "ename": "ModuleNotFoundError",
     "evalue": "No module named 'pycountry_convert'",
     "output_type": "error",
     "traceback": [
      "\u001b[1;31m---------------------------------------------------------------------------\u001b[0m",
      "\u001b[1;31mModuleNotFoundError\u001b[0m                       Traceback (most recent call last)",
      "Cell \u001b[1;32mIn[7], line 1\u001b[0m\n\u001b[1;32m----> 1\u001b[0m \u001b[38;5;28;01mimport\u001b[39;00m \u001b[38;5;21;01mpycountry_convert\u001b[39;00m \u001b[38;5;28;01mas\u001b[39;00m \u001b[38;5;21;01mpcc\u001b[39;00m\n\u001b[0;32m      2\u001b[0m \u001b[38;5;66;03m# https://stackoverflow.com/questions/55910004/get-continent-name-from-country-using-pycountry\u001b[39;00m\n\u001b[0;32m      3\u001b[0m \u001b[38;5;28;01mdef\u001b[39;00m \u001b[38;5;21mcountry_to_continent\u001b[39m(country_name):\n",
      "\u001b[1;31mModuleNotFoundError\u001b[0m: No module named 'pycountry_convert'"
     ]
    }
   ],
   "source": [
    "import pycountry_convert as pcc\n",
    "# https://stackoverflow.com/questions/55910004/get-continent-name-from-country-using-pycountry\n",
    "def country_to_continent(country_name):\n",
    "    country_alpha2 = pcc.country_name_to_country_alpha2(country_name)\n",
    "    country_continent_code = pcc.country_alpha2_to_continent_code(country_alpha2)\n",
    "    country_continent_name = pcc.convert_continent_code_to_continent_name(country_continent_code)\n",
    "    return country_continent_name\n",
    "continent_df = filtered_df\n",
    "continent_df[\"Continent\"] = filtered_df[\"Country\"].apply(country_to_continent)\n",
    "continent_df.to_csv(\"Continent.csv\", index=False)"
   ]
  },
  {
   "cell_type": "markdown",
   "id": "5d811a6b1fbafc25",
   "metadata": {},
   "source": [
    "## Length vs. Daily Ridership\n",
    "This plot compares the length of commuter rail networks (in kilometers) with daily ridership across continents. The first subplot contains Europe and Asia, and the second has the rest of the world. Systems with higher ridership tend to have longer networks, mostly in Europe and Asia. JR East, Japan’s largest rail operator, stands out as a significant outlier with exceptionally high daily ridership compared to other systems, due to the efficiency and popularity of its dense commuter rail network. Other continents show a wider scatter, meaning more ridership variation compared to the network's length.\n",
    "\n",
    "The legend also contains a calculated $R^2$ value for the relationship between length and daily ridership. North America’s relatively low $R^2$ of $0.53$ shows the varied use its commuter rail systems."
   ]
  },
  {
   "cell_type": "code",
   "execution_count": 15,
   "id": "589aa6ccf4d1f5f2",
   "metadata": {
    "ExecuteTime": {
     "end_time": "2025-01-17T17:21:57.002144Z",
     "start_time": "2025-01-17T17:21:56.981702Z"
    }
   },
   "outputs": [
    {
     "data": {
      "application/vnd.plotly.v1+json": {
       "config": {
        "plotlyServerURL": "https://plot.ly"
       },
       "data": [
        {
         "hovertext": [
          "S-Bahn Steiermark",
          "Tyrol S-Bahn",
          "S-Bahn Wien",
          "Brussels GEN/RER",
          "Split Suburban Railway",
          "Esko Prague",
          "S-train1",
          "Helsinki commuter rail",
          "Réseau Express Régional 1",
          "Transilien",
          "Berlin S-Bahn1",
          "Dresden S-Bahn",
          "Rhine-Main S-Bahn",
          "Hamburg S-Bahn1",
          "Hanover S-Bahn",
          "S-Bahn Mitteldeutschland",
          "S-Bahn Mittelelbe",
          "RheinNeckar S-Bahn",
          "Munich S-Bahn",
          "Nuremberg S-Bahn",
          "Rhein-Ruhr S-Bahn",
          "Stuttgart S-Bahn",
          "Athens Suburban Railway",
          "Proastiakos Patras",
          "BHÉV",
          "Dublin Area Rapid Transit",
          "Bologna metropolitan railway service",
          "Milan suburban railway service",
          "FL lines",
          "Rome–Lido railway",
          "Jæren Commuter Rail",
          "Trønderbanen",
          "CFR Săgeata Albastră",
          "Moscow Suburban Railway",
          "BG Voz",
          "Rodalies Barcelona",
          "Cercanías Madrid",
          "Cercanías Sevilla",
          "Cercanías Valencia",
          "Gothenburg commuter rail",
          "Östergötland commuter rail",
          "Pågatågen",
          "Stockholm commuter rail",
          "Roslagsbanan and Saltsjöbanan",
          "Basel S-Bahn",
          "Zürich S-Bahn",
          "Kyiv Urban Electric Train",
          "Merseyrail",
          "London Overground"
         ],
         "mode": "markers",
         "name": "Europe (R^2: 0.26)",
         "type": "scatter",
         "x": [
          45520,
          42000,
          300000,
          68500,
          156,
          110000,
          357000,
          200000,
          3290000,
          3520700,
          1500000,
          36000,
          400000,
          605000,
          82191,
          90000,
          5479,
          75000,
          800000,
          40000,
          356000,
          435000,
          30000,
          4400,
          200000,
          81905,
          82076,
          230000,
          372000,
          90000,
          7000,
          3300,
          2750,
          2739726,
          35000,
          350000,
          880000,
          25000,
          43500,
          60000,
          9000,
          50000,
          410000,
          70000,
          65000,
          456073,
          32000,
          110000,
          517808
         ],
         "xaxis": "x",
         "y": [
          450,
          271,
          475,
          350,
          17.8,
          933,
          170,
          236,
          602,
          1299,
          335.2,
          166,
          303,
          144,
          385,
          839,
          130,
          437,
          434,
          320,
          676,
          215,
          292,
          29,
          101,
          53,
          350,
          403,
          672,
          28,
          75,
          290,
          20,
          2384.7,
          31.3,
          615,
          370,
          251,
          252,
          104,
          115,
          388,
          241,
          83,
          250,
          380,
          50,
          120.7,
          167
         ],
         "yaxis": "y"
        },
        {
         "hovertext": [
          "Baku suburban railway",
          "MTR",
          "Chennai Suburban Railway",
          "Lucknow-Kanpur Suburban Railway",
          "Hyderabad MMTS",
          "Kolkata Suburban Railway",
          "Pune Suburban Railway",
          "Mumbai Suburban Railway",
          "KRL Commuterline",
          "Soekarno–Hatta Airport Rail Link",
          "KRL Commuterline Yogyakarta–Solo",
          "Israel Railways",
          "Nishi-Nippon Railroad",
          "Amagi Railway",
          "Aichi Loop Line",
          "Johoku Line",
          "Nagoya Seaside Rapid Railway",
          "Hankyu Railway",
          "Kobe Electric Railway",
          "Nankai Electric Railway",
          "Semboku Rapid Railway",
          "Sendai Airport Transit",
          "JR East",
          "Hokuso Railway",
          "Keihin Electric Express Railway",
          "Keio Corporation",
          "Keisei Electric Railway",
          "Metropolitan Intercity Railway Company",
          "Odakyu Electric Railway",
          "Sagami Railway",
          "Seibu Railway",
          "Shin-Keisei Electric Railway",
          "Tobu Railway",
          "Tokyu Corporation",
          "Toyo Rapid Railway",
          "Korail",
          "A'REX",
          "Korail",
          "KTM Komuter",
          "Express Rail Link",
          "Yangon Circular Railway",
          "Philippine National Railways Metro Commuter Line",
          "Airport Rail Link",
          "Marmaray",
          "İZBAN"
         ],
         "mode": "markers",
         "name": "Asia (R^2: 0.27)",
         "type": "scatter",
         "x": [
          30300,
          1877400,
          1500000,
          80000,
          220000,
          6100000,
          100000,
          7585000,
          1200000,
          4100,
          29744,
          225000,
          542994,
          3700,
          38759,
          1384,
          43888,
          1950000,
          160900,
          586866,
          135450,
          6670,
          16359962,
          108680,
          1316499,
          1851364,
          786063,
          431060,
          2069383,
          634899,
          1804521,
          276495,
          2522067,
          3171660,
          133000,
          3197423,
          182343,
          51097,
          120389,
          17634,
          125000,
          100000,
          47000,
          148034,
          185000
         ],
         "xaxis": "x",
         "y": [
          91,
          119.7,
          1174.21,
          72,
          50,
          1501,
          64,
          465,
          418,
          54.3,
          65.4,
          1221,
          106.1,
          13.7,
          45.3,
          11.2,
          15.2,
          136,
          69.2,
          157.9,
          14.3,
          7.1,
          2282.8,
          32.3,
          87,
          88.3,
          152.8,
          58.3,
          120.5,
          35.9,
          176.6,
          26.5,
          463.3,
          94.5,
          16.2,
          591.4,
          63.8,
          28,
          269,
          57,
          45.9,
          75.7,
          28.6,
          76.6,
          136
         ],
         "yaxis": "y"
        },
        {
         "hovertext": [
          "Exo commuter rail",
          "GO Transit",
          "Union Pearson Express",
          "West Coast Express",
          "Tren Suburbano",
          "New Mexico Rail Runner Express",
          "Capital MetroRail",
          "MBTA Commuter Rail",
          "Metra",
          "South Shore Line",
          "Trinity Railway Express",
          "A-train",
          "TEXRail",
          "RTD Commuter Rail",
          "Metrolink",
          "Tri-Rail",
          "Northstar Commuter Rail",
          "WeGo Star",
          "CTrail",
          "Long Island Rail Road",
          "Metro-North Railroad",
          "NJ Transit",
          "SunRail",
          "SEPTA Regional Rail",
          "Westside Express Service",
          "FrontRunner",
          "Coaster",
          "Caltrain",
          "Altamont Corridor Express",
          "Sonoma–Marin Area Rail Transit",
          "Sounder commuter rail",
          "MARC",
          "Virginia Railway Express"
         ],
         "mode": "markers",
         "name": "North America (R^2: 0.53)",
         "type": "scatter",
         "x": [
          83100,
          216000,
          10091,
          11300,
          218000,
          3900,
          1600,
          129400,
          296600,
          11500,
          8300,
          1500,
          1301,
          28700,
          42265,
          13700,
          2100,
          1000,
          3431,
          385000,
          300000,
          301746,
          4300,
          125300,
          1400,
          13000,
          4800,
          58250,
          2800,
          2206,
          17057,
          31300,
          19000
         ],
         "xaxis": "x2",
         "y": [
          224.6,
          526,
          23.3,
          69,
          27,
          156,
          51,
          641,
          785,
          140,
          54.7,
          33.8,
          43.8,
          85.29,
          859,
          114.1,
          64,
          51.5,
          194.5,
          1100,
          1267,
          1530,
          78.7,
          450,
          23.7,
          142,
          66,
          124.6,
          138,
          45,
          132,
          301,
          145
         ],
         "yaxis": "y2"
        },
        {
         "hovertext": [
          "Buenos Aires Metropolitan Area Rail Network",
          "Tren de las Sierras",
          "University train of La Plata",
          "Tren del Valle",
          "Servicio Regional Salta",
          "Posadas-Encarnación International Train",
          "Fortaleza Metro",
          "Sistema de Trens Urbanos de João Pessoa",
          "Maceió Urban Rail",
          "Sistema de Trens Urbanos de Natal",
          "SuperVia",
          "Companhia Paulista de Trens Metropolitanos 1",
          "ViaMobilidade",
          "VLT de Sobral",
          "Teresina Metro",
          "Valparaíso Metro",
          "Biotren",
          "Corto Laja",
          "Metrotren",
          "Regional Victoria-Temuco",
          "Talca-Constitución Buscarril",
          "State Railways Administration of Uruguay",
          "Sistema Ferroviario Central"
         ],
         "mode": "markers",
         "name": "South America (R^2: 0.21)",
         "type": "scatter",
         "x": [
          1400000,
          1388,
          7559,
          400,
          570,
          8000,
          31000,
          10000,
          11000,
          15000,
          620000,
          1500000,
          800000,
          18000,
          8000,
          75000,
          24500,
          1600,
          74000,
          1300,
          136,
          1200,
          140000
         ],
         "xaxis": "x2",
         "y": [
          815,
          150.8,
          4.6,
          21,
          87,
          8,
          43,
          30,
          34.3,
          56,
          223.5,
          196,
          76,
          13.9,
          13.5,
          43,
          48,
          87.3,
          133.8,
          65,
          88,
          80,
          41.4
         ],
         "yaxis": "y2"
        },
        {
         "hovertext": [
          "Algiers RER",
          "Nairobi rail service",
          "Train Express Regional",
          "Metrorail Western Cape",
          "Dar es Salaam commuter rail"
         ],
         "mode": "markers",
         "name": "Africa (R^2: 0.56)",
         "type": "scatter",
         "x": [
          91000,
          9400,
          50000,
          500000,
          16000
         ],
         "xaxis": "x2",
         "y": [
          126.5,
          160,
          55,
          423,
          45
         ],
         "yaxis": "y2"
        },
        {
         "hovertext": [
          "Railways in Adelaide",
          "Railways in South East Queensland",
          "Metro Trains Melbourne1",
          "Transperth",
          "Sydney Trains1",
          "AT Metro",
          "Metlink"
         ],
         "mode": "markers",
         "name": "Oceania (R^2: 0.78)",
         "type": "scatter",
         "x": [
          39700,
          148000,
          630000,
          159600,
          709000,
          74000,
          30000
         ],
         "xaxis": "x2",
         "y": [
          132,
          689,
          1047,
          253,
          813,
          95,
          154
         ],
         "yaxis": "y2"
        }
       ],
       "layout": {
        "annotations": [
         {
          "font": {
           "size": 16
          },
          "showarrow": false,
          "text": "Europe and Asia",
          "x": 0.5,
          "xanchor": "center",
          "xref": "paper",
          "y": 1,
          "yanchor": "bottom",
          "yref": "paper"
         },
         {
          "font": {
           "size": 16
          },
          "showarrow": false,
          "text": "Rest of World",
          "x": 0.5,
          "xanchor": "center",
          "xref": "paper",
          "y": 0.475,
          "yanchor": "bottom",
          "yref": "paper"
         }
        ],
        "autosize": false,
        "height": 700,
        "template": {
         "data": {
          "bar": [
           {
            "error_x": {
             "color": "#2a3f5f"
            },
            "error_y": {
             "color": "#2a3f5f"
            },
            "marker": {
             "line": {
              "color": "#E5ECF6",
              "width": 0.5
             },
             "pattern": {
              "fillmode": "overlay",
              "size": 10,
              "solidity": 0.2
             }
            },
            "type": "bar"
           }
          ],
          "barpolar": [
           {
            "marker": {
             "line": {
              "color": "#E5ECF6",
              "width": 0.5
             },
             "pattern": {
              "fillmode": "overlay",
              "size": 10,
              "solidity": 0.2
             }
            },
            "type": "barpolar"
           }
          ],
          "carpet": [
           {
            "aaxis": {
             "endlinecolor": "#2a3f5f",
             "gridcolor": "white",
             "linecolor": "white",
             "minorgridcolor": "white",
             "startlinecolor": "#2a3f5f"
            },
            "baxis": {
             "endlinecolor": "#2a3f5f",
             "gridcolor": "white",
             "linecolor": "white",
             "minorgridcolor": "white",
             "startlinecolor": "#2a3f5f"
            },
            "type": "carpet"
           }
          ],
          "choropleth": [
           {
            "colorbar": {
             "outlinewidth": 0,
             "ticks": ""
            },
            "type": "choropleth"
           }
          ],
          "contour": [
           {
            "colorbar": {
             "outlinewidth": 0,
             "ticks": ""
            },
            "colorscale": [
             [
              0,
              "#0d0887"
             ],
             [
              0.1111111111111111,
              "#46039f"
             ],
             [
              0.2222222222222222,
              "#7201a8"
             ],
             [
              0.3333333333333333,
              "#9c179e"
             ],
             [
              0.4444444444444444,
              "#bd3786"
             ],
             [
              0.5555555555555556,
              "#d8576b"
             ],
             [
              0.6666666666666666,
              "#ed7953"
             ],
             [
              0.7777777777777778,
              "#fb9f3a"
             ],
             [
              0.8888888888888888,
              "#fdca26"
             ],
             [
              1,
              "#f0f921"
             ]
            ],
            "type": "contour"
           }
          ],
          "contourcarpet": [
           {
            "colorbar": {
             "outlinewidth": 0,
             "ticks": ""
            },
            "type": "contourcarpet"
           }
          ],
          "heatmap": [
           {
            "colorbar": {
             "outlinewidth": 0,
             "ticks": ""
            },
            "colorscale": [
             [
              0,
              "#0d0887"
             ],
             [
              0.1111111111111111,
              "#46039f"
             ],
             [
              0.2222222222222222,
              "#7201a8"
             ],
             [
              0.3333333333333333,
              "#9c179e"
             ],
             [
              0.4444444444444444,
              "#bd3786"
             ],
             [
              0.5555555555555556,
              "#d8576b"
             ],
             [
              0.6666666666666666,
              "#ed7953"
             ],
             [
              0.7777777777777778,
              "#fb9f3a"
             ],
             [
              0.8888888888888888,
              "#fdca26"
             ],
             [
              1,
              "#f0f921"
             ]
            ],
            "type": "heatmap"
           }
          ],
          "heatmapgl": [
           {
            "colorbar": {
             "outlinewidth": 0,
             "ticks": ""
            },
            "colorscale": [
             [
              0,
              "#0d0887"
             ],
             [
              0.1111111111111111,
              "#46039f"
             ],
             [
              0.2222222222222222,
              "#7201a8"
             ],
             [
              0.3333333333333333,
              "#9c179e"
             ],
             [
              0.4444444444444444,
              "#bd3786"
             ],
             [
              0.5555555555555556,
              "#d8576b"
             ],
             [
              0.6666666666666666,
              "#ed7953"
             ],
             [
              0.7777777777777778,
              "#fb9f3a"
             ],
             [
              0.8888888888888888,
              "#fdca26"
             ],
             [
              1,
              "#f0f921"
             ]
            ],
            "type": "heatmapgl"
           }
          ],
          "histogram": [
           {
            "marker": {
             "pattern": {
              "fillmode": "overlay",
              "size": 10,
              "solidity": 0.2
             }
            },
            "type": "histogram"
           }
          ],
          "histogram2d": [
           {
            "colorbar": {
             "outlinewidth": 0,
             "ticks": ""
            },
            "colorscale": [
             [
              0,
              "#0d0887"
             ],
             [
              0.1111111111111111,
              "#46039f"
             ],
             [
              0.2222222222222222,
              "#7201a8"
             ],
             [
              0.3333333333333333,
              "#9c179e"
             ],
             [
              0.4444444444444444,
              "#bd3786"
             ],
             [
              0.5555555555555556,
              "#d8576b"
             ],
             [
              0.6666666666666666,
              "#ed7953"
             ],
             [
              0.7777777777777778,
              "#fb9f3a"
             ],
             [
              0.8888888888888888,
              "#fdca26"
             ],
             [
              1,
              "#f0f921"
             ]
            ],
            "type": "histogram2d"
           }
          ],
          "histogram2dcontour": [
           {
            "colorbar": {
             "outlinewidth": 0,
             "ticks": ""
            },
            "colorscale": [
             [
              0,
              "#0d0887"
             ],
             [
              0.1111111111111111,
              "#46039f"
             ],
             [
              0.2222222222222222,
              "#7201a8"
             ],
             [
              0.3333333333333333,
              "#9c179e"
             ],
             [
              0.4444444444444444,
              "#bd3786"
             ],
             [
              0.5555555555555556,
              "#d8576b"
             ],
             [
              0.6666666666666666,
              "#ed7953"
             ],
             [
              0.7777777777777778,
              "#fb9f3a"
             ],
             [
              0.8888888888888888,
              "#fdca26"
             ],
             [
              1,
              "#f0f921"
             ]
            ],
            "type": "histogram2dcontour"
           }
          ],
          "mesh3d": [
           {
            "colorbar": {
             "outlinewidth": 0,
             "ticks": ""
            },
            "type": "mesh3d"
           }
          ],
          "parcoords": [
           {
            "line": {
             "colorbar": {
              "outlinewidth": 0,
              "ticks": ""
             }
            },
            "type": "parcoords"
           }
          ],
          "pie": [
           {
            "automargin": true,
            "type": "pie"
           }
          ],
          "scatter": [
           {
            "fillpattern": {
             "fillmode": "overlay",
             "size": 10,
             "solidity": 0.2
            },
            "type": "scatter"
           }
          ],
          "scatter3d": [
           {
            "line": {
             "colorbar": {
              "outlinewidth": 0,
              "ticks": ""
             }
            },
            "marker": {
             "colorbar": {
              "outlinewidth": 0,
              "ticks": ""
             }
            },
            "type": "scatter3d"
           }
          ],
          "scattercarpet": [
           {
            "marker": {
             "colorbar": {
              "outlinewidth": 0,
              "ticks": ""
             }
            },
            "type": "scattercarpet"
           }
          ],
          "scattergeo": [
           {
            "marker": {
             "colorbar": {
              "outlinewidth": 0,
              "ticks": ""
             }
            },
            "type": "scattergeo"
           }
          ],
          "scattergl": [
           {
            "marker": {
             "colorbar": {
              "outlinewidth": 0,
              "ticks": ""
             }
            },
            "type": "scattergl"
           }
          ],
          "scattermapbox": [
           {
            "marker": {
             "colorbar": {
              "outlinewidth": 0,
              "ticks": ""
             }
            },
            "type": "scattermapbox"
           }
          ],
          "scatterpolar": [
           {
            "marker": {
             "colorbar": {
              "outlinewidth": 0,
              "ticks": ""
             }
            },
            "type": "scatterpolar"
           }
          ],
          "scatterpolargl": [
           {
            "marker": {
             "colorbar": {
              "outlinewidth": 0,
              "ticks": ""
             }
            },
            "type": "scatterpolargl"
           }
          ],
          "scatterternary": [
           {
            "marker": {
             "colorbar": {
              "outlinewidth": 0,
              "ticks": ""
             }
            },
            "type": "scatterternary"
           }
          ],
          "surface": [
           {
            "colorbar": {
             "outlinewidth": 0,
             "ticks": ""
            },
            "colorscale": [
             [
              0,
              "#0d0887"
             ],
             [
              0.1111111111111111,
              "#46039f"
             ],
             [
              0.2222222222222222,
              "#7201a8"
             ],
             [
              0.3333333333333333,
              "#9c179e"
             ],
             [
              0.4444444444444444,
              "#bd3786"
             ],
             [
              0.5555555555555556,
              "#d8576b"
             ],
             [
              0.6666666666666666,
              "#ed7953"
             ],
             [
              0.7777777777777778,
              "#fb9f3a"
             ],
             [
              0.8888888888888888,
              "#fdca26"
             ],
             [
              1,
              "#f0f921"
             ]
            ],
            "type": "surface"
           }
          ],
          "table": [
           {
            "cells": {
             "fill": {
              "color": "#EBF0F8"
             },
             "line": {
              "color": "white"
             }
            },
            "header": {
             "fill": {
              "color": "#C8D4E3"
             },
             "line": {
              "color": "white"
             }
            },
            "type": "table"
           }
          ]
         },
         "layout": {
          "annotationdefaults": {
           "arrowcolor": "#2a3f5f",
           "arrowhead": 0,
           "arrowwidth": 1
          },
          "autotypenumbers": "strict",
          "coloraxis": {
           "colorbar": {
            "outlinewidth": 0,
            "ticks": ""
           }
          },
          "colorscale": {
           "diverging": [
            [
             0,
             "#8e0152"
            ],
            [
             0.1,
             "#c51b7d"
            ],
            [
             0.2,
             "#de77ae"
            ],
            [
             0.3,
             "#f1b6da"
            ],
            [
             0.4,
             "#fde0ef"
            ],
            [
             0.5,
             "#f7f7f7"
            ],
            [
             0.6,
             "#e6f5d0"
            ],
            [
             0.7,
             "#b8e186"
            ],
            [
             0.8,
             "#7fbc41"
            ],
            [
             0.9,
             "#4d9221"
            ],
            [
             1,
             "#276419"
            ]
           ],
           "sequential": [
            [
             0,
             "#0d0887"
            ],
            [
             0.1111111111111111,
             "#46039f"
            ],
            [
             0.2222222222222222,
             "#7201a8"
            ],
            [
             0.3333333333333333,
             "#9c179e"
            ],
            [
             0.4444444444444444,
             "#bd3786"
            ],
            [
             0.5555555555555556,
             "#d8576b"
            ],
            [
             0.6666666666666666,
             "#ed7953"
            ],
            [
             0.7777777777777778,
             "#fb9f3a"
            ],
            [
             0.8888888888888888,
             "#fdca26"
            ],
            [
             1,
             "#f0f921"
            ]
           ],
           "sequentialminus": [
            [
             0,
             "#0d0887"
            ],
            [
             0.1111111111111111,
             "#46039f"
            ],
            [
             0.2222222222222222,
             "#7201a8"
            ],
            [
             0.3333333333333333,
             "#9c179e"
            ],
            [
             0.4444444444444444,
             "#bd3786"
            ],
            [
             0.5555555555555556,
             "#d8576b"
            ],
            [
             0.6666666666666666,
             "#ed7953"
            ],
            [
             0.7777777777777778,
             "#fb9f3a"
            ],
            [
             0.8888888888888888,
             "#fdca26"
            ],
            [
             1,
             "#f0f921"
            ]
           ]
          },
          "colorway": [
           "#636efa",
           "#EF553B",
           "#00cc96",
           "#ab63fa",
           "#FFA15A",
           "#19d3f3",
           "#FF6692",
           "#B6E880",
           "#FF97FF",
           "#FECB52"
          ],
          "font": {
           "color": "#2a3f5f"
          },
          "geo": {
           "bgcolor": "white",
           "lakecolor": "white",
           "landcolor": "#E5ECF6",
           "showlakes": true,
           "showland": true,
           "subunitcolor": "white"
          },
          "hoverlabel": {
           "align": "left"
          },
          "hovermode": "closest",
          "mapbox": {
           "style": "light"
          },
          "paper_bgcolor": "white",
          "plot_bgcolor": "#E5ECF6",
          "polar": {
           "angularaxis": {
            "gridcolor": "white",
            "linecolor": "white",
            "ticks": ""
           },
           "bgcolor": "#E5ECF6",
           "radialaxis": {
            "gridcolor": "white",
            "linecolor": "white",
            "ticks": ""
           }
          },
          "scene": {
           "xaxis": {
            "backgroundcolor": "#E5ECF6",
            "gridcolor": "white",
            "gridwidth": 2,
            "linecolor": "white",
            "showbackground": true,
            "ticks": "",
            "zerolinecolor": "white"
           },
           "yaxis": {
            "backgroundcolor": "#E5ECF6",
            "gridcolor": "white",
            "gridwidth": 2,
            "linecolor": "white",
            "showbackground": true,
            "ticks": "",
            "zerolinecolor": "white"
           },
           "zaxis": {
            "backgroundcolor": "#E5ECF6",
            "gridcolor": "white",
            "gridwidth": 2,
            "linecolor": "white",
            "showbackground": true,
            "ticks": "",
            "zerolinecolor": "white"
           }
          },
          "shapedefaults": {
           "line": {
            "color": "#2a3f5f"
           }
          },
          "ternary": {
           "aaxis": {
            "gridcolor": "white",
            "linecolor": "white",
            "ticks": ""
           },
           "baxis": {
            "gridcolor": "white",
            "linecolor": "white",
            "ticks": ""
           },
           "bgcolor": "#E5ECF6",
           "caxis": {
            "gridcolor": "white",
            "linecolor": "white",
            "ticks": ""
           }
          },
          "title": {
           "x": 0.05
          },
          "xaxis": {
           "automargin": true,
           "gridcolor": "white",
           "linecolor": "white",
           "ticks": "",
           "title": {
            "standoff": 15
           },
           "zerolinecolor": "white",
           "zerolinewidth": 2
          },
          "yaxis": {
           "automargin": true,
           "gridcolor": "white",
           "linecolor": "white",
           "ticks": "",
           "title": {
            "standoff": 15
           },
           "zerolinecolor": "white",
           "zerolinewidth": 2
          }
         }
        },
        "title": {
         "text": "Length (km) vs. Daily Ridership of Worldwide Commuter Rail Systems"
        },
        "width": 800,
        "xaxis": {
         "anchor": "y",
         "domain": [
          0,
          1
         ],
         "matches": "x2",
         "showticklabels": false,
         "type": "log"
        },
        "xaxis2": {
         "anchor": "y2",
         "domain": [
          0,
          1
         ],
         "title": {
          "text": "Daily Ridership (log scale)"
         },
         "type": "log"
        },
        "yaxis": {
         "anchor": "x",
         "domain": [
          0.525,
          1
         ],
         "title": {
          "text": "Length (km)"
         }
        },
        "yaxis2": {
         "anchor": "x2",
         "domain": [
          0,
          0.475
         ],
         "title": {
          "text": "Length (km)"
         }
        }
       }
      },
      "text/html": [
       "<div>                            <div id=\"35109c5b-36a9-40ce-928f-d79dc37b95e5\" class=\"plotly-graph-div\" style=\"height:700px; width:800px;\"></div>            <script type=\"text/javascript\">                require([\"plotly\"], function(Plotly) {                    window.PLOTLYENV=window.PLOTLYENV || {};                                    if (document.getElementById(\"35109c5b-36a9-40ce-928f-d79dc37b95e5\")) {                    Plotly.newPlot(                        \"35109c5b-36a9-40ce-928f-d79dc37b95e5\",                        [{\"hovertext\":[\"S-Bahn Steiermark\",\"Tyrol S-Bahn\",\"S-Bahn Wien\",\"Brussels GEN\\u002fRER\",\"Split Suburban Railway\",\"Esko Prague\",\"S-train1\",\"Helsinki commuter rail\",\"R\\u00e9seau Express R\\u00e9gional 1\",\"Transilien\",\"Berlin S-Bahn1\",\"Dresden S-Bahn\",\"Rhine-Main S-Bahn\",\"Hamburg S-Bahn1\",\"Hanover S-Bahn\",\"S-Bahn Mitteldeutschland\",\"S-Bahn Mittelelbe\",\"RheinNeckar S-Bahn\",\"Munich S-Bahn\",\"Nuremberg S-Bahn\",\"Rhein-Ruhr S-Bahn\",\"Stuttgart S-Bahn\",\"Athens Suburban Railway\",\"Proastiakos Patras\",\"BH\\u00c9V\",\"Dublin Area Rapid Transit\",\"Bologna metropolitan railway service\",\"Milan suburban railway service\",\"FL lines\",\"Rome\\u2013Lido railway\",\"J\\u00e6ren Commuter Rail\",\"Tr\\u00f8nderbanen\",\"CFR S\\u0103geata Albastr\\u0103\",\"Moscow Suburban Railway\",\"BG Voz\",\"Rodalies Barcelona\",\"Cercan\\u00edas Madrid\",\"Cercan\\u00edas Sevilla\",\"Cercan\\u00edas Valencia\",\"Gothenburg commuter rail\",\"\\u00d6sterg\\u00f6tland commuter rail\",\"P\\u00e5gat\\u00e5gen\",\"Stockholm commuter rail\",\"Roslagsbanan and Saltsj\\u00f6banan\",\"Basel S-Bahn\",\"Z\\u00fcrich S-Bahn\",\"Kyiv Urban Electric Train\",\"Merseyrail\",\"London Overground\"],\"mode\":\"markers\",\"name\":\"Europe (R^2: 0.26)\",\"x\":[45520.0,42000.0,300000.0,68500.0,156.0,110000.0,357000.0,200000.0,3290000.0,3520700.0,1500000.0,36000.0,400000.0,605000.0,82191.0,90000.0,5479.0,75000.0,800000.0,40000.0,356000.0,435000.0,30000.0,4400.0,200000.0,81905.0,82076.0,230000.0,372000.0,90000.0,7000.0,3300.0,2750.0,2739726.0,35000.0,350000.0,880000.0,25000.0,43500.0,60000.0,9000.0,50000.0,410000.0,70000.0,65000.0,456073.0,32000.0,110000.0,517808.0],\"y\":[450.0,271.0,475.0,350.0,17.8,933.0,170.0,236.0,602.0,1299.0,335.2,166.0,303.0,144.0,385.0,839.0,130.0,437.0,434.0,320.0,676.0,215.0,292.0,29.0,101.0,53.0,350.0,403.0,672.0,28.0,75.0,290.0,20.0,2384.7,31.3,615.0,370.0,251.0,252.0,104.0,115.0,388.0,241.0,83.0,250.0,380.0,50.0,120.7,167.0],\"type\":\"scatter\",\"xaxis\":\"x\",\"yaxis\":\"y\"},{\"hovertext\":[\"Baku suburban railway\",\"MTR\",\"Chennai Suburban Railway\",\"Lucknow-Kanpur Suburban Railway\",\"Hyderabad MMTS\",\"Kolkata Suburban Railway\",\"Pune Suburban Railway\",\"Mumbai Suburban Railway\",\"KRL Commuterline\",\"Soekarno\\u2013Hatta Airport Rail Link\",\"KRL Commuterline Yogyakarta\\u2013Solo\",\"Israel Railways\",\"Nishi-Nippon Railroad\",\"Amagi Railway\",\"Aichi Loop Line\",\"Johoku Line\",\"Nagoya Seaside Rapid Railway\",\"Hankyu Railway\",\"Kobe Electric Railway\",\"Nankai Electric Railway\",\"Semboku Rapid Railway\",\"Sendai Airport Transit\",\"JR East\",\"Hokuso Railway\",\"Keihin Electric Express Railway\",\"Keio Corporation\",\"Keisei Electric Railway\",\"Metropolitan Intercity Railway Company\",\"Odakyu Electric Railway\",\"Sagami Railway\",\"Seibu Railway\",\"Shin-Keisei Electric Railway\",\"Tobu Railway\",\"Tokyu Corporation\",\"Toyo Rapid Railway\",\"Korail\",\"A'REX\",\"Korail\",\"KTM Komuter\",\"Express Rail Link\",\"Yangon Circular Railway\",\"Philippine National Railways Metro Commuter Line\",\"Airport Rail Link\",\"Marmaray\",\"\\u0130ZBAN\"],\"mode\":\"markers\",\"name\":\"Asia (R^2: 0.27)\",\"x\":[30300.0,1877400.0,1500000.0,80000.0,220000.0,6100000.0,100000.0,7585000.0,1200000.0,4100.0,29744.0,225000.0,542994.0,3700.0,38759.0,1384.0,43888.0,1950000.0,160900.0,586866.0,135450.0,6670.0,16359962.0,108680.0,1316499.0,1851364.0,786063.0,431060.0,2069383.0,634899.0,1804521.0,276495.0,2522067.0,3171660.0,133000.0,3197423.0,182343.0,51097.0,120389.0,17634.0,125000.0,100000.0,47000.0,148034.0,185000.0],\"y\":[91.0,119.7,1174.21,72.0,50.0,1501.0,64.0,465.0,418.0,54.3,65.4,1221.0,106.1,13.7,45.3,11.2,15.2,136.0,69.2,157.9,14.3,7.1,2282.8,32.3,87.0,88.3,152.8,58.3,120.5,35.9,176.6,26.5,463.3,94.5,16.2,591.4,63.8,28.0,269.0,57.0,45.9,75.7,28.6,76.6,136.0],\"type\":\"scatter\",\"xaxis\":\"x\",\"yaxis\":\"y\"},{\"hovertext\":[\"Exo commuter rail\",\"GO Transit\",\"Union Pearson Express\",\"West Coast Express\",\"Tren Suburbano\",\"New Mexico Rail Runner Express\",\"Capital MetroRail\",\"MBTA Commuter Rail\",\"Metra\",\"South Shore Line\",\"Trinity Railway Express\",\"A-train\",\"TEXRail\",\"RTD Commuter Rail\",\"Metrolink\",\"Tri-Rail\",\"Northstar Commuter Rail\",\"WeGo Star\",\"CTrail\",\"Long Island Rail Road\",\"Metro-North Railroad\",\"NJ Transit\",\"SunRail\",\"SEPTA Regional Rail\",\"Westside Express Service\",\"FrontRunner\",\"Coaster\",\"Caltrain\",\"Altamont Corridor Express\",\"Sonoma\\u2013Marin Area Rail Transit\",\"Sounder commuter rail\",\"MARC\",\"Virginia Railway Express\"],\"mode\":\"markers\",\"name\":\"North America (R^2: 0.53)\",\"x\":[83100.0,216000.0,10091.0,11300.0,218000.0,3900.0,1600.0,129400.0,296600.0,11500.0,8300.0,1500.0,1301.0,28700.0,42265.0,13700.0,2100.0,1000.0,3431.0,385000.0,300000.0,301746.0,4300.0,125300.0,1400.0,13000.0,4800.0,58250.0,2800.0,2206.0,17057.0,31300.0,19000.0],\"y\":[224.6,526.0,23.3,69.0,27.0,156.0,51.0,641.0,785.0,140.0,54.7,33.8,43.8,85.29,859.0,114.1,64.0,51.5,194.5,1100.0,1267.0,1530.0,78.7,450.0,23.7,142.0,66.0,124.6,138.0,45.0,132.0,301.0,145.0],\"type\":\"scatter\",\"xaxis\":\"x2\",\"yaxis\":\"y2\"},{\"hovertext\":[\"Buenos Aires Metropolitan Area Rail Network\",\"Tren de las Sierras\",\"University train of La Plata\",\"Tren del Valle\",\"Servicio Regional Salta\",\"Posadas-Encarnaci\\u00f3n International Train\",\"Fortaleza Metro\",\"Sistema de Trens Urbanos de Jo\\u00e3o Pessoa\",\"Macei\\u00f3 Urban Rail\",\"Sistema de Trens Urbanos de Natal\",\"SuperVia\",\"Companhia Paulista de Trens Metropolitanos 1\",\"ViaMobilidade\",\"VLT de Sobral\",\"Teresina Metro\",\"Valpara\\u00edso Metro\",\"Biotren\",\"Corto Laja\",\"Metrotren\",\"Regional Victoria-Temuco\",\"Talca-Constituci\\u00f3n Buscarril\",\"State Railways Administration of Uruguay\",\"Sistema Ferroviario Central\"],\"mode\":\"markers\",\"name\":\"South America (R^2: 0.21)\",\"x\":[1400000.0,1388.0,7559.0,400.0,570.0,8000.0,31000.0,10000.0,11000.0,15000.0,620000.0,1500000.0,800000.0,18000.0,8000.0,75000.0,24500.0,1600.0,74000.0,1300.0,136.0,1200.0,140000.0],\"y\":[815.0,150.8,4.6,21.0,87.0,8.0,43.0,30.0,34.3,56.0,223.5,196.0,76.0,13.9,13.5,43.0,48.0,87.3,133.8,65.0,88.0,80.0,41.4],\"type\":\"scatter\",\"xaxis\":\"x2\",\"yaxis\":\"y2\"},{\"hovertext\":[\"Algiers RER\",\"Nairobi rail service\",\"Train Express Regional\",\"Metrorail Western Cape\",\"Dar es Salaam commuter rail\"],\"mode\":\"markers\",\"name\":\"Africa (R^2: 0.56)\",\"x\":[91000.0,9400.0,50000.0,500000.0,16000.0],\"y\":[126.5,160.0,55.0,423.0,45.0],\"type\":\"scatter\",\"xaxis\":\"x2\",\"yaxis\":\"y2\"},{\"hovertext\":[\"Railways in Adelaide\",\"Railways in South East Queensland\",\"Metro Trains Melbourne1\",\"Transperth\",\"Sydney Trains1\",\"AT Metro\",\"Metlink\"],\"mode\":\"markers\",\"name\":\"Oceania (R^2: 0.78)\",\"x\":[39700.0,148000.0,630000.0,159600.0,709000.0,74000.0,30000.0],\"y\":[132.0,689.0,1047.0,253.0,813.0,95.0,154.0],\"type\":\"scatter\",\"xaxis\":\"x2\",\"yaxis\":\"y2\"}],                        {\"template\":{\"data\":{\"histogram2dcontour\":[{\"type\":\"histogram2dcontour\",\"colorbar\":{\"outlinewidth\":0,\"ticks\":\"\"},\"colorscale\":[[0.0,\"#0d0887\"],[0.1111111111111111,\"#46039f\"],[0.2222222222222222,\"#7201a8\"],[0.3333333333333333,\"#9c179e\"],[0.4444444444444444,\"#bd3786\"],[0.5555555555555556,\"#d8576b\"],[0.6666666666666666,\"#ed7953\"],[0.7777777777777778,\"#fb9f3a\"],[0.8888888888888888,\"#fdca26\"],[1.0,\"#f0f921\"]]}],\"choropleth\":[{\"type\":\"choropleth\",\"colorbar\":{\"outlinewidth\":0,\"ticks\":\"\"}}],\"histogram2d\":[{\"type\":\"histogram2d\",\"colorbar\":{\"outlinewidth\":0,\"ticks\":\"\"},\"colorscale\":[[0.0,\"#0d0887\"],[0.1111111111111111,\"#46039f\"],[0.2222222222222222,\"#7201a8\"],[0.3333333333333333,\"#9c179e\"],[0.4444444444444444,\"#bd3786\"],[0.5555555555555556,\"#d8576b\"],[0.6666666666666666,\"#ed7953\"],[0.7777777777777778,\"#fb9f3a\"],[0.8888888888888888,\"#fdca26\"],[1.0,\"#f0f921\"]]}],\"heatmap\":[{\"type\":\"heatmap\",\"colorbar\":{\"outlinewidth\":0,\"ticks\":\"\"},\"colorscale\":[[0.0,\"#0d0887\"],[0.1111111111111111,\"#46039f\"],[0.2222222222222222,\"#7201a8\"],[0.3333333333333333,\"#9c179e\"],[0.4444444444444444,\"#bd3786\"],[0.5555555555555556,\"#d8576b\"],[0.6666666666666666,\"#ed7953\"],[0.7777777777777778,\"#fb9f3a\"],[0.8888888888888888,\"#fdca26\"],[1.0,\"#f0f921\"]]}],\"heatmapgl\":[{\"type\":\"heatmapgl\",\"colorbar\":{\"outlinewidth\":0,\"ticks\":\"\"},\"colorscale\":[[0.0,\"#0d0887\"],[0.1111111111111111,\"#46039f\"],[0.2222222222222222,\"#7201a8\"],[0.3333333333333333,\"#9c179e\"],[0.4444444444444444,\"#bd3786\"],[0.5555555555555556,\"#d8576b\"],[0.6666666666666666,\"#ed7953\"],[0.7777777777777778,\"#fb9f3a\"],[0.8888888888888888,\"#fdca26\"],[1.0,\"#f0f921\"]]}],\"contourcarpet\":[{\"type\":\"contourcarpet\",\"colorbar\":{\"outlinewidth\":0,\"ticks\":\"\"}}],\"contour\":[{\"type\":\"contour\",\"colorbar\":{\"outlinewidth\":0,\"ticks\":\"\"},\"colorscale\":[[0.0,\"#0d0887\"],[0.1111111111111111,\"#46039f\"],[0.2222222222222222,\"#7201a8\"],[0.3333333333333333,\"#9c179e\"],[0.4444444444444444,\"#bd3786\"],[0.5555555555555556,\"#d8576b\"],[0.6666666666666666,\"#ed7953\"],[0.7777777777777778,\"#fb9f3a\"],[0.8888888888888888,\"#fdca26\"],[1.0,\"#f0f921\"]]}],\"surface\":[{\"type\":\"surface\",\"colorbar\":{\"outlinewidth\":0,\"ticks\":\"\"},\"colorscale\":[[0.0,\"#0d0887\"],[0.1111111111111111,\"#46039f\"],[0.2222222222222222,\"#7201a8\"],[0.3333333333333333,\"#9c179e\"],[0.4444444444444444,\"#bd3786\"],[0.5555555555555556,\"#d8576b\"],[0.6666666666666666,\"#ed7953\"],[0.7777777777777778,\"#fb9f3a\"],[0.8888888888888888,\"#fdca26\"],[1.0,\"#f0f921\"]]}],\"mesh3d\":[{\"type\":\"mesh3d\",\"colorbar\":{\"outlinewidth\":0,\"ticks\":\"\"}}],\"scatter\":[{\"fillpattern\":{\"fillmode\":\"overlay\",\"size\":10,\"solidity\":0.2},\"type\":\"scatter\"}],\"parcoords\":[{\"type\":\"parcoords\",\"line\":{\"colorbar\":{\"outlinewidth\":0,\"ticks\":\"\"}}}],\"scatterpolargl\":[{\"type\":\"scatterpolargl\",\"marker\":{\"colorbar\":{\"outlinewidth\":0,\"ticks\":\"\"}}}],\"bar\":[{\"error_x\":{\"color\":\"#2a3f5f\"},\"error_y\":{\"color\":\"#2a3f5f\"},\"marker\":{\"line\":{\"color\":\"#E5ECF6\",\"width\":0.5},\"pattern\":{\"fillmode\":\"overlay\",\"size\":10,\"solidity\":0.2}},\"type\":\"bar\"}],\"scattergeo\":[{\"type\":\"scattergeo\",\"marker\":{\"colorbar\":{\"outlinewidth\":0,\"ticks\":\"\"}}}],\"scatterpolar\":[{\"type\":\"scatterpolar\",\"marker\":{\"colorbar\":{\"outlinewidth\":0,\"ticks\":\"\"}}}],\"histogram\":[{\"marker\":{\"pattern\":{\"fillmode\":\"overlay\",\"size\":10,\"solidity\":0.2}},\"type\":\"histogram\"}],\"scattergl\":[{\"type\":\"scattergl\",\"marker\":{\"colorbar\":{\"outlinewidth\":0,\"ticks\":\"\"}}}],\"scatter3d\":[{\"type\":\"scatter3d\",\"line\":{\"colorbar\":{\"outlinewidth\":0,\"ticks\":\"\"}},\"marker\":{\"colorbar\":{\"outlinewidth\":0,\"ticks\":\"\"}}}],\"scattermapbox\":[{\"type\":\"scattermapbox\",\"marker\":{\"colorbar\":{\"outlinewidth\":0,\"ticks\":\"\"}}}],\"scatterternary\":[{\"type\":\"scatterternary\",\"marker\":{\"colorbar\":{\"outlinewidth\":0,\"ticks\":\"\"}}}],\"scattercarpet\":[{\"type\":\"scattercarpet\",\"marker\":{\"colorbar\":{\"outlinewidth\":0,\"ticks\":\"\"}}}],\"carpet\":[{\"aaxis\":{\"endlinecolor\":\"#2a3f5f\",\"gridcolor\":\"white\",\"linecolor\":\"white\",\"minorgridcolor\":\"white\",\"startlinecolor\":\"#2a3f5f\"},\"baxis\":{\"endlinecolor\":\"#2a3f5f\",\"gridcolor\":\"white\",\"linecolor\":\"white\",\"minorgridcolor\":\"white\",\"startlinecolor\":\"#2a3f5f\"},\"type\":\"carpet\"}],\"table\":[{\"cells\":{\"fill\":{\"color\":\"#EBF0F8\"},\"line\":{\"color\":\"white\"}},\"header\":{\"fill\":{\"color\":\"#C8D4E3\"},\"line\":{\"color\":\"white\"}},\"type\":\"table\"}],\"barpolar\":[{\"marker\":{\"line\":{\"color\":\"#E5ECF6\",\"width\":0.5},\"pattern\":{\"fillmode\":\"overlay\",\"size\":10,\"solidity\":0.2}},\"type\":\"barpolar\"}],\"pie\":[{\"automargin\":true,\"type\":\"pie\"}]},\"layout\":{\"autotypenumbers\":\"strict\",\"colorway\":[\"#636efa\",\"#EF553B\",\"#00cc96\",\"#ab63fa\",\"#FFA15A\",\"#19d3f3\",\"#FF6692\",\"#B6E880\",\"#FF97FF\",\"#FECB52\"],\"font\":{\"color\":\"#2a3f5f\"},\"hovermode\":\"closest\",\"hoverlabel\":{\"align\":\"left\"},\"paper_bgcolor\":\"white\",\"plot_bgcolor\":\"#E5ECF6\",\"polar\":{\"bgcolor\":\"#E5ECF6\",\"angularaxis\":{\"gridcolor\":\"white\",\"linecolor\":\"white\",\"ticks\":\"\"},\"radialaxis\":{\"gridcolor\":\"white\",\"linecolor\":\"white\",\"ticks\":\"\"}},\"ternary\":{\"bgcolor\":\"#E5ECF6\",\"aaxis\":{\"gridcolor\":\"white\",\"linecolor\":\"white\",\"ticks\":\"\"},\"baxis\":{\"gridcolor\":\"white\",\"linecolor\":\"white\",\"ticks\":\"\"},\"caxis\":{\"gridcolor\":\"white\",\"linecolor\":\"white\",\"ticks\":\"\"}},\"coloraxis\":{\"colorbar\":{\"outlinewidth\":0,\"ticks\":\"\"}},\"colorscale\":{\"sequential\":[[0.0,\"#0d0887\"],[0.1111111111111111,\"#46039f\"],[0.2222222222222222,\"#7201a8\"],[0.3333333333333333,\"#9c179e\"],[0.4444444444444444,\"#bd3786\"],[0.5555555555555556,\"#d8576b\"],[0.6666666666666666,\"#ed7953\"],[0.7777777777777778,\"#fb9f3a\"],[0.8888888888888888,\"#fdca26\"],[1.0,\"#f0f921\"]],\"sequentialminus\":[[0.0,\"#0d0887\"],[0.1111111111111111,\"#46039f\"],[0.2222222222222222,\"#7201a8\"],[0.3333333333333333,\"#9c179e\"],[0.4444444444444444,\"#bd3786\"],[0.5555555555555556,\"#d8576b\"],[0.6666666666666666,\"#ed7953\"],[0.7777777777777778,\"#fb9f3a\"],[0.8888888888888888,\"#fdca26\"],[1.0,\"#f0f921\"]],\"diverging\":[[0,\"#8e0152\"],[0.1,\"#c51b7d\"],[0.2,\"#de77ae\"],[0.3,\"#f1b6da\"],[0.4,\"#fde0ef\"],[0.5,\"#f7f7f7\"],[0.6,\"#e6f5d0\"],[0.7,\"#b8e186\"],[0.8,\"#7fbc41\"],[0.9,\"#4d9221\"],[1,\"#276419\"]]},\"xaxis\":{\"gridcolor\":\"white\",\"linecolor\":\"white\",\"ticks\":\"\",\"title\":{\"standoff\":15},\"zerolinecolor\":\"white\",\"automargin\":true,\"zerolinewidth\":2},\"yaxis\":{\"gridcolor\":\"white\",\"linecolor\":\"white\",\"ticks\":\"\",\"title\":{\"standoff\":15},\"zerolinecolor\":\"white\",\"automargin\":true,\"zerolinewidth\":2},\"scene\":{\"xaxis\":{\"backgroundcolor\":\"#E5ECF6\",\"gridcolor\":\"white\",\"linecolor\":\"white\",\"showbackground\":true,\"ticks\":\"\",\"zerolinecolor\":\"white\",\"gridwidth\":2},\"yaxis\":{\"backgroundcolor\":\"#E5ECF6\",\"gridcolor\":\"white\",\"linecolor\":\"white\",\"showbackground\":true,\"ticks\":\"\",\"zerolinecolor\":\"white\",\"gridwidth\":2},\"zaxis\":{\"backgroundcolor\":\"#E5ECF6\",\"gridcolor\":\"white\",\"linecolor\":\"white\",\"showbackground\":true,\"ticks\":\"\",\"zerolinecolor\":\"white\",\"gridwidth\":2}},\"shapedefaults\":{\"line\":{\"color\":\"#2a3f5f\"}},\"annotationdefaults\":{\"arrowcolor\":\"#2a3f5f\",\"arrowhead\":0,\"arrowwidth\":1},\"geo\":{\"bgcolor\":\"white\",\"landcolor\":\"#E5ECF6\",\"subunitcolor\":\"white\",\"showland\":true,\"showlakes\":true,\"lakecolor\":\"white\"},\"title\":{\"x\":0.05},\"mapbox\":{\"style\":\"light\"}}},\"xaxis\":{\"anchor\":\"y\",\"domain\":[0.0,1.0],\"matches\":\"x2\",\"showticklabels\":false,\"type\":\"log\"},\"yaxis\":{\"anchor\":\"x\",\"domain\":[0.525,1.0],\"title\":{\"text\":\"Length (km)\"}},\"xaxis2\":{\"anchor\":\"y2\",\"domain\":[0.0,1.0],\"title\":{\"text\":\"Daily Ridership (log scale)\"},\"type\":\"log\"},\"yaxis2\":{\"anchor\":\"x2\",\"domain\":[0.0,0.475],\"title\":{\"text\":\"Length (km)\"}},\"annotations\":[{\"font\":{\"size\":16},\"showarrow\":false,\"text\":\"Europe and Asia\",\"x\":0.5,\"xanchor\":\"center\",\"xref\":\"paper\",\"y\":1.0,\"yanchor\":\"bottom\",\"yref\":\"paper\"},{\"font\":{\"size\":16},\"showarrow\":false,\"text\":\"Rest of World\",\"x\":0.5,\"xanchor\":\"center\",\"xref\":\"paper\",\"y\":0.475,\"yanchor\":\"bottom\",\"yref\":\"paper\"}],\"title\":{\"text\":\"Length (km) vs. Daily Ridership of Worldwide Commuter Rail Systems\"},\"autosize\":false,\"width\":800,\"height\":700},                        {\"responsive\": true}                    ).then(function(){\n",
       "                            \n",
       "var gd = document.getElementById('35109c5b-36a9-40ce-928f-d79dc37b95e5');\n",
       "var x = new MutationObserver(function (mutations, observer) {{\n",
       "        var display = window.getComputedStyle(gd).display;\n",
       "        if (!display || display === 'none') {{\n",
       "            console.log([gd, 'removed!']);\n",
       "            Plotly.purge(gd);\n",
       "            observer.disconnect();\n",
       "        }}\n",
       "}});\n",
       "\n",
       "// Listen for the removal of the full notebook cells\n",
       "var notebookContainer = gd.closest('#notebook-container');\n",
       "if (notebookContainer) {{\n",
       "    x.observe(notebookContainer, {childList: true});\n",
       "}}\n",
       "\n",
       "// Listen for the clearing of the current output cell\n",
       "var outputEl = gd.closest('.output');\n",
       "if (outputEl) {{\n",
       "    x.observe(outputEl, {childList: true});\n",
       "}}\n",
       "\n",
       "                        })                };                });            </script>        </div>"
      ]
     },
     "metadata": {},
     "output_type": "display_data"
    }
   ],
   "source": [
    "from plotly.subplots import make_subplots\n",
    "import plotly.graph_objects as go\n",
    "import numpy as np\n",
    "from scipy.stats import linregress\n",
    "\n",
    "continent_df = continent_df[continent_df[\"Daily ridership\"] > 0]\n",
    "europe = continent_df[continent_df[\"Continent\"] == \"Europe\"]\n",
    "asia = continent_df[continent_df[\"Continent\"] == \"Asia\"]\n",
    "north_america = continent_df[continent_df[\"Continent\"] == \"North America\"]\n",
    "south_america = continent_df[continent_df[\"Continent\"] == \"South America\"]\n",
    "africa = continent_df[continent_df[\"Continent\"] == \"Africa\"]\n",
    "oceania = continent_df[continent_df[\"Continent\"] == \"Oceania\"]\n",
    "\n",
    "def calculate_r2(x, y):\n",
    "    if len(x) > 1:\n",
    "        slope, intercept, r_value, p_value, std_err = linregress(x, y)\n",
    "        return r_value**2\n",
    "    else:\n",
    "        return None\n",
    "    \n",
    "europe_r2 = calculate_r2(np.log(europe[\"Daily ridership\"]), europe[\"Length (km)\"])\n",
    "asia_r2 = calculate_r2(np.log(asia[\"Daily ridership\"]), asia[\"Length (km)\"])\n",
    "north_america_r2 = calculate_r2(np.log(north_america[\"Daily ridership\"]), north_america[\"Length (km)\"])\n",
    "south_america_r2 = calculate_r2(np.log(south_america[\"Daily ridership\"]), south_america[\"Length (km)\"])\n",
    "africa_r2 = calculate_r2(np.log(africa[\"Daily ridership\"]), africa[\"Length (km)\"])\n",
    "oceania_r2 = calculate_r2(np.log(oceania[\"Daily ridership\"]), oceania[\"Length (km)\"])\n",
    "\n",
    "fig = make_subplots(rows=2, cols=1, shared_xaxes=True, subplot_titles=(\"Europe and Asia\", \"Rest of World\"), vertical_spacing=0.05)\n",
    "\n",
    "fig.append_trace(go.Scatter(x=europe[\"Daily ridership\"], y=europe[\"Length (km)\"], mode=\"markers\", hovertext=europe[\"Name\"], name=f\"Europe (R^2: {europe_r2:.2f})\"), row=1, col=1)\n",
    "fig.append_trace(go.Scatter(x=asia[\"Daily ridership\"], y=asia[\"Length (km)\"], mode=\"markers\", hovertext=asia[\"Name\"], name=f\"Asia (R^2: {asia_r2:.2f})\"), row=1, col=1)\n",
    "fig.append_trace(go.Scatter(x=north_america[\"Daily ridership\"], y=north_america[\"Length (km)\"], mode=\"markers\", hovertext=north_america[\"Name\"], name=f\"North America (R^2: {north_america_r2:.2f})\"), row=2, col=1)\n",
    "fig.append_trace(go.Scatter(x=south_america[\"Daily ridership\"], y=south_america[\"Length (km)\"], mode=\"markers\", hovertext=south_america[\"Name\"], name=f\"South America (R^2: {south_america_r2:.2f})\"), row=2, col=1)\n",
    "fig.append_trace(go.Scatter(x=africa[\"Daily ridership\"], y=africa[\"Length (km)\"], mode=\"markers\", hovertext=africa[\"Name\"], name=f\"Africa (R^2: {africa_r2:.2f})\"), row=2, col=1)\n",
    "fig.append_trace(go.Scatter(x=oceania[\"Daily ridership\"], y=oceania[\"Length (km)\"], mode=\"markers\", hovertext=oceania[\"Name\"], name=f\"Oceania (R^2: {oceania_r2:.2f})\"), row=2, col=1)\n",
    "\n",
    "fig.update_layout(title_text=\"Length (km) vs. Daily Ridership of Worldwide Commuter Rail Systems\",autosize=False,width=800,height=700,)\n",
    "fig.update_xaxes(title_text=\"Daily Ridership (log scale)\", type=\"log\", row=2, col=1)\n",
    "fig.update_yaxes(title_text=\"Length (km)\", row=1, col=1)\n",
    "fig.update_yaxes(title_text=\"Length (km)\", row=2, col=1)\n",
    "\n",
    "fig.update_xaxes(type=\"log\")\n",
    "fig.show()\n"
   ]
  },
  {
   "cell_type": "markdown",
   "id": "5e026894ba4f6ef4",
   "metadata": {},
   "source": [
    "## Daily Ridership by Continent\n",
    "The bar chart illustrates daily ridership across continents, highlighting Asia as the clear leader with almost 60 million riders per day, greatly surpassing all other regions. Europe ranks second, while other continents like South America, North America, Oceania, and Africa show significantly lower daily ridership, emphasizing the disparity in the scale and usage of commuter rail systems worldwide."
   ]
  },
  {
   "cell_type": "code",
   "execution_count": 16,
   "id": "2b56e4b21f522fd1",
   "metadata": {
    "ExecuteTime": {
     "end_time": "2025-01-17T17:21:57.070828Z",
     "start_time": "2025-01-17T17:21:57.008560Z"
    }
   },
   "outputs": [
    {
     "data": {
      "text/plain": [
       "Text(0.5, 0.98, 'Daily Ridership by Continent')"
      ]
     },
     "execution_count": 16,
     "metadata": {},
     "output_type": "execute_result"
    },
    {
     "data": {
      "image/png": "[encoded data removed]",
      "text/plain": [
       "<Figure size 640x480 with 1 Axes>"
      ]
     },
     "metadata": {},
     "output_type": "display_data"
    }
   ],
   "source": [
    "import matplotlib.ticker as mtick\n",
    "grouped_data = continent_df.groupby(\"Continent\", as_index=False)[\"Daily ridership\"].sum()\n",
    "grouped_data = grouped_data.sort_values(by=\"Daily ridership\", ascending=False)\n",
    "grouped_data[\"Continent\"] = grouped_data[\"Continent\"].str.replace(\" \", \"\\n\")\n",
    "\n",
    "plt.bar(grouped_data[\"Continent\"], grouped_data[\"Daily ridership\"])\n",
    "\n",
    "plt.xticks(size = 9)\n",
    "plt.gca().yaxis.set_major_formatter(mtick.FuncFormatter(lambda x, _: f'{x/1e6:.1f}M'))\n",
    "plt.suptitle(\"Daily Ridership by Continent\")\n"
   ]
  },
  {
   "cell_type": "markdown",
   "id": "563e300d02c9450b",
   "metadata": {},
   "source": [
    "## Conclusion\n",
    "Overall, the data shows that Asia and Europe dominate the commuter rail world, both in terms of daily ridership and system length. Interestingly, Europe and Asia also have the lowest $R^2$ values, both around $0.27$, which means that the countries in these continents do not entirely have the same faith in commuter rail. Commuter rail is an evolving mode of transportation, shaped by the unique economic, cultural, and urban dynamics of each country, reflecting the varied priorities and challenges within these regions. "
   ]
  }
 ],
 "metadata": {
  "kernelspec": {
   "display_name": "base",
   "language": "python",
   "name": "python3"
  },
  "language_info": {
   "codemirror_mode": {
    "name": "ipython",
    "version": 3
   },
   "file_extension": ".py",
   "mimetype": "text/x-python",
   "name": "python",
   "nbconvert_exporter": "python",
   "pygments_lexer": "ipython3",
   "version": "3.11.5"
  }
 },
 "nbformat": 4,
 "nbformat_minor": 5
}
