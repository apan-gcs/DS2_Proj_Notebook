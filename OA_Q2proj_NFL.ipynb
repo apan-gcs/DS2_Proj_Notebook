{
 "cells": [
  {
   "cell_type": "markdown",
   "id": "2b2aabfa51edaf89",
   "metadata": {},
   "source": [
    "OA\n",
    "\n",
    "1/17/25\n",
    "\n",
    "Intensive Data Science II\n",
    "\n",
    "Q2 Project"
   ]
  },
  {
   "cell_type": "markdown",
   "id": "f46dbe234c5a37da",
   "metadata": {},
   "source": [
    "# OS Q2 PROJECT: NFL TEAM STATISTICS FROM 2003-2023 "
   ]
  },
  {
   "cell_type": "markdown",
   "id": "bb54f9a60713f61e",
   "metadata": {},
   "source": [
    "# Table of Contents: #\n",
    "\n",
    "[Introduction](#Introduction)\n",
    "\n",
    "[Dataset](#Dataset)\n",
    "\n",
    "[Do penalties affect a teams number of wins?](#DO-PENALTIES-AFFECT-A-TEAMS-NUMBER-OF-WINS?)\n",
    "\n",
    "[Total yards per season by state](#TOTAL-YARDS-PER-SEASON-BY-STATE)\n",
    "\n",
    "[Win percentage compared to offensive effectiveness](#WIN-PERCENTAGE-COMPARED-TO-OFFENSIVE-EFFECTIVENESS)\n",
    "\n",
    "[Conclusion](#CONCLUSION)\n",
    "\n",
    "[Sources](#SOURCES)"
   ]
  },
  {
   "cell_type": "markdown",
   "id": "7a52d8b91df3c79",
   "metadata": {},
   "source": [
    "# Introduction #\n",
    "\n",
    "Here I have the data from NFL teams from 2003-2023, giving me every stat about them, from their points scored to their fumbles lost. Below, I point out three visualizations that will leave you thinking new ideas about the game and the league. For the first plot, I take a chunk out of the argument that penalties directly affect a team's record. In the second plot, I introduce the idea of polarity not between individual teams, but the states the NFL teams are in. Finally, in the third plot, I compare the offensive effectiveness to the win percentage to show people the importance of defence in a team. I hope as you read you start to think new thoughts and formulate new ideas you did not think you were going to formulate going into this."
   ]
  },
  {
   "cell_type": "code",
   "execution_count": 1,
   "id": "1ca8228a3aacbffa",
   "metadata": {
    "ExecuteTime": {
     "end_time": "2025-01-17T19:37:42.100909Z",
     "start_time": "2025-01-17T19:37:42.080427Z"
    }
   },
   "outputs": [],
   "source": [
    "import numpy as np\n",
    "import pandas as pd\n",
    "import matplotlib.pyplot as plt\n",
    "import plotly.express as px\n",
    "from scipy import stats\n",
    "\n",
    "df = pd.read_csv('team_stats_2003_2023.csv')"
   ]
  },
  {
   "cell_type": "markdown",
   "id": "ea91305edc22599b",
   "metadata": {},
   "source": [
    "# Dataset"
   ]
  },
  {
   "cell_type": "code",
   "execution_count": 2,
   "id": "515e97fb77ad6359",
   "metadata": {
    "ExecuteTime": {
     "end_time": "2025-01-17T19:37:42.129181Z",
     "start_time": "2025-01-17T19:37:42.113374Z"
    }
   },
   "outputs": [
    {
     "data": {
      "text/html": [
       "<div>\n",
       "<style scoped>\n",
       "    .dataframe tbody tr th:only-of-type {\n",
       "        vertical-align: middle;\n",
       "    }\n",
       "\n",
       "    .dataframe tbody tr th {\n",
       "        vertical-align: top;\n",
       "    }\n",
       "\n",
       "    .dataframe thead th {\n",
       "        text-align: right;\n",
       "    }\n",
       "</style>\n",
       "<table border=\"1\" class=\"dataframe\">\n",
       "  <thead>\n",
       "    <tr style=\"text-align: right;\">\n",
       "      <th></th>\n",
       "      <th>year</th>\n",
       "      <th>team</th>\n",
       "      <th>wins</th>\n",
       "      <th>losses</th>\n",
       "      <th>win_loss_perc</th>\n",
       "      <th>points</th>\n",
       "      <th>points_opp</th>\n",
       "      <th>points_diff</th>\n",
       "      <th>mov</th>\n",
       "      <th>g</th>\n",
       "      <th>...</th>\n",
       "      <th>rush_td</th>\n",
       "      <th>rush_yds_per_att</th>\n",
       "      <th>rush_fd</th>\n",
       "      <th>penalties</th>\n",
       "      <th>penalties_yds</th>\n",
       "      <th>pen_fd</th>\n",
       "      <th>score_pct</th>\n",
       "      <th>turnover_pct</th>\n",
       "      <th>exp_pts_tot</th>\n",
       "      <th>ties</th>\n",
       "    </tr>\n",
       "  </thead>\n",
       "  <tbody>\n",
       "    <tr>\n",
       "      <th>0</th>\n",
       "      <td>2003</td>\n",
       "      <td>New England Patriots</td>\n",
       "      <td>14</td>\n",
       "      <td>2</td>\n",
       "      <td>0.875</td>\n",
       "      <td>348</td>\n",
       "      <td>238</td>\n",
       "      <td>110</td>\n",
       "      <td>6.9</td>\n",
       "      <td>16</td>\n",
       "      <td>...</td>\n",
       "      <td>9</td>\n",
       "      <td>3.4</td>\n",
       "      <td>91</td>\n",
       "      <td>111</td>\n",
       "      <td>998</td>\n",
       "      <td>26</td>\n",
       "      <td>27.9</td>\n",
       "      <td>11.3</td>\n",
       "      <td>-136.51</td>\n",
       "      <td>NaN</td>\n",
       "    </tr>\n",
       "    <tr>\n",
       "      <th>1</th>\n",
       "      <td>2003</td>\n",
       "      <td>Miami Dolphins</td>\n",
       "      <td>10</td>\n",
       "      <td>6</td>\n",
       "      <td>0.625</td>\n",
       "      <td>311</td>\n",
       "      <td>261</td>\n",
       "      <td>50</td>\n",
       "      <td>3.1</td>\n",
       "      <td>16</td>\n",
       "      <td>...</td>\n",
       "      <td>14</td>\n",
       "      <td>3.7</td>\n",
       "      <td>99</td>\n",
       "      <td>103</td>\n",
       "      <td>913</td>\n",
       "      <td>22</td>\n",
       "      <td>28.1</td>\n",
       "      <td>17.2</td>\n",
       "      <td>-177.92</td>\n",
       "      <td>NaN</td>\n",
       "    </tr>\n",
       "    <tr>\n",
       "      <th>2</th>\n",
       "      <td>2003</td>\n",
       "      <td>Buffalo Bills</td>\n",
       "      <td>6</td>\n",
       "      <td>10</td>\n",
       "      <td>0.375</td>\n",
       "      <td>243</td>\n",
       "      <td>279</td>\n",
       "      <td>-36</td>\n",
       "      <td>-2.3</td>\n",
       "      <td>16</td>\n",
       "      <td>...</td>\n",
       "      <td>13</td>\n",
       "      <td>3.9</td>\n",
       "      <td>96</td>\n",
       "      <td>106</td>\n",
       "      <td>891</td>\n",
       "      <td>22</td>\n",
       "      <td>21.9</td>\n",
       "      <td>17.6</td>\n",
       "      <td>-230.07</td>\n",
       "      <td>NaN</td>\n",
       "    </tr>\n",
       "    <tr>\n",
       "      <th>3</th>\n",
       "      <td>2003</td>\n",
       "      <td>New York Jets</td>\n",
       "      <td>6</td>\n",
       "      <td>10</td>\n",
       "      <td>0.375</td>\n",
       "      <td>283</td>\n",
       "      <td>299</td>\n",
       "      <td>-16</td>\n",
       "      <td>-1.0</td>\n",
       "      <td>16</td>\n",
       "      <td>...</td>\n",
       "      <td>8</td>\n",
       "      <td>4.0</td>\n",
       "      <td>78</td>\n",
       "      <td>69</td>\n",
       "      <td>550</td>\n",
       "      <td>15</td>\n",
       "      <td>32.4</td>\n",
       "      <td>11.8</td>\n",
       "      <td>-107.89</td>\n",
       "      <td>NaN</td>\n",
       "    </tr>\n",
       "    <tr>\n",
       "      <th>4</th>\n",
       "      <td>2003</td>\n",
       "      <td>Baltimore Ravens</td>\n",
       "      <td>10</td>\n",
       "      <td>6</td>\n",
       "      <td>0.625</td>\n",
       "      <td>391</td>\n",
       "      <td>281</td>\n",
       "      <td>110</td>\n",
       "      <td>6.9</td>\n",
       "      <td>16</td>\n",
       "      <td>...</td>\n",
       "      <td>18</td>\n",
       "      <td>4.8</td>\n",
       "      <td>115</td>\n",
       "      <td>126</td>\n",
       "      <td>970</td>\n",
       "      <td>23</td>\n",
       "      <td>31.8</td>\n",
       "      <td>16.6</td>\n",
       "      <td>-220.50</td>\n",
       "      <td>NaN</td>\n",
       "    </tr>\n",
       "  </tbody>\n",
       "</table>\n",
       "<p>5 rows × 35 columns</p>\n",
       "</div>"
      ],
      "text/plain": [
       "   year                  team  wins  losses  win_loss_perc  points  \\\n",
       "0  2003  New England Patriots    14       2          0.875     348   \n",
       "1  2003        Miami Dolphins    10       6          0.625     311   \n",
       "2  2003         Buffalo Bills     6      10          0.375     243   \n",
       "3  2003         New York Jets     6      10          0.375     283   \n",
       "4  2003      Baltimore Ravens    10       6          0.625     391   \n",
       "\n",
       "   points_opp  points_diff  mov   g  ...  rush_td  rush_yds_per_att  rush_fd  \\\n",
       "0         238          110  6.9  16  ...        9               3.4       91   \n",
       "1         261           50  3.1  16  ...       14               3.7       99   \n",
       "2         279          -36 -2.3  16  ...       13               3.9       96   \n",
       "3         299          -16 -1.0  16  ...        8               4.0       78   \n",
       "4         281          110  6.9  16  ...       18               4.8      115   \n",
       "\n",
       "   penalties  penalties_yds  pen_fd  score_pct  turnover_pct  exp_pts_tot  \\\n",
       "0        111            998      26       27.9          11.3      -136.51   \n",
       "1        103            913      22       28.1          17.2      -177.92   \n",
       "2        106            891      22       21.9          17.6      -230.07   \n",
       "3         69            550      15       32.4          11.8      -107.89   \n",
       "4        126            970      23       31.8          16.6      -220.50   \n",
       "\n",
       "   ties  \n",
       "0   NaN  \n",
       "1   NaN  \n",
       "2   NaN  \n",
       "3   NaN  \n",
       "4   NaN  \n",
       "\n",
       "[5 rows x 35 columns]"
      ]
     },
     "execution_count": 2,
     "metadata": {},
     "output_type": "execute_result"
    }
   ],
   "source": [
    "df.head()"
   ]
  },
  {
   "cell_type": "code",
   "execution_count": 3,
   "id": "f80aabcf3edd4a9e",
   "metadata": {
    "ExecuteTime": {
     "end_time": "2025-01-17T19:37:42.171872Z",
     "start_time": "2025-01-17T19:37:42.169898Z"
    }
   },
   "outputs": [
    {
     "data": {
      "text/plain": [
       "Index(['year', 'team', 'wins', 'losses', 'win_loss_perc', 'points',\n",
       "       'points_opp', 'points_diff', 'mov', 'g', 'total_yards', 'plays_offense',\n",
       "       'yds_per_play_offense', 'turnovers', 'fumbles_lost', 'first_down',\n",
       "       'pass_cmp', 'pass_att', 'pass_yds', 'pass_td', 'pass_int',\n",
       "       'pass_net_yds_per_att', 'pass_fd', 'rush_att', 'rush_yds', 'rush_td',\n",
       "       'rush_yds_per_att', 'rush_fd', 'penalties', 'penalties_yds', 'pen_fd',\n",
       "       'score_pct', 'turnover_pct', 'exp_pts_tot', 'ties'],\n",
       "      dtype='object')"
      ]
     },
     "execution_count": 3,
     "metadata": {},
     "output_type": "execute_result"
    }
   ],
   "source": [
    "df.columns"
   ]
  },
  {
   "cell_type": "markdown",
   "id": "fe38f98820f8ec86",
   "metadata": {},
   "source": [
    "# DO PENALTIES AFFECT A TEAMS NUMBER OF WINS? #\n",
    "\n",
    "In this plot, I took the data from the wins each team had in a season and the amount of penalties that were called on a team in season and put them up against each other, with a twist. I used a histogram to compare the values, but I created a shared x-axis for two graphs, where on the top, I only used the data for the teams with less than 5.5 wins, or the worst teams in the league for those seasons, and on the bottom I used the data for the teams with more than 10.5 wins, or the best teams in the league for those seasons. The goal was to see if there was a difference in the amount of penalties called on the best vs the worst teams in the league, and going into it, I did expect there to be an obvious difference. However, once the graph was complete, I noticed that the values were very similar, with the better teams only averaging about four less penalties called on them a season, which is almost no difference in the NFL. I found this very interesting and while it does not destroy the other argument that there is a correlation between less penalties called on you and more wins, it widens the conversation more and makes people think about the relationship. "
   ]
  },
  {
   "cell_type": "code",
   "execution_count": 4,
   "id": "2edbe3e967d3769b",
   "metadata": {
    "ExecuteTime": {
     "end_time": "2025-01-17T19:37:42.323299Z",
     "start_time": "2025-01-17T19:37:42.208242Z"
    }
   },
   "outputs": [
    {
     "data": {
      "image/png": "[encoded data removed]",
      "text/plain": [
       "<Figure size 640x480 with 2 Axes>"
      ]
     },
     "metadata": {},
     "output_type": "display_data"
    }
   ],
   "source": [
    "plt.style.use('ggplot')\n",
    "fig, (ax1, ax2) = plt.subplots(2, 1)\n",
    "fig.suptitle('Penalties for teams with less than 5.5 wins and more than 10.5 wins')\n",
    "ax1.set_facecolor('powderblue')\n",
    "ax2.set_facecolor('powderblue')\n",
    "ax1.set_xlabel('penalties called on teams with less than 5.5 wins')\n",
    "ax1.set_ylabel('number of wins')\n",
    "ax2.set_xlabel('penalties called on teams with more than 10.5 wins')\n",
    "ax2.set_ylabel('number of wins')\n",
    "\n",
    "#import data\n",
    "z1 = df[df['wins']<5.5]['penalties']\n",
    "z2 = df[df['wins']>10.5]['penalties']\n",
    "ax1.hist(z1, bins=30, color='lightcoral', edgecolor='red')\n",
    "ax2.hist(z2, bins=30, color='lightcoral', edgecolor='red')\n",
    "\n",
    "#finding means for each one and displaying\n",
    "mean = round(z1.mean(), 2)\n",
    "ax1.vlines(mean, 0, 170, color='black', linestyle='--')\n",
    "ax1.annotate(f\"mean = {mean}\", (53, 15))\n",
    "\n",
    "mean = round(z2.mean(), 2)\n",
    "ax2.vlines(mean, 0, 170, color='black', linestyle='--')\n",
    "ax2.annotate(f\"mean = {mean}\", (53, 15), color='black')\n",
    "\n",
    "#making graph look better\n",
    "ax1.set_xlim(50,170)\n",
    "ax2.set_xlim(50,170)\n",
    "ax1.set_ylim(0,25)\n",
    "ax2.set_ylim(0,25)\n",
    "\n",
    "fig.tight_layout()"
   ]
  },
  {
   "cell_type": "markdown",
   "id": "1018ccaa51ad7d12",
   "metadata": {},
   "source": [
    "# TOTAL YARDS  PER SEASON BY STATE #\n",
    "\n",
    "In this plot, I first had to go back to the dataset and bring it into google sheets, where I deleted everything except the team name. From there, I manually added in the state where every team was based in. For teams that have relocated within the time period of 2003-2023, I just chose where they were during the 2008 season to put them down as, because 2008 season was the year the Giants won the superbowl and I had no better ideas. After I had sorted each team into their state, I created a plot where the teams were grouped into their state, and their total yards for every season from 2003-2023 were averaged to create a statewide average. The higher average total season yards got darker red and the ones with not as much were lighter orange or close to white. Not every state has an NFL team, so the ones that don't are just white. From this data, we can see some interesting things, especially comparing states that have multiple teams vs only one. There seems to be a lot of polarity with states that only have one team, and we can see that with states such as Massachusetts, Louisiana, and Illinois. For these states the only teams are the Patriots, the Saints, and the Bears, respectively. When comparing the average total yards, the Patriots and the Saints have a lot, while the Bears have the least in the country. Noticing this, you would not expect polarity among states that have multiple teams, because the polarity should average out to create a statewide average that is perfectly, well, average. However, in most cases, there is polarity with these states. Let's take New York and Texas for example, two states with multiple well-known franchises. WIth New York, the average total yards in a season is 5,210, and with Texas, it is 5,624 yards. This is a very large difference, and because it is over the span of 20 years, it makes it even more noticeable, and we can see that with the choropleth scale, where Texas is noticeably darker than New York. This could be the start of an argument that there is not polarization just between individual teams in the NFL, but states, and depending on which state your team is located in, your success in terms of total yards in a season can be estimated."
   ]
  },
  {
   "cell_type": "code",
   "execution_count": 5,
   "id": "f99ef8ed6f146c4f",
   "metadata": {
    "ExecuteTime": {
     "end_time": "2025-01-17T19:37:42.358879Z",
     "start_time": "2025-01-17T19:37:42.329355Z"
    }
   },
   "outputs": [
    {
     "ename": "FileNotFoundError",
     "evalue": "[Errno 2] No such file or directory: 'STATECODES - Sheet1.csv'",
     "output_type": "error",
     "traceback": [
      "\u001b[1;31m---------------------------------------------------------------------------\u001b[0m",
      "\u001b[1;31mFileNotFoundError\u001b[0m                         Traceback (most recent call last)",
      "Cell \u001b[1;32mIn[5], line 1\u001b[0m\n\u001b[1;32m----> 1\u001b[0m codes \u001b[38;5;241m=\u001b[39m pd\u001b[38;5;241m.\u001b[39mread_csv(\u001b[38;5;124m'\u001b[39m\u001b[38;5;124mSTATECODES - Sheet1.csv\u001b[39m\u001b[38;5;124m'\u001b[39m)\n\u001b[0;32m      2\u001b[0m df_new \u001b[38;5;241m=\u001b[39m pd\u001b[38;5;241m.\u001b[39mmerge(df, codes, left_on\u001b[38;5;241m=\u001b[39m \u001b[38;5;124m\"\u001b[39m\u001b[38;5;124mteam\u001b[39m\u001b[38;5;124m\"\u001b[39m, right_on\u001b[38;5;241m=\u001b[39m \u001b[38;5;124m\"\u001b[39m\u001b[38;5;124mTeam\u001b[39m\u001b[38;5;124m\"\u001b[39m, how \u001b[38;5;241m=\u001b[39m \u001b[38;5;124m\"\u001b[39m\u001b[38;5;124mleft\u001b[39m\u001b[38;5;124m\"\u001b[39m)\n\u001b[0;32m      3\u001b[0m df_new\u001b[38;5;241m.\u001b[39mhead()\n",
      "File \u001b[1;32mc:\\Users\\amypa\\anaconda3\\Lib\\site-packages\\pandas\\io\\parsers\\readers.py:912\u001b[0m, in \u001b[0;36mread_csv\u001b[1;34m(filepath_or_buffer, sep, delimiter, header, names, index_col, usecols, dtype, engine, converters, true_values, false_values, skipinitialspace, skiprows, skipfooter, nrows, na_values, keep_default_na, na_filter, verbose, skip_blank_lines, parse_dates, infer_datetime_format, keep_date_col, date_parser, date_format, dayfirst, cache_dates, iterator, chunksize, compression, thousands, decimal, lineterminator, quotechar, quoting, doublequote, escapechar, comment, encoding, encoding_errors, dialect, on_bad_lines, delim_whitespace, low_memory, memory_map, float_precision, storage_options, dtype_backend)\u001b[0m\n\u001b[0;32m    899\u001b[0m kwds_defaults \u001b[38;5;241m=\u001b[39m _refine_defaults_read(\n\u001b[0;32m    900\u001b[0m     dialect,\n\u001b[0;32m    901\u001b[0m     delimiter,\n\u001b[1;32m   (...)\u001b[0m\n\u001b[0;32m    908\u001b[0m     dtype_backend\u001b[38;5;241m=\u001b[39mdtype_backend,\n\u001b[0;32m    909\u001b[0m )\n\u001b[0;32m    910\u001b[0m kwds\u001b[38;5;241m.\u001b[39mupdate(kwds_defaults)\n\u001b[1;32m--> 912\u001b[0m \u001b[38;5;28;01mreturn\u001b[39;00m _read(filepath_or_buffer, kwds)\n",
      "File \u001b[1;32mc:\\Users\\amypa\\anaconda3\\Lib\\site-packages\\pandas\\io\\parsers\\readers.py:577\u001b[0m, in \u001b[0;36m_read\u001b[1;34m(filepath_or_buffer, kwds)\u001b[0m\n\u001b[0;32m    574\u001b[0m _validate_names(kwds\u001b[38;5;241m.\u001b[39mget(\u001b[38;5;124m\"\u001b[39m\u001b[38;5;124mnames\u001b[39m\u001b[38;5;124m\"\u001b[39m, \u001b[38;5;28;01mNone\u001b[39;00m))\n\u001b[0;32m    576\u001b[0m \u001b[38;5;66;03m# Create the parser.\u001b[39;00m\n\u001b[1;32m--> 577\u001b[0m parser \u001b[38;5;241m=\u001b[39m TextFileReader(filepath_or_buffer, \u001b[38;5;241m*\u001b[39m\u001b[38;5;241m*\u001b[39mkwds)\n\u001b[0;32m    579\u001b[0m \u001b[38;5;28;01mif\u001b[39;00m chunksize \u001b[38;5;129;01mor\u001b[39;00m iterator:\n\u001b[0;32m    580\u001b[0m     \u001b[38;5;28;01mreturn\u001b[39;00m parser\n",
      "File \u001b[1;32mc:\\Users\\amypa\\anaconda3\\Lib\\site-packages\\pandas\\io\\parsers\\readers.py:1407\u001b[0m, in \u001b[0;36mTextFileReader.__init__\u001b[1;34m(self, f, engine, **kwds)\u001b[0m\n\u001b[0;32m   1404\u001b[0m     \u001b[38;5;28mself\u001b[39m\u001b[38;5;241m.\u001b[39moptions[\u001b[38;5;124m\"\u001b[39m\u001b[38;5;124mhas_index_names\u001b[39m\u001b[38;5;124m\"\u001b[39m] \u001b[38;5;241m=\u001b[39m kwds[\u001b[38;5;124m\"\u001b[39m\u001b[38;5;124mhas_index_names\u001b[39m\u001b[38;5;124m\"\u001b[39m]\n\u001b[0;32m   1406\u001b[0m \u001b[38;5;28mself\u001b[39m\u001b[38;5;241m.\u001b[39mhandles: IOHandles \u001b[38;5;241m|\u001b[39m \u001b[38;5;28;01mNone\u001b[39;00m \u001b[38;5;241m=\u001b[39m \u001b[38;5;28;01mNone\u001b[39;00m\n\u001b[1;32m-> 1407\u001b[0m \u001b[38;5;28mself\u001b[39m\u001b[38;5;241m.\u001b[39m_engine \u001b[38;5;241m=\u001b[39m \u001b[38;5;28mself\u001b[39m\u001b[38;5;241m.\u001b[39m_make_engine(f, \u001b[38;5;28mself\u001b[39m\u001b[38;5;241m.\u001b[39mengine)\n",
      "File \u001b[1;32mc:\\Users\\amypa\\anaconda3\\Lib\\site-packages\\pandas\\io\\parsers\\readers.py:1661\u001b[0m, in \u001b[0;36mTextFileReader._make_engine\u001b[1;34m(self, f, engine)\u001b[0m\n\u001b[0;32m   1659\u001b[0m     \u001b[38;5;28;01mif\u001b[39;00m \u001b[38;5;124m\"\u001b[39m\u001b[38;5;124mb\u001b[39m\u001b[38;5;124m\"\u001b[39m \u001b[38;5;129;01mnot\u001b[39;00m \u001b[38;5;129;01min\u001b[39;00m mode:\n\u001b[0;32m   1660\u001b[0m         mode \u001b[38;5;241m+\u001b[39m\u001b[38;5;241m=\u001b[39m \u001b[38;5;124m\"\u001b[39m\u001b[38;5;124mb\u001b[39m\u001b[38;5;124m\"\u001b[39m\n\u001b[1;32m-> 1661\u001b[0m \u001b[38;5;28mself\u001b[39m\u001b[38;5;241m.\u001b[39mhandles \u001b[38;5;241m=\u001b[39m get_handle(\n\u001b[0;32m   1662\u001b[0m     f,\n\u001b[0;32m   1663\u001b[0m     mode,\n\u001b[0;32m   1664\u001b[0m     encoding\u001b[38;5;241m=\u001b[39m\u001b[38;5;28mself\u001b[39m\u001b[38;5;241m.\u001b[39moptions\u001b[38;5;241m.\u001b[39mget(\u001b[38;5;124m\"\u001b[39m\u001b[38;5;124mencoding\u001b[39m\u001b[38;5;124m\"\u001b[39m, \u001b[38;5;28;01mNone\u001b[39;00m),\n\u001b[0;32m   1665\u001b[0m     compression\u001b[38;5;241m=\u001b[39m\u001b[38;5;28mself\u001b[39m\u001b[38;5;241m.\u001b[39moptions\u001b[38;5;241m.\u001b[39mget(\u001b[38;5;124m\"\u001b[39m\u001b[38;5;124mcompression\u001b[39m\u001b[38;5;124m\"\u001b[39m, \u001b[38;5;28;01mNone\u001b[39;00m),\n\u001b[0;32m   1666\u001b[0m     memory_map\u001b[38;5;241m=\u001b[39m\u001b[38;5;28mself\u001b[39m\u001b[38;5;241m.\u001b[39moptions\u001b[38;5;241m.\u001b[39mget(\u001b[38;5;124m\"\u001b[39m\u001b[38;5;124mmemory_map\u001b[39m\u001b[38;5;124m\"\u001b[39m, \u001b[38;5;28;01mFalse\u001b[39;00m),\n\u001b[0;32m   1667\u001b[0m     is_text\u001b[38;5;241m=\u001b[39mis_text,\n\u001b[0;32m   1668\u001b[0m     errors\u001b[38;5;241m=\u001b[39m\u001b[38;5;28mself\u001b[39m\u001b[38;5;241m.\u001b[39moptions\u001b[38;5;241m.\u001b[39mget(\u001b[38;5;124m\"\u001b[39m\u001b[38;5;124mencoding_errors\u001b[39m\u001b[38;5;124m\"\u001b[39m, \u001b[38;5;124m\"\u001b[39m\u001b[38;5;124mstrict\u001b[39m\u001b[38;5;124m\"\u001b[39m),\n\u001b[0;32m   1669\u001b[0m     storage_options\u001b[38;5;241m=\u001b[39m\u001b[38;5;28mself\u001b[39m\u001b[38;5;241m.\u001b[39moptions\u001b[38;5;241m.\u001b[39mget(\u001b[38;5;124m\"\u001b[39m\u001b[38;5;124mstorage_options\u001b[39m\u001b[38;5;124m\"\u001b[39m, \u001b[38;5;28;01mNone\u001b[39;00m),\n\u001b[0;32m   1670\u001b[0m )\n\u001b[0;32m   1671\u001b[0m \u001b[38;5;28;01massert\u001b[39;00m \u001b[38;5;28mself\u001b[39m\u001b[38;5;241m.\u001b[39mhandles \u001b[38;5;129;01mis\u001b[39;00m \u001b[38;5;129;01mnot\u001b[39;00m \u001b[38;5;28;01mNone\u001b[39;00m\n\u001b[0;32m   1672\u001b[0m f \u001b[38;5;241m=\u001b[39m \u001b[38;5;28mself\u001b[39m\u001b[38;5;241m.\u001b[39mhandles\u001b[38;5;241m.\u001b[39mhandle\n",
      "File \u001b[1;32mc:\\Users\\amypa\\anaconda3\\Lib\\site-packages\\pandas\\io\\common.py:859\u001b[0m, in \u001b[0;36mget_handle\u001b[1;34m(path_or_buf, mode, encoding, compression, memory_map, is_text, errors, storage_options)\u001b[0m\n\u001b[0;32m    854\u001b[0m \u001b[38;5;28;01melif\u001b[39;00m \u001b[38;5;28misinstance\u001b[39m(handle, \u001b[38;5;28mstr\u001b[39m):\n\u001b[0;32m    855\u001b[0m     \u001b[38;5;66;03m# Check whether the filename is to be opened in binary mode.\u001b[39;00m\n\u001b[0;32m    856\u001b[0m     \u001b[38;5;66;03m# Binary mode does not support 'encoding' and 'newline'.\u001b[39;00m\n\u001b[0;32m    857\u001b[0m     \u001b[38;5;28;01mif\u001b[39;00m ioargs\u001b[38;5;241m.\u001b[39mencoding \u001b[38;5;129;01mand\u001b[39;00m \u001b[38;5;124m\"\u001b[39m\u001b[38;5;124mb\u001b[39m\u001b[38;5;124m\"\u001b[39m \u001b[38;5;129;01mnot\u001b[39;00m \u001b[38;5;129;01min\u001b[39;00m ioargs\u001b[38;5;241m.\u001b[39mmode:\n\u001b[0;32m    858\u001b[0m         \u001b[38;5;66;03m# Encoding\u001b[39;00m\n\u001b[1;32m--> 859\u001b[0m         handle \u001b[38;5;241m=\u001b[39m \u001b[38;5;28mopen\u001b[39m(\n\u001b[0;32m    860\u001b[0m             handle,\n\u001b[0;32m    861\u001b[0m             ioargs\u001b[38;5;241m.\u001b[39mmode,\n\u001b[0;32m    862\u001b[0m             encoding\u001b[38;5;241m=\u001b[39mioargs\u001b[38;5;241m.\u001b[39mencoding,\n\u001b[0;32m    863\u001b[0m             errors\u001b[38;5;241m=\u001b[39merrors,\n\u001b[0;32m    864\u001b[0m             newline\u001b[38;5;241m=\u001b[39m\u001b[38;5;124m\"\u001b[39m\u001b[38;5;124m\"\u001b[39m,\n\u001b[0;32m    865\u001b[0m         )\n\u001b[0;32m    866\u001b[0m     \u001b[38;5;28;01melse\u001b[39;00m:\n\u001b[0;32m    867\u001b[0m         \u001b[38;5;66;03m# Binary mode\u001b[39;00m\n\u001b[0;32m    868\u001b[0m         handle \u001b[38;5;241m=\u001b[39m \u001b[38;5;28mopen\u001b[39m(handle, ioargs\u001b[38;5;241m.\u001b[39mmode)\n",
      "\u001b[1;31mFileNotFoundError\u001b[0m: [Errno 2] No such file or directory: 'STATECODES - Sheet1.csv'"
     ]
    }
   ],
   "source": [
    "codes = pd.read_csv('STATECODES - Sheet1.csv')\n",
    "df_new = pd.merge(df, codes, left_on= \"team\", right_on= \"Team\", how = \"left\")\n",
    "df_new.head()\n",
    "df_state_avg = df_new.groupby(\"State\", as_index=False)[\"total_yards\"].mean()\n",
    "\n",
    "# Create choropleth map\n",
    "fig = px.choropleth(df_state_avg, \n",
    "                     locations='State', \n",
    "                     locationmode=\"USA-states\",  # choosing location\n",
    "                     color='total_yards',  # making color based on the total yards\n",
    "                     scope=\"usa\",\n",
    "                     color_continuous_scale=\"OrRd\",  # creating the color of the choropleth scale\n",
    "                     title=\"Average Total Season Yards by State (NFL) 2003-2023\")\n",
    "\n",
    "fig.show()"
   ]
  },
  {
   "cell_type": "markdown",
   "id": "86048935eed69190",
   "metadata": {},
   "source": [
    "\n",
    "# WIN PERCENTAGE COMPARED TO OFFENSIVE EFFECTIVENESS #\n",
    "\n",
    "In this plot, I used plotly express again to create a graph with more than two variables at play. I knew I wanted to calculate the offensive effectiveness of a team, so I scrolled through the different categories of data, and determined that the best two to use would be the number of first downs a team gets in a season and the number of turnovers they have. On one hand, you want to have a lot of first downs, and on the other, you don't want to have a lot of turnovers. Once I had laid that data out on the graph, I noticed that there was a noticeable correlation comparing the first downs to the turnovers. I then set a color scale to the graph, so the teams with the most wins would be in yellow and the teams with the least wins would be blue. Once that was done, I had created some interesting looking data visualizations. What I did was I proved how important defense is in modern football. You can have high offensive effectiveness and not win a lot of games, and you can have low offensive effectiveness, and win a lot of games. Let's take a closer look at the 2020 Atlanta Falcons and the 2005 Chicago Bears. The 2020 Atlanta Falcons were extremely good offensively on paper, 366 first downs and only 18 turnovers. However, they only won a quarter of their games, finishing 4-12. The Chicago Bears were terribly offensively on paper, only completing 233 first downs, the fifth least from 2003-2023, and having 28 turnovers. However, the Chicago Bears went on to win about seventy percent of their games. In this modern era where the NFL is criticised for being too offense heavy, it is a relief to see tha the hate has no backbone to their argument. "
   ]
  },
  {
   "cell_type": "code",
   "execution_count": 555,
   "id": "30c8f5faa68cbbc1",
   "metadata": {
    "ExecuteTime": {
     "end_time": "2025-01-17T19:37:42.393588Z",
     "start_time": "2025-01-17T19:37:42.372465Z"
    }
   },
   "outputs": [
    {
     "data": {
      "application/vnd.plotly.v1+json": {
       "config": {
        "plotlyServerURL": "https://plot.ly"
       },
       "data": [
        {
         "customdata": [
          [
           2003
          ],
          [
           2003
          ],
          [
           2003
          ],
          [
           2003
          ],
          [
           2003
          ],
          [
           2003
          ],
          [
           2003
          ],
          [
           2003
          ],
          [
           2003
          ],
          [
           2003
          ],
          [
           2003
          ],
          [
           2003
          ],
          [
           2003
          ],
          [
           2003
          ],
          [
           2003
          ],
          [
           2003
          ],
          [
           2003
          ],
          [
           2003
          ],
          [
           2003
          ],
          [
           2003
          ],
          [
           2003
          ],
          [
           2003
          ],
          [
           2003
          ],
          [
           2003
          ],
          [
           2003
          ],
          [
           2003
          ],
          [
           2003
          ],
          [
           2003
          ],
          [
           2003
          ],
          [
           2003
          ],
          [
           2003
          ],
          [
           2003
          ],
          [
           2004
          ],
          [
           2004
          ],
          [
           2004
          ],
          [
           2004
          ],
          [
           2004
          ],
          [
           2004
          ],
          [
           2004
          ],
          [
           2004
          ],
          [
           2004
          ],
          [
           2004
          ],
          [
           2004
          ],
          [
           2004
          ],
          [
           2004
          ],
          [
           2004
          ],
          [
           2004
          ],
          [
           2004
          ],
          [
           2004
          ],
          [
           2004
          ],
          [
           2004
          ],
          [
           2004
          ],
          [
           2004
          ],
          [
           2004
          ],
          [
           2004
          ],
          [
           2004
          ],
          [
           2004
          ],
          [
           2004
          ],
          [
           2004
          ],
          [
           2004
          ],
          [
           2004
          ],
          [
           2004
          ],
          [
           2004
          ],
          [
           2004
          ],
          [
           2005
          ],
          [
           2005
          ],
          [
           2005
          ],
          [
           2005
          ],
          [
           2005
          ],
          [
           2005
          ],
          [
           2005
          ],
          [
           2005
          ],
          [
           2005
          ],
          [
           2005
          ],
          [
           2005
          ],
          [
           2005
          ],
          [
           2005
          ],
          [
           2005
          ],
          [
           2005
          ],
          [
           2005
          ],
          [
           2005
          ],
          [
           2005
          ],
          [
           2005
          ],
          [
           2005
          ],
          [
           2005
          ],
          [
           2005
          ],
          [
           2005
          ],
          [
           2005
          ],
          [
           2005
          ],
          [
           2005
          ],
          [
           2005
          ],
          [
           2005
          ],
          [
           2005
          ],
          [
           2005
          ],
          [
           2005
          ],
          [
           2005
          ],
          [
           2006
          ],
          [
           2006
          ],
          [
           2006
          ],
          [
           2006
          ],
          [
           2006
          ],
          [
           2006
          ],
          [
           2006
          ],
          [
           2006
          ],
          [
           2006
          ],
          [
           2006
          ],
          [
           2006
          ],
          [
           2006
          ],
          [
           2006
          ],
          [
           2006
          ],
          [
           2006
          ],
          [
           2006
          ],
          [
           2006
          ],
          [
           2006
          ],
          [
           2006
          ],
          [
           2006
          ],
          [
           2006
          ],
          [
           2006
          ],
          [
           2006
          ],
          [
           2006
          ],
          [
           2006
          ],
          [
           2006
          ],
          [
           2006
          ],
          [
           2006
          ],
          [
           2006
          ],
          [
           2006
          ],
          [
           2006
          ],
          [
           2006
          ],
          [
           2007
          ],
          [
           2007
          ],
          [
           2007
          ],
          [
           2007
          ],
          [
           2007
          ],
          [
           2007
          ],
          [
           2007
          ],
          [
           2007
          ],
          [
           2007
          ],
          [
           2007
          ],
          [
           2007
          ],
          [
           2007
          ],
          [
           2007
          ],
          [
           2007
          ],
          [
           2007
          ],
          [
           2007
          ],
          [
           2007
          ],
          [
           2007
          ],
          [
           2007
          ],
          [
           2007
          ],
          [
           2007
          ],
          [
           2007
          ],
          [
           2007
          ],
          [
           2007
          ],
          [
           2007
          ],
          [
           2007
          ],
          [
           2007
          ],
          [
           2007
          ],
          [
           2007
          ],
          [
           2007
          ],
          [
           2007
          ],
          [
           2007
          ],
          [
           2008
          ],
          [
           2008
          ],
          [
           2008
          ],
          [
           2008
          ],
          [
           2008
          ],
          [
           2008
          ],
          [
           2008
          ],
          [
           2008
          ],
          [
           2008
          ],
          [
           2008
          ],
          [
           2008
          ],
          [
           2008
          ],
          [
           2008
          ],
          [
           2008
          ],
          [
           2008
          ],
          [
           2008
          ],
          [
           2008
          ],
          [
           2008
          ],
          [
           2008
          ],
          [
           2008
          ],
          [
           2008
          ],
          [
           2008
          ],
          [
           2008
          ],
          [
           2008
          ],
          [
           2008
          ],
          [
           2008
          ],
          [
           2008
          ],
          [
           2008
          ],
          [
           2008
          ],
          [
           2008
          ],
          [
           2008
          ],
          [
           2008
          ],
          [
           2009
          ],
          [
           2009
          ],
          [
           2009
          ],
          [
           2009
          ],
          [
           2009
          ],
          [
           2009
          ],
          [
           2009
          ],
          [
           2009
          ],
          [
           2009
          ],
          [
           2009
          ],
          [
           2009
          ],
          [
           2009
          ],
          [
           2009
          ],
          [
           2009
          ],
          [
           2009
          ],
          [
           2009
          ],
          [
           2009
          ],
          [
           2009
          ],
          [
           2009
          ],
          [
           2009
          ],
          [
           2009
          ],
          [
           2009
          ],
          [
           2009
          ],
          [
           2009
          ],
          [
           2009
          ],
          [
           2009
          ],
          [
           2009
          ],
          [
           2009
          ],
          [
           2009
          ],
          [
           2009
          ],
          [
           2009
          ],
          [
           2009
          ],
          [
           2010
          ],
          [
           2010
          ],
          [
           2010
          ],
          [
           2010
          ],
          [
           2010
          ],
          [
           2010
          ],
          [
           2010
          ],
          [
           2010
          ],
          [
           2010
          ],
          [
           2010
          ],
          [
           2010
          ],
          [
           2010
          ],
          [
           2010
          ],
          [
           2010
          ],
          [
           2010
          ],
          [
           2010
          ],
          [
           2010
          ],
          [
           2010
          ],
          [
           2010
          ],
          [
           2010
          ],
          [
           2010
          ],
          [
           2010
          ],
          [
           2010
          ],
          [
           2010
          ],
          [
           2010
          ],
          [
           2010
          ],
          [
           2010
          ],
          [
           2010
          ],
          [
           2010
          ],
          [
           2010
          ],
          [
           2010
          ],
          [
           2010
          ],
          [
           2011
          ],
          [
           2011
          ],
          [
           2011
          ],
          [
           2011
          ],
          [
           2011
          ],
          [
           2011
          ],
          [
           2011
          ],
          [
           2011
          ],
          [
           2011
          ],
          [
           2011
          ],
          [
           2011
          ],
          [
           2011
          ],
          [
           2011
          ],
          [
           2011
          ],
          [
           2011
          ],
          [
           2011
          ],
          [
           2011
          ],
          [
           2011
          ],
          [
           2011
          ],
          [
           2011
          ],
          [
           2011
          ],
          [
           2011
          ],
          [
           2011
          ],
          [
           2011
          ],
          [
           2011
          ],
          [
           2011
          ],
          [
           2011
          ],
          [
           2011
          ],
          [
           2011
          ],
          [
           2011
          ],
          [
           2011
          ],
          [
           2011
          ],
          [
           2012
          ],
          [
           2012
          ],
          [
           2012
          ],
          [
           2012
          ],
          [
           2012
          ],
          [
           2012
          ],
          [
           2012
          ],
          [
           2012
          ],
          [
           2012
          ],
          [
           2012
          ],
          [
           2012
          ],
          [
           2012
          ],
          [
           2012
          ],
          [
           2012
          ],
          [
           2012
          ],
          [
           2012
          ],
          [
           2012
          ],
          [
           2012
          ],
          [
           2012
          ],
          [
           2012
          ],
          [
           2012
          ],
          [
           2012
          ],
          [
           2012
          ],
          [
           2012
          ],
          [
           2012
          ],
          [
           2012
          ],
          [
           2012
          ],
          [
           2012
          ],
          [
           2012
          ],
          [
           2012
          ],
          [
           2012
          ],
          [
           2012
          ],
          [
           2013
          ],
          [
           2013
          ],
          [
           2013
          ],
          [
           2013
          ],
          [
           2013
          ],
          [
           2013
          ],
          [
           2013
          ],
          [
           2013
          ],
          [
           2013
          ],
          [
           2013
          ],
          [
           2013
          ],
          [
           2013
          ],
          [
           2013
          ],
          [
           2013
          ],
          [
           2013
          ],
          [
           2013
          ],
          [
           2013
          ],
          [
           2013
          ],
          [
           2013
          ],
          [
           2013
          ],
          [
           2013
          ],
          [
           2013
          ],
          [
           2013
          ],
          [
           2013
          ],
          [
           2013
          ],
          [
           2013
          ],
          [
           2013
          ],
          [
           2013
          ],
          [
           2013
          ],
          [
           2013
          ],
          [
           2013
          ],
          [
           2013
          ],
          [
           2014
          ],
          [
           2014
          ],
          [
           2014
          ],
          [
           2014
          ],
          [
           2014
          ],
          [
           2014
          ],
          [
           2014
          ],
          [
           2014
          ],
          [
           2014
          ],
          [
           2014
          ],
          [
           2014
          ],
          [
           2014
          ],
          [
           2014
          ],
          [
           2014
          ],
          [
           2014
          ],
          [
           2014
          ],
          [
           2014
          ],
          [
           2014
          ],
          [
           2014
          ],
          [
           2014
          ],
          [
           2014
          ],
          [
           2014
          ],
          [
           2014
          ],
          [
           2014
          ],
          [
           2014
          ],
          [
           2014
          ],
          [
           2014
          ],
          [
           2014
          ],
          [
           2014
          ],
          [
           2014
          ],
          [
           2014
          ],
          [
           2014
          ],
          [
           2015
          ],
          [
           2015
          ],
          [
           2015
          ],
          [
           2015
          ],
          [
           2015
          ],
          [
           2015
          ],
          [
           2015
          ],
          [
           2015
          ],
          [
           2015
          ],
          [
           2015
          ],
          [
           2015
          ],
          [
           2015
          ],
          [
           2015
          ],
          [
           2015
          ],
          [
           2015
          ],
          [
           2015
          ],
          [
           2015
          ],
          [
           2015
          ],
          [
           2015
          ],
          [
           2015
          ],
          [
           2015
          ],
          [
           2015
          ],
          [
           2015
          ],
          [
           2015
          ],
          [
           2015
          ],
          [
           2015
          ],
          [
           2015
          ],
          [
           2015
          ],
          [
           2015
          ],
          [
           2015
          ],
          [
           2015
          ],
          [
           2015
          ],
          [
           2016
          ],
          [
           2016
          ],
          [
           2016
          ],
          [
           2016
          ],
          [
           2016
          ],
          [
           2016
          ],
          [
           2016
          ],
          [
           2016
          ],
          [
           2016
          ],
          [
           2016
          ],
          [
           2016
          ],
          [
           2016
          ],
          [
           2016
          ],
          [
           2016
          ],
          [
           2016
          ],
          [
           2016
          ],
          [
           2016
          ],
          [
           2016
          ],
          [
           2016
          ],
          [
           2016
          ],
          [
           2016
          ],
          [
           2016
          ],
          [
           2016
          ],
          [
           2016
          ],
          [
           2016
          ],
          [
           2016
          ],
          [
           2016
          ],
          [
           2016
          ],
          [
           2016
          ],
          [
           2016
          ],
          [
           2016
          ],
          [
           2016
          ],
          [
           2017
          ],
          [
           2017
          ],
          [
           2017
          ],
          [
           2017
          ],
          [
           2017
          ],
          [
           2017
          ],
          [
           2017
          ],
          [
           2017
          ],
          [
           2017
          ],
          [
           2017
          ],
          [
           2017
          ],
          [
           2017
          ],
          [
           2017
          ],
          [
           2017
          ],
          [
           2017
          ],
          [
           2017
          ],
          [
           2017
          ],
          [
           2017
          ],
          [
           2017
          ],
          [
           2017
          ],
          [
           2017
          ],
          [
           2017
          ],
          [
           2017
          ],
          [
           2017
          ],
          [
           2017
          ],
          [
           2017
          ],
          [
           2017
          ],
          [
           2017
          ],
          [
           2017
          ],
          [
           2017
          ],
          [
           2017
          ],
          [
           2017
          ],
          [
           2018
          ],
          [
           2018
          ],
          [
           2018
          ],
          [
           2018
          ],
          [
           2018
          ],
          [
           2018
          ],
          [
           2018
          ],
          [
           2018
          ],
          [
           2018
          ],
          [
           2018
          ],
          [
           2018
          ],
          [
           2018
          ],
          [
           2018
          ],
          [
           2018
          ],
          [
           2018
          ],
          [
           2018
          ],
          [
           2018
          ],
          [
           2018
          ],
          [
           2018
          ],
          [
           2018
          ],
          [
           2018
          ],
          [
           2018
          ],
          [
           2018
          ],
          [
           2018
          ],
          [
           2018
          ],
          [
           2018
          ],
          [
           2018
          ],
          [
           2018
          ],
          [
           2018
          ],
          [
           2018
          ],
          [
           2018
          ],
          [
           2018
          ],
          [
           2019
          ],
          [
           2019
          ],
          [
           2019
          ],
          [
           2019
          ],
          [
           2019
          ],
          [
           2019
          ],
          [
           2019
          ],
          [
           2019
          ],
          [
           2019
          ],
          [
           2019
          ],
          [
           2019
          ],
          [
           2019
          ],
          [
           2019
          ],
          [
           2019
          ],
          [
           2019
          ],
          [
           2019
          ],
          [
           2019
          ],
          [
           2019
          ],
          [
           2019
          ],
          [
           2019
          ],
          [
           2019
          ],
          [
           2019
          ],
          [
           2019
          ],
          [
           2019
          ],
          [
           2019
          ],
          [
           2019
          ],
          [
           2019
          ],
          [
           2019
          ],
          [
           2019
          ],
          [
           2019
          ],
          [
           2019
          ],
          [
           2019
          ],
          [
           2020
          ],
          [
           2020
          ],
          [
           2020
          ],
          [
           2020
          ],
          [
           2020
          ],
          [
           2020
          ],
          [
           2020
          ],
          [
           2020
          ],
          [
           2020
          ],
          [
           2020
          ],
          [
           2020
          ],
          [
           2020
          ],
          [
           2020
          ],
          [
           2020
          ],
          [
           2020
          ],
          [
           2020
          ],
          [
           2020
          ],
          [
           2020
          ],
          [
           2020
          ],
          [
           2020
          ],
          [
           2020
          ],
          [
           2020
          ],
          [
           2020
          ],
          [
           2020
          ],
          [
           2020
          ],
          [
           2020
          ],
          [
           2020
          ],
          [
           2020
          ],
          [
           2020
          ],
          [
           2020
          ],
          [
           2020
          ],
          [
           2020
          ],
          [
           2021
          ],
          [
           2021
          ],
          [
           2021
          ],
          [
           2021
          ],
          [
           2021
          ],
          [
           2021
          ],
          [
           2021
          ],
          [
           2021
          ],
          [
           2021
          ],
          [
           2021
          ],
          [
           2021
          ],
          [
           2021
          ],
          [
           2021
          ],
          [
           2021
          ],
          [
           2021
          ],
          [
           2021
          ],
          [
           2021
          ],
          [
           2021
          ],
          [
           2021
          ],
          [
           2021
          ],
          [
           2021
          ],
          [
           2021
          ],
          [
           2021
          ],
          [
           2021
          ],
          [
           2021
          ],
          [
           2021
          ],
          [
           2021
          ],
          [
           2021
          ],
          [
           2021
          ],
          [
           2021
          ],
          [
           2021
          ],
          [
           2021
          ],
          [
           2022
          ],
          [
           2022
          ],
          [
           2022
          ],
          [
           2022
          ],
          [
           2022
          ],
          [
           2022
          ],
          [
           2022
          ],
          [
           2022
          ],
          [
           2022
          ],
          [
           2022
          ],
          [
           2022
          ],
          [
           2022
          ],
          [
           2022
          ],
          [
           2022
          ],
          [
           2022
          ],
          [
           2022
          ],
          [
           2022
          ],
          [
           2022
          ],
          [
           2022
          ],
          [
           2022
          ],
          [
           2022
          ],
          [
           2022
          ],
          [
           2022
          ],
          [
           2022
          ],
          [
           2022
          ],
          [
           2022
          ],
          [
           2022
          ],
          [
           2022
          ],
          [
           2022
          ],
          [
           2022
          ],
          [
           2022
          ],
          [
           2022
          ],
          [
           2023
          ],
          [
           2023
          ],
          [
           2023
          ],
          [
           2023
          ],
          [
           2023
          ],
          [
           2023
          ],
          [
           2023
          ],
          [
           2023
          ],
          [
           2023
          ],
          [
           2023
          ],
          [
           2023
          ],
          [
           2023
          ],
          [
           2023
          ],
          [
           2023
          ],
          [
           2023
          ],
          [
           2023
          ],
          [
           2023
          ],
          [
           2023
          ],
          [
           2023
          ],
          [
           2023
          ],
          [
           2023
          ],
          [
           2023
          ],
          [
           2023
          ],
          [
           2023
          ],
          [
           2023
          ],
          [
           2023
          ],
          [
           2023
          ],
          [
           2023
          ],
          [
           2023
          ],
          [
           2023
          ],
          [
           2023
          ],
          [
           2023
          ]
         ],
         "hovertemplate": "<b>%{hovertext}</b><br><br>first_down=%{x}<br>turnovers=%{y}<br>year=%{customdata[0]}<br>win_loss_perc=%{marker.color}<extra></extra>",
         "hovertext": [
          "New England Patriots",
          "Miami Dolphins",
          "Buffalo Bills",
          "New York Jets",
          "Baltimore Ravens",
          "Cincinnati Bengals",
          "Pittsburgh Steelers",
          "Cleveland Browns",
          "Indianapolis Colts",
          "Tennessee Titans",
          "Jacksonville Jaguars",
          "Houston Texans",
          "Kansas City Chiefs",
          "Denver Broncos",
          "Oakland Raiders",
          "San Diego Chargers",
          "Philadelphia Eagles",
          "Dallas Cowboys",
          "Washington Redskins",
          "New York Giants",
          "Green Bay Packers",
          "Minnesota Vikings",
          "Chicago Bears",
          "Detroit Lions",
          "Carolina Panthers",
          "New Orleans Saints",
          "Tampa Bay Buccaneers",
          "Atlanta Falcons",
          "St. Louis Rams",
          "Seattle Seahawks",
          "San Francisco 49ers",
          "Arizona Cardinals",
          "New England Patriots",
          "New York Jets",
          "Buffalo Bills",
          "Miami Dolphins",
          "Pittsburgh Steelers",
          "Baltimore Ravens",
          "Cincinnati Bengals",
          "Cleveland Browns",
          "Indianapolis Colts",
          "Jacksonville Jaguars",
          "Houston Texans",
          "Tennessee Titans",
          "San Diego Chargers",
          "Denver Broncos",
          "Kansas City Chiefs",
          "Oakland Raiders",
          "Philadelphia Eagles",
          "New York Giants",
          "Dallas Cowboys",
          "Washington Redskins",
          "Green Bay Packers",
          "Minnesota Vikings",
          "Detroit Lions",
          "Chicago Bears",
          "Atlanta Falcons",
          "New Orleans Saints",
          "Carolina Panthers",
          "Tampa Bay Buccaneers",
          "Seattle Seahawks",
          "St. Louis Rams",
          "Arizona Cardinals",
          "San Francisco 49ers",
          "New England Patriots",
          "Miami Dolphins",
          "Buffalo Bills",
          "New York Jets",
          "Cincinnati Bengals",
          "Pittsburgh Steelers",
          "Baltimore Ravens",
          "Cleveland Browns",
          "Indianapolis Colts",
          "Jacksonville Jaguars",
          "Tennessee Titans",
          "Houston Texans",
          "Denver Broncos",
          "Kansas City Chiefs",
          "San Diego Chargers",
          "Oakland Raiders",
          "New York Giants",
          "Washington Redskins",
          "Dallas Cowboys",
          "Philadelphia Eagles",
          "Chicago Bears",
          "Minnesota Vikings",
          "Detroit Lions",
          "Green Bay Packers",
          "Tampa Bay Buccaneers",
          "Carolina Panthers",
          "Atlanta Falcons",
          "New Orleans Saints",
          "Seattle Seahawks",
          "St. Louis Rams",
          "Arizona Cardinals",
          "San Francisco 49ers",
          "New England Patriots",
          "New York Jets",
          "Buffalo Bills",
          "Miami Dolphins",
          "Baltimore Ravens",
          "Cincinnati Bengals",
          "Pittsburgh Steelers",
          "Cleveland Browns",
          "Indianapolis Colts",
          "Tennessee Titans",
          "Jacksonville Jaguars",
          "Houston Texans",
          "San Diego Chargers",
          "Kansas City Chiefs",
          "Denver Broncos",
          "Oakland Raiders",
          "Philadelphia Eagles",
          "Dallas Cowboys",
          "New York Giants",
          "Washington Redskins",
          "Chicago Bears",
          "Green Bay Packers",
          "Minnesota Vikings",
          "Detroit Lions",
          "New Orleans Saints",
          "Carolina Panthers",
          "Atlanta Falcons",
          "Tampa Bay Buccaneers",
          "Seattle Seahawks",
          "St. Louis Rams",
          "San Francisco 49ers",
          "Arizona Cardinals",
          "New England Patriots",
          "Buffalo Bills",
          "New York Jets",
          "Miami Dolphins",
          "Pittsburgh Steelers",
          "Cleveland Browns",
          "Cincinnati Bengals",
          "Baltimore Ravens",
          "Indianapolis Colts",
          "Jacksonville Jaguars",
          "Tennessee Titans",
          "Houston Texans",
          "San Diego Chargers",
          "Denver Broncos",
          "Kansas City Chiefs",
          "Oakland Raiders",
          "Dallas Cowboys",
          "New York Giants",
          "Washington Redskins",
          "Philadelphia Eagles",
          "Green Bay Packers",
          "Minnesota Vikings",
          "Detroit Lions",
          "Chicago Bears",
          "Tampa Bay Buccaneers",
          "Carolina Panthers",
          "New Orleans Saints",
          "Atlanta Falcons",
          "Seattle Seahawks",
          "Arizona Cardinals",
          "San Francisco 49ers",
          "St. Louis Rams",
          "Miami Dolphins",
          "New England Patriots",
          "New York Jets",
          "Buffalo Bills",
          "Pittsburgh Steelers",
          "Baltimore Ravens",
          "Cincinnati Bengals",
          "Cleveland Browns",
          "Tennessee Titans",
          "Indianapolis Colts",
          "Houston Texans",
          "Jacksonville Jaguars",
          "San Diego Chargers",
          "Denver Broncos",
          "Oakland Raiders",
          "Kansas City Chiefs",
          "New York Giants",
          "Philadelphia Eagles",
          "Dallas Cowboys",
          "Washington Redskins",
          "Minnesota Vikings",
          "Chicago Bears",
          "Green Bay Packers",
          "Detroit Lions",
          "Carolina Panthers",
          "Atlanta Falcons",
          "Tampa Bay Buccaneers",
          "New Orleans Saints",
          "Arizona Cardinals",
          "San Francisco 49ers",
          "Seattle Seahawks",
          "St. Louis Rams",
          "New England Patriots",
          "New York Jets",
          "Miami Dolphins",
          "Buffalo Bills",
          "Cincinnati Bengals",
          "Baltimore Ravens",
          "Pittsburgh Steelers",
          "Cleveland Browns",
          "Indianapolis Colts",
          "Houston Texans",
          "Tennessee Titans",
          "Jacksonville Jaguars",
          "San Diego Chargers",
          "Denver Broncos",
          "Oakland Raiders",
          "Kansas City Chiefs",
          "Dallas Cowboys",
          "Philadelphia Eagles",
          "New York Giants",
          "Washington Redskins",
          "Minnesota Vikings",
          "Green Bay Packers",
          "Chicago Bears",
          "Detroit Lions",
          "New Orleans Saints",
          "Atlanta Falcons",
          "Carolina Panthers",
          "Tampa Bay Buccaneers",
          "Arizona Cardinals",
          "San Francisco 49ers",
          "Seattle Seahawks",
          "St. Louis Rams",
          "New England Patriots",
          "New York Jets",
          "Miami Dolphins",
          "Buffalo Bills",
          "Pittsburgh Steelers",
          "Baltimore Ravens",
          "Cleveland Browns",
          "Cincinnati Bengals",
          "Indianapolis Colts",
          "Jacksonville Jaguars",
          "Houston Texans",
          "Tennessee Titans",
          "Kansas City Chiefs",
          "San Diego Chargers",
          "Oakland Raiders",
          "Denver Broncos",
          "Philadelphia Eagles",
          "New York Giants",
          "Dallas Cowboys",
          "Washington Redskins",
          "Chicago Bears",
          "Green Bay Packers",
          "Detroit Lions",
          "Minnesota Vikings",
          "Atlanta Falcons",
          "New Orleans Saints",
          "Tampa Bay Buccaneers",
          "Carolina Panthers",
          "Seattle Seahawks",
          "St. Louis Rams",
          "San Francisco 49ers",
          "Arizona Cardinals",
          "New England Patriots",
          "New York Jets",
          "Miami Dolphins",
          "Buffalo Bills",
          "Baltimore Ravens",
          "Pittsburgh Steelers",
          "Cincinnati Bengals",
          "Cleveland Browns",
          "Houston Texans",
          "Tennessee Titans",
          "Jacksonville Jaguars",
          "Indianapolis Colts",
          "Denver Broncos",
          "San Diego Chargers",
          "Oakland Raiders",
          "Kansas City Chiefs",
          "New York Giants",
          "Philadelphia Eagles",
          "Dallas Cowboys",
          "Washington Redskins",
          "Green Bay Packers",
          "Detroit Lions",
          "Chicago Bears",
          "Minnesota Vikings",
          "New Orleans Saints",
          "Atlanta Falcons",
          "Carolina Panthers",
          "Tampa Bay Buccaneers",
          "San Francisco 49ers",
          "Arizona Cardinals",
          "Seattle Seahawks",
          "St. Louis Rams",
          "New England Patriots",
          "Miami Dolphins",
          "New York Jets",
          "Buffalo Bills",
          "Baltimore Ravens",
          "Cincinnati Bengals",
          "Pittsburgh Steelers",
          "Cleveland Browns",
          "Houston Texans",
          "Indianapolis Colts",
          "Tennessee Titans",
          "Jacksonville Jaguars",
          "Denver Broncos",
          "San Diego Chargers",
          "Oakland Raiders",
          "Kansas City Chiefs",
          "Washington Redskins",
          "New York Giants",
          "Dallas Cowboys",
          "Philadelphia Eagles",
          "Green Bay Packers",
          "Minnesota Vikings",
          "Chicago Bears",
          "Detroit Lions",
          "Atlanta Falcons",
          "Carolina Panthers",
          "New Orleans Saints",
          "Tampa Bay Buccaneers",
          "San Francisco 49ers",
          "Seattle Seahawks",
          "St. Louis Rams",
          "Arizona Cardinals",
          "New England Patriots",
          "New York Jets",
          "Miami Dolphins",
          "Buffalo Bills",
          "Cincinnati Bengals",
          "Pittsburgh Steelers",
          "Baltimore Ravens",
          "Cleveland Browns",
          "Indianapolis Colts",
          "Tennessee Titans",
          "Jacksonville Jaguars",
          "Houston Texans",
          "Denver Broncos",
          "Kansas City Chiefs",
          "San Diego Chargers",
          "Oakland Raiders",
          "Philadelphia Eagles",
          "Dallas Cowboys",
          "New York Giants",
          "Washington Redskins",
          "Green Bay Packers",
          "Chicago Bears",
          "Detroit Lions",
          "Minnesota Vikings",
          "Carolina Panthers",
          "New Orleans Saints",
          "Atlanta Falcons",
          "Tampa Bay Buccaneers",
          "Seattle Seahawks",
          "San Francisco 49ers",
          "Arizona Cardinals",
          "St. Louis Rams",
          "New England Patriots",
          "Buffalo Bills",
          "Miami Dolphins",
          "New York Jets",
          "Pittsburgh Steelers",
          "Cincinnati Bengals",
          "Baltimore Ravens",
          "Cleveland Browns",
          "Indianapolis Colts",
          "Houston Texans",
          "Jacksonville Jaguars",
          "Tennessee Titans",
          "Denver Broncos",
          "Kansas City Chiefs",
          "San Diego Chargers",
          "Oakland Raiders",
          "Dallas Cowboys",
          "Philadelphia Eagles",
          "New York Giants",
          "Washington Redskins",
          "Green Bay Packers",
          "Detroit Lions",
          "Minnesota Vikings",
          "Chicago Bears",
          "Carolina Panthers",
          "New Orleans Saints",
          "Atlanta Falcons",
          "Tampa Bay Buccaneers",
          "Seattle Seahawks",
          "Arizona Cardinals",
          "San Francisco 49ers",
          "St. Louis Rams",
          "New England Patriots",
          "New York Jets",
          "Buffalo Bills",
          "Miami Dolphins",
          "Cincinnati Bengals",
          "Pittsburgh Steelers",
          "Baltimore Ravens",
          "Cleveland Browns",
          "Houston Texans",
          "Indianapolis Colts",
          "Jacksonville Jaguars",
          "Tennessee Titans",
          "Denver Broncos",
          "Kansas City Chiefs",
          "Oakland Raiders",
          "San Diego Chargers",
          "Washington Redskins",
          "Philadelphia Eagles",
          "New York Giants",
          "Dallas Cowboys",
          "Minnesota Vikings",
          "Green Bay Packers",
          "Detroit Lions",
          "Chicago Bears",
          "Carolina Panthers",
          "Atlanta Falcons",
          "New Orleans Saints",
          "Tampa Bay Buccaneers",
          "Arizona Cardinals",
          "Seattle Seahawks",
          "St. Louis Rams",
          "San Francisco 49ers",
          "New England Patriots",
          "Miami Dolphins",
          "Buffalo Bills",
          "New York Jets",
          "Pittsburgh Steelers",
          "Baltimore Ravens",
          "Cincinnati Bengals",
          "Cleveland Browns",
          "Houston Texans",
          "Tennessee Titans",
          "Indianapolis Colts",
          "Jacksonville Jaguars",
          "Kansas City Chiefs",
          "Oakland Raiders",
          "Denver Broncos",
          "San Diego Chargers",
          "Dallas Cowboys",
          "New York Giants",
          "Washington Redskins",
          "Philadelphia Eagles",
          "Green Bay Packers",
          "Detroit Lions",
          "Minnesota Vikings",
          "Chicago Bears",
          "Atlanta Falcons",
          "Tampa Bay Buccaneers",
          "New Orleans Saints",
          "Carolina Panthers",
          "Seattle Seahawks",
          "Arizona Cardinals",
          "Los Angeles Rams",
          "San Francisco 49ers",
          "New England Patriots",
          "Buffalo Bills",
          "Miami Dolphins",
          "New York Jets",
          "Pittsburgh Steelers",
          "Baltimore Ravens",
          "Cincinnati Bengals",
          "Cleveland Browns",
          "Jacksonville Jaguars",
          "Tennessee Titans",
          "Indianapolis Colts",
          "Houston Texans",
          "Kansas City Chiefs",
          "Los Angeles Chargers",
          "Oakland Raiders",
          "Denver Broncos",
          "Philadelphia Eagles",
          "Dallas Cowboys",
          "Washington Redskins",
          "New York Giants",
          "Minnesota Vikings",
          "Detroit Lions",
          "Green Bay Packers",
          "Chicago Bears",
          "New Orleans Saints",
          "Carolina Panthers",
          "Atlanta Falcons",
          "Tampa Bay Buccaneers",
          "Los Angeles Rams",
          "Seattle Seahawks",
          "Arizona Cardinals",
          "San Francisco 49ers",
          "New England Patriots",
          "Miami Dolphins",
          "Buffalo Bills",
          "New York Jets",
          "Baltimore Ravens",
          "Pittsburgh Steelers",
          "Cleveland Browns",
          "Cincinnati Bengals",
          "Houston Texans",
          "Indianapolis Colts",
          "Tennessee Titans",
          "Jacksonville Jaguars",
          "Kansas City Chiefs",
          "Los Angeles Chargers",
          "Denver Broncos",
          "Oakland Raiders",
          "Dallas Cowboys",
          "Philadelphia Eagles",
          "Washington Redskins",
          "New York Giants",
          "Chicago Bears",
          "Minnesota Vikings",
          "Green Bay Packers",
          "Detroit Lions",
          "New Orleans Saints",
          "Atlanta Falcons",
          "Carolina Panthers",
          "Tampa Bay Buccaneers",
          "Los Angeles Rams",
          "Seattle Seahawks",
          "San Francisco 49ers",
          "Arizona Cardinals",
          "New England Patriots",
          "Buffalo Bills",
          "New York Jets",
          "Miami Dolphins",
          "Baltimore Ravens",
          "Pittsburgh Steelers",
          "Cleveland Browns",
          "Cincinnati Bengals",
          "Houston Texans",
          "Tennessee Titans",
          "Indianapolis Colts",
          "Jacksonville Jaguars",
          "Kansas City Chiefs",
          "Denver Broncos",
          "Oakland Raiders",
          "Los Angeles Chargers",
          "Philadelphia Eagles",
          "Dallas Cowboys",
          "New York Giants",
          "Washington Redskins",
          "Green Bay Packers",
          "Minnesota Vikings",
          "Chicago Bears",
          "Detroit Lions",
          "New Orleans Saints",
          "Atlanta Falcons",
          "Tampa Bay Buccaneers",
          "Carolina Panthers",
          "San Francisco 49ers",
          "Seattle Seahawks",
          "Los Angeles Rams",
          "Arizona Cardinals",
          "Buffalo Bills",
          "Miami Dolphins",
          "New England Patriots",
          "New York Jets",
          "Pittsburgh Steelers",
          "Baltimore Ravens",
          "Cleveland Browns",
          "Cincinnati Bengals",
          "Tennessee Titans",
          "Indianapolis Colts",
          "Houston Texans",
          "Jacksonville Jaguars",
          "Kansas City Chiefs",
          "Las Vegas Raiders",
          "Los Angeles Chargers",
          "Denver Broncos",
          "Washington Football Team",
          "New York Giants",
          "Dallas Cowboys",
          "Philadelphia Eagles",
          "Green Bay Packers",
          "Chicago Bears",
          "Minnesota Vikings",
          "Detroit Lions",
          "New Orleans Saints",
          "Tampa Bay Buccaneers",
          "Carolina Panthers",
          "Atlanta Falcons",
          "Seattle Seahawks",
          "Los Angeles Rams",
          "Arizona Cardinals",
          "San Francisco 49ers",
          "Buffalo Bills",
          "New England Patriots",
          "Miami Dolphins",
          "New York Jets",
          "Cincinnati Bengals",
          "Pittsburgh Steelers",
          "Cleveland Browns",
          "Baltimore Ravens",
          "Tennessee Titans",
          "Indianapolis Colts",
          "Houston Texans",
          "Jacksonville Jaguars",
          "Kansas City Chiefs",
          "Las Vegas Raiders",
          "Los Angeles Chargers",
          "Denver Broncos",
          "Dallas Cowboys",
          "Philadelphia Eagles",
          "Washington Football Team",
          "New York Giants",
          "Green Bay Packers",
          "Minnesota Vikings",
          "Chicago Bears",
          "Detroit Lions",
          "Tampa Bay Buccaneers",
          "New Orleans Saints",
          "Atlanta Falcons",
          "Carolina Panthers",
          "Los Angeles Rams",
          "Arizona Cardinals",
          "San Francisco 49ers",
          "Seattle Seahawks",
          "Buffalo Bills",
          "Miami Dolphins",
          "New England Patriots",
          "New York Jets",
          "Cincinnati Bengals",
          "Baltimore Ravens",
          "Pittsburgh Steelers",
          "Cleveland Browns",
          "Jacksonville Jaguars",
          "Tennessee Titans",
          "Indianapolis Colts",
          "Houston Texans",
          "Kansas City Chiefs",
          "Los Angeles Chargers",
          "Las Vegas Raiders",
          "Denver Broncos",
          "Philadelphia Eagles",
          "Dallas Cowboys",
          "New York Giants",
          "Washington Commanders",
          "Minnesota Vikings",
          "Detroit Lions",
          "Green Bay Packers",
          "Chicago Bears",
          "Tampa Bay Buccaneers",
          "Carolina Panthers",
          "New Orleans Saints",
          "Atlanta Falcons",
          "San Francisco 49ers",
          "Seattle Seahawks",
          "Los Angeles Rams",
          "Arizona Cardinals",
          "Buffalo Bills",
          "Miami Dolphins",
          "New York Jets",
          "New England Patriots",
          "Baltimore Ravens",
          "Cleveland Browns",
          "Pittsburgh Steelers",
          "Cincinnati Bengals",
          "Houston Texans",
          "Jacksonville Jaguars",
          "Indianapolis Colts",
          "Tennessee Titans",
          "Kansas City Chiefs",
          "Las Vegas Raiders",
          "Denver Broncos",
          "Los Angeles Chargers",
          "Dallas Cowboys",
          "Philadelphia Eagles",
          "New York Giants",
          "Washington Commanders",
          "Detroit Lions",
          "Green Bay Packers",
          "Minnesota Vikings",
          "Chicago Bears",
          "Tampa Bay Buccaneers",
          "New Orleans Saints",
          "Atlanta Falcons",
          "Carolina Panthers",
          "San Francisco 49ers",
          "Los Angeles Rams",
          "Seattle Seahawks",
          "Arizona Cardinals"
         ],
         "legendgroup": "",
         "marker": {
          "color": [
           0.875,
           0.625,
           0.375,
           0.375,
           0.625,
           0.5,
           0.375,
           0.313,
           0.75,
           0.75,
           0.313,
           0.313,
           0.813,
           0.625,
           0.25,
           0.25,
           0.75,
           0.625,
           0.313,
           0.25,
           0.625,
           0.563,
           0.438,
           0.313,
           0.688,
           0.5,
           0.438,
           0.313,
           0.75,
           0.625,
           0.438,
           0.25,
           0.875,
           0.625,
           0.563,
           0.25,
           0.938,
           0.563,
           0.5,
           0.25,
           0.75,
           0.563,
           0.438,
           0.313,
           0.75,
           0.625,
           0.438,
           0.313,
           0.813,
           0.375,
           0.375,
           0.375,
           0.625,
           0.5,
           0.375,
           0.313,
           0.688,
           0.5,
           0.438,
           0.313,
           0.563,
           0.5,
           0.375,
           0.125,
           0.625,
           0.563,
           0.313,
           0.25,
           0.688,
           0.688,
           0.375,
           0.375,
           0.875,
           0.75,
           0.25,
           0.125,
           0.813,
           0.625,
           0.563,
           0.25,
           0.688,
           0.625,
           0.563,
           0.375,
           0.688,
           0.563,
           0.313,
           0.25,
           0.688,
           0.688,
           0.5,
           0.188,
           0.813,
           0.375,
           0.313,
           0.25,
           0.75,
           0.625,
           0.438,
           0.375,
           0.813,
           0.5,
           0.5,
           0.25,
           0.75,
           0.5,
           0.5,
           0.375,
           0.875,
           0.563,
           0.563,
           0.125,
           0.625,
           0.563,
           0.5,
           0.313,
           0.813,
           0.5,
           0.375,
           0.188,
           0.625,
           0.5,
           0.438,
           0.25,
           0.563,
           0.5,
           0.438,
           0.313,
           1,
           0.438,
           0.25,
           0.063,
           0.625,
           0.625,
           0.438,
           0.313,
           0.813,
           0.688,
           0.625,
           0.5,
           0.688,
           0.438,
           0.25,
           0.25,
           0.813,
           0.625,
           0.563,
           0.5,
           0.813,
           0.5,
           0.438,
           0.438,
           0.563,
           0.438,
           0.438,
           0.25,
           0.625,
           0.5,
           0.313,
           0.188,
           0.688,
           0.688,
           0.563,
           0.438,
           0.75,
           0.688,
           0.281,
           0.25,
           0.813,
           0.75,
           0.5,
           0.313,
           0.5,
           0.5,
           0.313,
           0.125,
           0.75,
           0.594,
           0.563,
           0.5,
           0.625,
           0.563,
           0.375,
           0,
           0.75,
           0.688,
           0.563,
           0.5,
           0.563,
           0.438,
           0.25,
           0.125,
           0.625,
           0.563,
           0.438,
           0.375,
           0.625,
           0.563,
           0.563,
           0.313,
           0.875,
           0.563,
           0.5,
           0.438,
           0.813,
           0.5,
           0.313,
           0.25,
           0.688,
           0.688,
           0.5,
           0.25,
           0.75,
           0.688,
           0.438,
           0.125,
           0.813,
           0.563,
           0.5,
           0.188,
           0.625,
           0.5,
           0.313,
           0.063,
           0.875,
           0.688,
           0.438,
           0.25,
           0.75,
           0.75,
           0.313,
           0.25,
           0.625,
           0.5,
           0.375,
           0.375,
           0.625,
           0.563,
           0.5,
           0.25,
           0.625,
           0.625,
           0.375,
           0.375,
           0.688,
           0.625,
           0.375,
           0.375,
           0.813,
           0.688,
           0.625,
           0.125,
           0.438,
           0.438,
           0.375,
           0.313,
           0.813,
           0.5,
           0.375,
           0.375,
           0.75,
           0.75,
           0.563,
           0.25,
           0.625,
           0.563,
           0.313,
           0.125,
           0.5,
           0.5,
           0.5,
           0.438,
           0.563,
           0.5,
           0.5,
           0.313,
           0.938,
           0.625,
           0.5,
           0.188,
           0.813,
           0.625,
           0.375,
           0.25,
           0.813,
           0.5,
           0.438,
           0.125,
           0.75,
           0.438,
           0.375,
           0.375,
           0.625,
           0.625,
           0.5,
           0.313,
           0.75,
           0.688,
           0.375,
           0.125,
           0.813,
           0.438,
           0.25,
           0.125,
           0.625,
           0.563,
           0.5,
           0.25,
           0.688,
           0.625,
           0.625,
           0.25,
           0.813,
           0.438,
           0.438,
           0.438,
           0.719,
           0.688,
           0.469,
           0.313,
           0.75,
           0.5,
           0.5,
           0.375,
           0.688,
           0.5,
           0.5,
           0.25,
           0.688,
           0.438,
           0.25,
           0.125,
           0.813,
           0.688,
           0.563,
           0.25,
           0.625,
           0.5,
           0.438,
           0.188,
           0.531,
           0.5,
           0.438,
           0.344,
           0.75,
           0.688,
           0.25,
           0.25,
           0.813,
           0.75,
           0.625,
           0.438,
           0.75,
           0.563,
           0.5,
           0.25,
           0.688,
           0.656,
           0.625,
           0.438,
           0.688,
           0.563,
           0.188,
           0.125,
           0.75,
           0.563,
           0.563,
           0.188,
           0.75,
           0.625,
           0.375,
           0.25,
           0.75,
           0.688,
           0.438,
           0.313,
           0.469,
           0.438,
           0.375,
           0.125,
           0.75,
           0.688,
           0.5,
           0.375,
           0.75,
           0.625,
           0.5,
           0.375,
           0.75,
           0.625,
           0.313,
           0.188,
           0.563,
           0.5,
           0.313,
           0.188,
           0.75,
           0.688,
           0.438,
           0.25,
           0.563,
           0.438,
           0.375,
           0.25,
           0.688,
           0.625,
           0.438,
           0.375,
           0.938,
           0.5,
           0.438,
           0.375,
           0.813,
           0.625,
           0.438,
           0.313,
           0.875,
           0.625,
           0.438,
           0.313,
           0.688,
           0.5,
           0.406,
           0.063,
           0.563,
           0.563,
           0.5,
           0.188,
           0.75,
           0.75,
           0.563,
           0.313,
           0.813,
           0.688,
           0.531,
           0.438,
           0.625,
           0.563,
           0.5,
           0.188,
           0.688,
           0.563,
           0.438,
           0.375,
           0.656,
           0.469,
           0.25,
           0.125,
           0.813,
           0.563,
           0.375,
           0.313,
           0.813,
           0.563,
           0.438,
           0,
           0.625,
           0.563,
           0.25,
           0.25,
           0.625,
           0.563,
           0.375,
           0.313,
           0.813,
           0.563,
           0.438,
           0.188,
           0.813,
           0.563,
           0.438,
           0.313,
           0.688,
           0.688,
           0.625,
           0.313,
           0.688,
           0.563,
           0.5,
           0.375,
           0.688,
           0.438,
           0.375,
           0.25,
           0.625,
           0.594,
           0.469,
           0.375,
           0.688,
           0.625,
           0.563,
           0.313,
           0.75,
           0.75,
           0.375,
           0.25,
           0.625,
           0.563,
           0.438,
           0.313,
           0.75,
           0.531,
           0.406,
           0.375,
           0.813,
           0.438,
           0.438,
           0.313,
           0.813,
           0.625,
           0.25,
           0.188,
           0.75,
           0.625,
           0.438,
           0.313,
           0.875,
           0.5,
           0.375,
           0.125,
           0.625,
           0.563,
           0.438,
           0.375,
           0.75,
           0.438,
           0.438,
           0.313,
           0.563,
           0.5,
           0.25,
           0.188,
           0.813,
           0.625,
           0.5,
           0.219,
           0.813,
           0.438,
           0.438,
           0.313,
           0.813,
           0.688,
           0.563,
           0.344,
           0.813,
           0.625,
           0.438,
           0.125,
           0.75,
           0.688,
           0.688,
           0.281,
           0.688,
           0.688,
           0.25,
           0.063,
           0.875,
           0.5,
           0.438,
           0.313,
           0.438,
           0.375,
           0.375,
           0.281,
           0.813,
           0.5,
           0.438,
           0.313,
           0.75,
           0.688,
           0.313,
           0.25,
           0.75,
           0.625,
           0.5,
           0.375,
           0.647,
           0.588,
           0.529,
           0.235,
           0.588,
           0.559,
           0.471,
           0.471,
           0.706,
           0.529,
           0.235,
           0.176,
           0.706,
           0.588,
           0.529,
           0.412,
           0.706,
           0.529,
           0.412,
           0.235,
           0.765,
           0.471,
           0.353,
           0.206,
           0.765,
           0.529,
           0.412,
           0.294,
           0.706,
           0.647,
           0.588,
           0.412,
           0.813,
           0.529,
           0.471,
           0.412,
           0.75,
           0.588,
           0.529,
           0.412,
           0.529,
           0.412,
           0.265,
           0.206,
           0.824,
           0.588,
           0.353,
           0.294,
           0.824,
           0.706,
           0.559,
           0.5,
           0.765,
           0.529,
           0.471,
           0.176,
           0.471,
           0.412,
           0.412,
           0.412,
           0.765,
           0.529,
           0.294,
           0.235,
           0.647,
           0.647,
           0.412,
           0.235,
           0.765,
           0.647,
           0.588,
           0.529,
           0.588,
           0.529,
           0.529,
           0.353,
           0.647,
           0.471,
           0.471,
           0.294,
           0.706,
           0.647,
           0.353,
           0.235,
           0.706,
           0.529,
           0.412,
           0.412,
           0.529,
           0.529,
           0.412,
           0.118,
           0.706,
           0.588,
           0.529,
           0.235
          ],
          "coloraxis": "coloraxis",
          "symbol": "circle"
         },
         "mode": "markers",
         "name": "",
         "orientation": "v",
         "showlegend": false,
         "type": "scatter",
         "x": [
          294,
          266,
          268,
          274,
          259,
          313,
          275,
          276,
          348,
          310,
          305,
          237,
          348,
          334,
          258,
          290,
          302,
          286,
          272,
          300,
          315,
          336,
          264,
          250,
          284,
          302,
          307,
          252,
          335,
          338,
          313,
          256,
          344,
          313,
          271,
          267,
          309,
          260,
          286,
          245,
          379,
          279,
          300,
          308,
          328,
          351,
          398,
          275,
          301,
          281,
          296,
          269,
          354,
          351,
          263,
          230,
          284,
          291,
          308,
          271,
          320,
          321,
          280,
          280,
          334,
          274,
          259,
          251,
          342,
          297,
          286,
          241,
          363,
          301,
          279,
          243,
          330,
          347,
          337,
          294,
          312,
          301,
          318,
          282,
          233,
          285,
          258,
          318,
          268,
          278,
          313,
          312,
          361,
          314,
          304,
          191,
          330,
          289,
          234,
          281,
          282,
          313,
          327,
          250,
          376,
          261,
          293,
          282,
          321,
          310,
          285,
          243,
          312,
          336,
          304,
          295,
          300,
          301,
          272,
          290,
          330,
          278,
          287,
          237,
          312,
          332,
          243,
          298,
          393,
          248,
          286,
          283,
          298,
          315,
          320,
          291,
          357,
          328,
          306,
          295,
          278,
          305,
          255,
          267,
          322,
          321,
          307,
          323,
          307,
          294,
          303,
          266,
          281,
          255,
          346,
          248,
          323,
          308,
          218,
          281,
          308,
          356,
          308,
          287,
          290,
          300,
          245,
          233,
          268,
          321,
          340,
          312,
          301,
          354,
          225,
          273,
          338,
          318,
          291,
          295,
          292,
          264,
          299,
          234,
          287,
          313,
          298,
          354,
          328,
          287,
          265,
          249,
          373,
          280,
          333,
          233,
          295,
          320,
          331,
          237,
          339,
          340,
          288,
          300,
          330,
          306,
          234,
          256,
          335,
          290,
          323,
          280,
          343,
          335,
          262,
          281,
          348,
          330,
          289,
          246,
          317,
          238,
          297,
          259,
          335,
          307,
          300,
          263,
          295,
          303,
          265,
          317,
          366,
          330,
          360,
          252,
          319,
          357,
          306,
          309,
          322,
          331,
          327,
          295,
          263,
          312,
          304,
          289,
          353,
          351,
          288,
          225,
          260,
          292,
          251,
          241,
          399,
          301,
          287,
          313,
          312,
          341,
          285,
          278,
          321,
          281,
          251,
          258,
          286,
          359,
          328,
          277,
          331,
          356,
          327,
          312,
          353,
          349,
          271,
          297,
          416,
          349,
          345,
          277,
          282,
          286,
          265,
          267,
          444,
          288,
          299,
          301,
          314,
          292,
          307,
          279,
          341,
          360,
          260,
          269,
          380,
          293,
          300,
          286,
          341,
          327,
          338,
          332,
          341,
          306,
          292,
          382,
          343,
          328,
          352,
          301,
          322,
          311,
          287,
          246,
          378,
          280,
          278,
          301,
          330,
          312,
          295,
          301,
          318,
          311,
          271,
          307,
          435,
          323,
          373,
          275,
          355,
          325,
          280,
          329,
          351,
          344,
          350,
          309,
          319,
          359,
          330,
          269,
          307,
          286,
          329,
          282,
          361,
          273,
          361,
          289,
          379,
          313,
          345,
          294,
          371,
          313,
          271,
          258,
          360,
          309,
          326,
          248,
          342,
          356,
          336,
          318,
          356,
          310,
          288,
          322,
          347,
          395,
          330,
          263,
          328,
          302,
          303,
          288,
          348,
          329,
          297,
          291,
          324,
          331,
          323,
          307,
          335,
          311,
          313,
          298,
          314,
          303,
          300,
          344,
          317,
          339,
          331,
          307,
          297,
          317,
          337,
          312,
          357,
          359,
          381,
          336,
          373,
          335,
          241,
          261,
          351,
          278,
          328,
          291,
          336,
          316,
          341,
          296,
          305,
          322,
          351,
          321,
          305,
          333,
          290,
          340,
          358,
          289,
          345,
          333,
          349,
          329,
          303,
          324,
          379,
          340,
          395,
          318,
          313,
          368,
          245,
          287,
          389,
          278,
          284,
          269,
          348,
          311,
          267,
          290,
          332,
          290,
          267,
          313,
          322,
          337,
          287,
          297,
          338,
          314,
          278,
          271,
          334,
          296,
          307,
          266,
          332,
          320,
          330,
          352,
          311,
          299,
          310,
          321,
          365,
          252,
          283,
          258,
          367,
          378,
          314,
          304,
          333,
          371,
          289,
          277,
          384,
          338,
          320,
          300,
          322,
          346,
          280,
          297,
          331,
          310,
          332,
          325,
          377,
          352,
          356,
          388,
          401,
          329,
          344,
          239,
          338,
          314,
          253,
          315,
          386,
          265,
          305,
          312,
          346,
          317,
          340,
          298,
          350,
          279,
          315,
          349,
          354,
          379,
          311,
          248,
          320,
          314,
          297,
          313,
          347,
          383,
          353,
          335,
          336,
          341,
          342,
          314,
          397,
          345,
          332,
          269,
          322,
          327,
          355,
          318,
          381,
          364,
          326,
          310,
          397,
          359,
          373,
          308,
          322,
          297,
          371,
          336,
          358,
          335,
          383,
          350,
          367,
          364,
          335,
          366,
          356,
          352,
          381,
          350,
          398,
          362,
          325,
          310,
          337,
          323,
          342,
          394,
          362,
          354,
          266,
          304,
          419,
          349,
          401,
          331,
          390,
          352,
          345,
          299,
          375,
          332,
          333,
          329,
          404,
          307,
          306,
          322,
          355,
          367,
          361,
          302,
          367,
          342,
          288,
          294,
          357,
          337,
          345,
          350,
          352,
          277,
          310,
          277,
          408,
          352,
          343,
          300,
          385,
          347,
          352,
          339,
          382,
          376,
          334,
          278,
          346,
          281,
          305,
          330,
          347,
          346,
          293,
          326,
          381,
          360,
          260,
          261,
          360,
          325,
          287,
          329,
          329,
          336,
          324,
          298,
          350,
          292,
          301,
          319,
          385,
          377,
          267,
          321,
          375,
          338,
          340,
          322,
          300,
          337,
          326,
          297,
          383,
          351,
          317,
          330
         ],
         "xaxis": "x",
         "y": [
          24,
          34,
          34,
          20,
          38,
          22,
          28,
          33,
          20,
          21,
          31,
          27,
          18,
          24,
          26,
          31,
          22,
          29,
          28,
          38,
          32,
          24,
          29,
          28,
          31,
          28,
          31,
          31,
          39,
          29,
          25,
          36,
          27,
          16,
          29,
          42,
          21,
          23,
          32,
          40,
          17,
          22,
          25,
          31,
          18,
          29,
          27,
          35,
          22,
          24,
          37,
          27,
          29,
          21,
          20,
          37,
          30,
          26,
          26,
          36,
          27,
          39,
          29,
          40,
          24,
          30,
          26,
          34,
          20,
          23,
          36,
          30,
          19,
          17,
          26,
          24,
          16,
          23,
          28,
          23,
          25,
          27,
          31,
          34,
          28,
          30,
          30,
          45,
          23,
          26,
          29,
          43,
          17,
          37,
          37,
          35,
          27,
          25,
          29,
          25,
          23,
          24,
          37,
          42,
          19,
          26,
          23,
          25,
          15,
          26,
          30,
          46,
          24,
          30,
          28,
          17,
          36,
          33,
          32,
          39,
          23,
          27,
          20,
          32,
          34,
          18,
          32,
          30,
          15,
          21,
          25,
          29,
          22,
          29,
          30,
          40,
          19,
          21,
          34,
          38,
          24,
          29,
          33,
          37,
          24,
          34,
          29,
          27,
          24,
          30,
          36,
          34,
          20,
          29,
          30,
          24,
          24,
          36,
          34,
          37,
          13,
          21,
          31,
          30,
          25,
          21,
          26,
          26,
          17,
          17,
          32,
          24,
          20,
          30,
          23,
          24,
          13,
          26,
          33,
          18,
          31,
          27,
          21,
          29,
          19,
          21,
          26,
          26,
          30,
          35,
          27,
          31,
          22,
          30,
          29,
          30,
          25,
          22,
          25,
          31,
          24,
          28,
          31,
          23,
          17,
          23,
          33,
          27,
          19,
          23,
          31,
          28,
          18,
          16,
          34,
          41,
          28,
          25,
          31,
          34,
          36,
          24,
          31,
          33,
          10,
          21,
          31,
          39,
          18,
          20,
          29,
          34,
          25,
          33,
          18,
          29,
          14,
          29,
          26,
          27,
          25,
          42,
          30,
          31,
          31,
          22,
          25,
          37,
          17,
          31,
          19,
          37,
          31,
          21,
          23,
          35,
          17,
          34,
          25,
          30,
          24,
          28,
          22,
          19,
          20,
          22,
          23,
          29,
          30,
          28,
          30,
          28,
          24,
          38,
          21,
          35,
          14,
          23,
          29,
          26,
          19,
          21,
          23,
          40,
          10,
          32,
          23,
          23,
          16,
          26,
          37,
          34,
          16,
          26,
          30,
          26,
          17,
          27,
          28,
          26,
          25,
          26,
          26,
          37,
          14,
          21,
          29,
          37,
          16,
          23,
          24,
          33,
          18,
          22,
          24,
          23,
          16,
          18,
          22,
          34,
          20,
          29,
          26,
          27,
          30,
          24,
          29,
          29,
          14,
          25,
          27,
          31,
          26,
          18,
          21,
          31,
          19,
          20,
          44,
          34,
          25,
          23,
          34,
          32,
          19,
          19,
          28,
          21,
          19,
          18,
          31,
          21,
          13,
          23,
          23,
          24,
          21,
          26,
          20,
          23,
          31,
          22,
          26,
          26,
          20,
          17,
          23,
          29,
          25,
          36,
          28,
          31,
          13,
          20,
          20,
          29,
          23,
          30,
          23,
          33,
          14,
          17,
          22,
          27,
          14,
          24,
          19,
          19,
          17,
          28,
          28,
          30,
          20,
          30,
          28,
          33,
          31,
          15,
          24,
          24,
          22,
          31,
          21,
          33,
          17,
          17,
          24,
          21,
          19,
          30,
          20,
          28,
          24,
          16,
          22,
          17,
          11,
          23,
          12,
          34,
          18,
          23,
          17,
          25,
          24,
          18,
          22,
          29,
          17,
          14,
          25,
          35,
          15,
          27,
          21,
          20,
          17,
          15,
          16,
          31,
          11,
          27,
          24,
          29,
          18,
          28,
          29,
          25,
          12,
          16,
          29,
          24,
          20,
          17,
          23,
          41,
          23,
          25,
          15,
          28,
          11,
          15,
          28,
          34,
          20,
          22,
          27,
          22,
          14,
          22,
          25,
          22,
          18,
          22,
          18,
          27,
          21,
          17,
          25,
          23,
          18,
          23,
          32,
          30,
          20,
          26,
          24,
          17,
          16,
          24,
          18,
          29,
          18,
          19,
          21,
          24,
          17,
          23,
          19,
          19,
          24,
          20,
          15,
          19,
          16,
          18,
          22,
          35,
          19,
          11,
          32,
          28,
          15,
          19,
          25,
          26,
          15,
          30,
          28,
          30,
          22,
          17,
          21,
          20,
          15,
          16,
          17,
          31,
          23,
          18,
          33,
          21,
          13,
          20,
          19,
          23,
          8,
          25,
          41,
          35,
          23,
          20,
          24,
          18,
          22,
          20,
          19,
          19,
          18,
          18,
          16,
          24,
          12,
          15,
          18,
          25,
          16,
          26,
          16,
          32,
          27,
          22,
          26,
          29,
          11,
          22,
          23,
          21,
          17,
          17,
          21,
          18,
          18,
          25,
          21,
          31,
          22,
          23,
          26,
          27,
          21,
          20,
          22,
          26,
          25,
          19,
          22,
          29,
          25,
          24,
          22,
          18,
          20,
          16,
          24,
          30,
          13,
          13,
          29,
          23,
          19,
          18,
          26,
          29,
          23,
          15,
          24,
          13,
          27,
          21,
          23,
          23,
          18,
          21,
          19,
          21,
          22,
          23,
          34,
          28,
          23,
          19,
          21,
          24,
          19,
          23,
          16,
          23,
          23,
          15,
          22,
          25,
          22,
          21,
          25,
          21,
          17,
          23,
          23,
          25,
          28,
          25,
          33,
          29,
          19,
          37,
          16,
          16,
          14,
          30,
          22,
          20,
          28,
          24,
          22,
          21,
          16,
          28,
          19,
          32,
          23,
          18,
          34,
          25,
          18,
          18,
          28,
          20,
          18,
          18,
          17,
          18
         ],
         "yaxis": "y"
        }
       ],
       "layout": {
        "coloraxis": {
         "colorbar": {
          "title": {
           "text": "win_loss_perc"
          }
         },
         "colorscale": [
          [
           0,
           "#0d0887"
          ],
          [
           0.1111111111111111,
           "#46039f"
          ],
          [
           0.2222222222222222,
           "#7201a8"
          ],
          [
           0.3333333333333333,
           "#9c179e"
          ],
          [
           0.4444444444444444,
           "#bd3786"
          ],
          [
           0.5555555555555556,
           "#d8576b"
          ],
          [
           0.6666666666666666,
           "#ed7953"
          ],
          [
           0.7777777777777778,
           "#fb9f3a"
          ],
          [
           0.8888888888888888,
           "#fdca26"
          ],
          [
           1,
           "#f0f921"
          ]
         ]
        },
        "legend": {
         "tracegroupgap": 0
        },
        "margin": {
         "t": 60
        },
        "template": {
         "data": {
          "bar": [
           {
            "error_x": {
             "color": "#2a3f5f"
            },
            "error_y": {
             "color": "#2a3f5f"
            },
            "marker": {
             "line": {
              "color": "#E5ECF6",
              "width": 0.5
             },
             "pattern": {
              "fillmode": "overlay",
              "size": 10,
              "solidity": 0.2
             }
            },
            "type": "bar"
           }
          ],
          "barpolar": [
           {
            "marker": {
             "line": {
              "color": "#E5ECF6",
              "width": 0.5
             },
             "pattern": {
              "fillmode": "overlay",
              "size": 10,
              "solidity": 0.2
             }
            },
            "type": "barpolar"
           }
          ],
          "carpet": [
           {
            "aaxis": {
             "endlinecolor": "#2a3f5f",
             "gridcolor": "white",
             "linecolor": "white",
             "minorgridcolor": "white",
             "startlinecolor": "#2a3f5f"
            },
            "baxis": {
             "endlinecolor": "#2a3f5f",
             "gridcolor": "white",
             "linecolor": "white",
             "minorgridcolor": "white",
             "startlinecolor": "#2a3f5f"
            },
            "type": "carpet"
           }
          ],
          "choropleth": [
           {
            "colorbar": {
             "outlinewidth": 0,
             "ticks": ""
            },
            "type": "choropleth"
           }
          ],
          "contour": [
           {
            "colorbar": {
             "outlinewidth": 0,
             "ticks": ""
            },
            "colorscale": [
             [
              0,
              "#0d0887"
             ],
             [
              0.1111111111111111,
              "#46039f"
             ],
             [
              0.2222222222222222,
              "#7201a8"
             ],
             [
              0.3333333333333333,
              "#9c179e"
             ],
             [
              0.4444444444444444,
              "#bd3786"
             ],
             [
              0.5555555555555556,
              "#d8576b"
             ],
             [
              0.6666666666666666,
              "#ed7953"
             ],
             [
              0.7777777777777778,
              "#fb9f3a"
             ],
             [
              0.8888888888888888,
              "#fdca26"
             ],
             [
              1,
              "#f0f921"
             ]
            ],
            "type": "contour"
           }
          ],
          "contourcarpet": [
           {
            "colorbar": {
             "outlinewidth": 0,
             "ticks": ""
            },
            "type": "contourcarpet"
           }
          ],
          "heatmap": [
           {
            "colorbar": {
             "outlinewidth": 0,
             "ticks": ""
            },
            "colorscale": [
             [
              0,
              "#0d0887"
             ],
             [
              0.1111111111111111,
              "#46039f"
             ],
             [
              0.2222222222222222,
              "#7201a8"
             ],
             [
              0.3333333333333333,
              "#9c179e"
             ],
             [
              0.4444444444444444,
              "#bd3786"
             ],
             [
              0.5555555555555556,
              "#d8576b"
             ],
             [
              0.6666666666666666,
              "#ed7953"
             ],
             [
              0.7777777777777778,
              "#fb9f3a"
             ],
             [
              0.8888888888888888,
              "#fdca26"
             ],
             [
              1,
              "#f0f921"
             ]
            ],
            "type": "heatmap"
           }
          ],
          "heatmapgl": [
           {
            "colorbar": {
             "outlinewidth": 0,
             "ticks": ""
            },
            "colorscale": [
             [
              0,
              "#0d0887"
             ],
             [
              0.1111111111111111,
              "#46039f"
             ],
             [
              0.2222222222222222,
              "#7201a8"
             ],
             [
              0.3333333333333333,
              "#9c179e"
             ],
             [
              0.4444444444444444,
              "#bd3786"
             ],
             [
              0.5555555555555556,
              "#d8576b"
             ],
             [
              0.6666666666666666,
              "#ed7953"
             ],
             [
              0.7777777777777778,
              "#fb9f3a"
             ],
             [
              0.8888888888888888,
              "#fdca26"
             ],
             [
              1,
              "#f0f921"
             ]
            ],
            "type": "heatmapgl"
           }
          ],
          "histogram": [
           {
            "marker": {
             "pattern": {
              "fillmode": "overlay",
              "size": 10,
              "solidity": 0.2
             }
            },
            "type": "histogram"
           }
          ],
          "histogram2d": [
           {
            "colorbar": {
             "outlinewidth": 0,
             "ticks": ""
            },
            "colorscale": [
             [
              0,
              "#0d0887"
             ],
             [
              0.1111111111111111,
              "#46039f"
             ],
             [
              0.2222222222222222,
              "#7201a8"
             ],
             [
              0.3333333333333333,
              "#9c179e"
             ],
             [
              0.4444444444444444,
              "#bd3786"
             ],
             [
              0.5555555555555556,
              "#d8576b"
             ],
             [
              0.6666666666666666,
              "#ed7953"
             ],
             [
              0.7777777777777778,
              "#fb9f3a"
             ],
             [
              0.8888888888888888,
              "#fdca26"
             ],
             [
              1,
              "#f0f921"
             ]
            ],
            "type": "histogram2d"
           }
          ],
          "histogram2dcontour": [
           {
            "colorbar": {
             "outlinewidth": 0,
             "ticks": ""
            },
            "colorscale": [
             [
              0,
              "#0d0887"
             ],
             [
              0.1111111111111111,
              "#46039f"
             ],
             [
              0.2222222222222222,
              "#7201a8"
             ],
             [
              0.3333333333333333,
              "#9c179e"
             ],
             [
              0.4444444444444444,
              "#bd3786"
             ],
             [
              0.5555555555555556,
              "#d8576b"
             ],
             [
              0.6666666666666666,
              "#ed7953"
             ],
             [
              0.7777777777777778,
              "#fb9f3a"
             ],
             [
              0.8888888888888888,
              "#fdca26"
             ],
             [
              1,
              "#f0f921"
             ]
            ],
            "type": "histogram2dcontour"
           }
          ],
          "mesh3d": [
           {
            "colorbar": {
             "outlinewidth": 0,
             "ticks": ""
            },
            "type": "mesh3d"
           }
          ],
          "parcoords": [
           {
            "line": {
             "colorbar": {
              "outlinewidth": 0,
              "ticks": ""
             }
            },
            "type": "parcoords"
           }
          ],
          "pie": [
           {
            "automargin": true,
            "type": "pie"
           }
          ],
          "scatter": [
           {
            "fillpattern": {
             "fillmode": "overlay",
             "size": 10,
             "solidity": 0.2
            },
            "type": "scatter"
           }
          ],
          "scatter3d": [
           {
            "line": {
             "colorbar": {
              "outlinewidth": 0,
              "ticks": ""
             }
            },
            "marker": {
             "colorbar": {
              "outlinewidth": 0,
              "ticks": ""
             }
            },
            "type": "scatter3d"
           }
          ],
          "scattercarpet": [
           {
            "marker": {
             "colorbar": {
              "outlinewidth": 0,
              "ticks": ""
             }
            },
            "type": "scattercarpet"
           }
          ],
          "scattergeo": [
           {
            "marker": {
             "colorbar": {
              "outlinewidth": 0,
              "ticks": ""
             }
            },
            "type": "scattergeo"
           }
          ],
          "scattergl": [
           {
            "marker": {
             "colorbar": {
              "outlinewidth": 0,
              "ticks": ""
             }
            },
            "type": "scattergl"
           }
          ],
          "scattermapbox": [
           {
            "marker": {
             "colorbar": {
              "outlinewidth": 0,
              "ticks": ""
             }
            },
            "type": "scattermapbox"
           }
          ],
          "scatterpolar": [
           {
            "marker": {
             "colorbar": {
              "outlinewidth": 0,
              "ticks": ""
             }
            },
            "type": "scatterpolar"
           }
          ],
          "scatterpolargl": [
           {
            "marker": {
             "colorbar": {
              "outlinewidth": 0,
              "ticks": ""
             }
            },
            "type": "scatterpolargl"
           }
          ],
          "scatterternary": [
           {
            "marker": {
             "colorbar": {
              "outlinewidth": 0,
              "ticks": ""
             }
            },
            "type": "scatterternary"
           }
          ],
          "surface": [
           {
            "colorbar": {
             "outlinewidth": 0,
             "ticks": ""
            },
            "colorscale": [
             [
              0,
              "#0d0887"
             ],
             [
              0.1111111111111111,
              "#46039f"
             ],
             [
              0.2222222222222222,
              "#7201a8"
             ],
             [
              0.3333333333333333,
              "#9c179e"
             ],
             [
              0.4444444444444444,
              "#bd3786"
             ],
             [
              0.5555555555555556,
              "#d8576b"
             ],
             [
              0.6666666666666666,
              "#ed7953"
             ],
             [
              0.7777777777777778,
              "#fb9f3a"
             ],
             [
              0.8888888888888888,
              "#fdca26"
             ],
             [
              1,
              "#f0f921"
             ]
            ],
            "type": "surface"
           }
          ],
          "table": [
           {
            "cells": {
             "fill": {
              "color": "#EBF0F8"
             },
             "line": {
              "color": "white"
             }
            },
            "header": {
             "fill": {
              "color": "#C8D4E3"
             },
             "line": {
              "color": "white"
             }
            },
            "type": "table"
           }
          ]
         },
         "layout": {
          "annotationdefaults": {
           "arrowcolor": "#2a3f5f",
           "arrowhead": 0,
           "arrowwidth": 1
          },
          "autotypenumbers": "strict",
          "coloraxis": {
           "colorbar": {
            "outlinewidth": 0,
            "ticks": ""
           }
          },
          "colorscale": {
           "diverging": [
            [
             0,
             "#8e0152"
            ],
            [
             0.1,
             "#c51b7d"
            ],
            [
             0.2,
             "#de77ae"
            ],
            [
             0.3,
             "#f1b6da"
            ],
            [
             0.4,
             "#fde0ef"
            ],
            [
             0.5,
             "#f7f7f7"
            ],
            [
             0.6,
             "#e6f5d0"
            ],
            [
             0.7,
             "#b8e186"
            ],
            [
             0.8,
             "#7fbc41"
            ],
            [
             0.9,
             "#4d9221"
            ],
            [
             1,
             "#276419"
            ]
           ],
           "sequential": [
            [
             0,
             "#0d0887"
            ],
            [
             0.1111111111111111,
             "#46039f"
            ],
            [
             0.2222222222222222,
             "#7201a8"
            ],
            [
             0.3333333333333333,
             "#9c179e"
            ],
            [
             0.4444444444444444,
             "#bd3786"
            ],
            [
             0.5555555555555556,
             "#d8576b"
            ],
            [
             0.6666666666666666,
             "#ed7953"
            ],
            [
             0.7777777777777778,
             "#fb9f3a"
            ],
            [
             0.8888888888888888,
             "#fdca26"
            ],
            [
             1,
             "#f0f921"
            ]
           ],
           "sequentialminus": [
            [
             0,
             "#0d0887"
            ],
            [
             0.1111111111111111,
             "#46039f"
            ],
            [
             0.2222222222222222,
             "#7201a8"
            ],
            [
             0.3333333333333333,
             "#9c179e"
            ],
            [
             0.4444444444444444,
             "#bd3786"
            ],
            [
             0.5555555555555556,
             "#d8576b"
            ],
            [
             0.6666666666666666,
             "#ed7953"
            ],
            [
             0.7777777777777778,
             "#fb9f3a"
            ],
            [
             0.8888888888888888,
             "#fdca26"
            ],
            [
             1,
             "#f0f921"
            ]
           ]
          },
          "colorway": [
           "#636efa",
           "#EF553B",
           "#00cc96",
           "#ab63fa",
           "#FFA15A",
           "#19d3f3",
           "#FF6692",
           "#B6E880",
           "#FF97FF",
           "#FECB52"
          ],
          "font": {
           "color": "#2a3f5f"
          },
          "geo": {
           "bgcolor": "white",
           "lakecolor": "white",
           "landcolor": "#E5ECF6",
           "showlakes": true,
           "showland": true,
           "subunitcolor": "white"
          },
          "hoverlabel": {
           "align": "left"
          },
          "hovermode": "closest",
          "mapbox": {
           "style": "light"
          },
          "paper_bgcolor": "white",
          "plot_bgcolor": "#E5ECF6",
          "polar": {
           "angularaxis": {
            "gridcolor": "white",
            "linecolor": "white",
            "ticks": ""
           },
           "bgcolor": "#E5ECF6",
           "radialaxis": {
            "gridcolor": "white",
            "linecolor": "white",
            "ticks": ""
           }
          },
          "scene": {
           "xaxis": {
            "backgroundcolor": "#E5ECF6",
            "gridcolor": "white",
            "gridwidth": 2,
            "linecolor": "white",
            "showbackground": true,
            "ticks": "",
            "zerolinecolor": "white"
           },
           "yaxis": {
            "backgroundcolor": "#E5ECF6",
            "gridcolor": "white",
            "gridwidth": 2,
            "linecolor": "white",
            "showbackground": true,
            "ticks": "",
            "zerolinecolor": "white"
           },
           "zaxis": {
            "backgroundcolor": "#E5ECF6",
            "gridcolor": "white",
            "gridwidth": 2,
            "linecolor": "white",
            "showbackground": true,
            "ticks": "",
            "zerolinecolor": "white"
           }
          },
          "shapedefaults": {
           "line": {
            "color": "#2a3f5f"
           }
          },
          "ternary": {
           "aaxis": {
            "gridcolor": "white",
            "linecolor": "white",
            "ticks": ""
           },
           "baxis": {
            "gridcolor": "white",
            "linecolor": "white",
            "ticks": ""
           },
           "bgcolor": "#E5ECF6",
           "caxis": {
            "gridcolor": "white",
            "linecolor": "white",
            "ticks": ""
           }
          },
          "title": {
           "x": 0.05
          },
          "xaxis": {
           "automargin": true,
           "gridcolor": "white",
           "linecolor": "white",
           "ticks": "",
           "title": {
            "standoff": 15
           },
           "zerolinecolor": "white",
           "zerolinewidth": 2
          },
          "yaxis": {
           "automargin": true,
           "gridcolor": "white",
           "linecolor": "white",
           "ticks": "",
           "title": {
            "standoff": 15
           },
           "zerolinecolor": "white",
           "zerolinewidth": 2
          }
         }
        },
        "xaxis": {
         "anchor": "y",
         "domain": [
          0,
          1
         ],
         "range": [
          180,
          450
         ],
         "title": {
          "text": "first_down"
         }
        },
        "yaxis": {
         "anchor": "x",
         "domain": [
          0,
          1
         ],
         "range": [
          5,
          50
         ],
         "title": {
          "text": "turnovers"
         }
        }
       }
      },
      "text/html": [
       "<div>                            <div id=\"668d5e30-94a8-431c-8667-00572acfeb82\" class=\"plotly-graph-div\" style=\"height:525px; width:100%;\"></div>            <script type=\"text/javascript\">                require([\"plotly\"], function(Plotly) {                    window.PLOTLYENV=window.PLOTLYENV || {};                                    if (document.getElementById(\"668d5e30-94a8-431c-8667-00572acfeb82\")) {                    Plotly.newPlot(                        \"668d5e30-94a8-431c-8667-00572acfeb82\",                        [{\"customdata\":[[2003],[2003],[2003],[2003],[2003],[2003],[2003],[2003],[2003],[2003],[2003],[2003],[2003],[2003],[2003],[2003],[2003],[2003],[2003],[2003],[2003],[2003],[2003],[2003],[2003],[2003],[2003],[2003],[2003],[2003],[2003],[2003],[2004],[2004],[2004],[2004],[2004],[2004],[2004],[2004],[2004],[2004],[2004],[2004],[2004],[2004],[2004],[2004],[2004],[2004],[2004],[2004],[2004],[2004],[2004],[2004],[2004],[2004],[2004],[2004],[2004],[2004],[2004],[2004],[2005],[2005],[2005],[2005],[2005],[2005],[2005],[2005],[2005],[2005],[2005],[2005],[2005],[2005],[2005],[2005],[2005],[2005],[2005],[2005],[2005],[2005],[2005],[2005],[2005],[2005],[2005],[2005],[2005],[2005],[2005],[2005],[2006],[2006],[2006],[2006],[2006],[2006],[2006],[2006],[2006],[2006],[2006],[2006],[2006],[2006],[2006],[2006],[2006],[2006],[2006],[2006],[2006],[2006],[2006],[2006],[2006],[2006],[2006],[2006],[2006],[2006],[2006],[2006],[2007],[2007],[2007],[2007],[2007],[2007],[2007],[2007],[2007],[2007],[2007],[2007],[2007],[2007],[2007],[2007],[2007],[2007],[2007],[2007],[2007],[2007],[2007],[2007],[2007],[2007],[2007],[2007],[2007],[2007],[2007],[2007],[2008],[2008],[2008],[2008],[2008],[2008],[2008],[2008],[2008],[2008],[2008],[2008],[2008],[2008],[2008],[2008],[2008],[2008],[2008],[2008],[2008],[2008],[2008],[2008],[2008],[2008],[2008],[2008],[2008],[2008],[2008],[2008],[2009],[2009],[2009],[2009],[2009],[2009],[2009],[2009],[2009],[2009],[2009],[2009],[2009],[2009],[2009],[2009],[2009],[2009],[2009],[2009],[2009],[2009],[2009],[2009],[2009],[2009],[2009],[2009],[2009],[2009],[2009],[2009],[2010],[2010],[2010],[2010],[2010],[2010],[2010],[2010],[2010],[2010],[2010],[2010],[2010],[2010],[2010],[2010],[2010],[2010],[2010],[2010],[2010],[2010],[2010],[2010],[2010],[2010],[2010],[2010],[2010],[2010],[2010],[2010],[2011],[2011],[2011],[2011],[2011],[2011],[2011],[2011],[2011],[2011],[2011],[2011],[2011],[2011],[2011],[2011],[2011],[2011],[2011],[2011],[2011],[2011],[2011],[2011],[2011],[2011],[2011],[2011],[2011],[2011],[2011],[2011],[2012],[2012],[2012],[2012],[2012],[2012],[2012],[2012],[2012],[2012],[2012],[2012],[2012],[2012],[2012],[2012],[2012],[2012],[2012],[2012],[2012],[2012],[2012],[2012],[2012],[2012],[2012],[2012],[2012],[2012],[2012],[2012],[2013],[2013],[2013],[2013],[2013],[2013],[2013],[2013],[2013],[2013],[2013],[2013],[2013],[2013],[2013],[2013],[2013],[2013],[2013],[2013],[2013],[2013],[2013],[2013],[2013],[2013],[2013],[2013],[2013],[2013],[2013],[2013],[2014],[2014],[2014],[2014],[2014],[2014],[2014],[2014],[2014],[2014],[2014],[2014],[2014],[2014],[2014],[2014],[2014],[2014],[2014],[2014],[2014],[2014],[2014],[2014],[2014],[2014],[2014],[2014],[2014],[2014],[2014],[2014],[2015],[2015],[2015],[2015],[2015],[2015],[2015],[2015],[2015],[2015],[2015],[2015],[2015],[2015],[2015],[2015],[2015],[2015],[2015],[2015],[2015],[2015],[2015],[2015],[2015],[2015],[2015],[2015],[2015],[2015],[2015],[2015],[2016],[2016],[2016],[2016],[2016],[2016],[2016],[2016],[2016],[2016],[2016],[2016],[2016],[2016],[2016],[2016],[2016],[2016],[2016],[2016],[2016],[2016],[2016],[2016],[2016],[2016],[2016],[2016],[2016],[2016],[2016],[2016],[2017],[2017],[2017],[2017],[2017],[2017],[2017],[2017],[2017],[2017],[2017],[2017],[2017],[2017],[2017],[2017],[2017],[2017],[2017],[2017],[2017],[2017],[2017],[2017],[2017],[2017],[2017],[2017],[2017],[2017],[2017],[2017],[2018],[2018],[2018],[2018],[2018],[2018],[2018],[2018],[2018],[2018],[2018],[2018],[2018],[2018],[2018],[2018],[2018],[2018],[2018],[2018],[2018],[2018],[2018],[2018],[2018],[2018],[2018],[2018],[2018],[2018],[2018],[2018],[2019],[2019],[2019],[2019],[2019],[2019],[2019],[2019],[2019],[2019],[2019],[2019],[2019],[2019],[2019],[2019],[2019],[2019],[2019],[2019],[2019],[2019],[2019],[2019],[2019],[2019],[2019],[2019],[2019],[2019],[2019],[2019],[2020],[2020],[2020],[2020],[2020],[2020],[2020],[2020],[2020],[2020],[2020],[2020],[2020],[2020],[2020],[2020],[2020],[2020],[2020],[2020],[2020],[2020],[2020],[2020],[2020],[2020],[2020],[2020],[2020],[2020],[2020],[2020],[2021],[2021],[2021],[2021],[2021],[2021],[2021],[2021],[2021],[2021],[2021],[2021],[2021],[2021],[2021],[2021],[2021],[2021],[2021],[2021],[2021],[2021],[2021],[2021],[2021],[2021],[2021],[2021],[2021],[2021],[2021],[2021],[2022],[2022],[2022],[2022],[2022],[2022],[2022],[2022],[2022],[2022],[2022],[2022],[2022],[2022],[2022],[2022],[2022],[2022],[2022],[2022],[2022],[2022],[2022],[2022],[2022],[2022],[2022],[2022],[2022],[2022],[2022],[2022],[2023],[2023],[2023],[2023],[2023],[2023],[2023],[2023],[2023],[2023],[2023],[2023],[2023],[2023],[2023],[2023],[2023],[2023],[2023],[2023],[2023],[2023],[2023],[2023],[2023],[2023],[2023],[2023],[2023],[2023],[2023],[2023]],\"hovertemplate\":\"\\u003cb\\u003e%{hovertext}\\u003c\\u002fb\\u003e\\u003cbr\\u003e\\u003cbr\\u003efirst_down=%{x}\\u003cbr\\u003eturnovers=%{y}\\u003cbr\\u003eyear=%{customdata[0]}\\u003cbr\\u003ewin_loss_perc=%{marker.color}\\u003cextra\\u003e\\u003c\\u002fextra\\u003e\",\"hovertext\":[\"New England Patriots\",\"Miami Dolphins\",\"Buffalo Bills\",\"New York Jets\",\"Baltimore Ravens\",\"Cincinnati Bengals\",\"Pittsburgh Steelers\",\"Cleveland Browns\",\"Indianapolis Colts\",\"Tennessee Titans\",\"Jacksonville Jaguars\",\"Houston Texans\",\"Kansas City Chiefs\",\"Denver Broncos\",\"Oakland Raiders\",\"San Diego Chargers\",\"Philadelphia Eagles\",\"Dallas Cowboys\",\"Washington Redskins\",\"New York Giants\",\"Green Bay Packers\",\"Minnesota Vikings\",\"Chicago Bears\",\"Detroit Lions\",\"Carolina Panthers\",\"New Orleans Saints\",\"Tampa Bay Buccaneers\",\"Atlanta Falcons\",\"St. Louis Rams\",\"Seattle Seahawks\",\"San Francisco 49ers\",\"Arizona Cardinals\",\"New England Patriots\",\"New York Jets\",\"Buffalo Bills\",\"Miami Dolphins\",\"Pittsburgh Steelers\",\"Baltimore Ravens\",\"Cincinnati Bengals\",\"Cleveland Browns\",\"Indianapolis Colts\",\"Jacksonville Jaguars\",\"Houston Texans\",\"Tennessee Titans\",\"San Diego Chargers\",\"Denver Broncos\",\"Kansas City Chiefs\",\"Oakland Raiders\",\"Philadelphia Eagles\",\"New York Giants\",\"Dallas Cowboys\",\"Washington Redskins\",\"Green Bay Packers\",\"Minnesota Vikings\",\"Detroit Lions\",\"Chicago Bears\",\"Atlanta Falcons\",\"New Orleans Saints\",\"Carolina Panthers\",\"Tampa Bay Buccaneers\",\"Seattle Seahawks\",\"St. Louis Rams\",\"Arizona Cardinals\",\"San Francisco 49ers\",\"New England Patriots\",\"Miami Dolphins\",\"Buffalo Bills\",\"New York Jets\",\"Cincinnati Bengals\",\"Pittsburgh Steelers\",\"Baltimore Ravens\",\"Cleveland Browns\",\"Indianapolis Colts\",\"Jacksonville Jaguars\",\"Tennessee Titans\",\"Houston Texans\",\"Denver Broncos\",\"Kansas City Chiefs\",\"San Diego Chargers\",\"Oakland Raiders\",\"New York Giants\",\"Washington Redskins\",\"Dallas Cowboys\",\"Philadelphia Eagles\",\"Chicago Bears\",\"Minnesota Vikings\",\"Detroit Lions\",\"Green Bay Packers\",\"Tampa Bay Buccaneers\",\"Carolina Panthers\",\"Atlanta Falcons\",\"New Orleans Saints\",\"Seattle Seahawks\",\"St. Louis Rams\",\"Arizona Cardinals\",\"San Francisco 49ers\",\"New England Patriots\",\"New York Jets\",\"Buffalo Bills\",\"Miami Dolphins\",\"Baltimore Ravens\",\"Cincinnati Bengals\",\"Pittsburgh Steelers\",\"Cleveland Browns\",\"Indianapolis Colts\",\"Tennessee Titans\",\"Jacksonville Jaguars\",\"Houston Texans\",\"San Diego Chargers\",\"Kansas City Chiefs\",\"Denver Broncos\",\"Oakland Raiders\",\"Philadelphia Eagles\",\"Dallas Cowboys\",\"New York Giants\",\"Washington Redskins\",\"Chicago Bears\",\"Green Bay Packers\",\"Minnesota Vikings\",\"Detroit Lions\",\"New Orleans Saints\",\"Carolina Panthers\",\"Atlanta Falcons\",\"Tampa Bay Buccaneers\",\"Seattle Seahawks\",\"St. Louis Rams\",\"San Francisco 49ers\",\"Arizona Cardinals\",\"New England Patriots\",\"Buffalo Bills\",\"New York Jets\",\"Miami Dolphins\",\"Pittsburgh Steelers\",\"Cleveland Browns\",\"Cincinnati Bengals\",\"Baltimore Ravens\",\"Indianapolis Colts\",\"Jacksonville Jaguars\",\"Tennessee Titans\",\"Houston Texans\",\"San Diego Chargers\",\"Denver Broncos\",\"Kansas City Chiefs\",\"Oakland Raiders\",\"Dallas Cowboys\",\"New York Giants\",\"Washington Redskins\",\"Philadelphia Eagles\",\"Green Bay Packers\",\"Minnesota Vikings\",\"Detroit Lions\",\"Chicago Bears\",\"Tampa Bay Buccaneers\",\"Carolina Panthers\",\"New Orleans Saints\",\"Atlanta Falcons\",\"Seattle Seahawks\",\"Arizona Cardinals\",\"San Francisco 49ers\",\"St. Louis Rams\",\"Miami Dolphins\",\"New England Patriots\",\"New York Jets\",\"Buffalo Bills\",\"Pittsburgh Steelers\",\"Baltimore Ravens\",\"Cincinnati Bengals\",\"Cleveland Browns\",\"Tennessee Titans\",\"Indianapolis Colts\",\"Houston Texans\",\"Jacksonville Jaguars\",\"San Diego Chargers\",\"Denver Broncos\",\"Oakland Raiders\",\"Kansas City Chiefs\",\"New York Giants\",\"Philadelphia Eagles\",\"Dallas Cowboys\",\"Washington Redskins\",\"Minnesota Vikings\",\"Chicago Bears\",\"Green Bay Packers\",\"Detroit Lions\",\"Carolina Panthers\",\"Atlanta Falcons\",\"Tampa Bay Buccaneers\",\"New Orleans Saints\",\"Arizona Cardinals\",\"San Francisco 49ers\",\"Seattle Seahawks\",\"St. Louis Rams\",\"New England Patriots\",\"New York Jets\",\"Miami Dolphins\",\"Buffalo Bills\",\"Cincinnati Bengals\",\"Baltimore Ravens\",\"Pittsburgh Steelers\",\"Cleveland Browns\",\"Indianapolis Colts\",\"Houston Texans\",\"Tennessee Titans\",\"Jacksonville Jaguars\",\"San Diego Chargers\",\"Denver Broncos\",\"Oakland Raiders\",\"Kansas City Chiefs\",\"Dallas Cowboys\",\"Philadelphia Eagles\",\"New York Giants\",\"Washington Redskins\",\"Minnesota Vikings\",\"Green Bay Packers\",\"Chicago Bears\",\"Detroit Lions\",\"New Orleans Saints\",\"Atlanta Falcons\",\"Carolina Panthers\",\"Tampa Bay Buccaneers\",\"Arizona Cardinals\",\"San Francisco 49ers\",\"Seattle Seahawks\",\"St. Louis Rams\",\"New England Patriots\",\"New York Jets\",\"Miami Dolphins\",\"Buffalo Bills\",\"Pittsburgh Steelers\",\"Baltimore Ravens\",\"Cleveland Browns\",\"Cincinnati Bengals\",\"Indianapolis Colts\",\"Jacksonville Jaguars\",\"Houston Texans\",\"Tennessee Titans\",\"Kansas City Chiefs\",\"San Diego Chargers\",\"Oakland Raiders\",\"Denver Broncos\",\"Philadelphia Eagles\",\"New York Giants\",\"Dallas Cowboys\",\"Washington Redskins\",\"Chicago Bears\",\"Green Bay Packers\",\"Detroit Lions\",\"Minnesota Vikings\",\"Atlanta Falcons\",\"New Orleans Saints\",\"Tampa Bay Buccaneers\",\"Carolina Panthers\",\"Seattle Seahawks\",\"St. Louis Rams\",\"San Francisco 49ers\",\"Arizona Cardinals\",\"New England Patriots\",\"New York Jets\",\"Miami Dolphins\",\"Buffalo Bills\",\"Baltimore Ravens\",\"Pittsburgh Steelers\",\"Cincinnati Bengals\",\"Cleveland Browns\",\"Houston Texans\",\"Tennessee Titans\",\"Jacksonville Jaguars\",\"Indianapolis Colts\",\"Denver Broncos\",\"San Diego Chargers\",\"Oakland Raiders\",\"Kansas City Chiefs\",\"New York Giants\",\"Philadelphia Eagles\",\"Dallas Cowboys\",\"Washington Redskins\",\"Green Bay Packers\",\"Detroit Lions\",\"Chicago Bears\",\"Minnesota Vikings\",\"New Orleans Saints\",\"Atlanta Falcons\",\"Carolina Panthers\",\"Tampa Bay Buccaneers\",\"San Francisco 49ers\",\"Arizona Cardinals\",\"Seattle Seahawks\",\"St. Louis Rams\",\"New England Patriots\",\"Miami Dolphins\",\"New York Jets\",\"Buffalo Bills\",\"Baltimore Ravens\",\"Cincinnati Bengals\",\"Pittsburgh Steelers\",\"Cleveland Browns\",\"Houston Texans\",\"Indianapolis Colts\",\"Tennessee Titans\",\"Jacksonville Jaguars\",\"Denver Broncos\",\"San Diego Chargers\",\"Oakland Raiders\",\"Kansas City Chiefs\",\"Washington Redskins\",\"New York Giants\",\"Dallas Cowboys\",\"Philadelphia Eagles\",\"Green Bay Packers\",\"Minnesota Vikings\",\"Chicago Bears\",\"Detroit Lions\",\"Atlanta Falcons\",\"Carolina Panthers\",\"New Orleans Saints\",\"Tampa Bay Buccaneers\",\"San Francisco 49ers\",\"Seattle Seahawks\",\"St. Louis Rams\",\"Arizona Cardinals\",\"New England Patriots\",\"New York Jets\",\"Miami Dolphins\",\"Buffalo Bills\",\"Cincinnati Bengals\",\"Pittsburgh Steelers\",\"Baltimore Ravens\",\"Cleveland Browns\",\"Indianapolis Colts\",\"Tennessee Titans\",\"Jacksonville Jaguars\",\"Houston Texans\",\"Denver Broncos\",\"Kansas City Chiefs\",\"San Diego Chargers\",\"Oakland Raiders\",\"Philadelphia Eagles\",\"Dallas Cowboys\",\"New York Giants\",\"Washington Redskins\",\"Green Bay Packers\",\"Chicago Bears\",\"Detroit Lions\",\"Minnesota Vikings\",\"Carolina Panthers\",\"New Orleans Saints\",\"Atlanta Falcons\",\"Tampa Bay Buccaneers\",\"Seattle Seahawks\",\"San Francisco 49ers\",\"Arizona Cardinals\",\"St. Louis Rams\",\"New England Patriots\",\"Buffalo Bills\",\"Miami Dolphins\",\"New York Jets\",\"Pittsburgh Steelers\",\"Cincinnati Bengals\",\"Baltimore Ravens\",\"Cleveland Browns\",\"Indianapolis Colts\",\"Houston Texans\",\"Jacksonville Jaguars\",\"Tennessee Titans\",\"Denver Broncos\",\"Kansas City Chiefs\",\"San Diego Chargers\",\"Oakland Raiders\",\"Dallas Cowboys\",\"Philadelphia Eagles\",\"New York Giants\",\"Washington Redskins\",\"Green Bay Packers\",\"Detroit Lions\",\"Minnesota Vikings\",\"Chicago Bears\",\"Carolina Panthers\",\"New Orleans Saints\",\"Atlanta Falcons\",\"Tampa Bay Buccaneers\",\"Seattle Seahawks\",\"Arizona Cardinals\",\"San Francisco 49ers\",\"St. Louis Rams\",\"New England Patriots\",\"New York Jets\",\"Buffalo Bills\",\"Miami Dolphins\",\"Cincinnati Bengals\",\"Pittsburgh Steelers\",\"Baltimore Ravens\",\"Cleveland Browns\",\"Houston Texans\",\"Indianapolis Colts\",\"Jacksonville Jaguars\",\"Tennessee Titans\",\"Denver Broncos\",\"Kansas City Chiefs\",\"Oakland Raiders\",\"San Diego Chargers\",\"Washington Redskins\",\"Philadelphia Eagles\",\"New York Giants\",\"Dallas Cowboys\",\"Minnesota Vikings\",\"Green Bay Packers\",\"Detroit Lions\",\"Chicago Bears\",\"Carolina Panthers\",\"Atlanta Falcons\",\"New Orleans Saints\",\"Tampa Bay Buccaneers\",\"Arizona Cardinals\",\"Seattle Seahawks\",\"St. Louis Rams\",\"San Francisco 49ers\",\"New England Patriots\",\"Miami Dolphins\",\"Buffalo Bills\",\"New York Jets\",\"Pittsburgh Steelers\",\"Baltimore Ravens\",\"Cincinnati Bengals\",\"Cleveland Browns\",\"Houston Texans\",\"Tennessee Titans\",\"Indianapolis Colts\",\"Jacksonville Jaguars\",\"Kansas City Chiefs\",\"Oakland Raiders\",\"Denver Broncos\",\"San Diego Chargers\",\"Dallas Cowboys\",\"New York Giants\",\"Washington Redskins\",\"Philadelphia Eagles\",\"Green Bay Packers\",\"Detroit Lions\",\"Minnesota Vikings\",\"Chicago Bears\",\"Atlanta Falcons\",\"Tampa Bay Buccaneers\",\"New Orleans Saints\",\"Carolina Panthers\",\"Seattle Seahawks\",\"Arizona Cardinals\",\"Los Angeles Rams\",\"San Francisco 49ers\",\"New England Patriots\",\"Buffalo Bills\",\"Miami Dolphins\",\"New York Jets\",\"Pittsburgh Steelers\",\"Baltimore Ravens\",\"Cincinnati Bengals\",\"Cleveland Browns\",\"Jacksonville Jaguars\",\"Tennessee Titans\",\"Indianapolis Colts\",\"Houston Texans\",\"Kansas City Chiefs\",\"Los Angeles Chargers\",\"Oakland Raiders\",\"Denver Broncos\",\"Philadelphia Eagles\",\"Dallas Cowboys\",\"Washington Redskins\",\"New York Giants\",\"Minnesota Vikings\",\"Detroit Lions\",\"Green Bay Packers\",\"Chicago Bears\",\"New Orleans Saints\",\"Carolina Panthers\",\"Atlanta Falcons\",\"Tampa Bay Buccaneers\",\"Los Angeles Rams\",\"Seattle Seahawks\",\"Arizona Cardinals\",\"San Francisco 49ers\",\"New England Patriots\",\"Miami Dolphins\",\"Buffalo Bills\",\"New York Jets\",\"Baltimore Ravens\",\"Pittsburgh Steelers\",\"Cleveland Browns\",\"Cincinnati Bengals\",\"Houston Texans\",\"Indianapolis Colts\",\"Tennessee Titans\",\"Jacksonville Jaguars\",\"Kansas City Chiefs\",\"Los Angeles Chargers\",\"Denver Broncos\",\"Oakland Raiders\",\"Dallas Cowboys\",\"Philadelphia Eagles\",\"Washington Redskins\",\"New York Giants\",\"Chicago Bears\",\"Minnesota Vikings\",\"Green Bay Packers\",\"Detroit Lions\",\"New Orleans Saints\",\"Atlanta Falcons\",\"Carolina Panthers\",\"Tampa Bay Buccaneers\",\"Los Angeles Rams\",\"Seattle Seahawks\",\"San Francisco 49ers\",\"Arizona Cardinals\",\"New England Patriots\",\"Buffalo Bills\",\"New York Jets\",\"Miami Dolphins\",\"Baltimore Ravens\",\"Pittsburgh Steelers\",\"Cleveland Browns\",\"Cincinnati Bengals\",\"Houston Texans\",\"Tennessee Titans\",\"Indianapolis Colts\",\"Jacksonville Jaguars\",\"Kansas City Chiefs\",\"Denver Broncos\",\"Oakland Raiders\",\"Los Angeles Chargers\",\"Philadelphia Eagles\",\"Dallas Cowboys\",\"New York Giants\",\"Washington Redskins\",\"Green Bay Packers\",\"Minnesota Vikings\",\"Chicago Bears\",\"Detroit Lions\",\"New Orleans Saints\",\"Atlanta Falcons\",\"Tampa Bay Buccaneers\",\"Carolina Panthers\",\"San Francisco 49ers\",\"Seattle Seahawks\",\"Los Angeles Rams\",\"Arizona Cardinals\",\"Buffalo Bills\",\"Miami Dolphins\",\"New England Patriots\",\"New York Jets\",\"Pittsburgh Steelers\",\"Baltimore Ravens\",\"Cleveland Browns\",\"Cincinnati Bengals\",\"Tennessee Titans\",\"Indianapolis Colts\",\"Houston Texans\",\"Jacksonville Jaguars\",\"Kansas City Chiefs\",\"Las Vegas Raiders\",\"Los Angeles Chargers\",\"Denver Broncos\",\"Washington Football Team\",\"New York Giants\",\"Dallas Cowboys\",\"Philadelphia Eagles\",\"Green Bay Packers\",\"Chicago Bears\",\"Minnesota Vikings\",\"Detroit Lions\",\"New Orleans Saints\",\"Tampa Bay Buccaneers\",\"Carolina Panthers\",\"Atlanta Falcons\",\"Seattle Seahawks\",\"Los Angeles Rams\",\"Arizona Cardinals\",\"San Francisco 49ers\",\"Buffalo Bills\",\"New England Patriots\",\"Miami Dolphins\",\"New York Jets\",\"Cincinnati Bengals\",\"Pittsburgh Steelers\",\"Cleveland Browns\",\"Baltimore Ravens\",\"Tennessee Titans\",\"Indianapolis Colts\",\"Houston Texans\",\"Jacksonville Jaguars\",\"Kansas City Chiefs\",\"Las Vegas Raiders\",\"Los Angeles Chargers\",\"Denver Broncos\",\"Dallas Cowboys\",\"Philadelphia Eagles\",\"Washington Football Team\",\"New York Giants\",\"Green Bay Packers\",\"Minnesota Vikings\",\"Chicago Bears\",\"Detroit Lions\",\"Tampa Bay Buccaneers\",\"New Orleans Saints\",\"Atlanta Falcons\",\"Carolina Panthers\",\"Los Angeles Rams\",\"Arizona Cardinals\",\"San Francisco 49ers\",\"Seattle Seahawks\",\"Buffalo Bills\",\"Miami Dolphins\",\"New England Patriots\",\"New York Jets\",\"Cincinnati Bengals\",\"Baltimore Ravens\",\"Pittsburgh Steelers\",\"Cleveland Browns\",\"Jacksonville Jaguars\",\"Tennessee Titans\",\"Indianapolis Colts\",\"Houston Texans\",\"Kansas City Chiefs\",\"Los Angeles Chargers\",\"Las Vegas Raiders\",\"Denver Broncos\",\"Philadelphia Eagles\",\"Dallas Cowboys\",\"New York Giants\",\"Washington Commanders\",\"Minnesota Vikings\",\"Detroit Lions\",\"Green Bay Packers\",\"Chicago Bears\",\"Tampa Bay Buccaneers\",\"Carolina Panthers\",\"New Orleans Saints\",\"Atlanta Falcons\",\"San Francisco 49ers\",\"Seattle Seahawks\",\"Los Angeles Rams\",\"Arizona Cardinals\",\"Buffalo Bills\",\"Miami Dolphins\",\"New York Jets\",\"New England Patriots\",\"Baltimore Ravens\",\"Cleveland Browns\",\"Pittsburgh Steelers\",\"Cincinnati Bengals\",\"Houston Texans\",\"Jacksonville Jaguars\",\"Indianapolis Colts\",\"Tennessee Titans\",\"Kansas City Chiefs\",\"Las Vegas Raiders\",\"Denver Broncos\",\"Los Angeles Chargers\",\"Dallas Cowboys\",\"Philadelphia Eagles\",\"New York Giants\",\"Washington Commanders\",\"Detroit Lions\",\"Green Bay Packers\",\"Minnesota Vikings\",\"Chicago Bears\",\"Tampa Bay Buccaneers\",\"New Orleans Saints\",\"Atlanta Falcons\",\"Carolina Panthers\",\"San Francisco 49ers\",\"Los Angeles Rams\",\"Seattle Seahawks\",\"Arizona Cardinals\"],\"legendgroup\":\"\",\"marker\":{\"color\":[0.875,0.625,0.375,0.375,0.625,0.5,0.375,0.313,0.75,0.75,0.313,0.313,0.813,0.625,0.25,0.25,0.75,0.625,0.313,0.25,0.625,0.563,0.438,0.313,0.688,0.5,0.438,0.313,0.75,0.625,0.438,0.25,0.875,0.625,0.563,0.25,0.938,0.563,0.5,0.25,0.75,0.563,0.438,0.313,0.75,0.625,0.438,0.313,0.813,0.375,0.375,0.375,0.625,0.5,0.375,0.313,0.688,0.5,0.438,0.313,0.563,0.5,0.375,0.125,0.625,0.563,0.313,0.25,0.688,0.688,0.375,0.375,0.875,0.75,0.25,0.125,0.813,0.625,0.563,0.25,0.688,0.625,0.563,0.375,0.688,0.563,0.313,0.25,0.688,0.688,0.5,0.188,0.813,0.375,0.313,0.25,0.75,0.625,0.438,0.375,0.813,0.5,0.5,0.25,0.75,0.5,0.5,0.375,0.875,0.563,0.563,0.125,0.625,0.563,0.5,0.313,0.813,0.5,0.375,0.188,0.625,0.5,0.438,0.25,0.563,0.5,0.438,0.313,1.0,0.438,0.25,0.063,0.625,0.625,0.438,0.313,0.813,0.688,0.625,0.5,0.688,0.438,0.25,0.25,0.813,0.625,0.563,0.5,0.813,0.5,0.438,0.438,0.563,0.438,0.438,0.25,0.625,0.5,0.313,0.188,0.688,0.688,0.563,0.438,0.75,0.688,0.281,0.25,0.813,0.75,0.5,0.313,0.5,0.5,0.313,0.125,0.75,0.594,0.563,0.5,0.625,0.563,0.375,0.0,0.75,0.688,0.563,0.5,0.563,0.438,0.25,0.125,0.625,0.563,0.438,0.375,0.625,0.563,0.563,0.313,0.875,0.563,0.5,0.438,0.813,0.5,0.313,0.25,0.688,0.688,0.5,0.25,0.75,0.688,0.438,0.125,0.813,0.563,0.5,0.188,0.625,0.5,0.313,0.063,0.875,0.688,0.438,0.25,0.75,0.75,0.313,0.25,0.625,0.5,0.375,0.375,0.625,0.563,0.5,0.25,0.625,0.625,0.375,0.375,0.688,0.625,0.375,0.375,0.813,0.688,0.625,0.125,0.438,0.438,0.375,0.313,0.813,0.5,0.375,0.375,0.75,0.75,0.563,0.25,0.625,0.563,0.313,0.125,0.5,0.5,0.5,0.438,0.563,0.5,0.5,0.313,0.938,0.625,0.5,0.188,0.813,0.625,0.375,0.25,0.813,0.5,0.438,0.125,0.75,0.438,0.375,0.375,0.625,0.625,0.5,0.313,0.75,0.688,0.375,0.125,0.813,0.438,0.25,0.125,0.625,0.563,0.5,0.25,0.688,0.625,0.625,0.25,0.813,0.438,0.438,0.438,0.719,0.688,0.469,0.313,0.75,0.5,0.5,0.375,0.688,0.5,0.5,0.25,0.688,0.438,0.25,0.125,0.813,0.688,0.563,0.25,0.625,0.5,0.438,0.188,0.531,0.5,0.438,0.344,0.75,0.688,0.25,0.25,0.813,0.75,0.625,0.438,0.75,0.563,0.5,0.25,0.688,0.656,0.625,0.438,0.688,0.563,0.188,0.125,0.75,0.563,0.563,0.188,0.75,0.625,0.375,0.25,0.75,0.688,0.438,0.313,0.469,0.438,0.375,0.125,0.75,0.688,0.5,0.375,0.75,0.625,0.5,0.375,0.75,0.625,0.313,0.188,0.563,0.5,0.313,0.188,0.75,0.688,0.438,0.25,0.563,0.438,0.375,0.25,0.688,0.625,0.438,0.375,0.938,0.5,0.438,0.375,0.813,0.625,0.438,0.313,0.875,0.625,0.438,0.313,0.688,0.5,0.406,0.063,0.563,0.563,0.5,0.188,0.75,0.75,0.563,0.313,0.813,0.688,0.531,0.438,0.625,0.563,0.5,0.188,0.688,0.563,0.438,0.375,0.656,0.469,0.25,0.125,0.813,0.563,0.375,0.313,0.813,0.563,0.438,0.0,0.625,0.563,0.25,0.25,0.625,0.563,0.375,0.313,0.813,0.563,0.438,0.188,0.813,0.563,0.438,0.313,0.688,0.688,0.625,0.313,0.688,0.563,0.5,0.375,0.688,0.438,0.375,0.25,0.625,0.594,0.469,0.375,0.688,0.625,0.563,0.313,0.75,0.75,0.375,0.25,0.625,0.563,0.438,0.313,0.75,0.531,0.406,0.375,0.813,0.438,0.438,0.313,0.813,0.625,0.25,0.188,0.75,0.625,0.438,0.313,0.875,0.5,0.375,0.125,0.625,0.563,0.438,0.375,0.75,0.438,0.438,0.313,0.563,0.5,0.25,0.188,0.813,0.625,0.5,0.219,0.813,0.438,0.438,0.313,0.813,0.688,0.563,0.344,0.813,0.625,0.438,0.125,0.75,0.688,0.688,0.281,0.688,0.688,0.25,0.063,0.875,0.5,0.438,0.313,0.438,0.375,0.375,0.281,0.813,0.5,0.438,0.313,0.75,0.688,0.313,0.25,0.75,0.625,0.5,0.375,0.647,0.588,0.529,0.235,0.588,0.559,0.471,0.471,0.706,0.529,0.235,0.176,0.706,0.588,0.529,0.412,0.706,0.529,0.412,0.235,0.765,0.471,0.353,0.206,0.765,0.529,0.412,0.294,0.706,0.647,0.588,0.412,0.813,0.529,0.471,0.412,0.75,0.588,0.529,0.412,0.529,0.412,0.265,0.206,0.824,0.588,0.353,0.294,0.824,0.706,0.559,0.5,0.765,0.529,0.471,0.176,0.471,0.412,0.412,0.412,0.765,0.529,0.294,0.235,0.647,0.647,0.412,0.235,0.765,0.647,0.588,0.529,0.588,0.529,0.529,0.353,0.647,0.471,0.471,0.294,0.706,0.647,0.353,0.235,0.706,0.529,0.412,0.412,0.529,0.529,0.412,0.118,0.706,0.588,0.529,0.235],\"coloraxis\":\"coloraxis\",\"symbol\":\"circle\"},\"mode\":\"markers\",\"name\":\"\",\"orientation\":\"v\",\"showlegend\":false,\"x\":[294,266,268,274,259,313,275,276,348,310,305,237,348,334,258,290,302,286,272,300,315,336,264,250,284,302,307,252,335,338,313,256,344,313,271,267,309,260,286,245,379,279,300,308,328,351,398,275,301,281,296,269,354,351,263,230,284,291,308,271,320,321,280,280,334,274,259,251,342,297,286,241,363,301,279,243,330,347,337,294,312,301,318,282,233,285,258,318,268,278,313,312,361,314,304,191,330,289,234,281,282,313,327,250,376,261,293,282,321,310,285,243,312,336,304,295,300,301,272,290,330,278,287,237,312,332,243,298,393,248,286,283,298,315,320,291,357,328,306,295,278,305,255,267,322,321,307,323,307,294,303,266,281,255,346,248,323,308,218,281,308,356,308,287,290,300,245,233,268,321,340,312,301,354,225,273,338,318,291,295,292,264,299,234,287,313,298,354,328,287,265,249,373,280,333,233,295,320,331,237,339,340,288,300,330,306,234,256,335,290,323,280,343,335,262,281,348,330,289,246,317,238,297,259,335,307,300,263,295,303,265,317,366,330,360,252,319,357,306,309,322,331,327,295,263,312,304,289,353,351,288,225,260,292,251,241,399,301,287,313,312,341,285,278,321,281,251,258,286,359,328,277,331,356,327,312,353,349,271,297,416,349,345,277,282,286,265,267,444,288,299,301,314,292,307,279,341,360,260,269,380,293,300,286,341,327,338,332,341,306,292,382,343,328,352,301,322,311,287,246,378,280,278,301,330,312,295,301,318,311,271,307,435,323,373,275,355,325,280,329,351,344,350,309,319,359,330,269,307,286,329,282,361,273,361,289,379,313,345,294,371,313,271,258,360,309,326,248,342,356,336,318,356,310,288,322,347,395,330,263,328,302,303,288,348,329,297,291,324,331,323,307,335,311,313,298,314,303,300,344,317,339,331,307,297,317,337,312,357,359,381,336,373,335,241,261,351,278,328,291,336,316,341,296,305,322,351,321,305,333,290,340,358,289,345,333,349,329,303,324,379,340,395,318,313,368,245,287,389,278,284,269,348,311,267,290,332,290,267,313,322,337,287,297,338,314,278,271,334,296,307,266,332,320,330,352,311,299,310,321,365,252,283,258,367,378,314,304,333,371,289,277,384,338,320,300,322,346,280,297,331,310,332,325,377,352,356,388,401,329,344,239,338,314,253,315,386,265,305,312,346,317,340,298,350,279,315,349,354,379,311,248,320,314,297,313,347,383,353,335,336,341,342,314,397,345,332,269,322,327,355,318,381,364,326,310,397,359,373,308,322,297,371,336,358,335,383,350,367,364,335,366,356,352,381,350,398,362,325,310,337,323,342,394,362,354,266,304,419,349,401,331,390,352,345,299,375,332,333,329,404,307,306,322,355,367,361,302,367,342,288,294,357,337,345,350,352,277,310,277,408,352,343,300,385,347,352,339,382,376,334,278,346,281,305,330,347,346,293,326,381,360,260,261,360,325,287,329,329,336,324,298,350,292,301,319,385,377,267,321,375,338,340,322,300,337,326,297,383,351,317,330],\"xaxis\":\"x\",\"y\":[24,34,34,20,38,22,28,33,20,21,31,27,18,24,26,31,22,29,28,38,32,24,29,28,31,28,31,31,39,29,25,36,27,16,29,42,21,23,32,40,17,22,25,31,18,29,27,35,22,24,37,27,29,21,20,37,30,26,26,36,27,39,29,40,24,30,26,34,20,23,36,30,19,17,26,24,16,23,28,23,25,27,31,34,28,30,30,45,23,26,29,43,17,37,37,35,27,25,29,25,23,24,37,42,19,26,23,25,15,26,30,46,24,30,28,17,36,33,32,39,23,27,20,32,34,18,32,30,15,21,25,29,22,29,30,40,19,21,34,38,24,29,33,37,24,34,29,27,24,30,36,34,20,29,30,24,24,36,34,37,13,21,31,30,25,21,26,26,17,17,32,24,20,30,23,24,13,26,33,18,31,27,21,29,19,21,26,26,30,35,27,31,22,30,29,30,25,22,25,31,24,28,31,23,17,23,33,27,19,23,31,28,18,16,34,41,28,25,31,34,36,24,31,33,10,21,31,39,18,20,29,34,25,33,18,29,14,29,26,27,25,42,30,31,31,22,25,37,17,31,19,37,31,21,23,35,17,34,25,30,24,28,22,19,20,22,23,29,30,28,30,28,24,38,21,35,14,23,29,26,19,21,23,40,10,32,23,23,16,26,37,34,16,26,30,26,17,27,28,26,25,26,26,37,14,21,29,37,16,23,24,33,18,22,24,23,16,18,22,34,20,29,26,27,30,24,29,29,14,25,27,31,26,18,21,31,19,20,44,34,25,23,34,32,19,19,28,21,19,18,31,21,13,23,23,24,21,26,20,23,31,22,26,26,20,17,23,29,25,36,28,31,13,20,20,29,23,30,23,33,14,17,22,27,14,24,19,19,17,28,28,30,20,30,28,33,31,15,24,24,22,31,21,33,17,17,24,21,19,30,20,28,24,16,22,17,11,23,12,34,18,23,17,25,24,18,22,29,17,14,25,35,15,27,21,20,17,15,16,31,11,27,24,29,18,28,29,25,12,16,29,24,20,17,23,41,23,25,15,28,11,15,28,34,20,22,27,22,14,22,25,22,18,22,18,27,21,17,25,23,18,23,32,30,20,26,24,17,16,24,18,29,18,19,21,24,17,23,19,19,24,20,15,19,16,18,22,35,19,11,32,28,15,19,25,26,15,30,28,30,22,17,21,20,15,16,17,31,23,18,33,21,13,20,19,23,8,25,41,35,23,20,24,18,22,20,19,19,18,18,16,24,12,15,18,25,16,26,16,32,27,22,26,29,11,22,23,21,17,17,21,18,18,25,21,31,22,23,26,27,21,20,22,26,25,19,22,29,25,24,22,18,20,16,24,30,13,13,29,23,19,18,26,29,23,15,24,13,27,21,23,23,18,21,19,21,22,23,34,28,23,19,21,24,19,23,16,23,23,15,22,25,22,21,25,21,17,23,23,25,28,25,33,29,19,37,16,16,14,30,22,20,28,24,22,21,16,28,19,32,23,18,34,25,18,18,28,20,18,18,17,18],\"yaxis\":\"y\",\"type\":\"scatter\"}],                        {\"template\":{\"data\":{\"histogram2dcontour\":[{\"type\":\"histogram2dcontour\",\"colorbar\":{\"outlinewidth\":0,\"ticks\":\"\"},\"colorscale\":[[0.0,\"#0d0887\"],[0.1111111111111111,\"#46039f\"],[0.2222222222222222,\"#7201a8\"],[0.3333333333333333,\"#9c179e\"],[0.4444444444444444,\"#bd3786\"],[0.5555555555555556,\"#d8576b\"],[0.6666666666666666,\"#ed7953\"],[0.7777777777777778,\"#fb9f3a\"],[0.8888888888888888,\"#fdca26\"],[1.0,\"#f0f921\"]]}],\"choropleth\":[{\"type\":\"choropleth\",\"colorbar\":{\"outlinewidth\":0,\"ticks\":\"\"}}],\"histogram2d\":[{\"type\":\"histogram2d\",\"colorbar\":{\"outlinewidth\":0,\"ticks\":\"\"},\"colorscale\":[[0.0,\"#0d0887\"],[0.1111111111111111,\"#46039f\"],[0.2222222222222222,\"#7201a8\"],[0.3333333333333333,\"#9c179e\"],[0.4444444444444444,\"#bd3786\"],[0.5555555555555556,\"#d8576b\"],[0.6666666666666666,\"#ed7953\"],[0.7777777777777778,\"#fb9f3a\"],[0.8888888888888888,\"#fdca26\"],[1.0,\"#f0f921\"]]}],\"heatmap\":[{\"type\":\"heatmap\",\"colorbar\":{\"outlinewidth\":0,\"ticks\":\"\"},\"colorscale\":[[0.0,\"#0d0887\"],[0.1111111111111111,\"#46039f\"],[0.2222222222222222,\"#7201a8\"],[0.3333333333333333,\"#9c179e\"],[0.4444444444444444,\"#bd3786\"],[0.5555555555555556,\"#d8576b\"],[0.6666666666666666,\"#ed7953\"],[0.7777777777777778,\"#fb9f3a\"],[0.8888888888888888,\"#fdca26\"],[1.0,\"#f0f921\"]]}],\"heatmapgl\":[{\"type\":\"heatmapgl\",\"colorbar\":{\"outlinewidth\":0,\"ticks\":\"\"},\"colorscale\":[[0.0,\"#0d0887\"],[0.1111111111111111,\"#46039f\"],[0.2222222222222222,\"#7201a8\"],[0.3333333333333333,\"#9c179e\"],[0.4444444444444444,\"#bd3786\"],[0.5555555555555556,\"#d8576b\"],[0.6666666666666666,\"#ed7953\"],[0.7777777777777778,\"#fb9f3a\"],[0.8888888888888888,\"#fdca26\"],[1.0,\"#f0f921\"]]}],\"contourcarpet\":[{\"type\":\"contourcarpet\",\"colorbar\":{\"outlinewidth\":0,\"ticks\":\"\"}}],\"contour\":[{\"type\":\"contour\",\"colorbar\":{\"outlinewidth\":0,\"ticks\":\"\"},\"colorscale\":[[0.0,\"#0d0887\"],[0.1111111111111111,\"#46039f\"],[0.2222222222222222,\"#7201a8\"],[0.3333333333333333,\"#9c179e\"],[0.4444444444444444,\"#bd3786\"],[0.5555555555555556,\"#d8576b\"],[0.6666666666666666,\"#ed7953\"],[0.7777777777777778,\"#fb9f3a\"],[0.8888888888888888,\"#fdca26\"],[1.0,\"#f0f921\"]]}],\"surface\":[{\"type\":\"surface\",\"colorbar\":{\"outlinewidth\":0,\"ticks\":\"\"},\"colorscale\":[[0.0,\"#0d0887\"],[0.1111111111111111,\"#46039f\"],[0.2222222222222222,\"#7201a8\"],[0.3333333333333333,\"#9c179e\"],[0.4444444444444444,\"#bd3786\"],[0.5555555555555556,\"#d8576b\"],[0.6666666666666666,\"#ed7953\"],[0.7777777777777778,\"#fb9f3a\"],[0.8888888888888888,\"#fdca26\"],[1.0,\"#f0f921\"]]}],\"mesh3d\":[{\"type\":\"mesh3d\",\"colorbar\":{\"outlinewidth\":0,\"ticks\":\"\"}}],\"scatter\":[{\"fillpattern\":{\"fillmode\":\"overlay\",\"size\":10,\"solidity\":0.2},\"type\":\"scatter\"}],\"parcoords\":[{\"type\":\"parcoords\",\"line\":{\"colorbar\":{\"outlinewidth\":0,\"ticks\":\"\"}}}],\"scatterpolargl\":[{\"type\":\"scatterpolargl\",\"marker\":{\"colorbar\":{\"outlinewidth\":0,\"ticks\":\"\"}}}],\"bar\":[{\"error_x\":{\"color\":\"#2a3f5f\"},\"error_y\":{\"color\":\"#2a3f5f\"},\"marker\":{\"line\":{\"color\":\"#E5ECF6\",\"width\":0.5},\"pattern\":{\"fillmode\":\"overlay\",\"size\":10,\"solidity\":0.2}},\"type\":\"bar\"}],\"scattergeo\":[{\"type\":\"scattergeo\",\"marker\":{\"colorbar\":{\"outlinewidth\":0,\"ticks\":\"\"}}}],\"scatterpolar\":[{\"type\":\"scatterpolar\",\"marker\":{\"colorbar\":{\"outlinewidth\":0,\"ticks\":\"\"}}}],\"histogram\":[{\"marker\":{\"pattern\":{\"fillmode\":\"overlay\",\"size\":10,\"solidity\":0.2}},\"type\":\"histogram\"}],\"scattergl\":[{\"type\":\"scattergl\",\"marker\":{\"colorbar\":{\"outlinewidth\":0,\"ticks\":\"\"}}}],\"scatter3d\":[{\"type\":\"scatter3d\",\"line\":{\"colorbar\":{\"outlinewidth\":0,\"ticks\":\"\"}},\"marker\":{\"colorbar\":{\"outlinewidth\":0,\"ticks\":\"\"}}}],\"scattermapbox\":[{\"type\":\"scattermapbox\",\"marker\":{\"colorbar\":{\"outlinewidth\":0,\"ticks\":\"\"}}}],\"scatterternary\":[{\"type\":\"scatterternary\",\"marker\":{\"colorbar\":{\"outlinewidth\":0,\"ticks\":\"\"}}}],\"scattercarpet\":[{\"type\":\"scattercarpet\",\"marker\":{\"colorbar\":{\"outlinewidth\":0,\"ticks\":\"\"}}}],\"carpet\":[{\"aaxis\":{\"endlinecolor\":\"#2a3f5f\",\"gridcolor\":\"white\",\"linecolor\":\"white\",\"minorgridcolor\":\"white\",\"startlinecolor\":\"#2a3f5f\"},\"baxis\":{\"endlinecolor\":\"#2a3f5f\",\"gridcolor\":\"white\",\"linecolor\":\"white\",\"minorgridcolor\":\"white\",\"startlinecolor\":\"#2a3f5f\"},\"type\":\"carpet\"}],\"table\":[{\"cells\":{\"fill\":{\"color\":\"#EBF0F8\"},\"line\":{\"color\":\"white\"}},\"header\":{\"fill\":{\"color\":\"#C8D4E3\"},\"line\":{\"color\":\"white\"}},\"type\":\"table\"}],\"barpolar\":[{\"marker\":{\"line\":{\"color\":\"#E5ECF6\",\"width\":0.5},\"pattern\":{\"fillmode\":\"overlay\",\"size\":10,\"solidity\":0.2}},\"type\":\"barpolar\"}],\"pie\":[{\"automargin\":true,\"type\":\"pie\"}]},\"layout\":{\"autotypenumbers\":\"strict\",\"colorway\":[\"#636efa\",\"#EF553B\",\"#00cc96\",\"#ab63fa\",\"#FFA15A\",\"#19d3f3\",\"#FF6692\",\"#B6E880\",\"#FF97FF\",\"#FECB52\"],\"font\":{\"color\":\"#2a3f5f\"},\"hovermode\":\"closest\",\"hoverlabel\":{\"align\":\"left\"},\"paper_bgcolor\":\"white\",\"plot_bgcolor\":\"#E5ECF6\",\"polar\":{\"bgcolor\":\"#E5ECF6\",\"angularaxis\":{\"gridcolor\":\"white\",\"linecolor\":\"white\",\"ticks\":\"\"},\"radialaxis\":{\"gridcolor\":\"white\",\"linecolor\":\"white\",\"ticks\":\"\"}},\"ternary\":{\"bgcolor\":\"#E5ECF6\",\"aaxis\":{\"gridcolor\":\"white\",\"linecolor\":\"white\",\"ticks\":\"\"},\"baxis\":{\"gridcolor\":\"white\",\"linecolor\":\"white\",\"ticks\":\"\"},\"caxis\":{\"gridcolor\":\"white\",\"linecolor\":\"white\",\"ticks\":\"\"}},\"coloraxis\":{\"colorbar\":{\"outlinewidth\":0,\"ticks\":\"\"}},\"colorscale\":{\"sequential\":[[0.0,\"#0d0887\"],[0.1111111111111111,\"#46039f\"],[0.2222222222222222,\"#7201a8\"],[0.3333333333333333,\"#9c179e\"],[0.4444444444444444,\"#bd3786\"],[0.5555555555555556,\"#d8576b\"],[0.6666666666666666,\"#ed7953\"],[0.7777777777777778,\"#fb9f3a\"],[0.8888888888888888,\"#fdca26\"],[1.0,\"#f0f921\"]],\"sequentialminus\":[[0.0,\"#0d0887\"],[0.1111111111111111,\"#46039f\"],[0.2222222222222222,\"#7201a8\"],[0.3333333333333333,\"#9c179e\"],[0.4444444444444444,\"#bd3786\"],[0.5555555555555556,\"#d8576b\"],[0.6666666666666666,\"#ed7953\"],[0.7777777777777778,\"#fb9f3a\"],[0.8888888888888888,\"#fdca26\"],[1.0,\"#f0f921\"]],\"diverging\":[[0,\"#8e0152\"],[0.1,\"#c51b7d\"],[0.2,\"#de77ae\"],[0.3,\"#f1b6da\"],[0.4,\"#fde0ef\"],[0.5,\"#f7f7f7\"],[0.6,\"#e6f5d0\"],[0.7,\"#b8e186\"],[0.8,\"#7fbc41\"],[0.9,\"#4d9221\"],[1,\"#276419\"]]},\"xaxis\":{\"gridcolor\":\"white\",\"linecolor\":\"white\",\"ticks\":\"\",\"title\":{\"standoff\":15},\"zerolinecolor\":\"white\",\"automargin\":true,\"zerolinewidth\":2},\"yaxis\":{\"gridcolor\":\"white\",\"linecolor\":\"white\",\"ticks\":\"\",\"title\":{\"standoff\":15},\"zerolinecolor\":\"white\",\"automargin\":true,\"zerolinewidth\":2},\"scene\":{\"xaxis\":{\"backgroundcolor\":\"#E5ECF6\",\"gridcolor\":\"white\",\"linecolor\":\"white\",\"showbackground\":true,\"ticks\":\"\",\"zerolinecolor\":\"white\",\"gridwidth\":2},\"yaxis\":{\"backgroundcolor\":\"#E5ECF6\",\"gridcolor\":\"white\",\"linecolor\":\"white\",\"showbackground\":true,\"ticks\":\"\",\"zerolinecolor\":\"white\",\"gridwidth\":2},\"zaxis\":{\"backgroundcolor\":\"#E5ECF6\",\"gridcolor\":\"white\",\"linecolor\":\"white\",\"showbackground\":true,\"ticks\":\"\",\"zerolinecolor\":\"white\",\"gridwidth\":2}},\"shapedefaults\":{\"line\":{\"color\":\"#2a3f5f\"}},\"annotationdefaults\":{\"arrowcolor\":\"#2a3f5f\",\"arrowhead\":0,\"arrowwidth\":1},\"geo\":{\"bgcolor\":\"white\",\"landcolor\":\"#E5ECF6\",\"subunitcolor\":\"white\",\"showland\":true,\"showlakes\":true,\"lakecolor\":\"white\"},\"title\":{\"x\":0.05},\"mapbox\":{\"style\":\"light\"}}},\"xaxis\":{\"anchor\":\"y\",\"domain\":[0.0,1.0],\"title\":{\"text\":\"first_down\"},\"range\":[180,450]},\"yaxis\":{\"anchor\":\"x\",\"domain\":[0.0,1.0],\"title\":{\"text\":\"turnovers\"},\"range\":[5,50]},\"coloraxis\":{\"colorbar\":{\"title\":{\"text\":\"win_loss_perc\"}},\"colorscale\":[[0.0,\"#0d0887\"],[0.1111111111111111,\"#46039f\"],[0.2222222222222222,\"#7201a8\"],[0.3333333333333333,\"#9c179e\"],[0.4444444444444444,\"#bd3786\"],[0.5555555555555556,\"#d8576b\"],[0.6666666666666666,\"#ed7953\"],[0.7777777777777778,\"#fb9f3a\"],[0.8888888888888888,\"#fdca26\"],[1.0,\"#f0f921\"]]},\"legend\":{\"tracegroupgap\":0},\"margin\":{\"t\":60}},                        {\"responsive\": true}                    ).then(function(){\n",
       "                            \n",
       "var gd = document.getElementById('668d5e30-94a8-431c-8667-00572acfeb82');\n",
       "var x = new MutationObserver(function (mutations, observer) {{\n",
       "        var display = window.getComputedStyle(gd).display;\n",
       "        if (!display || display === 'none') {{\n",
       "            console.log([gd, 'removed!']);\n",
       "            Plotly.purge(gd);\n",
       "            observer.disconnect();\n",
       "        }}\n",
       "}});\n",
       "\n",
       "// Listen for the removal of the full notebook cells\n",
       "var notebookContainer = gd.closest('#notebook-container');\n",
       "if (notebookContainer) {{\n",
       "    x.observe(notebookContainer, {childList: true});\n",
       "}}\n",
       "\n",
       "// Listen for the clearing of the current output cell\n",
       "var outputEl = gd.closest('.output');\n",
       "if (outputEl) {{\n",
       "    x.observe(outputEl, {childList: true});\n",
       "}}\n",
       "\n",
       "                        })                };                });            </script>        </div>"
      ]
     },
     "metadata": {},
     "output_type": "display_data"
    },
    {
     "name": "stdout",
     "output_type": "stream",
     "text": [
      "0.13275529312140327\n"
     ]
    }
   ],
   "source": [
    "import plotly.express as px\n",
    "fig = px.scatter(df,x='first_down', y='turnovers',\n",
    "hover_name='team', # can see both team name and year when you hover\n",
    "hover_data='year',\n",
    "color='win_loss_perc',\n",
    "range_x=(180,450), # making the data readable\n",
    "range_y=(5,50))\n",
    "fig.show()\n",
    "\n",
    "slope, intercept, r, p, se = stats.linregress(df['first_down'], df['turnovers'])\n",
    "print(r**2)"
   ]
  },
  {
   "cell_type": "markdown",
   "id": "d1f0cd053f9de5f0",
   "metadata": {},
   "source": [
    "# CONCLUSION #\n",
    "\n",
    "In conclusion, I the team data from the NFL from 2003-2023 to create three interesting data visualizations, each one of which is made to leave the viewer learning something or thinking something they did not know or were not thinking before this. For the first graph, I took a chunk out of the argument that penalties directly affect a team's record. In the second graph, I introduced the idea of polarity not between individual teams, but the states the NFL teams are in. Finally, in the third graph, I. compared the offensive effectiveness to the win percentage to show people the importance of defence in a team. I hope readers can look upon this and gather new information and/or ideas they did not have in their brain before.\n"
   ]
  },
  {
   "cell_type": "markdown",
   "id": "e2678ac747369b9a",
   "metadata": {},
   "source": [
    "# SOURCES #\n",
    "\n",
    "- Dataset from Kaggle: https://www.kaggle.com/datasets/nickcantalupa/nfl-team-data-2003-2023/data\n",
    "- Rahul Boaz for consult on the choropleth\n",
    "- ChatGPT to clean up some minor mistakes "
   ]
  }
 ],
 "metadata": {
  "kernelspec": {
   "display_name": "base",
   "language": "python",
   "name": "python3"
  },
  "language_info": {
   "codemirror_mode": {
    "name": "ipython",
    "version": 3
   },
   "file_extension": ".py",
   "mimetype": "text/x-python",
   "name": "python",
   "nbconvert_exporter": "python",
   "pygments_lexer": "ipython3",
   "version": "3.11.5"
  }
 },
 "nbformat": 4,
 "nbformat_minor": 5
}
