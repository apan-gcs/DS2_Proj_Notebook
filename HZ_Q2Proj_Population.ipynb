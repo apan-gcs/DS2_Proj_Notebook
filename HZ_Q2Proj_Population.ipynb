{
 "cells": [
  {
   "cell_type": "markdown",
   "id": "194e958e6dee072d",
   "metadata": {},
   "source": [
    "Data Science II\n",
    "\n",
    "HZ\n",
    "\n",
    "# USA Population Data"
   ]
  },
  {
   "cell_type": "markdown",
   "id": "2b0ca3bf602759bb",
   "metadata": {},
   "source": [
    "Table of Contents:\n",
    "\n",
    "[Introduction](#Introduction) \n",
    "\n",
    "[Preparing-Data](#Preparing-Data)\n",
    "\n",
    "[State Abbreviations](#State-Abbreviations)\n",
    "\n",
    "[Plot 1 - Bar](#Plot-1---Bar)\n",
    "\n",
    "[Plot 2 - Scatter_Matrix](#Plot-2---Scatter-Matrix)\n",
    "\n",
    "[Plot 3 - Map](#Plot-3---Map)\n",
    "\n",
    "[Conclusion](#Conclusion)"
   ]
  },
  {
   "cell_type": "markdown",
   "id": "ba2a9083c6a537a9",
   "metadata": {},
   "source": [
    "# Introduction \n",
    "This data set contains information from each state in the U.S regarding age population. It gives data from 0 years all the way to 65+ years. The plots in this notebook compare specific states and how there age population differs. This is a data set taken from State Health Facts, https://www.kff.org/other/state-indicator/distribution-by-age/?dataView=0&currentTimeframe=0&selectedDistributions=children-0-18&sortModel=%7B%22colId%22:%22Location%22,%22sort%22:%22asc%22%7D"
   ]
  },
  {
   "cell_type": "markdown",
   "id": "4418b57f4fa8e520",
   "metadata": {},
   "source": [
    "### Preparing-Data\n",
    "    This is where the data is imported so it can be used for the rest of the plots\n"
   ]
  },
  {
   "cell_type": "code",
   "execution_count": 1,
   "id": "initial_id",
   "metadata": {
    "ExecuteTime": {
     "end_time": "2025-01-16T15:13:55.421435Z",
     "start_time": "2025-01-16T15:13:55.374248Z"
    },
    "collapsed": true
   },
   "outputs": [],
   "source": [
    "import pandas as pd\n",
    "import matplotlib.pyplot as plt\n",
    "import numpy as np\n",
    "import plotly.express as px"
   ]
  },
  {
   "cell_type": "code",
   "execution_count": 2,
   "id": "a11a70881a1bf4e5",
   "metadata": {
    "ExecuteTime": {
     "end_time": "2025-01-16T15:13:55.660180Z",
     "start_time": "2025-01-16T15:13:55.572683Z"
    }
   },
   "outputs": [
    {
     "data": {
      "text/html": [
       "<div>\n",
       "<style scoped>\n",
       "    .dataframe tbody tr th:only-of-type {\n",
       "        vertical-align: middle;\n",
       "    }\n",
       "\n",
       "    .dataframe tbody tr th {\n",
       "        vertical-align: top;\n",
       "    }\n",
       "\n",
       "    .dataframe thead th {\n",
       "        text-align: right;\n",
       "    }\n",
       "</style>\n",
       "<table border=\"1\" class=\"dataframe\">\n",
       "  <thead>\n",
       "    <tr style=\"text-align: right;\">\n",
       "      <th></th>\n",
       "      <th>Location</th>\n",
       "      <th>Children 0-18</th>\n",
       "      <th>Adults 19-25</th>\n",
       "      <th>Adults 26-34</th>\n",
       "      <th>Adults 35-54</th>\n",
       "      <th>Adults 55-64</th>\n",
       "      <th>65+</th>\n",
       "      <th>Total</th>\n",
       "      <th>Footnotes</th>\n",
       "    </tr>\n",
       "  </thead>\n",
       "  <tbody>\n",
       "    <tr>\n",
       "      <th>0</th>\n",
       "      <td>United States</td>\n",
       "      <td>0.230</td>\n",
       "      <td>0.084</td>\n",
       "      <td>0.123</td>\n",
       "      <td>0.258</td>\n",
       "      <td>0.127</td>\n",
       "      <td>0.178</td>\n",
       "      <td>1.0</td>\n",
       "      <td>1.0</td>\n",
       "    </tr>\n",
       "    <tr>\n",
       "      <th>1</th>\n",
       "      <td>Alabama</td>\n",
       "      <td>0.235</td>\n",
       "      <td>0.087</td>\n",
       "      <td>0.113</td>\n",
       "      <td>0.252</td>\n",
       "      <td>0.130</td>\n",
       "      <td>0.184</td>\n",
       "      <td>1.0</td>\n",
       "      <td>NaN</td>\n",
       "    </tr>\n",
       "    <tr>\n",
       "      <th>2</th>\n",
       "      <td>Alaska</td>\n",
       "      <td>0.259</td>\n",
       "      <td>0.071</td>\n",
       "      <td>0.138</td>\n",
       "      <td>0.265</td>\n",
       "      <td>0.123</td>\n",
       "      <td>0.143</td>\n",
       "      <td>1.0</td>\n",
       "      <td>NaN</td>\n",
       "    </tr>\n",
       "    <tr>\n",
       "      <th>3</th>\n",
       "      <td>Arizona</td>\n",
       "      <td>0.227</td>\n",
       "      <td>0.089</td>\n",
       "      <td>0.125</td>\n",
       "      <td>0.244</td>\n",
       "      <td>0.120</td>\n",
       "      <td>0.195</td>\n",
       "      <td>1.0</td>\n",
       "      <td>NaN</td>\n",
       "    </tr>\n",
       "    <tr>\n",
       "      <th>4</th>\n",
       "      <td>Arkansas</td>\n",
       "      <td>0.243</td>\n",
       "      <td>0.087</td>\n",
       "      <td>0.116</td>\n",
       "      <td>0.250</td>\n",
       "      <td>0.125</td>\n",
       "      <td>0.179</td>\n",
       "      <td>1.0</td>\n",
       "      <td>NaN</td>\n",
       "    </tr>\n",
       "    <tr>\n",
       "      <th>5</th>\n",
       "      <td>California</td>\n",
       "      <td>0.230</td>\n",
       "      <td>0.087</td>\n",
       "      <td>0.132</td>\n",
       "      <td>0.267</td>\n",
       "      <td>0.122</td>\n",
       "      <td>0.163</td>\n",
       "      <td>1.0</td>\n",
       "      <td>NaN</td>\n",
       "    </tr>\n",
       "    <tr>\n",
       "      <th>6</th>\n",
       "      <td>Colorado</td>\n",
       "      <td>0.219</td>\n",
       "      <td>0.086</td>\n",
       "      <td>0.143</td>\n",
       "      <td>0.273</td>\n",
       "      <td>0.117</td>\n",
       "      <td>0.162</td>\n",
       "      <td>1.0</td>\n",
       "      <td>NaN</td>\n",
       "    </tr>\n",
       "    <tr>\n",
       "      <th>7</th>\n",
       "      <td>Connecticut</td>\n",
       "      <td>0.214</td>\n",
       "      <td>0.078</td>\n",
       "      <td>0.117</td>\n",
       "      <td>0.257</td>\n",
       "      <td>0.143</td>\n",
       "      <td>0.191</td>\n",
       "      <td>1.0</td>\n",
       "      <td>NaN</td>\n",
       "    </tr>\n",
       "    <tr>\n",
       "      <th>8</th>\n",
       "      <td>Delaware</td>\n",
       "      <td>0.219</td>\n",
       "      <td>0.077</td>\n",
       "      <td>0.107</td>\n",
       "      <td>0.241</td>\n",
       "      <td>0.140</td>\n",
       "      <td>0.216</td>\n",
       "      <td>1.0</td>\n",
       "      <td>NaN</td>\n",
       "    </tr>\n",
       "    <tr>\n",
       "      <th>9</th>\n",
       "      <td>District of Columbia</td>\n",
       "      <td>0.197</td>\n",
       "      <td>0.087</td>\n",
       "      <td>0.201</td>\n",
       "      <td>0.284</td>\n",
       "      <td>0.096</td>\n",
       "      <td>0.135</td>\n",
       "      <td>1.0</td>\n",
       "      <td>NaN</td>\n",
       "    </tr>\n",
       "    <tr>\n",
       "      <th>10</th>\n",
       "      <td>Florida</td>\n",
       "      <td>0.205</td>\n",
       "      <td>0.076</td>\n",
       "      <td>0.112</td>\n",
       "      <td>0.252</td>\n",
       "      <td>0.136</td>\n",
       "      <td>0.218</td>\n",
       "      <td>1.0</td>\n",
       "      <td>NaN</td>\n",
       "    </tr>\n",
       "    <tr>\n",
       "      <th>11</th>\n",
       "      <td>Georgia</td>\n",
       "      <td>0.246</td>\n",
       "      <td>0.087</td>\n",
       "      <td>0.124</td>\n",
       "      <td>0.265</td>\n",
       "      <td>0.123</td>\n",
       "      <td>0.155</td>\n",
       "      <td>1.0</td>\n",
       "      <td>NaN</td>\n",
       "    </tr>\n",
       "    <tr>\n",
       "      <th>12</th>\n",
       "      <td>Hawaii</td>\n",
       "      <td>0.221</td>\n",
       "      <td>0.071</td>\n",
       "      <td>0.109</td>\n",
       "      <td>0.253</td>\n",
       "      <td>0.128</td>\n",
       "      <td>0.218</td>\n",
       "      <td>1.0</td>\n",
       "      <td>NaN</td>\n",
       "    </tr>\n",
       "    <tr>\n",
       "      <th>13</th>\n",
       "      <td>Idaho</td>\n",
       "      <td>0.253</td>\n",
       "      <td>0.089</td>\n",
       "      <td>0.118</td>\n",
       "      <td>0.250</td>\n",
       "      <td>0.117</td>\n",
       "      <td>0.175</td>\n",
       "      <td>1.0</td>\n",
       "      <td>NaN</td>\n",
       "    </tr>\n",
       "    <tr>\n",
       "      <th>14</th>\n",
       "      <td>Illinois</td>\n",
       "      <td>0.229</td>\n",
       "      <td>0.085</td>\n",
       "      <td>0.122</td>\n",
       "      <td>0.261</td>\n",
       "      <td>0.128</td>\n",
       "      <td>0.175</td>\n",
       "      <td>1.0</td>\n",
       "      <td>NaN</td>\n",
       "    </tr>\n",
       "    <tr>\n",
       "      <th>15</th>\n",
       "      <td>Indiana</td>\n",
       "      <td>0.244</td>\n",
       "      <td>0.089</td>\n",
       "      <td>0.119</td>\n",
       "      <td>0.251</td>\n",
       "      <td>0.125</td>\n",
       "      <td>0.171</td>\n",
       "      <td>1.0</td>\n",
       "      <td>NaN</td>\n",
       "    </tr>\n",
       "    <tr>\n",
       "      <th>16</th>\n",
       "      <td>Iowa</td>\n",
       "      <td>0.240</td>\n",
       "      <td>0.088</td>\n",
       "      <td>0.113</td>\n",
       "      <td>0.248</td>\n",
       "      <td>0.128</td>\n",
       "      <td>0.184</td>\n",
       "      <td>1.0</td>\n",
       "      <td>NaN</td>\n",
       "    </tr>\n",
       "    <tr>\n",
       "      <th>17</th>\n",
       "      <td>Kansas</td>\n",
       "      <td>0.250</td>\n",
       "      <td>0.089</td>\n",
       "      <td>0.118</td>\n",
       "      <td>0.245</td>\n",
       "      <td>0.121</td>\n",
       "      <td>0.176</td>\n",
       "      <td>1.0</td>\n",
       "      <td>NaN</td>\n",
       "    </tr>\n",
       "    <tr>\n",
       "      <th>18</th>\n",
       "      <td>Kentucky</td>\n",
       "      <td>0.236</td>\n",
       "      <td>0.087</td>\n",
       "      <td>0.118</td>\n",
       "      <td>0.251</td>\n",
       "      <td>0.131</td>\n",
       "      <td>0.177</td>\n",
       "      <td>1.0</td>\n",
       "      <td>NaN</td>\n",
       "    </tr>\n",
       "    <tr>\n",
       "      <th>19</th>\n",
       "      <td>Louisiana</td>\n",
       "      <td>0.249</td>\n",
       "      <td>0.082</td>\n",
       "      <td>0.117</td>\n",
       "      <td>0.252</td>\n",
       "      <td>0.126</td>\n",
       "      <td>0.175</td>\n",
       "      <td>1.0</td>\n",
       "      <td>NaN</td>\n",
       "    </tr>\n",
       "    <tr>\n",
       "      <th>20</th>\n",
       "      <td>Maine</td>\n",
       "      <td>0.184</td>\n",
       "      <td>0.071</td>\n",
       "      <td>0.112</td>\n",
       "      <td>0.253</td>\n",
       "      <td>0.152</td>\n",
       "      <td>0.228</td>\n",
       "      <td>1.0</td>\n",
       "      <td>NaN</td>\n",
       "    </tr>\n",
       "    <tr>\n",
       "      <th>21</th>\n",
       "      <td>Maryland</td>\n",
       "      <td>0.233</td>\n",
       "      <td>0.077</td>\n",
       "      <td>0.117</td>\n",
       "      <td>0.265</td>\n",
       "      <td>0.135</td>\n",
       "      <td>0.173</td>\n",
       "      <td>1.0</td>\n",
       "      <td>NaN</td>\n",
       "    </tr>\n",
       "    <tr>\n",
       "      <th>22</th>\n",
       "      <td>Massachusetts</td>\n",
       "      <td>0.205</td>\n",
       "      <td>0.083</td>\n",
       "      <td>0.128</td>\n",
       "      <td>0.260</td>\n",
       "      <td>0.138</td>\n",
       "      <td>0.186</td>\n",
       "      <td>1.0</td>\n",
       "      <td>NaN</td>\n",
       "    </tr>\n",
       "    <tr>\n",
       "      <th>23</th>\n",
       "      <td>Michigan</td>\n",
       "      <td>0.222</td>\n",
       "      <td>0.087</td>\n",
       "      <td>0.120</td>\n",
       "      <td>0.244</td>\n",
       "      <td>0.135</td>\n",
       "      <td>0.192</td>\n",
       "      <td>1.0</td>\n",
       "      <td>NaN</td>\n",
       "    </tr>\n",
       "    <tr>\n",
       "      <th>24</th>\n",
       "      <td>Minnesota</td>\n",
       "      <td>0.237</td>\n",
       "      <td>0.084</td>\n",
       "      <td>0.118</td>\n",
       "      <td>0.257</td>\n",
       "      <td>0.128</td>\n",
       "      <td>0.176</td>\n",
       "      <td>1.0</td>\n",
       "      <td>NaN</td>\n",
       "    </tr>\n",
       "    <tr>\n",
       "      <th>25</th>\n",
       "      <td>Mississippi</td>\n",
       "      <td>0.247</td>\n",
       "      <td>0.087</td>\n",
       "      <td>0.106</td>\n",
       "      <td>0.257</td>\n",
       "      <td>0.126</td>\n",
       "      <td>0.177</td>\n",
       "      <td>1.0</td>\n",
       "      <td>NaN</td>\n",
       "    </tr>\n",
       "    <tr>\n",
       "      <th>26</th>\n",
       "      <td>Missouri</td>\n",
       "      <td>0.233</td>\n",
       "      <td>0.085</td>\n",
       "      <td>0.119</td>\n",
       "      <td>0.249</td>\n",
       "      <td>0.130</td>\n",
       "      <td>0.183</td>\n",
       "      <td>1.0</td>\n",
       "      <td>NaN</td>\n",
       "    </tr>\n",
       "    <tr>\n",
       "      <th>27</th>\n",
       "      <td>Montana</td>\n",
       "      <td>0.219</td>\n",
       "      <td>0.082</td>\n",
       "      <td>0.118</td>\n",
       "      <td>0.249</td>\n",
       "      <td>0.126</td>\n",
       "      <td>0.205</td>\n",
       "      <td>1.0</td>\n",
       "      <td>NaN</td>\n",
       "    </tr>\n",
       "    <tr>\n",
       "      <th>28</th>\n",
       "      <td>Nebraska</td>\n",
       "      <td>0.257</td>\n",
       "      <td>0.091</td>\n",
       "      <td>0.116</td>\n",
       "      <td>0.246</td>\n",
       "      <td>0.119</td>\n",
       "      <td>0.172</td>\n",
       "      <td>1.0</td>\n",
       "      <td>NaN</td>\n",
       "    </tr>\n",
       "    <tr>\n",
       "      <th>29</th>\n",
       "      <td>Nevada</td>\n",
       "      <td>0.226</td>\n",
       "      <td>0.080</td>\n",
       "      <td>0.128</td>\n",
       "      <td>0.266</td>\n",
       "      <td>0.125</td>\n",
       "      <td>0.175</td>\n",
       "      <td>1.0</td>\n",
       "      <td>NaN</td>\n",
       "    </tr>\n",
       "    <tr>\n",
       "      <th>30</th>\n",
       "      <td>New Hampshire</td>\n",
       "      <td>0.191</td>\n",
       "      <td>0.075</td>\n",
       "      <td>0.115</td>\n",
       "      <td>0.256</td>\n",
       "      <td>0.157</td>\n",
       "      <td>0.206</td>\n",
       "      <td>1.0</td>\n",
       "      <td>NaN</td>\n",
       "    </tr>\n",
       "    <tr>\n",
       "      <th>31</th>\n",
       "      <td>New Jersey</td>\n",
       "      <td>0.229</td>\n",
       "      <td>0.077</td>\n",
       "      <td>0.116</td>\n",
       "      <td>0.265</td>\n",
       "      <td>0.135</td>\n",
       "      <td>0.177</td>\n",
       "      <td>1.0</td>\n",
       "      <td>NaN</td>\n",
       "    </tr>\n",
       "    <tr>\n",
       "      <th>32</th>\n",
       "      <td>New Mexico</td>\n",
       "      <td>0.228</td>\n",
       "      <td>0.083</td>\n",
       "      <td>0.116</td>\n",
       "      <td>0.246</td>\n",
       "      <td>0.123</td>\n",
       "      <td>0.204</td>\n",
       "      <td>1.0</td>\n",
       "      <td>NaN</td>\n",
       "    </tr>\n",
       "    <tr>\n",
       "      <th>33</th>\n",
       "      <td>New York</td>\n",
       "      <td>0.212</td>\n",
       "      <td>0.081</td>\n",
       "      <td>0.129</td>\n",
       "      <td>0.257</td>\n",
       "      <td>0.135</td>\n",
       "      <td>0.186</td>\n",
       "      <td>1.0</td>\n",
       "      <td>NaN</td>\n",
       "    </tr>\n",
       "    <tr>\n",
       "      <th>34</th>\n",
       "      <td>North Carolina</td>\n",
       "      <td>0.229</td>\n",
       "      <td>0.085</td>\n",
       "      <td>0.119</td>\n",
       "      <td>0.259</td>\n",
       "      <td>0.129</td>\n",
       "      <td>0.179</td>\n",
       "      <td>1.0</td>\n",
       "      <td>NaN</td>\n",
       "    </tr>\n",
       "    <tr>\n",
       "      <th>35</th>\n",
       "      <td>North Dakota</td>\n",
       "      <td>0.245</td>\n",
       "      <td>0.095</td>\n",
       "      <td>0.132</td>\n",
       "      <td>0.241</td>\n",
       "      <td>0.114</td>\n",
       "      <td>0.172</td>\n",
       "      <td>1.0</td>\n",
       "      <td>NaN</td>\n",
       "    </tr>\n",
       "    <tr>\n",
       "      <th>36</th>\n",
       "      <td>Ohio</td>\n",
       "      <td>0.231</td>\n",
       "      <td>0.082</td>\n",
       "      <td>0.121</td>\n",
       "      <td>0.248</td>\n",
       "      <td>0.131</td>\n",
       "      <td>0.187</td>\n",
       "      <td>1.0</td>\n",
       "      <td>NaN</td>\n",
       "    </tr>\n",
       "    <tr>\n",
       "      <th>37</th>\n",
       "      <td>Oklahoma</td>\n",
       "      <td>0.256</td>\n",
       "      <td>0.091</td>\n",
       "      <td>0.119</td>\n",
       "      <td>0.249</td>\n",
       "      <td>0.117</td>\n",
       "      <td>0.168</td>\n",
       "      <td>1.0</td>\n",
       "      <td>NaN</td>\n",
       "    </tr>\n",
       "    <tr>\n",
       "      <th>38</th>\n",
       "      <td>Oregon</td>\n",
       "      <td>0.206</td>\n",
       "      <td>0.082</td>\n",
       "      <td>0.126</td>\n",
       "      <td>0.269</td>\n",
       "      <td>0.120</td>\n",
       "      <td>0.197</td>\n",
       "      <td>1.0</td>\n",
       "      <td>NaN</td>\n",
       "    </tr>\n",
       "    <tr>\n",
       "      <th>39</th>\n",
       "      <td>Pennsylvania</td>\n",
       "      <td>0.216</td>\n",
       "      <td>0.078</td>\n",
       "      <td>0.117</td>\n",
       "      <td>0.251</td>\n",
       "      <td>0.137</td>\n",
       "      <td>0.201</td>\n",
       "      <td>1.0</td>\n",
       "      <td>NaN</td>\n",
       "    </tr>\n",
       "    <tr>\n",
       "      <th>40</th>\n",
       "      <td>Rhode Island</td>\n",
       "      <td>0.200</td>\n",
       "      <td>0.081</td>\n",
       "      <td>0.129</td>\n",
       "      <td>0.252</td>\n",
       "      <td>0.143</td>\n",
       "      <td>0.195</td>\n",
       "      <td>1.0</td>\n",
       "      <td>NaN</td>\n",
       "    </tr>\n",
       "    <tr>\n",
       "      <th>41</th>\n",
       "      <td>South Carolina</td>\n",
       "      <td>0.226</td>\n",
       "      <td>0.080</td>\n",
       "      <td>0.113</td>\n",
       "      <td>0.251</td>\n",
       "      <td>0.134</td>\n",
       "      <td>0.195</td>\n",
       "      <td>1.0</td>\n",
       "      <td>NaN</td>\n",
       "    </tr>\n",
       "    <tr>\n",
       "      <th>42</th>\n",
       "      <td>South Dakota</td>\n",
       "      <td>0.256</td>\n",
       "      <td>0.081</td>\n",
       "      <td>0.111</td>\n",
       "      <td>0.243</td>\n",
       "      <td>0.127</td>\n",
       "      <td>0.182</td>\n",
       "      <td>1.0</td>\n",
       "      <td>NaN</td>\n",
       "    </tr>\n",
       "    <tr>\n",
       "      <th>43</th>\n",
       "      <td>Tennessee</td>\n",
       "      <td>0.231</td>\n",
       "      <td>0.084</td>\n",
       "      <td>0.125</td>\n",
       "      <td>0.256</td>\n",
       "      <td>0.128</td>\n",
       "      <td>0.176</td>\n",
       "      <td>1.0</td>\n",
       "      <td>NaN</td>\n",
       "    </tr>\n",
       "    <tr>\n",
       "      <th>44</th>\n",
       "      <td>Texas</td>\n",
       "      <td>0.263</td>\n",
       "      <td>0.092</td>\n",
       "      <td>0.129</td>\n",
       "      <td>0.267</td>\n",
       "      <td>0.111</td>\n",
       "      <td>0.138</td>\n",
       "      <td>1.0</td>\n",
       "      <td>NaN</td>\n",
       "    </tr>\n",
       "    <tr>\n",
       "      <th>45</th>\n",
       "      <td>Utah</td>\n",
       "      <td>0.290</td>\n",
       "      <td>0.111</td>\n",
       "      <td>0.134</td>\n",
       "      <td>0.252</td>\n",
       "      <td>0.092</td>\n",
       "      <td>0.122</td>\n",
       "      <td>1.0</td>\n",
       "      <td>NaN</td>\n",
       "    </tr>\n",
       "    <tr>\n",
       "      <th>46</th>\n",
       "      <td>Vermont</td>\n",
       "      <td>0.188</td>\n",
       "      <td>0.076</td>\n",
       "      <td>0.110</td>\n",
       "      <td>0.252</td>\n",
       "      <td>0.150</td>\n",
       "      <td>0.224</td>\n",
       "      <td>1.0</td>\n",
       "      <td>NaN</td>\n",
       "    </tr>\n",
       "    <tr>\n",
       "      <th>47</th>\n",
       "      <td>Virginia</td>\n",
       "      <td>0.232</td>\n",
       "      <td>0.081</td>\n",
       "      <td>0.120</td>\n",
       "      <td>0.263</td>\n",
       "      <td>0.130</td>\n",
       "      <td>0.175</td>\n",
       "      <td>1.0</td>\n",
       "      <td>NaN</td>\n",
       "    </tr>\n",
       "    <tr>\n",
       "      <th>48</th>\n",
       "      <td>Washington</td>\n",
       "      <td>0.223</td>\n",
       "      <td>0.081</td>\n",
       "      <td>0.136</td>\n",
       "      <td>0.269</td>\n",
       "      <td>0.119</td>\n",
       "      <td>0.172</td>\n",
       "      <td>1.0</td>\n",
       "      <td>NaN</td>\n",
       "    </tr>\n",
       "    <tr>\n",
       "      <th>49</th>\n",
       "      <td>West Virginia</td>\n",
       "      <td>0.212</td>\n",
       "      <td>0.083</td>\n",
       "      <td>0.104</td>\n",
       "      <td>0.248</td>\n",
       "      <td>0.137</td>\n",
       "      <td>0.217</td>\n",
       "      <td>1.0</td>\n",
       "      <td>NaN</td>\n",
       "    </tr>\n",
       "    <tr>\n",
       "      <th>50</th>\n",
       "      <td>Wisconsin</td>\n",
       "      <td>0.222</td>\n",
       "      <td>0.086</td>\n",
       "      <td>0.114</td>\n",
       "      <td>0.249</td>\n",
       "      <td>0.138</td>\n",
       "      <td>0.191</td>\n",
       "      <td>1.0</td>\n",
       "      <td>NaN</td>\n",
       "    </tr>\n",
       "    <tr>\n",
       "      <th>51</th>\n",
       "      <td>Wyoming</td>\n",
       "      <td>0.238</td>\n",
       "      <td>0.076</td>\n",
       "      <td>0.120</td>\n",
       "      <td>0.249</td>\n",
       "      <td>0.126</td>\n",
       "      <td>0.191</td>\n",
       "      <td>1.0</td>\n",
       "      <td>NaN</td>\n",
       "    </tr>\n",
       "    <tr>\n",
       "      <th>52</th>\n",
       "      <td>Puerto Rico</td>\n",
       "      <td>0.169</td>\n",
       "      <td>0.094</td>\n",
       "      <td>0.113</td>\n",
       "      <td>0.247</td>\n",
       "      <td>0.136</td>\n",
       "      <td>0.240</td>\n",
       "      <td>1.0</td>\n",
       "      <td>NaN</td>\n",
       "    </tr>\n",
       "  </tbody>\n",
       "</table>\n",
       "</div>"
      ],
      "text/plain": [
       "                Location  Children 0-18  Adults 19-25  Adults 26-34  \\\n",
       "0          United States          0.230         0.084         0.123   \n",
       "1                Alabama          0.235         0.087         0.113   \n",
       "2                 Alaska          0.259         0.071         0.138   \n",
       "3                Arizona          0.227         0.089         0.125   \n",
       "4               Arkansas          0.243         0.087         0.116   \n",
       "5             California          0.230         0.087         0.132   \n",
       "6               Colorado          0.219         0.086         0.143   \n",
       "7            Connecticut          0.214         0.078         0.117   \n",
       "8               Delaware          0.219         0.077         0.107   \n",
       "9   District of Columbia          0.197         0.087         0.201   \n",
       "10               Florida          0.205         0.076         0.112   \n",
       "11               Georgia          0.246         0.087         0.124   \n",
       "12                Hawaii          0.221         0.071         0.109   \n",
       "13                 Idaho          0.253         0.089         0.118   \n",
       "14              Illinois          0.229         0.085         0.122   \n",
       "15               Indiana          0.244         0.089         0.119   \n",
       "16                  Iowa          0.240         0.088         0.113   \n",
       "17                Kansas          0.250         0.089         0.118   \n",
       "18              Kentucky          0.236         0.087         0.118   \n",
       "19             Louisiana          0.249         0.082         0.117   \n",
       "20                 Maine          0.184         0.071         0.112   \n",
       "21              Maryland          0.233         0.077         0.117   \n",
       "22         Massachusetts          0.205         0.083         0.128   \n",
       "23              Michigan          0.222         0.087         0.120   \n",
       "24             Minnesota          0.237         0.084         0.118   \n",
       "25           Mississippi          0.247         0.087         0.106   \n",
       "26              Missouri          0.233         0.085         0.119   \n",
       "27               Montana          0.219         0.082         0.118   \n",
       "28              Nebraska          0.257         0.091         0.116   \n",
       "29                Nevada          0.226         0.080         0.128   \n",
       "30         New Hampshire          0.191         0.075         0.115   \n",
       "31            New Jersey          0.229         0.077         0.116   \n",
       "32            New Mexico          0.228         0.083         0.116   \n",
       "33              New York          0.212         0.081         0.129   \n",
       "34        North Carolina          0.229         0.085         0.119   \n",
       "35          North Dakota          0.245         0.095         0.132   \n",
       "36                  Ohio          0.231         0.082         0.121   \n",
       "37              Oklahoma          0.256         0.091         0.119   \n",
       "38                Oregon          0.206         0.082         0.126   \n",
       "39          Pennsylvania          0.216         0.078         0.117   \n",
       "40          Rhode Island          0.200         0.081         0.129   \n",
       "41        South Carolina          0.226         0.080         0.113   \n",
       "42          South Dakota          0.256         0.081         0.111   \n",
       "43             Tennessee          0.231         0.084         0.125   \n",
       "44                 Texas          0.263         0.092         0.129   \n",
       "45                  Utah          0.290         0.111         0.134   \n",
       "46               Vermont          0.188         0.076         0.110   \n",
       "47              Virginia          0.232         0.081         0.120   \n",
       "48            Washington          0.223         0.081         0.136   \n",
       "49         West Virginia          0.212         0.083         0.104   \n",
       "50             Wisconsin          0.222         0.086         0.114   \n",
       "51               Wyoming          0.238         0.076         0.120   \n",
       "52           Puerto Rico          0.169         0.094         0.113   \n",
       "\n",
       "    Adults 35-54  Adults 55-64    65+  Total  Footnotes  \n",
       "0          0.258         0.127  0.178    1.0        1.0  \n",
       "1          0.252         0.130  0.184    1.0        NaN  \n",
       "2          0.265         0.123  0.143    1.0        NaN  \n",
       "3          0.244         0.120  0.195    1.0        NaN  \n",
       "4          0.250         0.125  0.179    1.0        NaN  \n",
       "5          0.267         0.122  0.163    1.0        NaN  \n",
       "6          0.273         0.117  0.162    1.0        NaN  \n",
       "7          0.257         0.143  0.191    1.0        NaN  \n",
       "8          0.241         0.140  0.216    1.0        NaN  \n",
       "9          0.284         0.096  0.135    1.0        NaN  \n",
       "10         0.252         0.136  0.218    1.0        NaN  \n",
       "11         0.265         0.123  0.155    1.0        NaN  \n",
       "12         0.253         0.128  0.218    1.0        NaN  \n",
       "13         0.250         0.117  0.175    1.0        NaN  \n",
       "14         0.261         0.128  0.175    1.0        NaN  \n",
       "15         0.251         0.125  0.171    1.0        NaN  \n",
       "16         0.248         0.128  0.184    1.0        NaN  \n",
       "17         0.245         0.121  0.176    1.0        NaN  \n",
       "18         0.251         0.131  0.177    1.0        NaN  \n",
       "19         0.252         0.126  0.175    1.0        NaN  \n",
       "20         0.253         0.152  0.228    1.0        NaN  \n",
       "21         0.265         0.135  0.173    1.0        NaN  \n",
       "22         0.260         0.138  0.186    1.0        NaN  \n",
       "23         0.244         0.135  0.192    1.0        NaN  \n",
       "24         0.257         0.128  0.176    1.0        NaN  \n",
       "25         0.257         0.126  0.177    1.0        NaN  \n",
       "26         0.249         0.130  0.183    1.0        NaN  \n",
       "27         0.249         0.126  0.205    1.0        NaN  \n",
       "28         0.246         0.119  0.172    1.0        NaN  \n",
       "29         0.266         0.125  0.175    1.0        NaN  \n",
       "30         0.256         0.157  0.206    1.0        NaN  \n",
       "31         0.265         0.135  0.177    1.0        NaN  \n",
       "32         0.246         0.123  0.204    1.0        NaN  \n",
       "33         0.257         0.135  0.186    1.0        NaN  \n",
       "34         0.259         0.129  0.179    1.0        NaN  \n",
       "35         0.241         0.114  0.172    1.0        NaN  \n",
       "36         0.248         0.131  0.187    1.0        NaN  \n",
       "37         0.249         0.117  0.168    1.0        NaN  \n",
       "38         0.269         0.120  0.197    1.0        NaN  \n",
       "39         0.251         0.137  0.201    1.0        NaN  \n",
       "40         0.252         0.143  0.195    1.0        NaN  \n",
       "41         0.251         0.134  0.195    1.0        NaN  \n",
       "42         0.243         0.127  0.182    1.0        NaN  \n",
       "43         0.256         0.128  0.176    1.0        NaN  \n",
       "44         0.267         0.111  0.138    1.0        NaN  \n",
       "45         0.252         0.092  0.122    1.0        NaN  \n",
       "46         0.252         0.150  0.224    1.0        NaN  \n",
       "47         0.263         0.130  0.175    1.0        NaN  \n",
       "48         0.269         0.119  0.172    1.0        NaN  \n",
       "49         0.248         0.137  0.217    1.0        NaN  \n",
       "50         0.249         0.138  0.191    1.0        NaN  \n",
       "51         0.249         0.126  0.191    1.0        NaN  \n",
       "52         0.247         0.136  0.240    1.0        NaN  "
      ]
     },
     "execution_count": 2,
     "metadata": {},
     "output_type": "execute_result"
    }
   ],
   "source": [
    "df = pd.read_csv('Population_Data.csv')\n",
    "df"
   ]
  },
  {
   "cell_type": "markdown",
   "id": "1c499777706c8f7f",
   "metadata": {},
   "source": [
    "### State-Abbreviations\n",
    "       These are the abbreviations of each state used in the following plots. It makes it easier to write"
   ]
  },
  {
   "cell_type": "code",
   "execution_count": 3,
   "id": "2a748b846c0e9a0c",
   "metadata": {
    "ExecuteTime": {
     "end_time": "2025-01-16T15:13:56.177140Z",
     "start_time": "2025-01-16T15:13:56.115902Z"
    }
   },
   "outputs": [],
   "source": [
    "state_abbreviations = {\n",
    "    \"Alabama\": \"AL\", \"Alaska\": \"AK\", \"Arizona\": \"AZ\", \"Arkansas\": \"AR\", \"California\": \"CA\",\n",
    "    \"Colorado\": \"CO\", \"Connecticut\": \"CT\", \"Delaware\": \"DE\", \"Florida\": \"FL\", \"Georgia\": \"GA\",\n",
    "    \"Hawaii\": \"HI\", \"Idaho\": \"ID\", \"Illinois\": \"IL\", \"Indiana\": \"IN\", \"Iowa\": \"IA\",\n",
    "    \"Kansas\": \"KS\", \"Kentucky\": \"KY\", \"Louisiana\": \"LA\", \"Maine\": \"ME\", \"Maryland\": \"MD\",\n",
    "    \"Massachusetts\": \"MA\", \"Michigan\": \"MI\", \"Minnesota\": \"MN\", \"Mississippi\": \"MS\", \"Missouri\": \"MO\",\n",
    "    \"Montana\": \"MT\", \"Nebraska\": \"NE\", \"Nevada\": \"NV\", \"New Hampshire\": \"NH\", \"New Jersey\": \"NJ\",\n",
    "    \"New Mexico\": \"NM\", \"New York\": \"NY\", \"North Carolina\": \"NC\", \"North Dakota\": \"ND\", \"Ohio\": \"OH\",\n",
    "    \"Oklahoma\": \"OK\", \"Oregon\": \"OR\", \"Pennsylvania\": \"PA\", \"Rhode Island\": \"RI\", \"South Carolina\": \"SC\",\n",
    "    \"South Dakota\": \"SD\", \"Tennessee\": \"TN\", \"Texas\": \"TX\", \"Utah\": \"UT\", \"Vermont\": \"VT\",\n",
    "    \"Virginia\": \"VA\", \"Washington\": \"WA\", \"West Virginia\": \"WV\", \"Wisconsin\": \"WI\", \"Wyoming\": \"WY\"} "
   ]
  },
  {
   "cell_type": "markdown",
   "id": "64413b44dfd78e74",
   "metadata": {},
   "source": [
    "### Plot 1 - Bar\n",
    "This plot shows a bar graph of three states, Florida, New York, and Utah. The graph compares the age population of all three states. Looking at the graph, the age population distribution looks incredibly similar. If you look closer, you will find that Utah has the most children by far compared to the other two states. You will also find that Florida has the largest 65+ population out of NY and UT. It is not as big of a difference as I would have thought, because my theory was that Utah would have a mostly middle-aged population, New York would have mainly young adults and children, and Florida would have the largest elderly population by far. The graph looks generally how I thought it would look but just slightly less divided. "
   ]
  },
  {
   "cell_type": "code",
   "execution_count": 4,
   "id": "2a79e836909f922c",
   "metadata": {
    "ExecuteTime": {
     "end_time": "2025-01-16T15:13:58.973062Z",
     "start_time": "2025-01-16T15:13:56.357710Z"
    }
   },
   "outputs": [
    {
     "data": {
      "image/png": "[encoded data removed]",
      "text/plain": [
       "<Figure size 1000x500 with 3 Axes>"
      ]
     },
     "metadata": {},
     "output_type": "display_data"
    }
   ],
   "source": [
    "plt.style.use('ggplot')\n",
    "\n",
    "#Florida's Data\n",
    "FL = df.iloc[10, 1:7]\n",
    "fig, (ax1, ax2, ax3) = plt.subplots(1,3, sharey=True, figsize=(10,5))\n",
    "ax1.set_title(\"Florida\")\n",
    "ax1.bar(FL.index, FL, color='cornflowerblue')\n",
    "ax1.set_ylabel(\"Fraction\")\n",
    "for tick in ax1.get_xticklabels():\n",
    "    tick.set_rotation(60)\n",
    "    tick.set_horizontalalignment('right')\n",
    "\n",
    "#New York's Data\n",
    "NY = df.iloc[33, 1:7]\n",
    "ax2.set_title(\"New York\")\n",
    "ax2.bar(NY.index, NY, color='cornflowerblue')\n",
    "for tick in ax2.get_xticklabels():\n",
    "    tick.set_rotation(60)\n",
    "    tick.set_horizontalalignment('right')\n",
    "\n",
    "#Utah's Data\n",
    "UT = df.iloc[45, 1:7]\n",
    "ax3.set_title(\"Utah\")\n",
    "ax3.bar(UT.index, UT, color='cornflowerblue')\n",
    "for tick in ax3.get_xticklabels():\n",
    "    tick.set_rotation(60)\n",
    "    tick.set_horizontalalignment('right')\n",
    "\n",
    "\n",
    "fig.tight_layout()\n"
   ]
  },
  {
   "cell_type": "markdown",
   "id": "c5783624b02fcd32",
   "metadata": {},
   "source": [
    "### Plot 2 - Scatter_Matrix\n",
    "This plot is called a scatter matrix. I compared each state with each-other by age, and there are a few interesting trends. If you look at the bottom left, you will see a graph that shows that when child population increases, elderly population decreases. There also seems to be a common theme among most of the graphs; the District of Colombia seems to be a constant outlier. It is rarely part of the clusters seen in most of the graphs. I'm not completely sure why this is, but I found it interesting to see one constant outlier. "
   ]
  },
  {
   "cell_type": "code",
   "execution_count": 5,
   "id": "11478eafe4d9aee2",
   "metadata": {
    "ExecuteTime": {
     "end_time": "2025-01-16T15:13:59.656971Z",
     "start_time": "2025-01-16T15:13:59.254024Z"
    }
   },
   "outputs": [
    {
     "data": {
      "application/vnd.plotly.v1+json": {
       "config": {
        "plotlyServerURL": "https://plot.ly"
       },
       "data": [
        {
         "dimensions": [
          {
           "axis": {
            "matches": true
           },
           "label": "Children 0-18",
           "values": [
            0.23
           ]
          },
          {
           "axis": {
            "matches": true
           },
           "label": "Adults 26-34",
           "values": [
            0.123
           ]
          },
          {
           "axis": {
            "matches": true
           },
           "label": "Adults 35-54",
           "values": [
            0.258
           ]
          },
          {
           "axis": {
            "matches": true
           },
           "label": "65+",
           "values": [
            0.178
           ]
          }
         ],
         "hovertemplate": "Location=United States<br>%{xaxis.title.text}=%{x}<br>%{yaxis.title.text}=%{y}<extra></extra>",
         "legendgroup": "United States",
         "marker": {
          "color": "#636efa",
          "symbol": "circle"
         },
         "name": "United States",
         "showlegend": true,
         "type": "splom"
        },
        {
         "dimensions": [
          {
           "axis": {
            "matches": true
           },
           "label": "Children 0-18",
           "values": [
            0.235
           ]
          },
          {
           "axis": {
            "matches": true
           },
           "label": "Adults 26-34",
           "values": [
            0.113
           ]
          },
          {
           "axis": {
            "matches": true
           },
           "label": "Adults 35-54",
           "values": [
            0.252
           ]
          },
          {
           "axis": {
            "matches": true
           },
           "label": "65+",
           "values": [
            0.184
           ]
          }
         ],
         "hovertemplate": "Location=Alabama<br>%{xaxis.title.text}=%{x}<br>%{yaxis.title.text}=%{y}<extra></extra>",
         "legendgroup": "Alabama",
         "marker": {
          "color": "#EF553B",
          "symbol": "circle"
         },
         "name": "Alabama",
         "showlegend": true,
         "type": "splom"
        },
        {
         "dimensions": [
          {
           "axis": {
            "matches": true
           },
           "label": "Children 0-18",
           "values": [
            0.259
           ]
          },
          {
           "axis": {
            "matches": true
           },
           "label": "Adults 26-34",
           "values": [
            0.138
           ]
          },
          {
           "axis": {
            "matches": true
           },
           "label": "Adults 35-54",
           "values": [
            0.265
           ]
          },
          {
           "axis": {
            "matches": true
           },
           "label": "65+",
           "values": [
            0.143
           ]
          }
         ],
         "hovertemplate": "Location=Alaska<br>%{xaxis.title.text}=%{x}<br>%{yaxis.title.text}=%{y}<extra></extra>",
         "legendgroup": "Alaska",
         "marker": {
          "color": "#00cc96",
          "symbol": "circle"
         },
         "name": "Alaska",
         "showlegend": true,
         "type": "splom"
        },
        {
         "dimensions": [
          {
           "axis": {
            "matches": true
           },
           "label": "Children 0-18",
           "values": [
            0.227
           ]
          },
          {
           "axis": {
            "matches": true
           },
           "label": "Adults 26-34",
           "values": [
            0.125
           ]
          },
          {
           "axis": {
            "matches": true
           },
           "label": "Adults 35-54",
           "values": [
            0.244
           ]
          },
          {
           "axis": {
            "matches": true
           },
           "label": "65+",
           "values": [
            0.195
           ]
          }
         ],
         "hovertemplate": "Location=Arizona<br>%{xaxis.title.text}=%{x}<br>%{yaxis.title.text}=%{y}<extra></extra>",
         "legendgroup": "Arizona",
         "marker": {
          "color": "#ab63fa",
          "symbol": "circle"
         },
         "name": "Arizona",
         "showlegend": true,
         "type": "splom"
        },
        {
         "dimensions": [
          {
           "axis": {
            "matches": true
           },
           "label": "Children 0-18",
           "values": [
            0.243
           ]
          },
          {
           "axis": {
            "matches": true
           },
           "label": "Adults 26-34",
           "values": [
            0.116
           ]
          },
          {
           "axis": {
            "matches": true
           },
           "label": "Adults 35-54",
           "values": [
            0.25
           ]
          },
          {
           "axis": {
            "matches": true
           },
           "label": "65+",
           "values": [
            0.179
           ]
          }
         ],
         "hovertemplate": "Location=Arkansas<br>%{xaxis.title.text}=%{x}<br>%{yaxis.title.text}=%{y}<extra></extra>",
         "legendgroup": "Arkansas",
         "marker": {
          "color": "#FFA15A",
          "symbol": "circle"
         },
         "name": "Arkansas",
         "showlegend": true,
         "type": "splom"
        },
        {
         "dimensions": [
          {
           "axis": {
            "matches": true
           },
           "label": "Children 0-18",
           "values": [
            0.23
           ]
          },
          {
           "axis": {
            "matches": true
           },
           "label": "Adults 26-34",
           "values": [
            0.132
           ]
          },
          {
           "axis": {
            "matches": true
           },
           "label": "Adults 35-54",
           "values": [
            0.267
           ]
          },
          {
           "axis": {
            "matches": true
           },
           "label": "65+",
           "values": [
            0.163
           ]
          }
         ],
         "hovertemplate": "Location=California<br>%{xaxis.title.text}=%{x}<br>%{yaxis.title.text}=%{y}<extra></extra>",
         "legendgroup": "California",
         "marker": {
          "color": "#19d3f3",
          "symbol": "circle"
         },
         "name": "California",
         "showlegend": true,
         "type": "splom"
        },
        {
         "dimensions": [
          {
           "axis": {
            "matches": true
           },
           "label": "Children 0-18",
           "values": [
            0.219
           ]
          },
          {
           "axis": {
            "matches": true
           },
           "label": "Adults 26-34",
           "values": [
            0.143
           ]
          },
          {
           "axis": {
            "matches": true
           },
           "label": "Adults 35-54",
           "values": [
            0.273
           ]
          },
          {
           "axis": {
            "matches": true
           },
           "label": "65+",
           "values": [
            0.162
           ]
          }
         ],
         "hovertemplate": "Location=Colorado<br>%{xaxis.title.text}=%{x}<br>%{yaxis.title.text}=%{y}<extra></extra>",
         "legendgroup": "Colorado",
         "marker": {
          "color": "#FF6692",
          "symbol": "circle"
         },
         "name": "Colorado",
         "showlegend": true,
         "type": "splom"
        },
        {
         "dimensions": [
          {
           "axis": {
            "matches": true
           },
           "label": "Children 0-18",
           "values": [
            0.214
           ]
          },
          {
           "axis": {
            "matches": true
           },
           "label": "Adults 26-34",
           "values": [
            0.117
           ]
          },
          {
           "axis": {
            "matches": true
           },
           "label": "Adults 35-54",
           "values": [
            0.257
           ]
          },
          {
           "axis": {
            "matches": true
           },
           "label": "65+",
           "values": [
            0.191
           ]
          }
         ],
         "hovertemplate": "Location=Connecticut<br>%{xaxis.title.text}=%{x}<br>%{yaxis.title.text}=%{y}<extra></extra>",
         "legendgroup": "Connecticut",
         "marker": {
          "color": "#B6E880",
          "symbol": "circle"
         },
         "name": "Connecticut",
         "showlegend": true,
         "type": "splom"
        },
        {
         "dimensions": [
          {
           "axis": {
            "matches": true
           },
           "label": "Children 0-18",
           "values": [
            0.219
           ]
          },
          {
           "axis": {
            "matches": true
           },
           "label": "Adults 26-34",
           "values": [
            0.107
           ]
          },
          {
           "axis": {
            "matches": true
           },
           "label": "Adults 35-54",
           "values": [
            0.241
           ]
          },
          {
           "axis": {
            "matches": true
           },
           "label": "65+",
           "values": [
            0.216
           ]
          }
         ],
         "hovertemplate": "Location=Delaware<br>%{xaxis.title.text}=%{x}<br>%{yaxis.title.text}=%{y}<extra></extra>",
         "legendgroup": "Delaware",
         "marker": {
          "color": "#FF97FF",
          "symbol": "circle"
         },
         "name": "Delaware",
         "showlegend": true,
         "type": "splom"
        },
        {
         "dimensions": [
          {
           "axis": {
            "matches": true
           },
           "label": "Children 0-18",
           "values": [
            0.197
           ]
          },
          {
           "axis": {
            "matches": true
           },
           "label": "Adults 26-34",
           "values": [
            0.201
           ]
          },
          {
           "axis": {
            "matches": true
           },
           "label": "Adults 35-54",
           "values": [
            0.284
           ]
          },
          {
           "axis": {
            "matches": true
           },
           "label": "65+",
           "values": [
            0.135
           ]
          }
         ],
         "hovertemplate": "Location=District of Columbia<br>%{xaxis.title.text}=%{x}<br>%{yaxis.title.text}=%{y}<extra></extra>",
         "legendgroup": "District of Columbia",
         "marker": {
          "color": "#FECB52",
          "symbol": "circle"
         },
         "name": "District of Columbia",
         "showlegend": true,
         "type": "splom"
        },
        {
         "dimensions": [
          {
           "axis": {
            "matches": true
           },
           "label": "Children 0-18",
           "values": [
            0.205
           ]
          },
          {
           "axis": {
            "matches": true
           },
           "label": "Adults 26-34",
           "values": [
            0.112
           ]
          },
          {
           "axis": {
            "matches": true
           },
           "label": "Adults 35-54",
           "values": [
            0.252
           ]
          },
          {
           "axis": {
            "matches": true
           },
           "label": "65+",
           "values": [
            0.218
           ]
          }
         ],
         "hovertemplate": "Location=Florida<br>%{xaxis.title.text}=%{x}<br>%{yaxis.title.text}=%{y}<extra></extra>",
         "legendgroup": "Florida",
         "marker": {
          "color": "#636efa",
          "symbol": "circle"
         },
         "name": "Florida",
         "showlegend": true,
         "type": "splom"
        },
        {
         "dimensions": [
          {
           "axis": {
            "matches": true
           },
           "label": "Children 0-18",
           "values": [
            0.246
           ]
          },
          {
           "axis": {
            "matches": true
           },
           "label": "Adults 26-34",
           "values": [
            0.124
           ]
          },
          {
           "axis": {
            "matches": true
           },
           "label": "Adults 35-54",
           "values": [
            0.265
           ]
          },
          {
           "axis": {
            "matches": true
           },
           "label": "65+",
           "values": [
            0.155
           ]
          }
         ],
         "hovertemplate": "Location=Georgia<br>%{xaxis.title.text}=%{x}<br>%{yaxis.title.text}=%{y}<extra></extra>",
         "legendgroup": "Georgia",
         "marker": {
          "color": "#EF553B",
          "symbol": "circle"
         },
         "name": "Georgia",
         "showlegend": true,
         "type": "splom"
        },
        {
         "dimensions": [
          {
           "axis": {
            "matches": true
           },
           "label": "Children 0-18",
           "values": [
            0.221
           ]
          },
          {
           "axis": {
            "matches": true
           },
           "label": "Adults 26-34",
           "values": [
            0.109
           ]
          },
          {
           "axis": {
            "matches": true
           },
           "label": "Adults 35-54",
           "values": [
            0.253
           ]
          },
          {
           "axis": {
            "matches": true
           },
           "label": "65+",
           "values": [
            0.218
           ]
          }
         ],
         "hovertemplate": "Location=Hawaii<br>%{xaxis.title.text}=%{x}<br>%{yaxis.title.text}=%{y}<extra></extra>",
         "legendgroup": "Hawaii",
         "marker": {
          "color": "#00cc96",
          "symbol": "circle"
         },
         "name": "Hawaii",
         "showlegend": true,
         "type": "splom"
        },
        {
         "dimensions": [
          {
           "axis": {
            "matches": true
           },
           "label": "Children 0-18",
           "values": [
            0.253
           ]
          },
          {
           "axis": {
            "matches": true
           },
           "label": "Adults 26-34",
           "values": [
            0.118
           ]
          },
          {
           "axis": {
            "matches": true
           },
           "label": "Adults 35-54",
           "values": [
            0.25
           ]
          },
          {
           "axis": {
            "matches": true
           },
           "label": "65+",
           "values": [
            0.175
           ]
          }
         ],
         "hovertemplate": "Location=Idaho<br>%{xaxis.title.text}=%{x}<br>%{yaxis.title.text}=%{y}<extra></extra>",
         "legendgroup": "Idaho",
         "marker": {
          "color": "#ab63fa",
          "symbol": "circle"
         },
         "name": "Idaho",
         "showlegend": true,
         "type": "splom"
        },
        {
         "dimensions": [
          {
           "axis": {
            "matches": true
           },
           "label": "Children 0-18",
           "values": [
            0.229
           ]
          },
          {
           "axis": {
            "matches": true
           },
           "label": "Adults 26-34",
           "values": [
            0.122
           ]
          },
          {
           "axis": {
            "matches": true
           },
           "label": "Adults 35-54",
           "values": [
            0.261
           ]
          },
          {
           "axis": {
            "matches": true
           },
           "label": "65+",
           "values": [
            0.175
           ]
          }
         ],
         "hovertemplate": "Location=Illinois<br>%{xaxis.title.text}=%{x}<br>%{yaxis.title.text}=%{y}<extra></extra>",
         "legendgroup": "Illinois",
         "marker": {
          "color": "#FFA15A",
          "symbol": "circle"
         },
         "name": "Illinois",
         "showlegend": true,
         "type": "splom"
        },
        {
         "dimensions": [
          {
           "axis": {
            "matches": true
           },
           "label": "Children 0-18",
           "values": [
            0.244
           ]
          },
          {
           "axis": {
            "matches": true
           },
           "label": "Adults 26-34",
           "values": [
            0.119
           ]
          },
          {
           "axis": {
            "matches": true
           },
           "label": "Adults 35-54",
           "values": [
            0.251
           ]
          },
          {
           "axis": {
            "matches": true
           },
           "label": "65+",
           "values": [
            0.171
           ]
          }
         ],
         "hovertemplate": "Location=Indiana<br>%{xaxis.title.text}=%{x}<br>%{yaxis.title.text}=%{y}<extra></extra>",
         "legendgroup": "Indiana",
         "marker": {
          "color": "#19d3f3",
          "symbol": "circle"
         },
         "name": "Indiana",
         "showlegend": true,
         "type": "splom"
        },
        {
         "dimensions": [
          {
           "axis": {
            "matches": true
           },
           "label": "Children 0-18",
           "values": [
            0.24
           ]
          },
          {
           "axis": {
            "matches": true
           },
           "label": "Adults 26-34",
           "values": [
            0.113
           ]
          },
          {
           "axis": {
            "matches": true
           },
           "label": "Adults 35-54",
           "values": [
            0.248
           ]
          },
          {
           "axis": {
            "matches": true
           },
           "label": "65+",
           "values": [
            0.184
           ]
          }
         ],
         "hovertemplate": "Location=Iowa<br>%{xaxis.title.text}=%{x}<br>%{yaxis.title.text}=%{y}<extra></extra>",
         "legendgroup": "Iowa",
         "marker": {
          "color": "#FF6692",
          "symbol": "circle"
         },
         "name": "Iowa",
         "showlegend": true,
         "type": "splom"
        },
        {
         "dimensions": [
          {
           "axis": {
            "matches": true
           },
           "label": "Children 0-18",
           "values": [
            0.25
           ]
          },
          {
           "axis": {
            "matches": true
           },
           "label": "Adults 26-34",
           "values": [
            0.118
           ]
          },
          {
           "axis": {
            "matches": true
           },
           "label": "Adults 35-54",
           "values": [
            0.245
           ]
          },
          {
           "axis": {
            "matches": true
           },
           "label": "65+",
           "values": [
            0.176
           ]
          }
         ],
         "hovertemplate": "Location=Kansas<br>%{xaxis.title.text}=%{x}<br>%{yaxis.title.text}=%{y}<extra></extra>",
         "legendgroup": "Kansas",
         "marker": {
          "color": "#B6E880",
          "symbol": "circle"
         },
         "name": "Kansas",
         "showlegend": true,
         "type": "splom"
        },
        {
         "dimensions": [
          {
           "axis": {
            "matches": true
           },
           "label": "Children 0-18",
           "values": [
            0.236
           ]
          },
          {
           "axis": {
            "matches": true
           },
           "label": "Adults 26-34",
           "values": [
            0.118
           ]
          },
          {
           "axis": {
            "matches": true
           },
           "label": "Adults 35-54",
           "values": [
            0.251
           ]
          },
          {
           "axis": {
            "matches": true
           },
           "label": "65+",
           "values": [
            0.177
           ]
          }
         ],
         "hovertemplate": "Location=Kentucky<br>%{xaxis.title.text}=%{x}<br>%{yaxis.title.text}=%{y}<extra></extra>",
         "legendgroup": "Kentucky",
         "marker": {
          "color": "#FF97FF",
          "symbol": "circle"
         },
         "name": "Kentucky",
         "showlegend": true,
         "type": "splom"
        },
        {
         "dimensions": [
          {
           "axis": {
            "matches": true
           },
           "label": "Children 0-18",
           "values": [
            0.249
           ]
          },
          {
           "axis": {
            "matches": true
           },
           "label": "Adults 26-34",
           "values": [
            0.117
           ]
          },
          {
           "axis": {
            "matches": true
           },
           "label": "Adults 35-54",
           "values": [
            0.252
           ]
          },
          {
           "axis": {
            "matches": true
           },
           "label": "65+",
           "values": [
            0.175
           ]
          }
         ],
         "hovertemplate": "Location=Louisiana<br>%{xaxis.title.text}=%{x}<br>%{yaxis.title.text}=%{y}<extra></extra>",
         "legendgroup": "Louisiana",
         "marker": {
          "color": "#FECB52",
          "symbol": "circle"
         },
         "name": "Louisiana",
         "showlegend": true,
         "type": "splom"
        },
        {
         "dimensions": [
          {
           "axis": {
            "matches": true
           },
           "label": "Children 0-18",
           "values": [
            0.184
           ]
          },
          {
           "axis": {
            "matches": true
           },
           "label": "Adults 26-34",
           "values": [
            0.112
           ]
          },
          {
           "axis": {
            "matches": true
           },
           "label": "Adults 35-54",
           "values": [
            0.253
           ]
          },
          {
           "axis": {
            "matches": true
           },
           "label": "65+",
           "values": [
            0.228
           ]
          }
         ],
         "hovertemplate": "Location=Maine<br>%{xaxis.title.text}=%{x}<br>%{yaxis.title.text}=%{y}<extra></extra>",
         "legendgroup": "Maine",
         "marker": {
          "color": "#636efa",
          "symbol": "circle"
         },
         "name": "Maine",
         "showlegend": true,
         "type": "splom"
        },
        {
         "dimensions": [
          {
           "axis": {
            "matches": true
           },
           "label": "Children 0-18",
           "values": [
            0.233
           ]
          },
          {
           "axis": {
            "matches": true
           },
           "label": "Adults 26-34",
           "values": [
            0.117
           ]
          },
          {
           "axis": {
            "matches": true
           },
           "label": "Adults 35-54",
           "values": [
            0.265
           ]
          },
          {
           "axis": {
            "matches": true
           },
           "label": "65+",
           "values": [
            0.173
           ]
          }
         ],
         "hovertemplate": "Location=Maryland<br>%{xaxis.title.text}=%{x}<br>%{yaxis.title.text}=%{y}<extra></extra>",
         "legendgroup": "Maryland",
         "marker": {
          "color": "#EF553B",
          "symbol": "circle"
         },
         "name": "Maryland",
         "showlegend": true,
         "type": "splom"
        },
        {
         "dimensions": [
          {
           "axis": {
            "matches": true
           },
           "label": "Children 0-18",
           "values": [
            0.205
           ]
          },
          {
           "axis": {
            "matches": true
           },
           "label": "Adults 26-34",
           "values": [
            0.128
           ]
          },
          {
           "axis": {
            "matches": true
           },
           "label": "Adults 35-54",
           "values": [
            0.26
           ]
          },
          {
           "axis": {
            "matches": true
           },
           "label": "65+",
           "values": [
            0.186
           ]
          }
         ],
         "hovertemplate": "Location=Massachusetts<br>%{xaxis.title.text}=%{x}<br>%{yaxis.title.text}=%{y}<extra></extra>",
         "legendgroup": "Massachusetts",
         "marker": {
          "color": "#00cc96",
          "symbol": "circle"
         },
         "name": "Massachusetts",
         "showlegend": true,
         "type": "splom"
        },
        {
         "dimensions": [
          {
           "axis": {
            "matches": true
           },
           "label": "Children 0-18",
           "values": [
            0.222
           ]
          },
          {
           "axis": {
            "matches": true
           },
           "label": "Adults 26-34",
           "values": [
            0.12
           ]
          },
          {
           "axis": {
            "matches": true
           },
           "label": "Adults 35-54",
           "values": [
            0.244
           ]
          },
          {
           "axis": {
            "matches": true
           },
           "label": "65+",
           "values": [
            0.192
           ]
          }
         ],
         "hovertemplate": "Location=Michigan<br>%{xaxis.title.text}=%{x}<br>%{yaxis.title.text}=%{y}<extra></extra>",
         "legendgroup": "Michigan",
         "marker": {
          "color": "#ab63fa",
          "symbol": "circle"
         },
         "name": "Michigan",
         "showlegend": true,
         "type": "splom"
        },
        {
         "dimensions": [
          {
           "axis": {
            "matches": true
           },
           "label": "Children 0-18",
           "values": [
            0.237
           ]
          },
          {
           "axis": {
            "matches": true
           },
           "label": "Adults 26-34",
           "values": [
            0.118
           ]
          },
          {
           "axis": {
            "matches": true
           },
           "label": "Adults 35-54",
           "values": [
            0.257
           ]
          },
          {
           "axis": {
            "matches": true
           },
           "label": "65+",
           "values": [
            0.176
           ]
          }
         ],
         "hovertemplate": "Location=Minnesota<br>%{xaxis.title.text}=%{x}<br>%{yaxis.title.text}=%{y}<extra></extra>",
         "legendgroup": "Minnesota",
         "marker": {
          "color": "#FFA15A",
          "symbol": "circle"
         },
         "name": "Minnesota",
         "showlegend": true,
         "type": "splom"
        },
        {
         "dimensions": [
          {
           "axis": {
            "matches": true
           },
           "label": "Children 0-18",
           "values": [
            0.247
           ]
          },
          {
           "axis": {
            "matches": true
           },
           "label": "Adults 26-34",
           "values": [
            0.106
           ]
          },
          {
           "axis": {
            "matches": true
           },
           "label": "Adults 35-54",
           "values": [
            0.257
           ]
          },
          {
           "axis": {
            "matches": true
           },
           "label": "65+",
           "values": [
            0.177
           ]
          }
         ],
         "hovertemplate": "Location=Mississippi<br>%{xaxis.title.text}=%{x}<br>%{yaxis.title.text}=%{y}<extra></extra>",
         "legendgroup": "Mississippi",
         "marker": {
          "color": "#19d3f3",
          "symbol": "circle"
         },
         "name": "Mississippi",
         "showlegend": true,
         "type": "splom"
        },
        {
         "dimensions": [
          {
           "axis": {
            "matches": true
           },
           "label": "Children 0-18",
           "values": [
            0.233
           ]
          },
          {
           "axis": {
            "matches": true
           },
           "label": "Adults 26-34",
           "values": [
            0.119
           ]
          },
          {
           "axis": {
            "matches": true
           },
           "label": "Adults 35-54",
           "values": [
            0.249
           ]
          },
          {
           "axis": {
            "matches": true
           },
           "label": "65+",
           "values": [
            0.183
           ]
          }
         ],
         "hovertemplate": "Location=Missouri<br>%{xaxis.title.text}=%{x}<br>%{yaxis.title.text}=%{y}<extra></extra>",
         "legendgroup": "Missouri",
         "marker": {
          "color": "#FF6692",
          "symbol": "circle"
         },
         "name": "Missouri",
         "showlegend": true,
         "type": "splom"
        },
        {
         "dimensions": [
          {
           "axis": {
            "matches": true
           },
           "label": "Children 0-18",
           "values": [
            0.219
           ]
          },
          {
           "axis": {
            "matches": true
           },
           "label": "Adults 26-34",
           "values": [
            0.118
           ]
          },
          {
           "axis": {
            "matches": true
           },
           "label": "Adults 35-54",
           "values": [
            0.249
           ]
          },
          {
           "axis": {
            "matches": true
           },
           "label": "65+",
           "values": [
            0.205
           ]
          }
         ],
         "hovertemplate": "Location=Montana<br>%{xaxis.title.text}=%{x}<br>%{yaxis.title.text}=%{y}<extra></extra>",
         "legendgroup": "Montana",
         "marker": {
          "color": "#B6E880",
          "symbol": "circle"
         },
         "name": "Montana",
         "showlegend": true,
         "type": "splom"
        },
        {
         "dimensions": [
          {
           "axis": {
            "matches": true
           },
           "label": "Children 0-18",
           "values": [
            0.257
           ]
          },
          {
           "axis": {
            "matches": true
           },
           "label": "Adults 26-34",
           "values": [
            0.116
           ]
          },
          {
           "axis": {
            "matches": true
           },
           "label": "Adults 35-54",
           "values": [
            0.246
           ]
          },
          {
           "axis": {
            "matches": true
           },
           "label": "65+",
           "values": [
            0.172
           ]
          }
         ],
         "hovertemplate": "Location=Nebraska<br>%{xaxis.title.text}=%{x}<br>%{yaxis.title.text}=%{y}<extra></extra>",
         "legendgroup": "Nebraska",
         "marker": {
          "color": "#FF97FF",
          "symbol": "circle"
         },
         "name": "Nebraska",
         "showlegend": true,
         "type": "splom"
        },
        {
         "dimensions": [
          {
           "axis": {
            "matches": true
           },
           "label": "Children 0-18",
           "values": [
            0.226
           ]
          },
          {
           "axis": {
            "matches": true
           },
           "label": "Adults 26-34",
           "values": [
            0.128
           ]
          },
          {
           "axis": {
            "matches": true
           },
           "label": "Adults 35-54",
           "values": [
            0.266
           ]
          },
          {
           "axis": {
            "matches": true
           },
           "label": "65+",
           "values": [
            0.175
           ]
          }
         ],
         "hovertemplate": "Location=Nevada<br>%{xaxis.title.text}=%{x}<br>%{yaxis.title.text}=%{y}<extra></extra>",
         "legendgroup": "Nevada",
         "marker": {
          "color": "#FECB52",
          "symbol": "circle"
         },
         "name": "Nevada",
         "showlegend": true,
         "type": "splom"
        },
        {
         "dimensions": [
          {
           "axis": {
            "matches": true
           },
           "label": "Children 0-18",
           "values": [
            0.191
           ]
          },
          {
           "axis": {
            "matches": true
           },
           "label": "Adults 26-34",
           "values": [
            0.115
           ]
          },
          {
           "axis": {
            "matches": true
           },
           "label": "Adults 35-54",
           "values": [
            0.256
           ]
          },
          {
           "axis": {
            "matches": true
           },
           "label": "65+",
           "values": [
            0.206
           ]
          }
         ],
         "hovertemplate": "Location=New Hampshire<br>%{xaxis.title.text}=%{x}<br>%{yaxis.title.text}=%{y}<extra></extra>",
         "legendgroup": "New Hampshire",
         "marker": {
          "color": "#636efa",
          "symbol": "circle"
         },
         "name": "New Hampshire",
         "showlegend": true,
         "type": "splom"
        },
        {
         "dimensions": [
          {
           "axis": {
            "matches": true
           },
           "label": "Children 0-18",
           "values": [
            0.229
           ]
          },
          {
           "axis": {
            "matches": true
           },
           "label": "Adults 26-34",
           "values": [
            0.116
           ]
          },
          {
           "axis": {
            "matches": true
           },
           "label": "Adults 35-54",
           "values": [
            0.265
           ]
          },
          {
           "axis": {
            "matches": true
           },
           "label": "65+",
           "values": [
            0.177
           ]
          }
         ],
         "hovertemplate": "Location=New Jersey<br>%{xaxis.title.text}=%{x}<br>%{yaxis.title.text}=%{y}<extra></extra>",
         "legendgroup": "New Jersey",
         "marker": {
          "color": "#EF553B",
          "symbol": "circle"
         },
         "name": "New Jersey",
         "showlegend": true,
         "type": "splom"
        },
        {
         "dimensions": [
          {
           "axis": {
            "matches": true
           },
           "label": "Children 0-18",
           "values": [
            0.228
           ]
          },
          {
           "axis": {
            "matches": true
           },
           "label": "Adults 26-34",
           "values": [
            0.116
           ]
          },
          {
           "axis": {
            "matches": true
           },
           "label": "Adults 35-54",
           "values": [
            0.246
           ]
          },
          {
           "axis": {
            "matches": true
           },
           "label": "65+",
           "values": [
            0.204
           ]
          }
         ],
         "hovertemplate": "Location=New Mexico<br>%{xaxis.title.text}=%{x}<br>%{yaxis.title.text}=%{y}<extra></extra>",
         "legendgroup": "New Mexico",
         "marker": {
          "color": "#00cc96",
          "symbol": "circle"
         },
         "name": "New Mexico",
         "showlegend": true,
         "type": "splom"
        },
        {
         "dimensions": [
          {
           "axis": {
            "matches": true
           },
           "label": "Children 0-18",
           "values": [
            0.212
           ]
          },
          {
           "axis": {
            "matches": true
           },
           "label": "Adults 26-34",
           "values": [
            0.129
           ]
          },
          {
           "axis": {
            "matches": true
           },
           "label": "Adults 35-54",
           "values": [
            0.257
           ]
          },
          {
           "axis": {
            "matches": true
           },
           "label": "65+",
           "values": [
            0.186
           ]
          }
         ],
         "hovertemplate": "Location=New York<br>%{xaxis.title.text}=%{x}<br>%{yaxis.title.text}=%{y}<extra></extra>",
         "legendgroup": "New York",
         "marker": {
          "color": "#ab63fa",
          "symbol": "circle"
         },
         "name": "New York",
         "showlegend": true,
         "type": "splom"
        },
        {
         "dimensions": [
          {
           "axis": {
            "matches": true
           },
           "label": "Children 0-18",
           "values": [
            0.229
           ]
          },
          {
           "axis": {
            "matches": true
           },
           "label": "Adults 26-34",
           "values": [
            0.119
           ]
          },
          {
           "axis": {
            "matches": true
           },
           "label": "Adults 35-54",
           "values": [
            0.259
           ]
          },
          {
           "axis": {
            "matches": true
           },
           "label": "65+",
           "values": [
            0.179
           ]
          }
         ],
         "hovertemplate": "Location=North Carolina<br>%{xaxis.title.text}=%{x}<br>%{yaxis.title.text}=%{y}<extra></extra>",
         "legendgroup": "North Carolina",
         "marker": {
          "color": "#FFA15A",
          "symbol": "circle"
         },
         "name": "North Carolina",
         "showlegend": true,
         "type": "splom"
        },
        {
         "dimensions": [
          {
           "axis": {
            "matches": true
           },
           "label": "Children 0-18",
           "values": [
            0.245
           ]
          },
          {
           "axis": {
            "matches": true
           },
           "label": "Adults 26-34",
           "values": [
            0.132
           ]
          },
          {
           "axis": {
            "matches": true
           },
           "label": "Adults 35-54",
           "values": [
            0.241
           ]
          },
          {
           "axis": {
            "matches": true
           },
           "label": "65+",
           "values": [
            0.172
           ]
          }
         ],
         "hovertemplate": "Location=North Dakota<br>%{xaxis.title.text}=%{x}<br>%{yaxis.title.text}=%{y}<extra></extra>",
         "legendgroup": "North Dakota",
         "marker": {
          "color": "#19d3f3",
          "symbol": "circle"
         },
         "name": "North Dakota",
         "showlegend": true,
         "type": "splom"
        },
        {
         "dimensions": [
          {
           "axis": {
            "matches": true
           },
           "label": "Children 0-18",
           "values": [
            0.231
           ]
          },
          {
           "axis": {
            "matches": true
           },
           "label": "Adults 26-34",
           "values": [
            0.121
           ]
          },
          {
           "axis": {
            "matches": true
           },
           "label": "Adults 35-54",
           "values": [
            0.248
           ]
          },
          {
           "axis": {
            "matches": true
           },
           "label": "65+",
           "values": [
            0.187
           ]
          }
         ],
         "hovertemplate": "Location=Ohio<br>%{xaxis.title.text}=%{x}<br>%{yaxis.title.text}=%{y}<extra></extra>",
         "legendgroup": "Ohio",
         "marker": {
          "color": "#FF6692",
          "symbol": "circle"
         },
         "name": "Ohio",
         "showlegend": true,
         "type": "splom"
        },
        {
         "dimensions": [
          {
           "axis": {
            "matches": true
           },
           "label": "Children 0-18",
           "values": [
            0.256
           ]
          },
          {
           "axis": {
            "matches": true
           },
           "label": "Adults 26-34",
           "values": [
            0.119
           ]
          },
          {
           "axis": {
            "matches": true
           },
           "label": "Adults 35-54",
           "values": [
            0.249
           ]
          },
          {
           "axis": {
            "matches": true
           },
           "label": "65+",
           "values": [
            0.168
           ]
          }
         ],
         "hovertemplate": "Location=Oklahoma<br>%{xaxis.title.text}=%{x}<br>%{yaxis.title.text}=%{y}<extra></extra>",
         "legendgroup": "Oklahoma",
         "marker": {
          "color": "#B6E880",
          "symbol": "circle"
         },
         "name": "Oklahoma",
         "showlegend": true,
         "type": "splom"
        },
        {
         "dimensions": [
          {
           "axis": {
            "matches": true
           },
           "label": "Children 0-18",
           "values": [
            0.206
           ]
          },
          {
           "axis": {
            "matches": true
           },
           "label": "Adults 26-34",
           "values": [
            0.126
           ]
          },
          {
           "axis": {
            "matches": true
           },
           "label": "Adults 35-54",
           "values": [
            0.269
           ]
          },
          {
           "axis": {
            "matches": true
           },
           "label": "65+",
           "values": [
            0.197
           ]
          }
         ],
         "hovertemplate": "Location=Oregon<br>%{xaxis.title.text}=%{x}<br>%{yaxis.title.text}=%{y}<extra></extra>",
         "legendgroup": "Oregon",
         "marker": {
          "color": "#FF97FF",
          "symbol": "circle"
         },
         "name": "Oregon",
         "showlegend": true,
         "type": "splom"
        },
        {
         "dimensions": [
          {
           "axis": {
            "matches": true
           },
           "label": "Children 0-18",
           "values": [
            0.216
           ]
          },
          {
           "axis": {
            "matches": true
           },
           "label": "Adults 26-34",
           "values": [
            0.117
           ]
          },
          {
           "axis": {
            "matches": true
           },
           "label": "Adults 35-54",
           "values": [
            0.251
           ]
          },
          {
           "axis": {
            "matches": true
           },
           "label": "65+",
           "values": [
            0.201
           ]
          }
         ],
         "hovertemplate": "Location=Pennsylvania<br>%{xaxis.title.text}=%{x}<br>%{yaxis.title.text}=%{y}<extra></extra>",
         "legendgroup": "Pennsylvania",
         "marker": {
          "color": "#FECB52",
          "symbol": "circle"
         },
         "name": "Pennsylvania",
         "showlegend": true,
         "type": "splom"
        },
        {
         "dimensions": [
          {
           "axis": {
            "matches": true
           },
           "label": "Children 0-18",
           "values": [
            0.2
           ]
          },
          {
           "axis": {
            "matches": true
           },
           "label": "Adults 26-34",
           "values": [
            0.129
           ]
          },
          {
           "axis": {
            "matches": true
           },
           "label": "Adults 35-54",
           "values": [
            0.252
           ]
          },
          {
           "axis": {
            "matches": true
           },
           "label": "65+",
           "values": [
            0.195
           ]
          }
         ],
         "hovertemplate": "Location=Rhode Island<br>%{xaxis.title.text}=%{x}<br>%{yaxis.title.text}=%{y}<extra></extra>",
         "legendgroup": "Rhode Island",
         "marker": {
          "color": "#636efa",
          "symbol": "circle"
         },
         "name": "Rhode Island",
         "showlegend": true,
         "type": "splom"
        },
        {
         "dimensions": [
          {
           "axis": {
            "matches": true
           },
           "label": "Children 0-18",
           "values": [
            0.226
           ]
          },
          {
           "axis": {
            "matches": true
           },
           "label": "Adults 26-34",
           "values": [
            0.113
           ]
          },
          {
           "axis": {
            "matches": true
           },
           "label": "Adults 35-54",
           "values": [
            0.251
           ]
          },
          {
           "axis": {
            "matches": true
           },
           "label": "65+",
           "values": [
            0.195
           ]
          }
         ],
         "hovertemplate": "Location=South Carolina<br>%{xaxis.title.text}=%{x}<br>%{yaxis.title.text}=%{y}<extra></extra>",
         "legendgroup": "South Carolina",
         "marker": {
          "color": "#EF553B",
          "symbol": "circle"
         },
         "name": "South Carolina",
         "showlegend": true,
         "type": "splom"
        },
        {
         "dimensions": [
          {
           "axis": {
            "matches": true
           },
           "label": "Children 0-18",
           "values": [
            0.256
           ]
          },
          {
           "axis": {
            "matches": true
           },
           "label": "Adults 26-34",
           "values": [
            0.111
           ]
          },
          {
           "axis": {
            "matches": true
           },
           "label": "Adults 35-54",
           "values": [
            0.243
           ]
          },
          {
           "axis": {
            "matches": true
           },
           "label": "65+",
           "values": [
            0.182
           ]
          }
         ],
         "hovertemplate": "Location=South Dakota<br>%{xaxis.title.text}=%{x}<br>%{yaxis.title.text}=%{y}<extra></extra>",
         "legendgroup": "South Dakota",
         "marker": {
          "color": "#00cc96",
          "symbol": "circle"
         },
         "name": "South Dakota",
         "showlegend": true,
         "type": "splom"
        },
        {
         "dimensions": [
          {
           "axis": {
            "matches": true
           },
           "label": "Children 0-18",
           "values": [
            0.231
           ]
          },
          {
           "axis": {
            "matches": true
           },
           "label": "Adults 26-34",
           "values": [
            0.125
           ]
          },
          {
           "axis": {
            "matches": true
           },
           "label": "Adults 35-54",
           "values": [
            0.256
           ]
          },
          {
           "axis": {
            "matches": true
           },
           "label": "65+",
           "values": [
            0.176
           ]
          }
         ],
         "hovertemplate": "Location=Tennessee<br>%{xaxis.title.text}=%{x}<br>%{yaxis.title.text}=%{y}<extra></extra>",
         "legendgroup": "Tennessee",
         "marker": {
          "color": "#ab63fa",
          "symbol": "circle"
         },
         "name": "Tennessee",
         "showlegend": true,
         "type": "splom"
        },
        {
         "dimensions": [
          {
           "axis": {
            "matches": true
           },
           "label": "Children 0-18",
           "values": [
            0.263
           ]
          },
          {
           "axis": {
            "matches": true
           },
           "label": "Adults 26-34",
           "values": [
            0.129
           ]
          },
          {
           "axis": {
            "matches": true
           },
           "label": "Adults 35-54",
           "values": [
            0.267
           ]
          },
          {
           "axis": {
            "matches": true
           },
           "label": "65+",
           "values": [
            0.138
           ]
          }
         ],
         "hovertemplate": "Location=Texas<br>%{xaxis.title.text}=%{x}<br>%{yaxis.title.text}=%{y}<extra></extra>",
         "legendgroup": "Texas",
         "marker": {
          "color": "#FFA15A",
          "symbol": "circle"
         },
         "name": "Texas",
         "showlegend": true,
         "type": "splom"
        },
        {
         "dimensions": [
          {
           "axis": {
            "matches": true
           },
           "label": "Children 0-18",
           "values": [
            0.29
           ]
          },
          {
           "axis": {
            "matches": true
           },
           "label": "Adults 26-34",
           "values": [
            0.134
           ]
          },
          {
           "axis": {
            "matches": true
           },
           "label": "Adults 35-54",
           "values": [
            0.252
           ]
          },
          {
           "axis": {
            "matches": true
           },
           "label": "65+",
           "values": [
            0.122
           ]
          }
         ],
         "hovertemplate": "Location=Utah<br>%{xaxis.title.text}=%{x}<br>%{yaxis.title.text}=%{y}<extra></extra>",
         "legendgroup": "Utah",
         "marker": {
          "color": "#19d3f3",
          "symbol": "circle"
         },
         "name": "Utah",
         "showlegend": true,
         "type": "splom"
        },
        {
         "dimensions": [
          {
           "axis": {
            "matches": true
           },
           "label": "Children 0-18",
           "values": [
            0.188
           ]
          },
          {
           "axis": {
            "matches": true
           },
           "label": "Adults 26-34",
           "values": [
            0.11
           ]
          },
          {
           "axis": {
            "matches": true
           },
           "label": "Adults 35-54",
           "values": [
            0.252
           ]
          },
          {
           "axis": {
            "matches": true
           },
           "label": "65+",
           "values": [
            0.224
           ]
          }
         ],
         "hovertemplate": "Location=Vermont<br>%{xaxis.title.text}=%{x}<br>%{yaxis.title.text}=%{y}<extra></extra>",
         "legendgroup": "Vermont",
         "marker": {
          "color": "#FF6692",
          "symbol": "circle"
         },
         "name": "Vermont",
         "showlegend": true,
         "type": "splom"
        },
        {
         "dimensions": [
          {
           "axis": {
            "matches": true
           },
           "label": "Children 0-18",
           "values": [
            0.232
           ]
          },
          {
           "axis": {
            "matches": true
           },
           "label": "Adults 26-34",
           "values": [
            0.12
           ]
          },
          {
           "axis": {
            "matches": true
           },
           "label": "Adults 35-54",
           "values": [
            0.263
           ]
          },
          {
           "axis": {
            "matches": true
           },
           "label": "65+",
           "values": [
            0.175
           ]
          }
         ],
         "hovertemplate": "Location=Virginia<br>%{xaxis.title.text}=%{x}<br>%{yaxis.title.text}=%{y}<extra></extra>",
         "legendgroup": "Virginia",
         "marker": {
          "color": "#B6E880",
          "symbol": "circle"
         },
         "name": "Virginia",
         "showlegend": true,
         "type": "splom"
        },
        {
         "dimensions": [
          {
           "axis": {
            "matches": true
           },
           "label": "Children 0-18",
           "values": [
            0.223
           ]
          },
          {
           "axis": {
            "matches": true
           },
           "label": "Adults 26-34",
           "values": [
            0.136
           ]
          },
          {
           "axis": {
            "matches": true
           },
           "label": "Adults 35-54",
           "values": [
            0.269
           ]
          },
          {
           "axis": {
            "matches": true
           },
           "label": "65+",
           "values": [
            0.172
           ]
          }
         ],
         "hovertemplate": "Location=Washington<br>%{xaxis.title.text}=%{x}<br>%{yaxis.title.text}=%{y}<extra></extra>",
         "legendgroup": "Washington",
         "marker": {
          "color": "#FF97FF",
          "symbol": "circle"
         },
         "name": "Washington",
         "showlegend": true,
         "type": "splom"
        },
        {
         "dimensions": [
          {
           "axis": {
            "matches": true
           },
           "label": "Children 0-18",
           "values": [
            0.212
           ]
          },
          {
           "axis": {
            "matches": true
           },
           "label": "Adults 26-34",
           "values": [
            0.104
           ]
          },
          {
           "axis": {
            "matches": true
           },
           "label": "Adults 35-54",
           "values": [
            0.248
           ]
          },
          {
           "axis": {
            "matches": true
           },
           "label": "65+",
           "values": [
            0.217
           ]
          }
         ],
         "hovertemplate": "Location=West Virginia<br>%{xaxis.title.text}=%{x}<br>%{yaxis.title.text}=%{y}<extra></extra>",
         "legendgroup": "West Virginia",
         "marker": {
          "color": "#FECB52",
          "symbol": "circle"
         },
         "name": "West Virginia",
         "showlegend": true,
         "type": "splom"
        },
        {
         "dimensions": [
          {
           "axis": {
            "matches": true
           },
           "label": "Children 0-18",
           "values": [
            0.222
           ]
          },
          {
           "axis": {
            "matches": true
           },
           "label": "Adults 26-34",
           "values": [
            0.114
           ]
          },
          {
           "axis": {
            "matches": true
           },
           "label": "Adults 35-54",
           "values": [
            0.249
           ]
          },
          {
           "axis": {
            "matches": true
           },
           "label": "65+",
           "values": [
            0.191
           ]
          }
         ],
         "hovertemplate": "Location=Wisconsin<br>%{xaxis.title.text}=%{x}<br>%{yaxis.title.text}=%{y}<extra></extra>",
         "legendgroup": "Wisconsin",
         "marker": {
          "color": "#636efa",
          "symbol": "circle"
         },
         "name": "Wisconsin",
         "showlegend": true,
         "type": "splom"
        },
        {
         "dimensions": [
          {
           "axis": {
            "matches": true
           },
           "label": "Children 0-18",
           "values": [
            0.238
           ]
          },
          {
           "axis": {
            "matches": true
           },
           "label": "Adults 26-34",
           "values": [
            0.12
           ]
          },
          {
           "axis": {
            "matches": true
           },
           "label": "Adults 35-54",
           "values": [
            0.249
           ]
          },
          {
           "axis": {
            "matches": true
           },
           "label": "65+",
           "values": [
            0.191
           ]
          }
         ],
         "hovertemplate": "Location=Wyoming<br>%{xaxis.title.text}=%{x}<br>%{yaxis.title.text}=%{y}<extra></extra>",
         "legendgroup": "Wyoming",
         "marker": {
          "color": "#EF553B",
          "symbol": "circle"
         },
         "name": "Wyoming",
         "showlegend": true,
         "type": "splom"
        },
        {
         "dimensions": [
          {
           "axis": {
            "matches": true
           },
           "label": "Children 0-18",
           "values": [
            0.169
           ]
          },
          {
           "axis": {
            "matches": true
           },
           "label": "Adults 26-34",
           "values": [
            0.113
           ]
          },
          {
           "axis": {
            "matches": true
           },
           "label": "Adults 35-54",
           "values": [
            0.247
           ]
          },
          {
           "axis": {
            "matches": true
           },
           "label": "65+",
           "values": [
            0.24
           ]
          }
         ],
         "hovertemplate": "Location=Puerto Rico<br>%{xaxis.title.text}=%{x}<br>%{yaxis.title.text}=%{y}<extra></extra>",
         "legendgroup": "Puerto Rico",
         "marker": {
          "color": "#00cc96",
          "symbol": "circle"
         },
         "name": "Puerto Rico",
         "showlegend": true,
         "type": "splom"
        }
       ],
       "layout": {
        "dragmode": "select",
        "legend": {
         "title": {
          "text": "Location"
         },
         "tracegroupgap": 0
        },
        "template": {
         "data": {
          "bar": [
           {
            "error_x": {
             "color": "#2a3f5f"
            },
            "error_y": {
             "color": "#2a3f5f"
            },
            "marker": {
             "line": {
              "color": "#E5ECF6",
              "width": 0.5
             },
             "pattern": {
              "fillmode": "overlay",
              "size": 10,
              "solidity": 0.2
             }
            },
            "type": "bar"
           }
          ],
          "barpolar": [
           {
            "marker": {
             "line": {
              "color": "#E5ECF6",
              "width": 0.5
             },
             "pattern": {
              "fillmode": "overlay",
              "size": 10,
              "solidity": 0.2
             }
            },
            "type": "barpolar"
           }
          ],
          "carpet": [
           {
            "aaxis": {
             "endlinecolor": "#2a3f5f",
             "gridcolor": "white",
             "linecolor": "white",
             "minorgridcolor": "white",
             "startlinecolor": "#2a3f5f"
            },
            "baxis": {
             "endlinecolor": "#2a3f5f",
             "gridcolor": "white",
             "linecolor": "white",
             "minorgridcolor": "white",
             "startlinecolor": "#2a3f5f"
            },
            "type": "carpet"
           }
          ],
          "choropleth": [
           {
            "colorbar": {
             "outlinewidth": 0,
             "ticks": ""
            },
            "type": "choropleth"
           }
          ],
          "contour": [
           {
            "colorbar": {
             "outlinewidth": 0,
             "ticks": ""
            },
            "colorscale": [
             [
              0,
              "#0d0887"
             ],
             [
              0.1111111111111111,
              "#46039f"
             ],
             [
              0.2222222222222222,
              "#7201a8"
             ],
             [
              0.3333333333333333,
              "#9c179e"
             ],
             [
              0.4444444444444444,
              "#bd3786"
             ],
             [
              0.5555555555555556,
              "#d8576b"
             ],
             [
              0.6666666666666666,
              "#ed7953"
             ],
             [
              0.7777777777777778,
              "#fb9f3a"
             ],
             [
              0.8888888888888888,
              "#fdca26"
             ],
             [
              1,
              "#f0f921"
             ]
            ],
            "type": "contour"
           }
          ],
          "contourcarpet": [
           {
            "colorbar": {
             "outlinewidth": 0,
             "ticks": ""
            },
            "type": "contourcarpet"
           }
          ],
          "heatmap": [
           {
            "colorbar": {
             "outlinewidth": 0,
             "ticks": ""
            },
            "colorscale": [
             [
              0,
              "#0d0887"
             ],
             [
              0.1111111111111111,
              "#46039f"
             ],
             [
              0.2222222222222222,
              "#7201a8"
             ],
             [
              0.3333333333333333,
              "#9c179e"
             ],
             [
              0.4444444444444444,
              "#bd3786"
             ],
             [
              0.5555555555555556,
              "#d8576b"
             ],
             [
              0.6666666666666666,
              "#ed7953"
             ],
             [
              0.7777777777777778,
              "#fb9f3a"
             ],
             [
              0.8888888888888888,
              "#fdca26"
             ],
             [
              1,
              "#f0f921"
             ]
            ],
            "type": "heatmap"
           }
          ],
          "heatmapgl": [
           {
            "colorbar": {
             "outlinewidth": 0,
             "ticks": ""
            },
            "colorscale": [
             [
              0,
              "#0d0887"
             ],
             [
              0.1111111111111111,
              "#46039f"
             ],
             [
              0.2222222222222222,
              "#7201a8"
             ],
             [
              0.3333333333333333,
              "#9c179e"
             ],
             [
              0.4444444444444444,
              "#bd3786"
             ],
             [
              0.5555555555555556,
              "#d8576b"
             ],
             [
              0.6666666666666666,
              "#ed7953"
             ],
             [
              0.7777777777777778,
              "#fb9f3a"
             ],
             [
              0.8888888888888888,
              "#fdca26"
             ],
             [
              1,
              "#f0f921"
             ]
            ],
            "type": "heatmapgl"
           }
          ],
          "histogram": [
           {
            "marker": {
             "pattern": {
              "fillmode": "overlay",
              "size": 10,
              "solidity": 0.2
             }
            },
            "type": "histogram"
           }
          ],
          "histogram2d": [
           {
            "colorbar": {
             "outlinewidth": 0,
             "ticks": ""
            },
            "colorscale": [
             [
              0,
              "#0d0887"
             ],
             [
              0.1111111111111111,
              "#46039f"
             ],
             [
              0.2222222222222222,
              "#7201a8"
             ],
             [
              0.3333333333333333,
              "#9c179e"
             ],
             [
              0.4444444444444444,
              "#bd3786"
             ],
             [
              0.5555555555555556,
              "#d8576b"
             ],
             [
              0.6666666666666666,
              "#ed7953"
             ],
             [
              0.7777777777777778,
              "#fb9f3a"
             ],
             [
              0.8888888888888888,
              "#fdca26"
             ],
             [
              1,
              "#f0f921"
             ]
            ],
            "type": "histogram2d"
           }
          ],
          "histogram2dcontour": [
           {
            "colorbar": {
             "outlinewidth": 0,
             "ticks": ""
            },
            "colorscale": [
             [
              0,
              "#0d0887"
             ],
             [
              0.1111111111111111,
              "#46039f"
             ],
             [
              0.2222222222222222,
              "#7201a8"
             ],
             [
              0.3333333333333333,
              "#9c179e"
             ],
             [
              0.4444444444444444,
              "#bd3786"
             ],
             [
              0.5555555555555556,
              "#d8576b"
             ],
             [
              0.6666666666666666,
              "#ed7953"
             ],
             [
              0.7777777777777778,
              "#fb9f3a"
             ],
             [
              0.8888888888888888,
              "#fdca26"
             ],
             [
              1,
              "#f0f921"
             ]
            ],
            "type": "histogram2dcontour"
           }
          ],
          "mesh3d": [
           {
            "colorbar": {
             "outlinewidth": 0,
             "ticks": ""
            },
            "type": "mesh3d"
           }
          ],
          "parcoords": [
           {
            "line": {
             "colorbar": {
              "outlinewidth": 0,
              "ticks": ""
             }
            },
            "type": "parcoords"
           }
          ],
          "pie": [
           {
            "automargin": true,
            "type": "pie"
           }
          ],
          "scatter": [
           {
            "fillpattern": {
             "fillmode": "overlay",
             "size": 10,
             "solidity": 0.2
            },
            "type": "scatter"
           }
          ],
          "scatter3d": [
           {
            "line": {
             "colorbar": {
              "outlinewidth": 0,
              "ticks": ""
             }
            },
            "marker": {
             "colorbar": {
              "outlinewidth": 0,
              "ticks": ""
             }
            },
            "type": "scatter3d"
           }
          ],
          "scattercarpet": [
           {
            "marker": {
             "colorbar": {
              "outlinewidth": 0,
              "ticks": ""
             }
            },
            "type": "scattercarpet"
           }
          ],
          "scattergeo": [
           {
            "marker": {
             "colorbar": {
              "outlinewidth": 0,
              "ticks": ""
             }
            },
            "type": "scattergeo"
           }
          ],
          "scattergl": [
           {
            "marker": {
             "colorbar": {
              "outlinewidth": 0,
              "ticks": ""
             }
            },
            "type": "scattergl"
           }
          ],
          "scattermapbox": [
           {
            "marker": {
             "colorbar": {
              "outlinewidth": 0,
              "ticks": ""
             }
            },
            "type": "scattermapbox"
           }
          ],
          "scatterpolar": [
           {
            "marker": {
             "colorbar": {
              "outlinewidth": 0,
              "ticks": ""
             }
            },
            "type": "scatterpolar"
           }
          ],
          "scatterpolargl": [
           {
            "marker": {
             "colorbar": {
              "outlinewidth": 0,
              "ticks": ""
             }
            },
            "type": "scatterpolargl"
           }
          ],
          "scatterternary": [
           {
            "marker": {
             "colorbar": {
              "outlinewidth": 0,
              "ticks": ""
             }
            },
            "type": "scatterternary"
           }
          ],
          "surface": [
           {
            "colorbar": {
             "outlinewidth": 0,
             "ticks": ""
            },
            "colorscale": [
             [
              0,
              "#0d0887"
             ],
             [
              0.1111111111111111,
              "#46039f"
             ],
             [
              0.2222222222222222,
              "#7201a8"
             ],
             [
              0.3333333333333333,
              "#9c179e"
             ],
             [
              0.4444444444444444,
              "#bd3786"
             ],
             [
              0.5555555555555556,
              "#d8576b"
             ],
             [
              0.6666666666666666,
              "#ed7953"
             ],
             [
              0.7777777777777778,
              "#fb9f3a"
             ],
             [
              0.8888888888888888,
              "#fdca26"
             ],
             [
              1,
              "#f0f921"
             ]
            ],
            "type": "surface"
           }
          ],
          "table": [
           {
            "cells": {
             "fill": {
              "color": "#EBF0F8"
             },
             "line": {
              "color": "white"
             }
            },
            "header": {
             "fill": {
              "color": "#C8D4E3"
             },
             "line": {
              "color": "white"
             }
            },
            "type": "table"
           }
          ]
         },
         "layout": {
          "annotationdefaults": {
           "arrowcolor": "#2a3f5f",
           "arrowhead": 0,
           "arrowwidth": 1
          },
          "autotypenumbers": "strict",
          "coloraxis": {
           "colorbar": {
            "outlinewidth": 0,
            "ticks": ""
           }
          },
          "colorscale": {
           "diverging": [
            [
             0,
             "#8e0152"
            ],
            [
             0.1,
             "#c51b7d"
            ],
            [
             0.2,
             "#de77ae"
            ],
            [
             0.3,
             "#f1b6da"
            ],
            [
             0.4,
             "#fde0ef"
            ],
            [
             0.5,
             "#f7f7f7"
            ],
            [
             0.6,
             "#e6f5d0"
            ],
            [
             0.7,
             "#b8e186"
            ],
            [
             0.8,
             "#7fbc41"
            ],
            [
             0.9,
             "#4d9221"
            ],
            [
             1,
             "#276419"
            ]
           ],
           "sequential": [
            [
             0,
             "#0d0887"
            ],
            [
             0.1111111111111111,
             "#46039f"
            ],
            [
             0.2222222222222222,
             "#7201a8"
            ],
            [
             0.3333333333333333,
             "#9c179e"
            ],
            [
             0.4444444444444444,
             "#bd3786"
            ],
            [
             0.5555555555555556,
             "#d8576b"
            ],
            [
             0.6666666666666666,
             "#ed7953"
            ],
            [
             0.7777777777777778,
             "#fb9f3a"
            ],
            [
             0.8888888888888888,
             "#fdca26"
            ],
            [
             1,
             "#f0f921"
            ]
           ],
           "sequentialminus": [
            [
             0,
             "#0d0887"
            ],
            [
             0.1111111111111111,
             "#46039f"
            ],
            [
             0.2222222222222222,
             "#7201a8"
            ],
            [
             0.3333333333333333,
             "#9c179e"
            ],
            [
             0.4444444444444444,
             "#bd3786"
            ],
            [
             0.5555555555555556,
             "#d8576b"
            ],
            [
             0.6666666666666666,
             "#ed7953"
            ],
            [
             0.7777777777777778,
             "#fb9f3a"
            ],
            [
             0.8888888888888888,
             "#fdca26"
            ],
            [
             1,
             "#f0f921"
            ]
           ]
          },
          "colorway": [
           "#636efa",
           "#EF553B",
           "#00cc96",
           "#ab63fa",
           "#FFA15A",
           "#19d3f3",
           "#FF6692",
           "#B6E880",
           "#FF97FF",
           "#FECB52"
          ],
          "font": {
           "color": "#2a3f5f"
          },
          "geo": {
           "bgcolor": "white",
           "lakecolor": "white",
           "landcolor": "#E5ECF6",
           "showlakes": true,
           "showland": true,
           "subunitcolor": "white"
          },
          "hoverlabel": {
           "align": "left"
          },
          "hovermode": "closest",
          "mapbox": {
           "style": "light"
          },
          "paper_bgcolor": "white",
          "plot_bgcolor": "#E5ECF6",
          "polar": {
           "angularaxis": {
            "gridcolor": "white",
            "linecolor": "white",
            "ticks": ""
           },
           "bgcolor": "#E5ECF6",
           "radialaxis": {
            "gridcolor": "white",
            "linecolor": "white",
            "ticks": ""
           }
          },
          "scene": {
           "xaxis": {
            "backgroundcolor": "#E5ECF6",
            "gridcolor": "white",
            "gridwidth": 2,
            "linecolor": "white",
            "showbackground": true,
            "ticks": "",
            "zerolinecolor": "white"
           },
           "yaxis": {
            "backgroundcolor": "#E5ECF6",
            "gridcolor": "white",
            "gridwidth": 2,
            "linecolor": "white",
            "showbackground": true,
            "ticks": "",
            "zerolinecolor": "white"
           },
           "zaxis": {
            "backgroundcolor": "#E5ECF6",
            "gridcolor": "white",
            "gridwidth": 2,
            "linecolor": "white",
            "showbackground": true,
            "ticks": "",
            "zerolinecolor": "white"
           }
          },
          "shapedefaults": {
           "line": {
            "color": "#2a3f5f"
           }
          },
          "ternary": {
           "aaxis": {
            "gridcolor": "white",
            "linecolor": "white",
            "ticks": ""
           },
           "baxis": {
            "gridcolor": "white",
            "linecolor": "white",
            "ticks": ""
           },
           "bgcolor": "#E5ECF6",
           "caxis": {
            "gridcolor": "white",
            "linecolor": "white",
            "ticks": ""
           }
          },
          "title": {
           "x": 0.05
          },
          "xaxis": {
           "automargin": true,
           "gridcolor": "white",
           "linecolor": "white",
           "ticks": "",
           "title": {
            "standoff": 15
           },
           "zerolinecolor": "white",
           "zerolinewidth": 2
          },
          "yaxis": {
           "automargin": true,
           "gridcolor": "white",
           "linecolor": "white",
           "ticks": "",
           "title": {
            "standoff": 15
           },
           "zerolinecolor": "white",
           "zerolinewidth": 2
          }
         }
        },
        "title": {
         "text": "Scatter Matrix"
        }
       }
      }
     },
     "metadata": {},
     "output_type": "display_data"
    }
   ],
   "source": [
    "fig = px.scatter_matrix(\n",
    "    df,\n",
    "    dimensions=['Children 0-18', 'Adults 26-34', 'Adults 35-54', '65+' ],  # Columns to include in the scatter matrix\n",
    "    color='Location', # column to color points by\n",
    "    title='Scatter Matrix',\n",
    "    labels={'A': 'Children 0-18', 'B': 'Adults 26-34', 'C': 'Adults 35-54'  , 'D': '65+' }\n",
    ")\n",
    "\n",
    "# Show the figure\n",
    "fig.show() "
   ]
  },
  {
   "cell_type": "markdown",
   "id": "7746d5d831a4d007",
   "metadata": {},
   "source": [
    "### Plot 3 - Map\n",
    "This plot uses a choropleth map to show each state and its elderly population. It uses colors to show the distribution, with blue being the least and yellow being the most. Surprisingly, Vermont and West Virginia have some of the highest elderly populations in the U.S. Florida has a high elderly population as well but that was expected due to its popularity for retirement. Maine has the largest elderly population in the U.S. On the opposite spectrum, Utah has the smallest elderly population in the U.S. "
   ]
  },
  {
   "cell_type": "code",
   "execution_count": 6,
   "id": "7882eedd780b0458",
   "metadata": {
    "ExecuteTime": {
     "end_time": "2025-01-16T15:14:00.699506Z",
     "start_time": "2025-01-16T15:14:00.567507Z"
    }
   },
   "outputs": [
    {
     "data": {
      "application/vnd.plotly.v1+json": {
       "config": {
        "plotlyServerURL": "https://plot.ly"
       },
       "data": [
        {
         "coloraxis": "coloraxis",
         "geo": "geo",
         "hovertemplate": "locations=%{location}<br>color=%{z}<extra></extra>",
         "locationmode": "USA-states",
         "locations": [
          null,
          "AL",
          "AK",
          "AZ",
          "AR",
          "CA",
          "CO",
          "CT",
          "DE",
          null,
          "FL",
          "GA",
          "HI",
          "ID",
          "IL",
          "IN",
          "IA",
          "KS",
          "KY",
          "LA",
          "ME",
          "MD",
          "MA",
          "MI",
          "MN",
          "MS",
          "MO",
          "MT",
          "NE",
          "NV",
          "NH",
          "NJ",
          "NM",
          "NY",
          "NC",
          "ND",
          "OH",
          "OK",
          "OR",
          "PA",
          "RI",
          "SC",
          "SD",
          "TN",
          "TX",
          "UT",
          "VT",
          "VA",
          "WA",
          "WV",
          "WI",
          "WY",
          null
         ],
         "name": "",
         "type": "choropleth",
         "z": [
          0.178,
          0.184,
          0.143,
          0.195,
          0.179,
          0.163,
          0.162,
          0.191,
          0.216,
          0.135,
          0.218,
          0.155,
          0.218,
          0.175,
          0.175,
          0.171,
          0.184,
          0.176,
          0.177,
          0.175,
          0.228,
          0.173,
          0.186,
          0.192,
          0.176,
          0.177,
          0.183,
          0.205,
          0.172,
          0.175,
          0.206,
          0.177,
          0.204,
          0.186,
          0.179,
          0.172,
          0.187,
          0.168,
          0.197,
          0.201,
          0.195,
          0.195,
          0.182,
          0.176,
          0.138,
          0.122,
          0.224,
          0.175,
          0.172,
          0.217,
          0.191,
          0.191,
          0.24
         ]
        }
       ],
       "layout": {
        "coloraxis": {
         "colorbar": {
          "title": {
           "text": "color"
          }
         },
         "colorscale": [
          [
           0,
           "#0d0887"
          ],
          [
           0.1111111111111111,
           "#46039f"
          ],
          [
           0.2222222222222222,
           "#7201a8"
          ],
          [
           0.3333333333333333,
           "#9c179e"
          ],
          [
           0.4444444444444444,
           "#bd3786"
          ],
          [
           0.5555555555555556,
           "#d8576b"
          ],
          [
           0.6666666666666666,
           "#ed7953"
          ],
          [
           0.7777777777777778,
           "#fb9f3a"
          ],
          [
           0.8888888888888888,
           "#fdca26"
          ],
          [
           1,
           "#f0f921"
          ]
         ]
        },
        "geo": {
         "center": {},
         "domain": {
          "x": [
           0,
           1
          ],
          "y": [
           0,
           1
          ]
         },
         "scope": "usa"
        },
        "legend": {
         "tracegroupgap": 0
        },
        "template": {
         "data": {
          "bar": [
           {
            "error_x": {
             "color": "#2a3f5f"
            },
            "error_y": {
             "color": "#2a3f5f"
            },
            "marker": {
             "line": {
              "color": "#E5ECF6",
              "width": 0.5
             },
             "pattern": {
              "fillmode": "overlay",
              "size": 10,
              "solidity": 0.2
             }
            },
            "type": "bar"
           }
          ],
          "barpolar": [
           {
            "marker": {
             "line": {
              "color": "#E5ECF6",
              "width": 0.5
             },
             "pattern": {
              "fillmode": "overlay",
              "size": 10,
              "solidity": 0.2
             }
            },
            "type": "barpolar"
           }
          ],
          "carpet": [
           {
            "aaxis": {
             "endlinecolor": "#2a3f5f",
             "gridcolor": "white",
             "linecolor": "white",
             "minorgridcolor": "white",
             "startlinecolor": "#2a3f5f"
            },
            "baxis": {
             "endlinecolor": "#2a3f5f",
             "gridcolor": "white",
             "linecolor": "white",
             "minorgridcolor": "white",
             "startlinecolor": "#2a3f5f"
            },
            "type": "carpet"
           }
          ],
          "choropleth": [
           {
            "colorbar": {
             "outlinewidth": 0,
             "ticks": ""
            },
            "type": "choropleth"
           }
          ],
          "contour": [
           {
            "colorbar": {
             "outlinewidth": 0,
             "ticks": ""
            },
            "colorscale": [
             [
              0,
              "#0d0887"
             ],
             [
              0.1111111111111111,
              "#46039f"
             ],
             [
              0.2222222222222222,
              "#7201a8"
             ],
             [
              0.3333333333333333,
              "#9c179e"
             ],
             [
              0.4444444444444444,
              "#bd3786"
             ],
             [
              0.5555555555555556,
              "#d8576b"
             ],
             [
              0.6666666666666666,
              "#ed7953"
             ],
             [
              0.7777777777777778,
              "#fb9f3a"
             ],
             [
              0.8888888888888888,
              "#fdca26"
             ],
             [
              1,
              "#f0f921"
             ]
            ],
            "type": "contour"
           }
          ],
          "contourcarpet": [
           {
            "colorbar": {
             "outlinewidth": 0,
             "ticks": ""
            },
            "type": "contourcarpet"
           }
          ],
          "heatmap": [
           {
            "colorbar": {
             "outlinewidth": 0,
             "ticks": ""
            },
            "colorscale": [
             [
              0,
              "#0d0887"
             ],
             [
              0.1111111111111111,
              "#46039f"
             ],
             [
              0.2222222222222222,
              "#7201a8"
             ],
             [
              0.3333333333333333,
              "#9c179e"
             ],
             [
              0.4444444444444444,
              "#bd3786"
             ],
             [
              0.5555555555555556,
              "#d8576b"
             ],
             [
              0.6666666666666666,
              "#ed7953"
             ],
             [
              0.7777777777777778,
              "#fb9f3a"
             ],
             [
              0.8888888888888888,
              "#fdca26"
             ],
             [
              1,
              "#f0f921"
             ]
            ],
            "type": "heatmap"
           }
          ],
          "heatmapgl": [
           {
            "colorbar": {
             "outlinewidth": 0,
             "ticks": ""
            },
            "colorscale": [
             [
              0,
              "#0d0887"
             ],
             [
              0.1111111111111111,
              "#46039f"
             ],
             [
              0.2222222222222222,
              "#7201a8"
             ],
             [
              0.3333333333333333,
              "#9c179e"
             ],
             [
              0.4444444444444444,
              "#bd3786"
             ],
             [
              0.5555555555555556,
              "#d8576b"
             ],
             [
              0.6666666666666666,
              "#ed7953"
             ],
             [
              0.7777777777777778,
              "#fb9f3a"
             ],
             [
              0.8888888888888888,
              "#fdca26"
             ],
             [
              1,
              "#f0f921"
             ]
            ],
            "type": "heatmapgl"
           }
          ],
          "histogram": [
           {
            "marker": {
             "pattern": {
              "fillmode": "overlay",
              "size": 10,
              "solidity": 0.2
             }
            },
            "type": "histogram"
           }
          ],
          "histogram2d": [
           {
            "colorbar": {
             "outlinewidth": 0,
             "ticks": ""
            },
            "colorscale": [
             [
              0,
              "#0d0887"
             ],
             [
              0.1111111111111111,
              "#46039f"
             ],
             [
              0.2222222222222222,
              "#7201a8"
             ],
             [
              0.3333333333333333,
              "#9c179e"
             ],
             [
              0.4444444444444444,
              "#bd3786"
             ],
             [
              0.5555555555555556,
              "#d8576b"
             ],
             [
              0.6666666666666666,
              "#ed7953"
             ],
             [
              0.7777777777777778,
              "#fb9f3a"
             ],
             [
              0.8888888888888888,
              "#fdca26"
             ],
             [
              1,
              "#f0f921"
             ]
            ],
            "type": "histogram2d"
           }
          ],
          "histogram2dcontour": [
           {
            "colorbar": {
             "outlinewidth": 0,
             "ticks": ""
            },
            "colorscale": [
             [
              0,
              "#0d0887"
             ],
             [
              0.1111111111111111,
              "#46039f"
             ],
             [
              0.2222222222222222,
              "#7201a8"
             ],
             [
              0.3333333333333333,
              "#9c179e"
             ],
             [
              0.4444444444444444,
              "#bd3786"
             ],
             [
              0.5555555555555556,
              "#d8576b"
             ],
             [
              0.6666666666666666,
              "#ed7953"
             ],
             [
              0.7777777777777778,
              "#fb9f3a"
             ],
             [
              0.8888888888888888,
              "#fdca26"
             ],
             [
              1,
              "#f0f921"
             ]
            ],
            "type": "histogram2dcontour"
           }
          ],
          "mesh3d": [
           {
            "colorbar": {
             "outlinewidth": 0,
             "ticks": ""
            },
            "type": "mesh3d"
           }
          ],
          "parcoords": [
           {
            "line": {
             "colorbar": {
              "outlinewidth": 0,
              "ticks": ""
             }
            },
            "type": "parcoords"
           }
          ],
          "pie": [
           {
            "automargin": true,
            "type": "pie"
           }
          ],
          "scatter": [
           {
            "fillpattern": {
             "fillmode": "overlay",
             "size": 10,
             "solidity": 0.2
            },
            "type": "scatter"
           }
          ],
          "scatter3d": [
           {
            "line": {
             "colorbar": {
              "outlinewidth": 0,
              "ticks": ""
             }
            },
            "marker": {
             "colorbar": {
              "outlinewidth": 0,
              "ticks": ""
             }
            },
            "type": "scatter3d"
           }
          ],
          "scattercarpet": [
           {
            "marker": {
             "colorbar": {
              "outlinewidth": 0,
              "ticks": ""
             }
            },
            "type": "scattercarpet"
           }
          ],
          "scattergeo": [
           {
            "marker": {
             "colorbar": {
              "outlinewidth": 0,
              "ticks": ""
             }
            },
            "type": "scattergeo"
           }
          ],
          "scattergl": [
           {
            "marker": {
             "colorbar": {
              "outlinewidth": 0,
              "ticks": ""
             }
            },
            "type": "scattergl"
           }
          ],
          "scattermapbox": [
           {
            "marker": {
             "colorbar": {
              "outlinewidth": 0,
              "ticks": ""
             }
            },
            "type": "scattermapbox"
           }
          ],
          "scatterpolar": [
           {
            "marker": {
             "colorbar": {
              "outlinewidth": 0,
              "ticks": ""
             }
            },
            "type": "scatterpolar"
           }
          ],
          "scatterpolargl": [
           {
            "marker": {
             "colorbar": {
              "outlinewidth": 0,
              "ticks": ""
             }
            },
            "type": "scatterpolargl"
           }
          ],
          "scatterternary": [
           {
            "marker": {
             "colorbar": {
              "outlinewidth": 0,
              "ticks": ""
             }
            },
            "type": "scatterternary"
           }
          ],
          "surface": [
           {
            "colorbar": {
             "outlinewidth": 0,
             "ticks": ""
            },
            "colorscale": [
             [
              0,
              "#0d0887"
             ],
             [
              0.1111111111111111,
              "#46039f"
             ],
             [
              0.2222222222222222,
              "#7201a8"
             ],
             [
              0.3333333333333333,
              "#9c179e"
             ],
             [
              0.4444444444444444,
              "#bd3786"
             ],
             [
              0.5555555555555556,
              "#d8576b"
             ],
             [
              0.6666666666666666,
              "#ed7953"
             ],
             [
              0.7777777777777778,
              "#fb9f3a"
             ],
             [
              0.8888888888888888,
              "#fdca26"
             ],
             [
              1,
              "#f0f921"
             ]
            ],
            "type": "surface"
           }
          ],
          "table": [
           {
            "cells": {
             "fill": {
              "color": "#EBF0F8"
             },
             "line": {
              "color": "white"
             }
            },
            "header": {
             "fill": {
              "color": "#C8D4E3"
             },
             "line": {
              "color": "white"
             }
            },
            "type": "table"
           }
          ]
         },
         "layout": {
          "annotationdefaults": {
           "arrowcolor": "#2a3f5f",
           "arrowhead": 0,
           "arrowwidth": 1
          },
          "autotypenumbers": "strict",
          "coloraxis": {
           "colorbar": {
            "outlinewidth": 0,
            "ticks": ""
           }
          },
          "colorscale": {
           "diverging": [
            [
             0,
             "#8e0152"
            ],
            [
             0.1,
             "#c51b7d"
            ],
            [
             0.2,
             "#de77ae"
            ],
            [
             0.3,
             "#f1b6da"
            ],
            [
             0.4,
             "#fde0ef"
            ],
            [
             0.5,
             "#f7f7f7"
            ],
            [
             0.6,
             "#e6f5d0"
            ],
            [
             0.7,
             "#b8e186"
            ],
            [
             0.8,
             "#7fbc41"
            ],
            [
             0.9,
             "#4d9221"
            ],
            [
             1,
             "#276419"
            ]
           ],
           "sequential": [
            [
             0,
             "#0d0887"
            ],
            [
             0.1111111111111111,
             "#46039f"
            ],
            [
             0.2222222222222222,
             "#7201a8"
            ],
            [
             0.3333333333333333,
             "#9c179e"
            ],
            [
             0.4444444444444444,
             "#bd3786"
            ],
            [
             0.5555555555555556,
             "#d8576b"
            ],
            [
             0.6666666666666666,
             "#ed7953"
            ],
            [
             0.7777777777777778,
             "#fb9f3a"
            ],
            [
             0.8888888888888888,
             "#fdca26"
            ],
            [
             1,
             "#f0f921"
            ]
           ],
           "sequentialminus": [
            [
             0,
             "#0d0887"
            ],
            [
             0.1111111111111111,
             "#46039f"
            ],
            [
             0.2222222222222222,
             "#7201a8"
            ],
            [
             0.3333333333333333,
             "#9c179e"
            ],
            [
             0.4444444444444444,
             "#bd3786"
            ],
            [
             0.5555555555555556,
             "#d8576b"
            ],
            [
             0.6666666666666666,
             "#ed7953"
            ],
            [
             0.7777777777777778,
             "#fb9f3a"
            ],
            [
             0.8888888888888888,
             "#fdca26"
            ],
            [
             1,
             "#f0f921"
            ]
           ]
          },
          "colorway": [
           "#636efa",
           "#EF553B",
           "#00cc96",
           "#ab63fa",
           "#FFA15A",
           "#19d3f3",
           "#FF6692",
           "#B6E880",
           "#FF97FF",
           "#FECB52"
          ],
          "font": {
           "color": "#2a3f5f"
          },
          "geo": {
           "bgcolor": "white",
           "lakecolor": "white",
           "landcolor": "#E5ECF6",
           "showlakes": true,
           "showland": true,
           "subunitcolor": "white"
          },
          "hoverlabel": {
           "align": "left"
          },
          "hovermode": "closest",
          "mapbox": {
           "style": "light"
          },
          "paper_bgcolor": "white",
          "plot_bgcolor": "#E5ECF6",
          "polar": {
           "angularaxis": {
            "gridcolor": "white",
            "linecolor": "white",
            "ticks": ""
           },
           "bgcolor": "#E5ECF6",
           "radialaxis": {
            "gridcolor": "white",
            "linecolor": "white",
            "ticks": ""
           }
          },
          "scene": {
           "xaxis": {
            "backgroundcolor": "#E5ECF6",
            "gridcolor": "white",
            "gridwidth": 2,
            "linecolor": "white",
            "showbackground": true,
            "ticks": "",
            "zerolinecolor": "white"
           },
           "yaxis": {
            "backgroundcolor": "#E5ECF6",
            "gridcolor": "white",
            "gridwidth": 2,
            "linecolor": "white",
            "showbackground": true,
            "ticks": "",
            "zerolinecolor": "white"
           },
           "zaxis": {
            "backgroundcolor": "#E5ECF6",
            "gridcolor": "white",
            "gridwidth": 2,
            "linecolor": "white",
            "showbackground": true,
            "ticks": "",
            "zerolinecolor": "white"
           }
          },
          "shapedefaults": {
           "line": {
            "color": "#2a3f5f"
           }
          },
          "ternary": {
           "aaxis": {
            "gridcolor": "white",
            "linecolor": "white",
            "ticks": ""
           },
           "baxis": {
            "gridcolor": "white",
            "linecolor": "white",
            "ticks": ""
           },
           "bgcolor": "#E5ECF6",
           "caxis": {
            "gridcolor": "white",
            "linecolor": "white",
            "ticks": ""
           }
          },
          "title": {
           "x": 0.05
          },
          "xaxis": {
           "automargin": true,
           "gridcolor": "white",
           "linecolor": "white",
           "ticks": "",
           "title": {
            "standoff": 15
           },
           "zerolinecolor": "white",
           "zerolinewidth": 2
          },
          "yaxis": {
           "automargin": true,
           "gridcolor": "white",
           "linecolor": "white",
           "ticks": "",
           "title": {
            "standoff": 15
           },
           "zerolinecolor": "white",
           "zerolinewidth": 2
          }
         }
        },
        "title": {
         "text": "USA States Ages 65+"
        }
       }
      }
     },
     "metadata": {},
     "output_type": "display_data"
    }
   ],
   "source": [
    "df['Code'] = df['Location'].map(state_abbreviations) \n",
    "fig = px.choropleth(locations=df['Code'], locationmode=\"USA-states\", color=df['65+'], scope=\"usa\", \n",
    "                    title=\"USA States Ages 65+\")\n",
    "#Show the figure\n",
    "fig.show()"
   ]
  },
  {
   "cell_type": "markdown",
   "id": "f70890ac0831767e",
   "metadata": {},
   "source": [
    "### Conclusion\n",
    "This project featured three plots, a bar graph, scatter matrix, and a choropleth map. It used a data set taken from State Health Facts. The first plot compared 3 states, and the second and third plots compared each state in the data set. The common theme in all three graphs is that Utah has the largest children and young adult population, whereas some East Coast states such as Vermont and Maine have the largest elderly population. "
   ]
  }
 ],
 "metadata": {
  "kernelspec": {
   "display_name": "base",
   "language": "python",
   "name": "python3"
  },
  "language_info": {
   "codemirror_mode": {
    "name": "ipython",
    "version": 3
   },
   "file_extension": ".py",
   "mimetype": "text/x-python",
   "name": "python",
   "nbconvert_exporter": "python",
   "pygments_lexer": "ipython3",
   "version": "3.11.5"
  }
 },
 "nbformat": 4,
 "nbformat_minor": 5
}
